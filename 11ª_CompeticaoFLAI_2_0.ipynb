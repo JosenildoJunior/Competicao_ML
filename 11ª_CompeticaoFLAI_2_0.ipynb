{
  "nbformat": 4,
  "nbformat_minor": 0,
  "metadata": {
    "colab": {
      "provenance": [],
      "collapsed_sections": [
        "VyyMbV594tS-",
        "-OWjEmhKJMhu",
        "XxUewktXv6jj",
        "TJM50MOW8zNm",
        "Nmz-hxfX8mK1",
        "ViwHenNmGslV",
        "5wKgFcGWA0c3",
        "Tt_5QALX_B4y",
        "mxFudoswFgjo",
        "jGsfCa8Iwa0z",
        "glF9Q-l4LBdi",
        "IlhPlPjeM0jx",
        "o17pmSm6NTSQ",
        "5kIrlzZLav2c",
        "P7wrMKX6PWVw",
        "skyHwc22ayC2",
        "m44q7RxAVYxD",
        "VN7F_rbhWbrl",
        "5LwVhdB7W31k",
        "f96ODfvLgSpb",
        "NE9HjCUPhtkK",
        "M9imSxKThtkP",
        "XG4KqiqKhtkQ",
        "pTArDW-7Wi8k"
      ],
      "include_colab_link": true
    },
    "kernelspec": {
      "name": "python3",
      "display_name": "Python 3"
    },
    "language_info": {
      "name": "python"
    },
    "widgets": {
      "application/vnd.jupyter.widget-state+json": {
        "36827dfda2584856ba64824a5723dc52": {
          "model_module": "@jupyter-widgets/controls",
          "model_name": "HBoxModel",
          "model_module_version": "1.5.0",
          "state": {
            "_dom_classes": [],
            "_model_module": "@jupyter-widgets/controls",
            "_model_module_version": "1.5.0",
            "_model_name": "HBoxModel",
            "_view_count": null,
            "_view_module": "@jupyter-widgets/controls",
            "_view_module_version": "1.5.0",
            "_view_name": "HBoxView",
            "box_style": "",
            "children": [
              "IPY_MODEL_aa32b734238e463d9c0136fb7b541ea8",
              "IPY_MODEL_c6e9feb9533447289d39d64576b40aca",
              "IPY_MODEL_11922afb2fb24ebcb6e9aa4eec175a9d"
            ],
            "layout": "IPY_MODEL_39dab00c8d504bc08aba2c64cdae027a"
          }
        },
        "aa32b734238e463d9c0136fb7b541ea8": {
          "model_module": "@jupyter-widgets/controls",
          "model_name": "HTMLModel",
          "model_module_version": "1.5.0",
          "state": {
            "_dom_classes": [],
            "_model_module": "@jupyter-widgets/controls",
            "_model_module_version": "1.5.0",
            "_model_name": "HTMLModel",
            "_view_count": null,
            "_view_module": "@jupyter-widgets/controls",
            "_view_module_version": "1.5.0",
            "_view_name": "HTMLView",
            "description": "",
            "description_tooltip": null,
            "layout": "IPY_MODEL_bf6a1ec3cd174ee69ffa200224c5e0fc",
            "placeholder": "​",
            "style": "IPY_MODEL_478b8fcae5cc49f4952189dd1aef6940",
            "value": "Processing: 100%"
          }
        },
        "c6e9feb9533447289d39d64576b40aca": {
          "model_module": "@jupyter-widgets/controls",
          "model_name": "FloatProgressModel",
          "model_module_version": "1.5.0",
          "state": {
            "_dom_classes": [],
            "_model_module": "@jupyter-widgets/controls",
            "_model_module_version": "1.5.0",
            "_model_name": "FloatProgressModel",
            "_view_count": null,
            "_view_module": "@jupyter-widgets/controls",
            "_view_module_version": "1.5.0",
            "_view_name": "ProgressView",
            "bar_style": "",
            "description": "",
            "description_tooltip": null,
            "layout": "IPY_MODEL_f0b92f5f415945abbc8ba68b750002b6",
            "max": 65,
            "min": 0,
            "orientation": "horizontal",
            "style": "IPY_MODEL_d018c0fb84ad43ae8665962859da8324",
            "value": 65
          }
        },
        "11922afb2fb24ebcb6e9aa4eec175a9d": {
          "model_module": "@jupyter-widgets/controls",
          "model_name": "HTMLModel",
          "model_module_version": "1.5.0",
          "state": {
            "_dom_classes": [],
            "_model_module": "@jupyter-widgets/controls",
            "_model_module_version": "1.5.0",
            "_model_name": "HTMLModel",
            "_view_count": null,
            "_view_module": "@jupyter-widgets/controls",
            "_view_module_version": "1.5.0",
            "_view_name": "HTMLView",
            "description": "",
            "description_tooltip": null,
            "layout": "IPY_MODEL_2d9727ad2b824d2db50ea2c78819b0c9",
            "placeholder": "​",
            "style": "IPY_MODEL_6abc2713fa3b4f5687aef968e65c1bf4",
            "value": " 65/65 [02:47&lt;00:00,  1.09it/s]"
          }
        },
        "39dab00c8d504bc08aba2c64cdae027a": {
          "model_module": "@jupyter-widgets/base",
          "model_name": "LayoutModel",
          "model_module_version": "1.2.0",
          "state": {
            "_model_module": "@jupyter-widgets/base",
            "_model_module_version": "1.2.0",
            "_model_name": "LayoutModel",
            "_view_count": null,
            "_view_module": "@jupyter-widgets/base",
            "_view_module_version": "1.2.0",
            "_view_name": "LayoutView",
            "align_content": null,
            "align_items": null,
            "align_self": null,
            "border": null,
            "bottom": null,
            "display": null,
            "flex": null,
            "flex_flow": null,
            "grid_area": null,
            "grid_auto_columns": null,
            "grid_auto_flow": null,
            "grid_auto_rows": null,
            "grid_column": null,
            "grid_gap": null,
            "grid_row": null,
            "grid_template_areas": null,
            "grid_template_columns": null,
            "grid_template_rows": null,
            "height": null,
            "justify_content": null,
            "justify_items": null,
            "left": null,
            "margin": null,
            "max_height": null,
            "max_width": null,
            "min_height": null,
            "min_width": null,
            "object_fit": null,
            "object_position": null,
            "order": null,
            "overflow": null,
            "overflow_x": null,
            "overflow_y": null,
            "padding": null,
            "right": null,
            "top": null,
            "visibility": "hidden",
            "width": null
          }
        },
        "bf6a1ec3cd174ee69ffa200224c5e0fc": {
          "model_module": "@jupyter-widgets/base",
          "model_name": "LayoutModel",
          "model_module_version": "1.2.0",
          "state": {
            "_model_module": "@jupyter-widgets/base",
            "_model_module_version": "1.2.0",
            "_model_name": "LayoutModel",
            "_view_count": null,
            "_view_module": "@jupyter-widgets/base",
            "_view_module_version": "1.2.0",
            "_view_name": "LayoutView",
            "align_content": null,
            "align_items": null,
            "align_self": null,
            "border": null,
            "bottom": null,
            "display": null,
            "flex": null,
            "flex_flow": null,
            "grid_area": null,
            "grid_auto_columns": null,
            "grid_auto_flow": null,
            "grid_auto_rows": null,
            "grid_column": null,
            "grid_gap": null,
            "grid_row": null,
            "grid_template_areas": null,
            "grid_template_columns": null,
            "grid_template_rows": null,
            "height": null,
            "justify_content": null,
            "justify_items": null,
            "left": null,
            "margin": null,
            "max_height": null,
            "max_width": null,
            "min_height": null,
            "min_width": null,
            "object_fit": null,
            "object_position": null,
            "order": null,
            "overflow": null,
            "overflow_x": null,
            "overflow_y": null,
            "padding": null,
            "right": null,
            "top": null,
            "visibility": null,
            "width": null
          }
        },
        "478b8fcae5cc49f4952189dd1aef6940": {
          "model_module": "@jupyter-widgets/controls",
          "model_name": "DescriptionStyleModel",
          "model_module_version": "1.5.0",
          "state": {
            "_model_module": "@jupyter-widgets/controls",
            "_model_module_version": "1.5.0",
            "_model_name": "DescriptionStyleModel",
            "_view_count": null,
            "_view_module": "@jupyter-widgets/base",
            "_view_module_version": "1.2.0",
            "_view_name": "StyleView",
            "description_width": ""
          }
        },
        "f0b92f5f415945abbc8ba68b750002b6": {
          "model_module": "@jupyter-widgets/base",
          "model_name": "LayoutModel",
          "model_module_version": "1.2.0",
          "state": {
            "_model_module": "@jupyter-widgets/base",
            "_model_module_version": "1.2.0",
            "_model_name": "LayoutModel",
            "_view_count": null,
            "_view_module": "@jupyter-widgets/base",
            "_view_module_version": "1.2.0",
            "_view_name": "LayoutView",
            "align_content": null,
            "align_items": null,
            "align_self": null,
            "border": null,
            "bottom": null,
            "display": null,
            "flex": null,
            "flex_flow": null,
            "grid_area": null,
            "grid_auto_columns": null,
            "grid_auto_flow": null,
            "grid_auto_rows": null,
            "grid_column": null,
            "grid_gap": null,
            "grid_row": null,
            "grid_template_areas": null,
            "grid_template_columns": null,
            "grid_template_rows": null,
            "height": null,
            "justify_content": null,
            "justify_items": null,
            "left": null,
            "margin": null,
            "max_height": null,
            "max_width": null,
            "min_height": null,
            "min_width": null,
            "object_fit": null,
            "object_position": null,
            "order": null,
            "overflow": null,
            "overflow_x": null,
            "overflow_y": null,
            "padding": null,
            "right": null,
            "top": null,
            "visibility": null,
            "width": null
          }
        },
        "d018c0fb84ad43ae8665962859da8324": {
          "model_module": "@jupyter-widgets/controls",
          "model_name": "ProgressStyleModel",
          "model_module_version": "1.5.0",
          "state": {
            "_model_module": "@jupyter-widgets/controls",
            "_model_module_version": "1.5.0",
            "_model_name": "ProgressStyleModel",
            "_view_count": null,
            "_view_module": "@jupyter-widgets/base",
            "_view_module_version": "1.2.0",
            "_view_name": "StyleView",
            "bar_color": null,
            "description_width": ""
          }
        },
        "2d9727ad2b824d2db50ea2c78819b0c9": {
          "model_module": "@jupyter-widgets/base",
          "model_name": "LayoutModel",
          "model_module_version": "1.2.0",
          "state": {
            "_model_module": "@jupyter-widgets/base",
            "_model_module_version": "1.2.0",
            "_model_name": "LayoutModel",
            "_view_count": null,
            "_view_module": "@jupyter-widgets/base",
            "_view_module_version": "1.2.0",
            "_view_name": "LayoutView",
            "align_content": null,
            "align_items": null,
            "align_self": null,
            "border": null,
            "bottom": null,
            "display": null,
            "flex": null,
            "flex_flow": null,
            "grid_area": null,
            "grid_auto_columns": null,
            "grid_auto_flow": null,
            "grid_auto_rows": null,
            "grid_column": null,
            "grid_gap": null,
            "grid_row": null,
            "grid_template_areas": null,
            "grid_template_columns": null,
            "grid_template_rows": null,
            "height": null,
            "justify_content": null,
            "justify_items": null,
            "left": null,
            "margin": null,
            "max_height": null,
            "max_width": null,
            "min_height": null,
            "min_width": null,
            "object_fit": null,
            "object_position": null,
            "order": null,
            "overflow": null,
            "overflow_x": null,
            "overflow_y": null,
            "padding": null,
            "right": null,
            "top": null,
            "visibility": null,
            "width": null
          }
        },
        "6abc2713fa3b4f5687aef968e65c1bf4": {
          "model_module": "@jupyter-widgets/controls",
          "model_name": "DescriptionStyleModel",
          "model_module_version": "1.5.0",
          "state": {
            "_model_module": "@jupyter-widgets/controls",
            "_model_module_version": "1.5.0",
            "_model_name": "DescriptionStyleModel",
            "_view_count": null,
            "_view_module": "@jupyter-widgets/base",
            "_view_module_version": "1.2.0",
            "_view_name": "StyleView",
            "description_width": ""
          }
        }
      }
    }
  },
  "cells": [
    {
      "cell_type": "markdown",
      "metadata": {
        "id": "view-in-github",
        "colab_type": "text"
      },
      "source": [
        "<a href=\"https://colab.research.google.com/github/JosenildoJunior/Competicao_ML/blob/main/11%C2%AA_CompeticaoFLAI_2_0.ipynb\" target=\"_parent\"><img src=\"https://colab.research.google.com/assets/colab-badge.svg\" alt=\"Open In Colab\"/></a>"
      ]
    },
    {
      "cell_type": "markdown",
      "source": [
        "##**Previsão de aprovação de empréstimos**"
      ],
      "metadata": {
        "id": "XpCczIBLzurB"
      }
    },
    {
      "cell_type": "markdown",
      "source": [
        "##*Esse projeto tem como objetivos identificar o perfil do tomador de empréstimo e decidir se um novo empréstimo poderá ser feito pelo cliente.*\n",
        "\n",
        "Para a resolução dessa problemática o projeto foi dividido nas seguintes etapas:\n",
        "\n",
        "* 1.   Entendimento do problema\n",
        "* 2.   Obtenção dos dados\n",
        "* 3.   Analise exploratória e Visualização dos dados\n",
        "* 4.   Pré-Processamento\n",
        "* 5.   Modelos de Machine Learning e Avaliação do modelo\n",
        "* 6.   Tratamento e previsão nos dados de teste"
      ],
      "metadata": {
        "id": "Y1KsOtqRybl5"
      }
    },
    {
      "cell_type": "markdown",
      "source": [
        "# **1. Entendimento do problema**"
      ],
      "metadata": {
        "id": "VyyMbV594tS-"
      }
    },
    {
      "cell_type": "markdown",
      "source": [
        "O departamento de crédito de um banco deseja automatizar o processo de tomada de\n",
        "decisão para a aprovação de empréstimos fiduciários. Sua missão é avaliar um conjunto\n",
        "de dados sobre o tomador do empréstimo e decidir se um novo empréstimo poderá ser\n",
        "feito."
      ],
      "metadata": {
        "id": "pBg4lxrmJj-l"
      }
    },
    {
      "cell_type": "markdown",
      "source": [
        "# **2. Obtenção dos dados**"
      ],
      "metadata": {
        "id": "-OWjEmhKJMhu"
      }
    },
    {
      "cell_type": "markdown",
      "source": [
        "O departamento de crédito de um banco deseja automatizar o processo de tomada de\n",
        "decisão para a aprovação de empréstimos fiduciários. Sua missão é avaliar um conjunto\n",
        "de dados sobre o tomador do empréstimo e decidir se um novo empréstimo poderá ser\n",
        "feito."
      ],
      "metadata": {
        "id": "siGZywQKJQve"
      }
    },
    {
      "cell_type": "markdown",
      "source": [
        "\n",
        "**Permitindo o acesso do Google Colab ao Drive**\n",
        "\n",
        "  Esse passo é necessário para que seja possivel importar dados diretamente do drive"
      ],
      "metadata": {
        "id": "I6yaOqbMIWrN"
      }
    },
    {
      "cell_type": "code",
      "execution_count": 112,
      "metadata": {
        "colab": {
          "base_uri": "https://localhost:8080/"
        },
        "id": "L5xnHB_FrCyC",
        "outputId": "94a66410-776f-45ae-8c21-4bbc22378ab5"
      },
      "outputs": [
        {
          "output_type": "stream",
          "name": "stdout",
          "text": [
            "Drive already mounted at /content/drive; to attempt to forcibly remount, call drive.mount(\"/content/drive\", force_remount=True).\n"
          ]
        }
      ],
      "source": [
        "# \"Montando\" o drive\n",
        "from google.colab import drive\n",
        "drive.mount('/content/drive')"
      ]
    },
    {
      "cell_type": "markdown",
      "source": [
        "**Importando as bibliotecas**"
      ],
      "metadata": {
        "id": "p1WpBjCgIgSN"
      }
    },
    {
      "cell_type": "markdown",
      "source": [
        "**Para fazer as analises é necessario importar algumas bibliotecas previamente, nesse caso estou importando o pandas para manipulação de dados, também estão sendo importadas o pyplot e o seaborn para visualização dos dados.**"
      ],
      "metadata": {
        "id": "bWpWdF2NIbzG"
      }
    },
    {
      "cell_type": "code",
      "source": [
        "# Importações iniciais\n",
        "import pandas as pd\n",
        "import seaborn as sns\n",
        "import matplotlib.pyplot as plt"
      ],
      "metadata": {
        "id": "UlKIhUxstDqG"
      },
      "execution_count": 113,
      "outputs": []
    },
    {
      "cell_type": "markdown",
      "source": [
        "**Importação dos dados**"
      ],
      "metadata": {
        "id": "rZlT2MRsIrxN"
      }
    },
    {
      "cell_type": "code",
      "source": [
        "# Fonte:\n",
        "\n",
        "# Dados de treino\n",
        "df = pd.read_csv('/content/drive/MyDrive/Dados/treinoFLAI_competicao.csv')\n",
        "\n",
        "# Ajustando a ordem das colunas DF\n",
        "df.sort_index(axis=1, inplace = True)\n",
        "\n",
        "# Visualizando as primeiras linhas do DF\n",
        "df.head()"
      ],
      "metadata": {
        "colab": {
          "base_uri": "https://localhost:8080/",
          "height": 0
        },
        "id": "s8FdoYPUtFFV",
        "outputId": "47efe41b-2c84-4ec0-8b85-95850523fb7f"
      },
      "execution_count": 114,
      "outputs": [
        {
          "output_type": "execute_result",
          "data": {
            "text/plain": [
              "   Atrasos      Cliente       Emprego  Empréstimo Finalidade  LC-Atual  \\\n",
              "0      1.0  bom pagador        Outros     19468.0    Reforma      33.0   \n",
              "1      0.0  bom pagador        Outros     91688.0   Diversas      41.0   \n",
              "2      0.0  bom pagador        Outros     34226.0    Reforma      10.0   \n",
              "3      0.0  bom pagador        Outros     48356.0   Diversas      26.0   \n",
              "4      0.0  bom pagador  Professional     64684.0   Diversas      18.0   \n",
              "\n",
              "   LC-Recente  Negativos    RDS  TempoCliente  TempoEmprego  ValorDoBem  \n",
              "0         0.0        0.0  39.2%         185.6          0.50   309447.00  \n",
              "1         1.0        0.0    NaN         234.5         15.25   449020.00  \n",
              "2         0.0        0.0  37.2%         250.5          1.25   164394.70  \n",
              "3         3.0        1.0  29.0%         230.4          2.25   270592.64  \n",
              "4         0.0        0.0  21.0%          93.6          3.75    78167.16  "
            ],
            "text/html": [
              "\n",
              "  <div id=\"df-cc05bc7a-2f9a-458f-89db-f3d3e1ad7571\">\n",
              "    <div class=\"colab-df-container\">\n",
              "      <div>\n",
              "<style scoped>\n",
              "    .dataframe tbody tr th:only-of-type {\n",
              "        vertical-align: middle;\n",
              "    }\n",
              "\n",
              "    .dataframe tbody tr th {\n",
              "        vertical-align: top;\n",
              "    }\n",
              "\n",
              "    .dataframe thead th {\n",
              "        text-align: right;\n",
              "    }\n",
              "</style>\n",
              "<table border=\"1\" class=\"dataframe\">\n",
              "  <thead>\n",
              "    <tr style=\"text-align: right;\">\n",
              "      <th></th>\n",
              "      <th>Atrasos</th>\n",
              "      <th>Cliente</th>\n",
              "      <th>Emprego</th>\n",
              "      <th>Empréstimo</th>\n",
              "      <th>Finalidade</th>\n",
              "      <th>LC-Atual</th>\n",
              "      <th>LC-Recente</th>\n",
              "      <th>Negativos</th>\n",
              "      <th>RDS</th>\n",
              "      <th>TempoCliente</th>\n",
              "      <th>TempoEmprego</th>\n",
              "      <th>ValorDoBem</th>\n",
              "    </tr>\n",
              "  </thead>\n",
              "  <tbody>\n",
              "    <tr>\n",
              "      <th>0</th>\n",
              "      <td>1.0</td>\n",
              "      <td>bom pagador</td>\n",
              "      <td>Outros</td>\n",
              "      <td>19468.0</td>\n",
              "      <td>Reforma</td>\n",
              "      <td>33.0</td>\n",
              "      <td>0.0</td>\n",
              "      <td>0.0</td>\n",
              "      <td>39.2%</td>\n",
              "      <td>185.6</td>\n",
              "      <td>0.50</td>\n",
              "      <td>309447.00</td>\n",
              "    </tr>\n",
              "    <tr>\n",
              "      <th>1</th>\n",
              "      <td>0.0</td>\n",
              "      <td>bom pagador</td>\n",
              "      <td>Outros</td>\n",
              "      <td>91688.0</td>\n",
              "      <td>Diversas</td>\n",
              "      <td>41.0</td>\n",
              "      <td>1.0</td>\n",
              "      <td>0.0</td>\n",
              "      <td>NaN</td>\n",
              "      <td>234.5</td>\n",
              "      <td>15.25</td>\n",
              "      <td>449020.00</td>\n",
              "    </tr>\n",
              "    <tr>\n",
              "      <th>2</th>\n",
              "      <td>0.0</td>\n",
              "      <td>bom pagador</td>\n",
              "      <td>Outros</td>\n",
              "      <td>34226.0</td>\n",
              "      <td>Reforma</td>\n",
              "      <td>10.0</td>\n",
              "      <td>0.0</td>\n",
              "      <td>0.0</td>\n",
              "      <td>37.2%</td>\n",
              "      <td>250.5</td>\n",
              "      <td>1.25</td>\n",
              "      <td>164394.70</td>\n",
              "    </tr>\n",
              "    <tr>\n",
              "      <th>3</th>\n",
              "      <td>0.0</td>\n",
              "      <td>bom pagador</td>\n",
              "      <td>Outros</td>\n",
              "      <td>48356.0</td>\n",
              "      <td>Diversas</td>\n",
              "      <td>26.0</td>\n",
              "      <td>3.0</td>\n",
              "      <td>1.0</td>\n",
              "      <td>29.0%</td>\n",
              "      <td>230.4</td>\n",
              "      <td>2.25</td>\n",
              "      <td>270592.64</td>\n",
              "    </tr>\n",
              "    <tr>\n",
              "      <th>4</th>\n",
              "      <td>0.0</td>\n",
              "      <td>bom pagador</td>\n",
              "      <td>Professional</td>\n",
              "      <td>64684.0</td>\n",
              "      <td>Diversas</td>\n",
              "      <td>18.0</td>\n",
              "      <td>0.0</td>\n",
              "      <td>0.0</td>\n",
              "      <td>21.0%</td>\n",
              "      <td>93.6</td>\n",
              "      <td>3.75</td>\n",
              "      <td>78167.16</td>\n",
              "    </tr>\n",
              "  </tbody>\n",
              "</table>\n",
              "</div>\n",
              "      <button class=\"colab-df-convert\" onclick=\"convertToInteractive('df-cc05bc7a-2f9a-458f-89db-f3d3e1ad7571')\"\n",
              "              title=\"Convert this dataframe to an interactive table.\"\n",
              "              style=\"display:none;\">\n",
              "        \n",
              "  <svg xmlns=\"http://www.w3.org/2000/svg\" height=\"24px\"viewBox=\"0 0 24 24\"\n",
              "       width=\"24px\">\n",
              "    <path d=\"M0 0h24v24H0V0z\" fill=\"none\"/>\n",
              "    <path d=\"M18.56 5.44l.94 2.06.94-2.06 2.06-.94-2.06-.94-.94-2.06-.94 2.06-2.06.94zm-11 1L8.5 8.5l.94-2.06 2.06-.94-2.06-.94L8.5 2.5l-.94 2.06-2.06.94zm10 10l.94 2.06.94-2.06 2.06-.94-2.06-.94-.94-2.06-.94 2.06-2.06.94z\"/><path d=\"M17.41 7.96l-1.37-1.37c-.4-.4-.92-.59-1.43-.59-.52 0-1.04.2-1.43.59L10.3 9.45l-7.72 7.72c-.78.78-.78 2.05 0 2.83L4 21.41c.39.39.9.59 1.41.59.51 0 1.02-.2 1.41-.59l7.78-7.78 2.81-2.81c.8-.78.8-2.07 0-2.86zM5.41 20L4 18.59l7.72-7.72 1.47 1.35L5.41 20z\"/>\n",
              "  </svg>\n",
              "      </button>\n",
              "      \n",
              "  <style>\n",
              "    .colab-df-container {\n",
              "      display:flex;\n",
              "      flex-wrap:wrap;\n",
              "      gap: 12px;\n",
              "    }\n",
              "\n",
              "    .colab-df-convert {\n",
              "      background-color: #E8F0FE;\n",
              "      border: none;\n",
              "      border-radius: 50%;\n",
              "      cursor: pointer;\n",
              "      display: none;\n",
              "      fill: #1967D2;\n",
              "      height: 32px;\n",
              "      padding: 0 0 0 0;\n",
              "      width: 32px;\n",
              "    }\n",
              "\n",
              "    .colab-df-convert:hover {\n",
              "      background-color: #E2EBFA;\n",
              "      box-shadow: 0px 1px 2px rgba(60, 64, 67, 0.3), 0px 1px 3px 1px rgba(60, 64, 67, 0.15);\n",
              "      fill: #174EA6;\n",
              "    }\n",
              "\n",
              "    [theme=dark] .colab-df-convert {\n",
              "      background-color: #3B4455;\n",
              "      fill: #D2E3FC;\n",
              "    }\n",
              "\n",
              "    [theme=dark] .colab-df-convert:hover {\n",
              "      background-color: #434B5C;\n",
              "      box-shadow: 0px 1px 3px 1px rgba(0, 0, 0, 0.15);\n",
              "      filter: drop-shadow(0px 1px 2px rgba(0, 0, 0, 0.3));\n",
              "      fill: #FFFFFF;\n",
              "    }\n",
              "  </style>\n",
              "\n",
              "      <script>\n",
              "        const buttonEl =\n",
              "          document.querySelector('#df-cc05bc7a-2f9a-458f-89db-f3d3e1ad7571 button.colab-df-convert');\n",
              "        buttonEl.style.display =\n",
              "          google.colab.kernel.accessAllowed ? 'block' : 'none';\n",
              "\n",
              "        async function convertToInteractive(key) {\n",
              "          const element = document.querySelector('#df-cc05bc7a-2f9a-458f-89db-f3d3e1ad7571');\n",
              "          const dataTable =\n",
              "            await google.colab.kernel.invokeFunction('convertToInteractive',\n",
              "                                                     [key], {});\n",
              "          if (!dataTable) return;\n",
              "\n",
              "          const docLinkHtml = 'Like what you see? Visit the ' +\n",
              "            '<a target=\"_blank\" href=https://colab.research.google.com/notebooks/data_table.ipynb>data table notebook</a>'\n",
              "            + ' to learn more about interactive tables.';\n",
              "          element.innerHTML = '';\n",
              "          dataTable['output_type'] = 'display_data';\n",
              "          await google.colab.output.renderOutput(dataTable, element);\n",
              "          const docLink = document.createElement('div');\n",
              "          docLink.innerHTML = docLinkHtml;\n",
              "          element.appendChild(docLink);\n",
              "        }\n",
              "      </script>\n",
              "    </div>\n",
              "  </div>\n",
              "  "
            ]
          },
          "metadata": {},
          "execution_count": 114
        }
      ]
    },
    {
      "cell_type": "markdown",
      "source": [
        "*No conjunto de dados temos as seguintes variáveis*\n",
        "* Cliente [Variável Resposta]: bom pagador é aquele que pagou a sua dívida corretamente, mau\n",
        "pagador é aquele que não pagou ou teve atrasos muito grandes em seu pagamento.\n",
        "* Empréstimo: Valor emprestado ao cliente.\n",
        "* ValorDoBem: Valor do bem que o cliente está colocando como garantia (em geral, são imóveis).\n",
        "* Finalidade: Motivo pelo qual o empréstimo está sendo tomado.\n",
        "* Emprego: Tipo de emprego do cliente.\n",
        "* TempoEmprego: Tempo em anos que o cliente tem no seu emprego atual.\n",
        "* Negativos: Número de prerrogativas negativas do cliente (por exemplo, pendências com IPTU,\n",
        "IPVA, conta de luz, cartão de crédito, etc).\n",
        "* Atrasos: Número de linhas de crédito que o cliente já entrou em atraso.\n",
        "* TempoCliente: Tempo do cliente na instituição (em meses).\n",
        "* LC-Recente: Número de linhas de crédito recentes (adquiridas nos últimos 2 anos).\n",
        "* LC-Atual: Número de linhas de crédito atuais.\n",
        "* RDS: Relação Débito/Salário - A porcentagem do salário anual do cliente comprometida em débitos."
      ],
      "metadata": {
        "id": "H8wAxASquLYW"
      }
    },
    {
      "cell_type": "markdown",
      "source": [
        "# **3. Analise exploratória dos dados**\n",
        "\n",
        "\n",
        "\n"
      ],
      "metadata": {
        "id": "XxUewktXv6jj"
      }
    },
    {
      "cell_type": "markdown",
      "source": [
        "**Objetivos**:\n",
        "\n",
        "* Identificar o tipo de cada variável (numérica, categórica, temporal)\n",
        "* Identificar qual é a variável target (alvo) para o nosso problema\n",
        "* Exploração dos dados (medidas descritivas, distribuição das variáveis)\n",
        "* Visualizar os dados para identificar padrões de fraudes"
      ],
      "metadata": {
        "id": "sAcjLe-2447-"
      }
    },
    {
      "cell_type": "code",
      "source": [
        "# Visão geral dos dados\n",
        "df.info()"
      ],
      "metadata": {
        "colab": {
          "base_uri": "https://localhost:8080/"
        },
        "id": "SEUD71Wwv64b",
        "outputId": "242c4cd7-30c9-4093-f8d0-040e088dd6e3"
      },
      "execution_count": 115,
      "outputs": [
        {
          "output_type": "stream",
          "name": "stdout",
          "text": [
            "<class 'pandas.core.frame.DataFrame'>\n",
            "RangeIndex: 3300 entries, 0 to 3299\n",
            "Data columns (total 12 columns):\n",
            " #   Column        Non-Null Count  Dtype  \n",
            "---  ------        --------------  -----  \n",
            " 0   Atrasos       3198 non-null   float64\n",
            " 1   Cliente       3300 non-null   object \n",
            " 2   Emprego       3300 non-null   object \n",
            " 3   Empréstimo    3300 non-null   float64\n",
            " 4   Finalidade    3300 non-null   object \n",
            " 5   LC-Atual      3300 non-null   float64\n",
            " 6   LC-Recente    3300 non-null   float64\n",
            " 7   Negativos     3122 non-null   float64\n",
            " 8   RDS           2647 non-null   object \n",
            " 9   TempoCliente  3300 non-null   float64\n",
            " 10  TempoEmprego  3122 non-null   float64\n",
            " 11  ValorDoBem    3300 non-null   float64\n",
            "dtypes: float64(8), object(4)\n",
            "memory usage: 309.5+ KB\n"
          ]
        }
      ]
    },
    {
      "cell_type": "markdown",
      "source": [
        "*A variável 'RDS' está como texto mesmo ela sendo numerica sendo assim se faz necessario a conversão da mesma*"
      ],
      "metadata": {
        "id": "JmE8NKFJRMSJ"
      }
    },
    {
      "cell_type": "code",
      "source": [
        "# Retirando a % e transformando a coluna para tipo numerico\n",
        "df = df.replace (regex = '%', value = '', inplace = False )\n",
        "df['RDS'] = pd.to_numeric(df['RDS'])"
      ],
      "metadata": {
        "id": "ZiGQvs5rRuO5"
      },
      "execution_count": 116,
      "outputs": []
    },
    {
      "cell_type": "code",
      "source": [
        "# Observando as dimensões do DataFrame\n",
        "df.shape"
      ],
      "metadata": {
        "colab": {
          "base_uri": "https://localhost:8080/"
        },
        "id": "1425zQqkwKTU",
        "outputId": "42663124-3939-4cb9-9c42-53d5bb9c25ed"
      },
      "execution_count": 117,
      "outputs": [
        {
          "output_type": "execute_result",
          "data": {
            "text/plain": [
              "(3300, 12)"
            ]
          },
          "metadata": {},
          "execution_count": 117
        }
      ]
    },
    {
      "cell_type": "markdown",
      "source": [
        "É possível observar que esse dataset tem 3300 entradas e 12 colunas.\n",
        "\n",
        "Os dados se enquadram em duas categorias:\n",
        "\n",
        "* **Variáveis numéricas: Empréstimo, ValorDoBem, TempoEmprego, Negativos, Atrasos, TempoCliente, LC-Recente, LC-Atual e RDS.**\n",
        "\n",
        "* **Variáveis categóricas: Finalidade, Emprego**\n",
        "\n",
        "**Identificando a variável alvo:**\n",
        "\n",
        "O objetivo é é avaliar os dados sobre o tomador do empréstimo e decidir se um novo empréstimo poderá ser feito. Assim, a variável **'Cliente'** é a variável adequada para alcançar os objetivos propostos."
      ],
      "metadata": {
        "id": "ihLFQwuH5EoP"
      }
    },
    {
      "cell_type": "code",
      "source": [
        "# Observando os dados\n",
        "df.describe()"
      ],
      "metadata": {
        "colab": {
          "base_uri": "https://localhost:8080/",
          "height": 0
        },
        "id": "XcgZXc7K2ALd",
        "outputId": "994b1de1-9a89-4d53-b4b7-8b912bfb135a"
      },
      "execution_count": 118,
      "outputs": [
        {
          "output_type": "execute_result",
          "data": {
            "text/plain": [
              "           Atrasos     Empréstimo     LC-Atual   LC-Recente    Negativos  \\\n",
              "count  3198.000000    3300.000000  3300.000000  3300.000000  3122.000000   \n",
              "mean      0.413696   58841.030909    21.763333     1.153333     0.212684   \n",
              "std       1.087892   34109.356093     9.900538     1.695742     0.726832   \n",
              "min       0.000000    4710.000000     0.000000     0.000000     0.000000   \n",
              "25%       0.000000   35796.000000    15.000000     0.000000     0.000000   \n",
              "50%       0.000000   52438.000000    20.000000     1.000000     0.000000   \n",
              "75%       0.000000   73162.000000    27.000000     2.000000     0.000000   \n",
              "max      15.000000  279460.000000    67.000000    18.000000    10.000000   \n",
              "\n",
              "               RDS  TempoCliente  TempoEmprego    ValorDoBem  \n",
              "count  2647.000000   3300.000000   3122.000000  3.300000e+03  \n",
              "mean     34.093578    182.681818      9.475208  3.256274e+05  \n",
              "std       8.710832     86.159247      7.540252  1.757902e+05  \n",
              "min       2.800000      1.100000      0.000000  2.512000e+04  \n",
              "25%      29.200000    119.450000      3.500000  2.151960e+05  \n",
              "50%      35.200000    177.200000      7.750000  2.884828e+05  \n",
              "75%      39.250000    232.750000     13.750000  3.800829e+05  \n",
              "max     201.300000   1170.200000     41.250000  2.687554e+06  "
            ],
            "text/html": [
              "\n",
              "  <div id=\"df-dcb6a91a-2658-4fd0-96e3-e31c698faca4\">\n",
              "    <div class=\"colab-df-container\">\n",
              "      <div>\n",
              "<style scoped>\n",
              "    .dataframe tbody tr th:only-of-type {\n",
              "        vertical-align: middle;\n",
              "    }\n",
              "\n",
              "    .dataframe tbody tr th {\n",
              "        vertical-align: top;\n",
              "    }\n",
              "\n",
              "    .dataframe thead th {\n",
              "        text-align: right;\n",
              "    }\n",
              "</style>\n",
              "<table border=\"1\" class=\"dataframe\">\n",
              "  <thead>\n",
              "    <tr style=\"text-align: right;\">\n",
              "      <th></th>\n",
              "      <th>Atrasos</th>\n",
              "      <th>Empréstimo</th>\n",
              "      <th>LC-Atual</th>\n",
              "      <th>LC-Recente</th>\n",
              "      <th>Negativos</th>\n",
              "      <th>RDS</th>\n",
              "      <th>TempoCliente</th>\n",
              "      <th>TempoEmprego</th>\n",
              "      <th>ValorDoBem</th>\n",
              "    </tr>\n",
              "  </thead>\n",
              "  <tbody>\n",
              "    <tr>\n",
              "      <th>count</th>\n",
              "      <td>3198.000000</td>\n",
              "      <td>3300.000000</td>\n",
              "      <td>3300.000000</td>\n",
              "      <td>3300.000000</td>\n",
              "      <td>3122.000000</td>\n",
              "      <td>2647.000000</td>\n",
              "      <td>3300.000000</td>\n",
              "      <td>3122.000000</td>\n",
              "      <td>3.300000e+03</td>\n",
              "    </tr>\n",
              "    <tr>\n",
              "      <th>mean</th>\n",
              "      <td>0.413696</td>\n",
              "      <td>58841.030909</td>\n",
              "      <td>21.763333</td>\n",
              "      <td>1.153333</td>\n",
              "      <td>0.212684</td>\n",
              "      <td>34.093578</td>\n",
              "      <td>182.681818</td>\n",
              "      <td>9.475208</td>\n",
              "      <td>3.256274e+05</td>\n",
              "    </tr>\n",
              "    <tr>\n",
              "      <th>std</th>\n",
              "      <td>1.087892</td>\n",
              "      <td>34109.356093</td>\n",
              "      <td>9.900538</td>\n",
              "      <td>1.695742</td>\n",
              "      <td>0.726832</td>\n",
              "      <td>8.710832</td>\n",
              "      <td>86.159247</td>\n",
              "      <td>7.540252</td>\n",
              "      <td>1.757902e+05</td>\n",
              "    </tr>\n",
              "    <tr>\n",
              "      <th>min</th>\n",
              "      <td>0.000000</td>\n",
              "      <td>4710.000000</td>\n",
              "      <td>0.000000</td>\n",
              "      <td>0.000000</td>\n",
              "      <td>0.000000</td>\n",
              "      <td>2.800000</td>\n",
              "      <td>1.100000</td>\n",
              "      <td>0.000000</td>\n",
              "      <td>2.512000e+04</td>\n",
              "    </tr>\n",
              "    <tr>\n",
              "      <th>25%</th>\n",
              "      <td>0.000000</td>\n",
              "      <td>35796.000000</td>\n",
              "      <td>15.000000</td>\n",
              "      <td>0.000000</td>\n",
              "      <td>0.000000</td>\n",
              "      <td>29.200000</td>\n",
              "      <td>119.450000</td>\n",
              "      <td>3.500000</td>\n",
              "      <td>2.151960e+05</td>\n",
              "    </tr>\n",
              "    <tr>\n",
              "      <th>50%</th>\n",
              "      <td>0.000000</td>\n",
              "      <td>52438.000000</td>\n",
              "      <td>20.000000</td>\n",
              "      <td>1.000000</td>\n",
              "      <td>0.000000</td>\n",
              "      <td>35.200000</td>\n",
              "      <td>177.200000</td>\n",
              "      <td>7.750000</td>\n",
              "      <td>2.884828e+05</td>\n",
              "    </tr>\n",
              "    <tr>\n",
              "      <th>75%</th>\n",
              "      <td>0.000000</td>\n",
              "      <td>73162.000000</td>\n",
              "      <td>27.000000</td>\n",
              "      <td>2.000000</td>\n",
              "      <td>0.000000</td>\n",
              "      <td>39.250000</td>\n",
              "      <td>232.750000</td>\n",
              "      <td>13.750000</td>\n",
              "      <td>3.800829e+05</td>\n",
              "    </tr>\n",
              "    <tr>\n",
              "      <th>max</th>\n",
              "      <td>15.000000</td>\n",
              "      <td>279460.000000</td>\n",
              "      <td>67.000000</td>\n",
              "      <td>18.000000</td>\n",
              "      <td>10.000000</td>\n",
              "      <td>201.300000</td>\n",
              "      <td>1170.200000</td>\n",
              "      <td>41.250000</td>\n",
              "      <td>2.687554e+06</td>\n",
              "    </tr>\n",
              "  </tbody>\n",
              "</table>\n",
              "</div>\n",
              "      <button class=\"colab-df-convert\" onclick=\"convertToInteractive('df-dcb6a91a-2658-4fd0-96e3-e31c698faca4')\"\n",
              "              title=\"Convert this dataframe to an interactive table.\"\n",
              "              style=\"display:none;\">\n",
              "        \n",
              "  <svg xmlns=\"http://www.w3.org/2000/svg\" height=\"24px\"viewBox=\"0 0 24 24\"\n",
              "       width=\"24px\">\n",
              "    <path d=\"M0 0h24v24H0V0z\" fill=\"none\"/>\n",
              "    <path d=\"M18.56 5.44l.94 2.06.94-2.06 2.06-.94-2.06-.94-.94-2.06-.94 2.06-2.06.94zm-11 1L8.5 8.5l.94-2.06 2.06-.94-2.06-.94L8.5 2.5l-.94 2.06-2.06.94zm10 10l.94 2.06.94-2.06 2.06-.94-2.06-.94-.94-2.06-.94 2.06-2.06.94z\"/><path d=\"M17.41 7.96l-1.37-1.37c-.4-.4-.92-.59-1.43-.59-.52 0-1.04.2-1.43.59L10.3 9.45l-7.72 7.72c-.78.78-.78 2.05 0 2.83L4 21.41c.39.39.9.59 1.41.59.51 0 1.02-.2 1.41-.59l7.78-7.78 2.81-2.81c.8-.78.8-2.07 0-2.86zM5.41 20L4 18.59l7.72-7.72 1.47 1.35L5.41 20z\"/>\n",
              "  </svg>\n",
              "      </button>\n",
              "      \n",
              "  <style>\n",
              "    .colab-df-container {\n",
              "      display:flex;\n",
              "      flex-wrap:wrap;\n",
              "      gap: 12px;\n",
              "    }\n",
              "\n",
              "    .colab-df-convert {\n",
              "      background-color: #E8F0FE;\n",
              "      border: none;\n",
              "      border-radius: 50%;\n",
              "      cursor: pointer;\n",
              "      display: none;\n",
              "      fill: #1967D2;\n",
              "      height: 32px;\n",
              "      padding: 0 0 0 0;\n",
              "      width: 32px;\n",
              "    }\n",
              "\n",
              "    .colab-df-convert:hover {\n",
              "      background-color: #E2EBFA;\n",
              "      box-shadow: 0px 1px 2px rgba(60, 64, 67, 0.3), 0px 1px 3px 1px rgba(60, 64, 67, 0.15);\n",
              "      fill: #174EA6;\n",
              "    }\n",
              "\n",
              "    [theme=dark] .colab-df-convert {\n",
              "      background-color: #3B4455;\n",
              "      fill: #D2E3FC;\n",
              "    }\n",
              "\n",
              "    [theme=dark] .colab-df-convert:hover {\n",
              "      background-color: #434B5C;\n",
              "      box-shadow: 0px 1px 3px 1px rgba(0, 0, 0, 0.15);\n",
              "      filter: drop-shadow(0px 1px 2px rgba(0, 0, 0, 0.3));\n",
              "      fill: #FFFFFF;\n",
              "    }\n",
              "  </style>\n",
              "\n",
              "      <script>\n",
              "        const buttonEl =\n",
              "          document.querySelector('#df-dcb6a91a-2658-4fd0-96e3-e31c698faca4 button.colab-df-convert');\n",
              "        buttonEl.style.display =\n",
              "          google.colab.kernel.accessAllowed ? 'block' : 'none';\n",
              "\n",
              "        async function convertToInteractive(key) {\n",
              "          const element = document.querySelector('#df-dcb6a91a-2658-4fd0-96e3-e31c698faca4');\n",
              "          const dataTable =\n",
              "            await google.colab.kernel.invokeFunction('convertToInteractive',\n",
              "                                                     [key], {});\n",
              "          if (!dataTable) return;\n",
              "\n",
              "          const docLinkHtml = 'Like what you see? Visit the ' +\n",
              "            '<a target=\"_blank\" href=https://colab.research.google.com/notebooks/data_table.ipynb>data table notebook</a>'\n",
              "            + ' to learn more about interactive tables.';\n",
              "          element.innerHTML = '';\n",
              "          dataTable['output_type'] = 'display_data';\n",
              "          await google.colab.output.renderOutput(dataTable, element);\n",
              "          const docLink = document.createElement('div');\n",
              "          docLink.innerHTML = docLinkHtml;\n",
              "          element.appendChild(docLink);\n",
              "        }\n",
              "      </script>\n",
              "    </div>\n",
              "  </div>\n",
              "  "
            ]
          },
          "metadata": {},
          "execution_count": 118
        }
      ]
    },
    {
      "cell_type": "markdown",
      "source": [
        "Nossos clientes tem em média 58 mil em emprestimos, os clientes têm em média 9 anos em empregos, a maioria dos clientes não tem muitas prerrogativas negativas, os clientes não costumam atrasar muito suas linhas de créditos, nossos clientes têm em média 182 meses como clientes, nos últimos 2 anos nossos clientes pegaram em média uma linha de crédito e atualmente nossos clientes tem em média 21 linhas de créditos."
      ],
      "metadata": {
        "id": "3ZKmwfdg77r_"
      }
    },
    {
      "cell_type": "markdown",
      "source": [
        "## Alterando os valores da variável alvo"
      ],
      "metadata": {
        "id": "TJM50MOW8zNm"
      }
    },
    {
      "cell_type": "markdown",
      "source": [
        "O tipo da variável alvo está como categórica, isso pode dificultar o funcionamento do modelo que vai ser criado, sendo assim faz se necessário um tratamento nessa variável."
      ],
      "metadata": {
        "id": "fIvXmDTr9qoW"
      }
    },
    {
      "cell_type": "code",
      "source": [
        "# Observando os valores presentes na variável\n",
        "df['Cliente'].value_counts(normalize = True)"
      ],
      "metadata": {
        "colab": {
          "base_uri": "https://localhost:8080/"
        },
        "id": "ZzKkFrDA949e",
        "outputId": "c41d3a65-2b8b-4531-c954-65f8c168dc7c"
      },
      "execution_count": 119,
      "outputs": [
        {
          "output_type": "execute_result",
          "data": {
            "text/plain": [
              "bom pagador    0.813939\n",
              "mau pagador    0.186061\n",
              "Name: Cliente, dtype: float64"
            ]
          },
          "metadata": {},
          "execution_count": 119
        }
      ]
    },
    {
      "cell_type": "markdown",
      "source": [
        "*Podemos notar que na base temos 81,39% de bons pagadores equanto os outros 18,60% são maus pagadores*"
      ],
      "metadata": {
        "id": "j0gEuX_RsUQJ"
      }
    },
    {
      "cell_type": "markdown",
      "source": [
        "Criando função para realizar o tratamento necessário na variável 'Cliente'"
      ],
      "metadata": {
        "id": "OHSCfn7astdp"
      }
    },
    {
      "cell_type": "code",
      "source": [
        "# Criando uma função para substituir os valores\n",
        "def aux(x):\n",
        "    if x == 'bom pagador':\n",
        "        return 0\n",
        "    elif x == 'mau pagador':\n",
        "        return 1\n",
        "\n",
        "# Aplicando a função na coluna cliente\n",
        "df['Cliente'] = df['Cliente'].apply(aux)"
      ],
      "metadata": {
        "id": "d_Bd7OwJ-A5V"
      },
      "execution_count": 120,
      "outputs": []
    },
    {
      "cell_type": "markdown",
      "source": [
        "*Conferindo como ficou a variável após a função ter sido aplicada.*"
      ],
      "metadata": {
        "id": "lk6wDIkzs7o4"
      }
    },
    {
      "cell_type": "code",
      "source": [
        "# Observando os valores presentes na variável\n",
        "df['Cliente'].value_counts()"
      ],
      "metadata": {
        "colab": {
          "base_uri": "https://localhost:8080/"
        },
        "id": "6jmTT5bmCDeO",
        "outputId": "a77ff9c6-4235-4470-eddd-59ee4f5b873f"
      },
      "execution_count": 121,
      "outputs": [
        {
          "output_type": "execute_result",
          "data": {
            "text/plain": [
              "0    2686\n",
              "1     614\n",
              "Name: Cliente, dtype: int64"
            ]
          },
          "metadata": {},
          "execution_count": 121
        }
      ]
    },
    {
      "cell_type": "markdown",
      "source": [
        "*Agora que a variável esta devidamente tratada podemos prosseguir*"
      ],
      "metadata": {
        "id": "QArUHglisqCZ"
      }
    },
    {
      "cell_type": "markdown",
      "source": [
        "## **Criando um dataset apenas com as variaveis númericas.**"
      ],
      "metadata": {
        "id": "Nmz-hxfX8mK1"
      }
    },
    {
      "cell_type": "markdown",
      "source": [
        " O objetivo da criação desse novo dataset é a observação da correlação entre as variaveisa a partir de uma matriz de correlação."
      ],
      "metadata": {
        "id": "OG4fPU957eOM"
      }
    },
    {
      "cell_type": "code",
      "source": [
        "# Criando um dataset apenas com as variaveis númericas e acrescentando a variavel churn para observar a correlação entre as outras\n",
        "df_num = df[['Atrasos', 'Empréstimo', 'LC-Atual', 'LC-Recente', 'Negativos', 'RDS', 'TempoCliente', 'TempoEmprego', 'ValorDoBem']]"
      ],
      "metadata": {
        "id": "PpaMcCBxQDCE"
      },
      "execution_count": 122,
      "outputs": []
    },
    {
      "cell_type": "code",
      "source": [
        "# Criando a matriz\n",
        "plt.figure(figsize=(9,6))\n",
        "sns.heatmap(df_num.corr(),annot = True, cmap='Blues',linewidth=.5);"
      ],
      "metadata": {
        "colab": {
          "base_uri": "https://localhost:8080/",
          "height": 0
        },
        "id": "HQORChoTDZFu",
        "outputId": "008bc0c7-93e4-4586-a5c5-1088ca9d2679"
      },
      "execution_count": 123,
      "outputs": [
        {
          "output_type": "display_data",
          "data": {
            "text/plain": [
              "<Figure size 900x600 with 2 Axes>"
            ],
            "image/png": "[encoded data removed]"
          },
          "metadata": {}
        }
      ]
    },
    {
      "cell_type": "markdown",
      "source": [
        "* É possível observar uma correlação positiva entre a variável alvo 'Cliente' e as variáveis 'Negativos', 'Atrasos' e 'LC-Recente' sendo que a maior correlação é entre 'Cliente' e 'Atrasos', seguido por 'Cliente e Negativos'. Por se tratar de uma correlação positiva podemos afirmar que enquanto uma variável aumenta a outra também vai aumentar, ou seja, elas tendem a se mover na mesma direção.\n",
        "\n",
        "* Vale destacar que a maior correlação que temos é entre a variável 'ValorDoBem' e 'Empréstimo', também apresentam uma correlação positiva."
      ],
      "metadata": {
        "id": "eE_y1o0pzoni"
      }
    },
    {
      "cell_type": "markdown",
      "source": [
        "## Variáveis que apresentaram maiores correlações em relação à variável alvo."
      ],
      "metadata": {
        "id": "ViwHenNmGslV"
      }
    },
    {
      "cell_type": "code",
      "source": [
        "# Dimensões da figura\n",
        "plt.figure(figsize=(10, 8))\n",
        "\n",
        "# Grafico 1\n",
        "plt.subplot(2,2,1)\n",
        "# Criando o gráfico\n",
        "grafico = sns.barplot(data=df, x='Cliente', y='Atrasos')\n",
        "\n",
        "# Renomeando o index do eixo\n",
        "grafico.set_xticklabels(['Bom pagador', 'Mau pagador'])\n",
        "\n",
        "# Definindo o titudo do grafico\n",
        "grafico.set_title('Tipo do clientes por Atrasos', fontsize=14)\n",
        "\n",
        "# Defininfo o tamnho do index do eixo\n",
        "plt.xticks(fontsize=12)\n",
        "\n",
        "\n",
        "\n",
        "# Grafico 2\n",
        "plt.subplot(2,2,2)\n",
        "\n",
        "# Criando o gráfico\n",
        "grafico = sns.barplot(data=df, x='Cliente', y='LC-Recente')\n",
        "\n",
        "# Renomeando o index do eixo\n",
        "grafico.set_xticklabels(['Bom pagador', 'Mau pagador'])\n",
        "\n",
        "# Definindo o titudo do grafico\n",
        "grafico.set_title('Tipo do clientes por LC-Recente', fontsize=14)\n",
        "\n",
        "# Defininfo o tamnho do index do eixo\n",
        "plt.xticks(fontsize=12)\n",
        "\n",
        "\n",
        "\n",
        "# Grafico 3\n",
        "plt.subplot(2,2,3)\n",
        "\n",
        "grafico = sns.barplot(data=df, x='Cliente', y='Negativos')\n",
        "\n",
        "# Renomeando o index do eixo\n",
        "grafico.set_xticklabels(['Bom pagador', 'Mau pagador'])\n",
        "\n",
        "# Definindo o titudo do grafico\n",
        "grafico.set_title('Tipo do clientes por Negativos', fontsize=14)\n",
        "\n",
        "# Defininfo o tamnho do index do eixo\n",
        "plt.xticks(fontsize=12)\n",
        "\n",
        "plt.tight_layout()"
      ],
      "metadata": {
        "colab": {
          "base_uri": "https://localhost:8080/",
          "height": 0
        },
        "id": "fvKuNr3cEU-P",
        "outputId": "d87364aa-7b9f-4cc2-edf9-7e87666f8bf1"
      },
      "execution_count": 124,
      "outputs": [
        {
          "output_type": "display_data",
          "data": {
            "text/plain": [
              "<Figure size 1000x800 with 3 Axes>"
            ],
            "image/png": "[encoded data removed]"
          },
          "metadata": {}
        }
      ]
    },
    {
      "cell_type": "markdown",
      "source": [
        "Quanto maior o número de linhas de créditos atrasadas maiores são as chances do cliente ser um mau pagador, o mesmo se aplica aos clientes, com prerrogativas negativas e os clientes que adquiriram linhas de créditos recentes tendem a ser mau pagadores também."
      ],
      "metadata": {
        "id": "DgVgmokiGp5e"
      }
    },
    {
      "cell_type": "markdown",
      "source": [
        "## Variáveis que apresentaram menores correlações em relação à variável alvo."
      ],
      "metadata": {
        "id": "5wKgFcGWA0c3"
      }
    },
    {
      "cell_type": "code",
      "source": [
        "# Dimensões da figura\n",
        "plt.figure(figsize=(12, 8))\n",
        "\n",
        "# Gráfico 1\n",
        "plt.subplot(2,3,1)\n",
        "\n",
        "# Criando o gráfico\n",
        "grafico = sns.barplot(data=df, x='Cliente', y='ValorDoBem')\n",
        "\n",
        "# Renomeando o index do eixo\n",
        "grafico.set_xticklabels(['Bom pagador', 'Mau pagador'])\n",
        "\n",
        "# Definindo o titudo do grafico\n",
        "grafico.set_title('Tipo do clientes pelo valor do bem', fontsize=14)\n",
        "\n",
        "# Defininfo o tamnho do index do eixo\n",
        "plt.xticks(fontsize=12)\n",
        "\n",
        "\n",
        "\n",
        "# Gráfico 2\n",
        "plt.subplot(2,3,2)\n",
        "\n",
        "# Criando o gráfico\n",
        "grafico = sns.barplot(data=df, x='Cliente', y='Empréstimo')\n",
        "\n",
        "# Renomeando o index do eixo\n",
        "grafico.set_xticklabels(['Bom pagador', 'Mau pagador'])\n",
        "\n",
        "# Definindo o titudo do grafico\n",
        "grafico.set_title('Tipo do clientes por empréstimos', fontsize=14)\n",
        "\n",
        "# Defininfo o tamnho do index do eixo\n",
        "plt.xticks(fontsize=12)\n",
        "\n",
        "\n",
        "\n",
        "# Gráfico 3\n",
        "plt.subplot(2,3,3)\n",
        "\n",
        "# Criando o gráfico\n",
        "grafico = sns.barplot(data=df, x='Cliente', y='TempoEmprego')\n",
        "\n",
        "# Renomeando o index do eixo\n",
        "grafico.set_xticklabels(['Bom pagador', 'Mau pagador'])\n",
        "\n",
        "# Definindo o titudo do grafico\n",
        "grafico.set_title('Tipo do clientes por tempo de emprego', fontsize=14)\n",
        "\n",
        "# Defininfo o tamnho do index do eixo\n",
        "plt.xticks(fontsize=12)\n",
        "\n",
        "\n",
        "# Gráfico 4\n",
        "plt.subplot(2,3,4)\n",
        "\n",
        "# Criando o gráfico\n",
        "grafico = sns.barplot(data=df, x='Cliente', y='TempoCliente')\n",
        "\n",
        "# Renomeando o index do eixo\n",
        "grafico.set_xticklabels(['Bom pagador', 'Mau pagador'])\n",
        "\n",
        "# Definindo o titudo do grafico\n",
        "grafico.set_title('Tipo do clientes por tempo como cliente', fontsize=14)\n",
        "\n",
        "# Defininfo o tamnho do index do eixo\n",
        "plt.xticks(fontsize=12)\n",
        "\n",
        "\n",
        "\n",
        "# Gráfico 5\n",
        "plt.subplot(2,3,5)\n",
        "\n",
        "# Criando o gráfico\n",
        "grafico = sns.barplot(data=df, x='Cliente', y='LC-Atual')\n",
        "\n",
        "# Renomeando o index do eixo\n",
        "grafico.set_xticklabels(['Bom pagador', 'Mau pagador'])\n",
        "\n",
        "# Definindo o titudo do grafico\n",
        "grafico.set_title('Tipo do clientes por LC-Atual', fontsize=14)\n",
        "\n",
        "# Defininfo o tamnho do index do eixo\n",
        "plt.xticks(fontsize=12)\n",
        "\n",
        "\n",
        "plt.tight_layout()"
      ],
      "metadata": {
        "colab": {
          "base_uri": "https://localhost:8080/",
          "height": 0
        },
        "id": "fNSt5eOX3QGh",
        "outputId": "b4870d4c-6f10-4180-9f10-4f144a938831"
      },
      "execution_count": 125,
      "outputs": [
        {
          "output_type": "display_data",
          "data": {
            "text/plain": [
              "<Figure size 1200x800 with 5 Axes>"
            ],
            "image/png": "[encoded data removed]"
          },
          "metadata": {}
        }
      ]
    },
    {
      "cell_type": "markdown",
      "source": [
        "*Podemos confirmar agora que essas variáveis não são tão impactantes em relação à variável alvo*\n",
        "\n",
        "**Algumas anotações a respeito:**\n",
        "\n",
        "*Podemos observar que quanto mais antigo o cliente maiores são as chances de que ele seja um bom pagador, quanto mais tempo o cliente tem de trabalho menores são as chances de que ele seja um mau pagador*"
      ],
      "metadata": {
        "id": "jZ2AiBXnCoN-"
      }
    },
    {
      "cell_type": "code",
      "source": [
        "# Criando um histograma com todas as colunas do dataset\n",
        "df.hist(figsize=(10,10));"
      ],
      "metadata": {
        "colab": {
          "base_uri": "https://localhost:8080/",
          "height": 0
        },
        "id": "mc2whSk29m8a",
        "outputId": "f4647a33-2390-4312-85d5-a255fcae2350"
      },
      "execution_count": 126,
      "outputs": [
        {
          "output_type": "display_data",
          "data": {
            "text/plain": [
              "<Figure size 1000x1000 with 12 Axes>"
            ],
            "image/png": "[encoded data removed]"
          },
          "metadata": {}
        }
      ]
    },
    {
      "cell_type": "markdown",
      "source": [
        "* Podemos observar que na variável cliente\n",
        "\n",
        "* Tempo Emprego é notável uma assimetria a direita, onde a maioria de nossos dados estão entre zero e 13 anos.\n",
        "\n",
        "* Nota-se uma assimetria à direita na variável empréstimo, a maioria dos dados esta entre 0 e 70.000.\n",
        "\n",
        "* Em valor do bem a maioria dos nossos dados estão entre 0 e 3 milhões.\n",
        "\n",
        "* Na variável negativos observa-se menos de 75% dos clientes apresentam algum tipo de prerrogativas negativas.\n",
        "\n",
        "* O mesmo se aplica aos clientes com algum tipo de atraso, os clientes que apresentam algum tipo de atraso representa menos de 75% da base de dados.\n",
        "\n",
        "* Nossos clientes têm em média cerca de 182 meses como cliente, sendo que a maioria dos clientes está entre 1 mês e 232 meses.\n",
        "\n",
        "* Nos últimos 2 anos 75% dos nossos clientes não tem mais que 2 linhas de créditos adquiridas, enquanto a maioria dos nossos.\n",
        "\n",
        "* Podemos notar uma concentração nos dados por volta de 15 e 27, evidenciando que a maioria dos nossos clientes tem entre 15 e 27 linhas ativas."
      ],
      "metadata": {
        "id": "XUoNISxpFdWi"
      }
    },
    {
      "cell_type": "markdown",
      "source": [
        "# **4. Pré-Processamento**"
      ],
      "metadata": {
        "id": "Tt_5QALX_B4y"
      }
    },
    {
      "cell_type": "markdown",
      "source": [
        "Objetivos:\n",
        "\n",
        "* Eliminar as variáveis que não serão utilizadas;\n",
        "* Identificação de dados ausentes;\n",
        "* Escala das Variáveis;\n"
      ],
      "metadata": {
        "id": "t9Ib8ish_EOp"
      }
    },
    {
      "cell_type": "markdown",
      "source": [
        "## **A. Eliminando variavies que não serão utilizadas.**"
      ],
      "metadata": {
        "id": "mxFudoswFgjo"
      }
    },
    {
      "cell_type": "markdown",
      "source": [
        "Por mais que algumas variáveis apresentem poucas influências, nenhuma delas pode ser descartada do dataset atualmente, então não existem variáveis a serem descartadas."
      ],
      "metadata": {
        "id": "4wnIHfiMFigI"
      }
    },
    {
      "cell_type": "markdown",
      "source": [
        "## **B. Tratando dados ausentes**"
      ],
      "metadata": {
        "id": "jGsfCa8Iwa0z"
      }
    },
    {
      "cell_type": "code",
      "source": [
        "# Criando uma copia do DF de treino\n",
        "df_medias = df.copy()"
      ],
      "metadata": {
        "id": "hW474TMxwfAK"
      },
      "execution_count": 127,
      "outputs": []
    },
    {
      "cell_type": "code",
      "source": [
        "# Observando os valores ausentes\n",
        "def percent_ausentes(df_medias):\n",
        "    p_faltantes = df_medias.isnull().mean()\n",
        "    valores_faltantes = pd.DataFrame({'Variavéis': df_medias.columns,\n",
        "                                           '% de ausentes': p_faltantes}\n",
        "                                      ).reset_index(drop = True)\n",
        "\n",
        "    return valores_faltantes.sort_values(by = ['% de ausentes'], ascending = False)\n",
        "\n",
        "percent_ausentes(df_medias)"
      ],
      "metadata": {
        "id": "wyng1H1cfmY5",
        "colab": {
          "base_uri": "https://localhost:8080/",
          "height": 0
        },
        "outputId": "8442f274-6b1c-4e0d-aace-6c38509438a4"
      },
      "execution_count": 128,
      "outputs": [
        {
          "output_type": "execute_result",
          "data": {
            "text/plain": [
              "       Variavéis  % de ausentes\n",
              "8            RDS       0.197879\n",
              "7      Negativos       0.053939\n",
              "10  TempoEmprego       0.053939\n",
              "0        Atrasos       0.030909\n",
              "1        Cliente       0.000000\n",
              "2        Emprego       0.000000\n",
              "3     Empréstimo       0.000000\n",
              "4     Finalidade       0.000000\n",
              "5       LC-Atual       0.000000\n",
              "6     LC-Recente       0.000000\n",
              "9   TempoCliente       0.000000\n",
              "11    ValorDoBem       0.000000"
            ],
            "text/html": [
              "\n",
              "  <div id=\"df-2109baa1-dd6b-426e-b7bb-229029d262dc\">\n",
              "    <div class=\"colab-df-container\">\n",
              "      <div>\n",
              "<style scoped>\n",
              "    .dataframe tbody tr th:only-of-type {\n",
              "        vertical-align: middle;\n",
              "    }\n",
              "\n",
              "    .dataframe tbody tr th {\n",
              "        vertical-align: top;\n",
              "    }\n",
              "\n",
              "    .dataframe thead th {\n",
              "        text-align: right;\n",
              "    }\n",
              "</style>\n",
              "<table border=\"1\" class=\"dataframe\">\n",
              "  <thead>\n",
              "    <tr style=\"text-align: right;\">\n",
              "      <th></th>\n",
              "      <th>Variavéis</th>\n",
              "      <th>% de ausentes</th>\n",
              "    </tr>\n",
              "  </thead>\n",
              "  <tbody>\n",
              "    <tr>\n",
              "      <th>8</th>\n",
              "      <td>RDS</td>\n",
              "      <td>0.197879</td>\n",
              "    </tr>\n",
              "    <tr>\n",
              "      <th>7</th>\n",
              "      <td>Negativos</td>\n",
              "      <td>0.053939</td>\n",
              "    </tr>\n",
              "    <tr>\n",
              "      <th>10</th>\n",
              "      <td>TempoEmprego</td>\n",
              "      <td>0.053939</td>\n",
              "    </tr>\n",
              "    <tr>\n",
              "      <th>0</th>\n",
              "      <td>Atrasos</td>\n",
              "      <td>0.030909</td>\n",
              "    </tr>\n",
              "    <tr>\n",
              "      <th>1</th>\n",
              "      <td>Cliente</td>\n",
              "      <td>0.000000</td>\n",
              "    </tr>\n",
              "    <tr>\n",
              "      <th>2</th>\n",
              "      <td>Emprego</td>\n",
              "      <td>0.000000</td>\n",
              "    </tr>\n",
              "    <tr>\n",
              "      <th>3</th>\n",
              "      <td>Empréstimo</td>\n",
              "      <td>0.000000</td>\n",
              "    </tr>\n",
              "    <tr>\n",
              "      <th>4</th>\n",
              "      <td>Finalidade</td>\n",
              "      <td>0.000000</td>\n",
              "    </tr>\n",
              "    <tr>\n",
              "      <th>5</th>\n",
              "      <td>LC-Atual</td>\n",
              "      <td>0.000000</td>\n",
              "    </tr>\n",
              "    <tr>\n",
              "      <th>6</th>\n",
              "      <td>LC-Recente</td>\n",
              "      <td>0.000000</td>\n",
              "    </tr>\n",
              "    <tr>\n",
              "      <th>9</th>\n",
              "      <td>TempoCliente</td>\n",
              "      <td>0.000000</td>\n",
              "    </tr>\n",
              "    <tr>\n",
              "      <th>11</th>\n",
              "      <td>ValorDoBem</td>\n",
              "      <td>0.000000</td>\n",
              "    </tr>\n",
              "  </tbody>\n",
              "</table>\n",
              "</div>\n",
              "      <button class=\"colab-df-convert\" onclick=\"convertToInteractive('df-2109baa1-dd6b-426e-b7bb-229029d262dc')\"\n",
              "              title=\"Convert this dataframe to an interactive table.\"\n",
              "              style=\"display:none;\">\n",
              "        \n",
              "  <svg xmlns=\"http://www.w3.org/2000/svg\" height=\"24px\"viewBox=\"0 0 24 24\"\n",
              "       width=\"24px\">\n",
              "    <path d=\"M0 0h24v24H0V0z\" fill=\"none\"/>\n",
              "    <path d=\"M18.56 5.44l.94 2.06.94-2.06 2.06-.94-2.06-.94-.94-2.06-.94 2.06-2.06.94zm-11 1L8.5 8.5l.94-2.06 2.06-.94-2.06-.94L8.5 2.5l-.94 2.06-2.06.94zm10 10l.94 2.06.94-2.06 2.06-.94-2.06-.94-.94-2.06-.94 2.06-2.06.94z\"/><path d=\"M17.41 7.96l-1.37-1.37c-.4-.4-.92-.59-1.43-.59-.52 0-1.04.2-1.43.59L10.3 9.45l-7.72 7.72c-.78.78-.78 2.05 0 2.83L4 21.41c.39.39.9.59 1.41.59.51 0 1.02-.2 1.41-.59l7.78-7.78 2.81-2.81c.8-.78.8-2.07 0-2.86zM5.41 20L4 18.59l7.72-7.72 1.47 1.35L5.41 20z\"/>\n",
              "  </svg>\n",
              "      </button>\n",
              "      \n",
              "  <style>\n",
              "    .colab-df-container {\n",
              "      display:flex;\n",
              "      flex-wrap:wrap;\n",
              "      gap: 12px;\n",
              "    }\n",
              "\n",
              "    .colab-df-convert {\n",
              "      background-color: #E8F0FE;\n",
              "      border: none;\n",
              "      border-radius: 50%;\n",
              "      cursor: pointer;\n",
              "      display: none;\n",
              "      fill: #1967D2;\n",
              "      height: 32px;\n",
              "      padding: 0 0 0 0;\n",
              "      width: 32px;\n",
              "    }\n",
              "\n",
              "    .colab-df-convert:hover {\n",
              "      background-color: #E2EBFA;\n",
              "      box-shadow: 0px 1px 2px rgba(60, 64, 67, 0.3), 0px 1px 3px 1px rgba(60, 64, 67, 0.15);\n",
              "      fill: #174EA6;\n",
              "    }\n",
              "\n",
              "    [theme=dark] .colab-df-convert {\n",
              "      background-color: #3B4455;\n",
              "      fill: #D2E3FC;\n",
              "    }\n",
              "\n",
              "    [theme=dark] .colab-df-convert:hover {\n",
              "      background-color: #434B5C;\n",
              "      box-shadow: 0px 1px 3px 1px rgba(0, 0, 0, 0.15);\n",
              "      filter: drop-shadow(0px 1px 2px rgba(0, 0, 0, 0.3));\n",
              "      fill: #FFFFFF;\n",
              "    }\n",
              "  </style>\n",
              "\n",
              "      <script>\n",
              "        const buttonEl =\n",
              "          document.querySelector('#df-2109baa1-dd6b-426e-b7bb-229029d262dc button.colab-df-convert');\n",
              "        buttonEl.style.display =\n",
              "          google.colab.kernel.accessAllowed ? 'block' : 'none';\n",
              "\n",
              "        async function convertToInteractive(key) {\n",
              "          const element = document.querySelector('#df-2109baa1-dd6b-426e-b7bb-229029d262dc');\n",
              "          const dataTable =\n",
              "            await google.colab.kernel.invokeFunction('convertToInteractive',\n",
              "                                                     [key], {});\n",
              "          if (!dataTable) return;\n",
              "\n",
              "          const docLinkHtml = 'Like what you see? Visit the ' +\n",
              "            '<a target=\"_blank\" href=https://colab.research.google.com/notebooks/data_table.ipynb>data table notebook</a>'\n",
              "            + ' to learn more about interactive tables.';\n",
              "          element.innerHTML = '';\n",
              "          dataTable['output_type'] = 'display_data';\n",
              "          await google.colab.output.renderOutput(dataTable, element);\n",
              "          const docLink = document.createElement('div');\n",
              "          docLink.innerHTML = docLinkHtml;\n",
              "          element.appendChild(docLink);\n",
              "        }\n",
              "      </script>\n",
              "    </div>\n",
              "  </div>\n",
              "  "
            ]
          },
          "metadata": {},
          "execution_count": 128
        }
      ]
    },
    {
      "cell_type": "markdown",
      "source": [
        "A estratégia de tratamento dessas variáveis consiste em pegar a média dos valores do agrupamento das duas colunas que apresentam uma maior correlação com a variável ausente."
      ],
      "metadata": {
        "id": "8gbuC0ytCySi"
      }
    },
    {
      "cell_type": "markdown",
      "source": [
        "As variaveis LC-Atual e LC-Recente apresentaram uma maior com correlação com a variavel 'RDS'."
      ],
      "metadata": {
        "id": "PGX6hPySeCkq"
      }
    },
    {
      "cell_type": "code",
      "source": [
        "# Obtendo a média agrupada\n",
        "df_medias.groupby(['LC-Atual', 'LC-Recente'])['RDS'].mean()"
      ],
      "metadata": {
        "id": "uA5p7dyHyPAT",
        "colab": {
          "base_uri": "https://localhost:8080/"
        },
        "outputId": "dd6469c6-5361-4df9-fb29-f98a743bae24"
      },
      "execution_count": 129,
      "outputs": [
        {
          "output_type": "execute_result",
          "data": {
            "text/plain": [
              "LC-Atual  LC-Recente\n",
              "0.0       0.0           40.2\n",
              "1.0       0.0           35.2\n",
              "          1.0            NaN\n",
              "2.0       0.0           33.8\n",
              "          1.0           23.2\n",
              "                        ... \n",
              "63.0      2.0           39.4\n",
              "65.0      1.0           42.9\n",
              "66.0      0.0            NaN\n",
              "          2.0           39.5\n",
              "67.0      0.0            NaN\n",
              "Name: RDS, Length: 337, dtype: float64"
            ]
          },
          "metadata": {},
          "execution_count": 129
        }
      ]
    },
    {
      "cell_type": "markdown",
      "source": [
        "As variáveis TempoCliente e Emprego apresentaram uma maior com correlação com a variável 'ValorDoBem'."
      ],
      "metadata": {
        "id": "b9IH9bWRf-yK"
      }
    },
    {
      "cell_type": "code",
      "source": [
        "# Obtendo a média agrupada\n",
        "df_medias.groupby(['TempoCliente', 'Emprego'])['ValorDoBem'].mean()"
      ],
      "metadata": {
        "colab": {
          "base_uri": "https://localhost:8080/"
        },
        "id": "cm9-EZ5Ewyns",
        "outputId": "8e535ebe-5303-4dd1-920d-46b24549ae29"
      },
      "execution_count": 130,
      "outputs": [
        {
          "output_type": "execute_result",
          "data": {
            "text/plain": [
              "TempoCliente  Emprego     \n",
              "1.1           Outros          188400.00\n",
              "3.4           Gerente          86067.40\n",
              "10.4          Outros          214270.46\n",
              "11.5          Outros           45530.00\n",
              "11.6          Outros          213520.00\n",
              "                                ...    \n",
              "636.8         Professional    308731.08\n",
              "641.4         Professional    304049.34\n",
              "651.9         Professional    322864.22\n",
              "1156.2        Outros          488270.00\n",
              "1170.2        Outros          495520.26\n",
              "Name: ValorDoBem, Length: 2807, dtype: float64"
            ]
          },
          "metadata": {},
          "execution_count": 130
        }
      ]
    },
    {
      "cell_type": "markdown",
      "source": [
        "As variáveis Atrasos e LC-Recente apresentaram uma maior com correlação com a variável 'Negativos'."
      ],
      "metadata": {
        "id": "geuiKM6GgHHC"
      }
    },
    {
      "cell_type": "code",
      "source": [
        "# Obtendo a média agrupada\n",
        "df_medias.groupby(['Atrasos', 'LC-Recente'])['Negativos'].mean()"
      ],
      "metadata": {
        "id": "D8NSnXmQyF11",
        "colab": {
          "base_uri": "https://localhost:8080/"
        },
        "outputId": "ef5179d8-ee2a-494e-e674-c10fa4317b42"
      },
      "execution_count": 131,
      "outputs": [
        {
          "output_type": "execute_result",
          "data": {
            "text/plain": [
              "Atrasos  LC-Recente\n",
              "0.0      0.0           0.098706\n",
              "         1.0           0.144246\n",
              "         2.0           0.228261\n",
              "         3.0           0.088608\n",
              "         4.0           0.226415\n",
              "                         ...   \n",
              "10.0     1.0           0.000000\n",
              "         3.0                NaN\n",
              "11.0     0.0           0.000000\n",
              "13.0     3.0                NaN\n",
              "15.0     3.0           2.000000\n",
              "Name: Negativos, Length: 76, dtype: float64"
            ]
          },
          "metadata": {},
          "execution_count": 131
        }
      ]
    },
    {
      "cell_type": "markdown",
      "source": [
        "As variáveis Negativos e LC-Atual apresentaram uma maior com correlação com a variável 'Atrasos'."
      ],
      "metadata": {
        "id": "i2nfvuC9gNlo"
      }
    },
    {
      "cell_type": "code",
      "source": [
        "# Obtendo a média agrupada\n",
        "df_medias.groupby(['Negativos', 'LC-Atual'])['Atrasos'].mean()"
      ],
      "metadata": {
        "id": "aaumHAXTyHzD",
        "colab": {
          "base_uri": "https://localhost:8080/"
        },
        "outputId": "c9e5ad4a-8550-4271-8eba-104f0036867d"
      },
      "execution_count": 132,
      "outputs": [
        {
          "output_type": "execute_result",
          "data": {
            "text/plain": [
              "Negativos  LC-Atual\n",
              "0.0        0.0         0.0000\n",
              "           1.0         0.0000\n",
              "           2.0         0.5000\n",
              "           3.0         0.0625\n",
              "           4.0         0.0000\n",
              "                        ...  \n",
              "7.0        54.0        4.0000\n",
              "8.0        34.0        0.0000\n",
              "           42.0        3.0000\n",
              "10.0       9.0         0.0000\n",
              "           16.0        1.0000\n",
              "Name: Atrasos, Length: 184, dtype: float64"
            ]
          },
          "metadata": {},
          "execution_count": 132
        }
      ]
    },
    {
      "cell_type": "markdown",
      "source": [
        "Agora que já temos as médias agrupadas chegou a hora de preencher os valores ausentes"
      ],
      "metadata": {
        "id": "URdtsg15CBtL"
      }
    },
    {
      "cell_type": "code",
      "source": [
        "# Preenchendo os valores ausentes\n",
        "df_medias[\"TempoEmprego\"] = df_medias[\"TempoEmprego\"].fillna( df_medias.groupby(['Finalidade', 'Emprego'])[ 'TempoEmprego' ].transform('mean') )\n",
        "\n",
        "# Preenchendo os valores ausentes\n",
        "df_medias[\"Negativos\"] = df_medias[\"Negativos\"].fillna( df_medias.groupby(['Finalidade', 'Emprego'])[ 'Negativos' ].transform('mean') )\n",
        "\n",
        "# Preenchendo os valores ausentes\n",
        "df_medias[\"Atrasos\"] = df_medias[\"Atrasos\"].fillna( df_medias.groupby(['Finalidade', 'Emprego'])[ 'Atrasos' ].transform('mean') )\n",
        "\n",
        "# Preenchendo os valores ausentes\n",
        "df_medias[\"RDS\"] = df_medias[\"RDS\"].fillna( df_medias.groupby(['Finalidade', 'Emprego'])[ 'RDS' ].transform('mean') )"
      ],
      "metadata": {
        "id": "zj3mwxPQCGLB"
      },
      "execution_count": 133,
      "outputs": []
    },
    {
      "cell_type": "code",
      "source": [
        "# Observando os valores ausentes\n",
        "def percent_ausentes(df_medias):\n",
        "    p_faltantes = df_medias.isnull().mean()\n",
        "    valores_faltantes = pd.DataFrame({'Variavéis': df_medias.columns,\n",
        "                                           '% de ausentes': p_faltantes}\n",
        "                                      ).reset_index(drop = True)\n",
        "\n",
        "    return valores_faltantes.sort_values(by = ['% de ausentes'], ascending = False)\n",
        "\n",
        "percent_ausentes(df_medias)"
      ],
      "metadata": {
        "colab": {
          "base_uri": "https://localhost:8080/",
          "height": 0
        },
        "id": "kgYO84tAXZw1",
        "outputId": "27cd4511-e2a0-40b8-e105-8b05d4895908"
      },
      "execution_count": 134,
      "outputs": [
        {
          "output_type": "execute_result",
          "data": {
            "text/plain": [
              "       Variavéis  % de ausentes\n",
              "0        Atrasos            0.0\n",
              "1        Cliente            0.0\n",
              "2        Emprego            0.0\n",
              "3     Empréstimo            0.0\n",
              "4     Finalidade            0.0\n",
              "5       LC-Atual            0.0\n",
              "6     LC-Recente            0.0\n",
              "7      Negativos            0.0\n",
              "8            RDS            0.0\n",
              "9   TempoCliente            0.0\n",
              "10  TempoEmprego            0.0\n",
              "11    ValorDoBem            0.0"
            ],
            "text/html": [
              "\n",
              "  <div id=\"df-41b8ee59-1ede-4699-afac-3116baf234ca\">\n",
              "    <div class=\"colab-df-container\">\n",
              "      <div>\n",
              "<style scoped>\n",
              "    .dataframe tbody tr th:only-of-type {\n",
              "        vertical-align: middle;\n",
              "    }\n",
              "\n",
              "    .dataframe tbody tr th {\n",
              "        vertical-align: top;\n",
              "    }\n",
              "\n",
              "    .dataframe thead th {\n",
              "        text-align: right;\n",
              "    }\n",
              "</style>\n",
              "<table border=\"1\" class=\"dataframe\">\n",
              "  <thead>\n",
              "    <tr style=\"text-align: right;\">\n",
              "      <th></th>\n",
              "      <th>Variavéis</th>\n",
              "      <th>% de ausentes</th>\n",
              "    </tr>\n",
              "  </thead>\n",
              "  <tbody>\n",
              "    <tr>\n",
              "      <th>0</th>\n",
              "      <td>Atrasos</td>\n",
              "      <td>0.0</td>\n",
              "    </tr>\n",
              "    <tr>\n",
              "      <th>1</th>\n",
              "      <td>Cliente</td>\n",
              "      <td>0.0</td>\n",
              "    </tr>\n",
              "    <tr>\n",
              "      <th>2</th>\n",
              "      <td>Emprego</td>\n",
              "      <td>0.0</td>\n",
              "    </tr>\n",
              "    <tr>\n",
              "      <th>3</th>\n",
              "      <td>Empréstimo</td>\n",
              "      <td>0.0</td>\n",
              "    </tr>\n",
              "    <tr>\n",
              "      <th>4</th>\n",
              "      <td>Finalidade</td>\n",
              "      <td>0.0</td>\n",
              "    </tr>\n",
              "    <tr>\n",
              "      <th>5</th>\n",
              "      <td>LC-Atual</td>\n",
              "      <td>0.0</td>\n",
              "    </tr>\n",
              "    <tr>\n",
              "      <th>6</th>\n",
              "      <td>LC-Recente</td>\n",
              "      <td>0.0</td>\n",
              "    </tr>\n",
              "    <tr>\n",
              "      <th>7</th>\n",
              "      <td>Negativos</td>\n",
              "      <td>0.0</td>\n",
              "    </tr>\n",
              "    <tr>\n",
              "      <th>8</th>\n",
              "      <td>RDS</td>\n",
              "      <td>0.0</td>\n",
              "    </tr>\n",
              "    <tr>\n",
              "      <th>9</th>\n",
              "      <td>TempoCliente</td>\n",
              "      <td>0.0</td>\n",
              "    </tr>\n",
              "    <tr>\n",
              "      <th>10</th>\n",
              "      <td>TempoEmprego</td>\n",
              "      <td>0.0</td>\n",
              "    </tr>\n",
              "    <tr>\n",
              "      <th>11</th>\n",
              "      <td>ValorDoBem</td>\n",
              "      <td>0.0</td>\n",
              "    </tr>\n",
              "  </tbody>\n",
              "</table>\n",
              "</div>\n",
              "      <button class=\"colab-df-convert\" onclick=\"convertToInteractive('df-41b8ee59-1ede-4699-afac-3116baf234ca')\"\n",
              "              title=\"Convert this dataframe to an interactive table.\"\n",
              "              style=\"display:none;\">\n",
              "        \n",
              "  <svg xmlns=\"http://www.w3.org/2000/svg\" height=\"24px\"viewBox=\"0 0 24 24\"\n",
              "       width=\"24px\">\n",
              "    <path d=\"M0 0h24v24H0V0z\" fill=\"none\"/>\n",
              "    <path d=\"M18.56 5.44l.94 2.06.94-2.06 2.06-.94-2.06-.94-.94-2.06-.94 2.06-2.06.94zm-11 1L8.5 8.5l.94-2.06 2.06-.94-2.06-.94L8.5 2.5l-.94 2.06-2.06.94zm10 10l.94 2.06.94-2.06 2.06-.94-2.06-.94-.94-2.06-.94 2.06-2.06.94z\"/><path d=\"M17.41 7.96l-1.37-1.37c-.4-.4-.92-.59-1.43-.59-.52 0-1.04.2-1.43.59L10.3 9.45l-7.72 7.72c-.78.78-.78 2.05 0 2.83L4 21.41c.39.39.9.59 1.41.59.51 0 1.02-.2 1.41-.59l7.78-7.78 2.81-2.81c.8-.78.8-2.07 0-2.86zM5.41 20L4 18.59l7.72-7.72 1.47 1.35L5.41 20z\"/>\n",
              "  </svg>\n",
              "      </button>\n",
              "      \n",
              "  <style>\n",
              "    .colab-df-container {\n",
              "      display:flex;\n",
              "      flex-wrap:wrap;\n",
              "      gap: 12px;\n",
              "    }\n",
              "\n",
              "    .colab-df-convert {\n",
              "      background-color: #E8F0FE;\n",
              "      border: none;\n",
              "      border-radius: 50%;\n",
              "      cursor: pointer;\n",
              "      display: none;\n",
              "      fill: #1967D2;\n",
              "      height: 32px;\n",
              "      padding: 0 0 0 0;\n",
              "      width: 32px;\n",
              "    }\n",
              "\n",
              "    .colab-df-convert:hover {\n",
              "      background-color: #E2EBFA;\n",
              "      box-shadow: 0px 1px 2px rgba(60, 64, 67, 0.3), 0px 1px 3px 1px rgba(60, 64, 67, 0.15);\n",
              "      fill: #174EA6;\n",
              "    }\n",
              "\n",
              "    [theme=dark] .colab-df-convert {\n",
              "      background-color: #3B4455;\n",
              "      fill: #D2E3FC;\n",
              "    }\n",
              "\n",
              "    [theme=dark] .colab-df-convert:hover {\n",
              "      background-color: #434B5C;\n",
              "      box-shadow: 0px 1px 3px 1px rgba(0, 0, 0, 0.15);\n",
              "      filter: drop-shadow(0px 1px 2px rgba(0, 0, 0, 0.3));\n",
              "      fill: #FFFFFF;\n",
              "    }\n",
              "  </style>\n",
              "\n",
              "      <script>\n",
              "        const buttonEl =\n",
              "          document.querySelector('#df-41b8ee59-1ede-4699-afac-3116baf234ca button.colab-df-convert');\n",
              "        buttonEl.style.display =\n",
              "          google.colab.kernel.accessAllowed ? 'block' : 'none';\n",
              "\n",
              "        async function convertToInteractive(key) {\n",
              "          const element = document.querySelector('#df-41b8ee59-1ede-4699-afac-3116baf234ca');\n",
              "          const dataTable =\n",
              "            await google.colab.kernel.invokeFunction('convertToInteractive',\n",
              "                                                     [key], {});\n",
              "          if (!dataTable) return;\n",
              "\n",
              "          const docLinkHtml = 'Like what you see? Visit the ' +\n",
              "            '<a target=\"_blank\" href=https://colab.research.google.com/notebooks/data_table.ipynb>data table notebook</a>'\n",
              "            + ' to learn more about interactive tables.';\n",
              "          element.innerHTML = '';\n",
              "          dataTable['output_type'] = 'display_data';\n",
              "          await google.colab.output.renderOutput(dataTable, element);\n",
              "          const docLink = document.createElement('div');\n",
              "          docLink.innerHTML = docLinkHtml;\n",
              "          element.appendChild(docLink);\n",
              "        }\n",
              "      </script>\n",
              "    </div>\n",
              "  </div>\n",
              "  "
            ]
          },
          "metadata": {},
          "execution_count": 134
        }
      ]
    },
    {
      "cell_type": "markdown",
      "source": [
        "## **C. Escala das Variáveis**"
      ],
      "metadata": {
        "id": "glF9Q-l4LBdi"
      }
    },
    {
      "cell_type": "markdown",
      "source": [
        " **Processamento das variáveis categóricas:**\n",
        "\n",
        "Para que os modelos possam atingir um bom desempenho faz-se necessário a transformação de uma variável categórica para uma variável numérica.\n",
        "\n",
        "**Processamento das variáveis numéricas:**\n",
        "\n",
        "Como as variáveis estão em escalas diferentes, isso pode acabar causando problemas nos modelos de Machine Learning, dessa forma o próximo passo vai ser padronizar os dados\n",
        "das variáveis"
      ],
      "metadata": {
        "id": "dsFFU0D3LxI6"
      }
    },
    {
      "cell_type": "markdown",
      "source": [
        "### **Coluna Finalidade**"
      ],
      "metadata": {
        "id": "IlhPlPjeM0jx"
      }
    },
    {
      "cell_type": "markdown",
      "source": [
        "A coluna finalidade é uma variavel categorica, então é necessario que ela passe por um tratamento para que o modelo de machine learning que vai ser criado tenha um melhor desempenho."
      ],
      "metadata": {
        "id": "BpyhrDzqM2gH"
      }
    },
    {
      "cell_type": "code",
      "source": [
        "# Conferindo os valores em 'Finalidade'\n",
        "df['Finalidade'].value_counts()"
      ],
      "metadata": {
        "colab": {
          "base_uri": "https://localhost:8080/"
        },
        "id": "Hz-aP0JeH2Jh",
        "outputId": "f899f322-7191-48b4-a4f5-b6c5e845cf1c"
      },
      "execution_count": 135,
      "outputs": [
        {
          "output_type": "execute_result",
          "data": {
            "text/plain": [
              "Diversas    2270\n",
              "Reforma     1030\n",
              "Name: Finalidade, dtype: int64"
            ]
          },
          "metadata": {},
          "execution_count": 135
        }
      ]
    },
    {
      "cell_type": "code",
      "source": [
        "# Aplicando a dummyficação de variaveis na coluna finalidade\n",
        "df_medias['Finalidade'] = pd.get_dummies(df_medias['Finalidade'], drop_first=True, prefix = 'finalidade')"
      ],
      "metadata": {
        "id": "pIWz-gpgGXow"
      },
      "execution_count": 136,
      "outputs": []
    },
    {
      "cell_type": "code",
      "source": [
        "# Conferindo os valores em 'Finalidade'\n",
        "df_medias['Finalidade'].value_counts()"
      ],
      "metadata": {
        "colab": {
          "base_uri": "https://localhost:8080/"
        },
        "id": "UG17Bed6LP3S",
        "outputId": "422da815-62ae-4881-a78f-9dec30ca1e96"
      },
      "execution_count": 137,
      "outputs": [
        {
          "output_type": "execute_result",
          "data": {
            "text/plain": [
              "0    2270\n",
              "1    1030\n",
              "Name: Finalidade, dtype: int64"
            ]
          },
          "metadata": {},
          "execution_count": 137
        }
      ]
    },
    {
      "cell_type": "code",
      "source": [
        "# Observando os dados\n",
        "df_medias.head()"
      ],
      "metadata": {
        "colab": {
          "base_uri": "https://localhost:8080/",
          "height": 0
        },
        "id": "-WuINI8XLiGK",
        "outputId": "8e146564-c6d5-4816-e507-660e62424600"
      },
      "execution_count": 138,
      "outputs": [
        {
          "output_type": "execute_result",
          "data": {
            "text/plain": [
              "   Atrasos  Cliente       Emprego  Empréstimo  Finalidade  LC-Atual  \\\n",
              "0      1.0        0        Outros     19468.0           1      33.0   \n",
              "1      0.0        0        Outros     91688.0           0      41.0   \n",
              "2      0.0        0        Outros     34226.0           1      10.0   \n",
              "3      0.0        0        Outros     48356.0           0      26.0   \n",
              "4      0.0        0  Professional     64684.0           0      18.0   \n",
              "\n",
              "   LC-Recente  Negativos        RDS  TempoCliente  TempoEmprego  ValorDoBem  \n",
              "0         0.0        0.0  39.200000         185.6          0.50   309447.00  \n",
              "1         1.0        0.0  34.948077         234.5         15.25   449020.00  \n",
              "2         0.0        0.0  37.200000         250.5          1.25   164394.70  \n",
              "3         3.0        1.0  29.000000         230.4          2.25   270592.64  \n",
              "4         0.0        0.0  21.000000          93.6          3.75    78167.16  "
            ],
            "text/html": [
              "\n",
              "  <div id=\"df-c021c4cb-39e7-4cdd-93cc-c3ee5e3ffa4c\">\n",
              "    <div class=\"colab-df-container\">\n",
              "      <div>\n",
              "<style scoped>\n",
              "    .dataframe tbody tr th:only-of-type {\n",
              "        vertical-align: middle;\n",
              "    }\n",
              "\n",
              "    .dataframe tbody tr th {\n",
              "        vertical-align: top;\n",
              "    }\n",
              "\n",
              "    .dataframe thead th {\n",
              "        text-align: right;\n",
              "    }\n",
              "</style>\n",
              "<table border=\"1\" class=\"dataframe\">\n",
              "  <thead>\n",
              "    <tr style=\"text-align: right;\">\n",
              "      <th></th>\n",
              "      <th>Atrasos</th>\n",
              "      <th>Cliente</th>\n",
              "      <th>Emprego</th>\n",
              "      <th>Empréstimo</th>\n",
              "      <th>Finalidade</th>\n",
              "      <th>LC-Atual</th>\n",
              "      <th>LC-Recente</th>\n",
              "      <th>Negativos</th>\n",
              "      <th>RDS</th>\n",
              "      <th>TempoCliente</th>\n",
              "      <th>TempoEmprego</th>\n",
              "      <th>ValorDoBem</th>\n",
              "    </tr>\n",
              "  </thead>\n",
              "  <tbody>\n",
              "    <tr>\n",
              "      <th>0</th>\n",
              "      <td>1.0</td>\n",
              "      <td>0</td>\n",
              "      <td>Outros</td>\n",
              "      <td>19468.0</td>\n",
              "      <td>1</td>\n",
              "      <td>33.0</td>\n",
              "      <td>0.0</td>\n",
              "      <td>0.0</td>\n",
              "      <td>39.200000</td>\n",
              "      <td>185.6</td>\n",
              "      <td>0.50</td>\n",
              "      <td>309447.00</td>\n",
              "    </tr>\n",
              "    <tr>\n",
              "      <th>1</th>\n",
              "      <td>0.0</td>\n",
              "      <td>0</td>\n",
              "      <td>Outros</td>\n",
              "      <td>91688.0</td>\n",
              "      <td>0</td>\n",
              "      <td>41.0</td>\n",
              "      <td>1.0</td>\n",
              "      <td>0.0</td>\n",
              "      <td>34.948077</td>\n",
              "      <td>234.5</td>\n",
              "      <td>15.25</td>\n",
              "      <td>449020.00</td>\n",
              "    </tr>\n",
              "    <tr>\n",
              "      <th>2</th>\n",
              "      <td>0.0</td>\n",
              "      <td>0</td>\n",
              "      <td>Outros</td>\n",
              "      <td>34226.0</td>\n",
              "      <td>1</td>\n",
              "      <td>10.0</td>\n",
              "      <td>0.0</td>\n",
              "      <td>0.0</td>\n",
              "      <td>37.200000</td>\n",
              "      <td>250.5</td>\n",
              "      <td>1.25</td>\n",
              "      <td>164394.70</td>\n",
              "    </tr>\n",
              "    <tr>\n",
              "      <th>3</th>\n",
              "      <td>0.0</td>\n",
              "      <td>0</td>\n",
              "      <td>Outros</td>\n",
              "      <td>48356.0</td>\n",
              "      <td>0</td>\n",
              "      <td>26.0</td>\n",
              "      <td>3.0</td>\n",
              "      <td>1.0</td>\n",
              "      <td>29.000000</td>\n",
              "      <td>230.4</td>\n",
              "      <td>2.25</td>\n",
              "      <td>270592.64</td>\n",
              "    </tr>\n",
              "    <tr>\n",
              "      <th>4</th>\n",
              "      <td>0.0</td>\n",
              "      <td>0</td>\n",
              "      <td>Professional</td>\n",
              "      <td>64684.0</td>\n",
              "      <td>0</td>\n",
              "      <td>18.0</td>\n",
              "      <td>0.0</td>\n",
              "      <td>0.0</td>\n",
              "      <td>21.000000</td>\n",
              "      <td>93.6</td>\n",
              "      <td>3.75</td>\n",
              "      <td>78167.16</td>\n",
              "    </tr>\n",
              "  </tbody>\n",
              "</table>\n",
              "</div>\n",
              "      <button class=\"colab-df-convert\" onclick=\"convertToInteractive('df-c021c4cb-39e7-4cdd-93cc-c3ee5e3ffa4c')\"\n",
              "              title=\"Convert this dataframe to an interactive table.\"\n",
              "              style=\"display:none;\">\n",
              "        \n",
              "  <svg xmlns=\"http://www.w3.org/2000/svg\" height=\"24px\"viewBox=\"0 0 24 24\"\n",
              "       width=\"24px\">\n",
              "    <path d=\"M0 0h24v24H0V0z\" fill=\"none\"/>\n",
              "    <path d=\"M18.56 5.44l.94 2.06.94-2.06 2.06-.94-2.06-.94-.94-2.06-.94 2.06-2.06.94zm-11 1L8.5 8.5l.94-2.06 2.06-.94-2.06-.94L8.5 2.5l-.94 2.06-2.06.94zm10 10l.94 2.06.94-2.06 2.06-.94-2.06-.94-.94-2.06-.94 2.06-2.06.94z\"/><path d=\"M17.41 7.96l-1.37-1.37c-.4-.4-.92-.59-1.43-.59-.52 0-1.04.2-1.43.59L10.3 9.45l-7.72 7.72c-.78.78-.78 2.05 0 2.83L4 21.41c.39.39.9.59 1.41.59.51 0 1.02-.2 1.41-.59l7.78-7.78 2.81-2.81c.8-.78.8-2.07 0-2.86zM5.41 20L4 18.59l7.72-7.72 1.47 1.35L5.41 20z\"/>\n",
              "  </svg>\n",
              "      </button>\n",
              "      \n",
              "  <style>\n",
              "    .colab-df-container {\n",
              "      display:flex;\n",
              "      flex-wrap:wrap;\n",
              "      gap: 12px;\n",
              "    }\n",
              "\n",
              "    .colab-df-convert {\n",
              "      background-color: #E8F0FE;\n",
              "      border: none;\n",
              "      border-radius: 50%;\n",
              "      cursor: pointer;\n",
              "      display: none;\n",
              "      fill: #1967D2;\n",
              "      height: 32px;\n",
              "      padding: 0 0 0 0;\n",
              "      width: 32px;\n",
              "    }\n",
              "\n",
              "    .colab-df-convert:hover {\n",
              "      background-color: #E2EBFA;\n",
              "      box-shadow: 0px 1px 2px rgba(60, 64, 67, 0.3), 0px 1px 3px 1px rgba(60, 64, 67, 0.15);\n",
              "      fill: #174EA6;\n",
              "    }\n",
              "\n",
              "    [theme=dark] .colab-df-convert {\n",
              "      background-color: #3B4455;\n",
              "      fill: #D2E3FC;\n",
              "    }\n",
              "\n",
              "    [theme=dark] .colab-df-convert:hover {\n",
              "      background-color: #434B5C;\n",
              "      box-shadow: 0px 1px 3px 1px rgba(0, 0, 0, 0.15);\n",
              "      filter: drop-shadow(0px 1px 2px rgba(0, 0, 0, 0.3));\n",
              "      fill: #FFFFFF;\n",
              "    }\n",
              "  </style>\n",
              "\n",
              "      <script>\n",
              "        const buttonEl =\n",
              "          document.querySelector('#df-c021c4cb-39e7-4cdd-93cc-c3ee5e3ffa4c button.colab-df-convert');\n",
              "        buttonEl.style.display =\n",
              "          google.colab.kernel.accessAllowed ? 'block' : 'none';\n",
              "\n",
              "        async function convertToInteractive(key) {\n",
              "          const element = document.querySelector('#df-c021c4cb-39e7-4cdd-93cc-c3ee5e3ffa4c');\n",
              "          const dataTable =\n",
              "            await google.colab.kernel.invokeFunction('convertToInteractive',\n",
              "                                                     [key], {});\n",
              "          if (!dataTable) return;\n",
              "\n",
              "          const docLinkHtml = 'Like what you see? Visit the ' +\n",
              "            '<a target=\"_blank\" href=https://colab.research.google.com/notebooks/data_table.ipynb>data table notebook</a>'\n",
              "            + ' to learn more about interactive tables.';\n",
              "          element.innerHTML = '';\n",
              "          dataTable['output_type'] = 'display_data';\n",
              "          await google.colab.output.renderOutput(dataTable, element);\n",
              "          const docLink = document.createElement('div');\n",
              "          docLink.innerHTML = docLinkHtml;\n",
              "          element.appendChild(docLink);\n",
              "        }\n",
              "      </script>\n",
              "    </div>\n",
              "  </div>\n",
              "  "
            ]
          },
          "metadata": {},
          "execution_count": 138
        }
      ]
    },
    {
      "cell_type": "markdown",
      "source": [
        "### **Coluna emprego**"
      ],
      "metadata": {
        "id": "o17pmSm6NTSQ"
      }
    },
    {
      "cell_type": "markdown",
      "source": [
        "No tratamento dessa variável vai ser necessário utilizar o get_dummies e o resultado será armazenado em uma nova variável que posteriormente vai ser inserida de volta no Dataset."
      ],
      "metadata": {
        "id": "uBNY3JM8MRpS"
      }
    },
    {
      "cell_type": "code",
      "source": [
        "# Observando os valores\n",
        "df_medias['Emprego'].value_counts()"
      ],
      "metadata": {
        "colab": {
          "base_uri": "https://localhost:8080/"
        },
        "id": "BgVJKEg7Kvvh",
        "outputId": "6c39994a-e261-4971-aee1-cd753578540e"
      },
      "execution_count": 139,
      "outputs": [
        {
          "output_type": "execute_result",
          "data": {
            "text/plain": [
              "Outros          1330\n",
              "Professional     803\n",
              "Geral            569\n",
              "Gerente          433\n",
              "Autônomo          97\n",
              "Comissionado      68\n",
              "Name: Emprego, dtype: int64"
            ]
          },
          "metadata": {},
          "execution_count": 139
        }
      ]
    },
    {
      "cell_type": "code",
      "source": [
        "# Aplicando a dummyficação de variaveis na coluna emprego e armazenando em uma nova variavel\n",
        "novas_colunas_emprego = pd.get_dummies(df_medias['Emprego'], drop_first=True, prefix = 'emprego')\n",
        "\n",
        "# Observando os valores\n",
        "novas_colunas_emprego\n"
      ],
      "metadata": {
        "colab": {
          "base_uri": "https://localhost:8080/",
          "height": 0
        },
        "id": "OwJqT5ToM1fg",
        "outputId": "1eb5668f-52f9-4843-afbc-a44f3ae36b55"
      },
      "execution_count": 140,
      "outputs": [
        {
          "output_type": "execute_result",
          "data": {
            "text/plain": [
              "      emprego_Comissionado  emprego_Geral  emprego_Gerente  emprego_Outros  \\\n",
              "0                        0              0                0               1   \n",
              "1                        0              0                0               1   \n",
              "2                        0              0                0               1   \n",
              "3                        0              0                0               1   \n",
              "4                        0              0                0               0   \n",
              "...                    ...            ...              ...             ...   \n",
              "3295                     0              0                0               0   \n",
              "3296                     0              0                0               0   \n",
              "3297                     0              0                0               0   \n",
              "3298                     0              0                0               0   \n",
              "3299                     0              0                0               0   \n",
              "\n",
              "      emprego_Professional  \n",
              "0                        0  \n",
              "1                        0  \n",
              "2                        0  \n",
              "3                        0  \n",
              "4                        1  \n",
              "...                    ...  \n",
              "3295                     1  \n",
              "3296                     0  \n",
              "3297                     1  \n",
              "3298                     1  \n",
              "3299                     1  \n",
              "\n",
              "[3300 rows x 5 columns]"
            ],
            "text/html": [
              "\n",
              "  <div id=\"df-79b201b8-7073-41c4-9656-fbd2a707bee8\">\n",
              "    <div class=\"colab-df-container\">\n",
              "      <div>\n",
              "<style scoped>\n",
              "    .dataframe tbody tr th:only-of-type {\n",
              "        vertical-align: middle;\n",
              "    }\n",
              "\n",
              "    .dataframe tbody tr th {\n",
              "        vertical-align: top;\n",
              "    }\n",
              "\n",
              "    .dataframe thead th {\n",
              "        text-align: right;\n",
              "    }\n",
              "</style>\n",
              "<table border=\"1\" class=\"dataframe\">\n",
              "  <thead>\n",
              "    <tr style=\"text-align: right;\">\n",
              "      <th></th>\n",
              "      <th>emprego_Comissionado</th>\n",
              "      <th>emprego_Geral</th>\n",
              "      <th>emprego_Gerente</th>\n",
              "      <th>emprego_Outros</th>\n",
              "      <th>emprego_Professional</th>\n",
              "    </tr>\n",
              "  </thead>\n",
              "  <tbody>\n",
              "    <tr>\n",
              "      <th>0</th>\n",
              "      <td>0</td>\n",
              "      <td>0</td>\n",
              "      <td>0</td>\n",
              "      <td>1</td>\n",
              "      <td>0</td>\n",
              "    </tr>\n",
              "    <tr>\n",
              "      <th>1</th>\n",
              "      <td>0</td>\n",
              "      <td>0</td>\n",
              "      <td>0</td>\n",
              "      <td>1</td>\n",
              "      <td>0</td>\n",
              "    </tr>\n",
              "    <tr>\n",
              "      <th>2</th>\n",
              "      <td>0</td>\n",
              "      <td>0</td>\n",
              "      <td>0</td>\n",
              "      <td>1</td>\n",
              "      <td>0</td>\n",
              "    </tr>\n",
              "    <tr>\n",
              "      <th>3</th>\n",
              "      <td>0</td>\n",
              "      <td>0</td>\n",
              "      <td>0</td>\n",
              "      <td>1</td>\n",
              "      <td>0</td>\n",
              "    </tr>\n",
              "    <tr>\n",
              "      <th>4</th>\n",
              "      <td>0</td>\n",
              "      <td>0</td>\n",
              "      <td>0</td>\n",
              "      <td>0</td>\n",
              "      <td>1</td>\n",
              "    </tr>\n",
              "    <tr>\n",
              "      <th>...</th>\n",
              "      <td>...</td>\n",
              "      <td>...</td>\n",
              "      <td>...</td>\n",
              "      <td>...</td>\n",
              "      <td>...</td>\n",
              "    </tr>\n",
              "    <tr>\n",
              "      <th>3295</th>\n",
              "      <td>0</td>\n",
              "      <td>0</td>\n",
              "      <td>0</td>\n",
              "      <td>0</td>\n",
              "      <td>1</td>\n",
              "    </tr>\n",
              "    <tr>\n",
              "      <th>3296</th>\n",
              "      <td>0</td>\n",
              "      <td>0</td>\n",
              "      <td>0</td>\n",
              "      <td>0</td>\n",
              "      <td>0</td>\n",
              "    </tr>\n",
              "    <tr>\n",
              "      <th>3297</th>\n",
              "      <td>0</td>\n",
              "      <td>0</td>\n",
              "      <td>0</td>\n",
              "      <td>0</td>\n",
              "      <td>1</td>\n",
              "    </tr>\n",
              "    <tr>\n",
              "      <th>3298</th>\n",
              "      <td>0</td>\n",
              "      <td>0</td>\n",
              "      <td>0</td>\n",
              "      <td>0</td>\n",
              "      <td>1</td>\n",
              "    </tr>\n",
              "    <tr>\n",
              "      <th>3299</th>\n",
              "      <td>0</td>\n",
              "      <td>0</td>\n",
              "      <td>0</td>\n",
              "      <td>0</td>\n",
              "      <td>1</td>\n",
              "    </tr>\n",
              "  </tbody>\n",
              "</table>\n",
              "<p>3300 rows × 5 columns</p>\n",
              "</div>\n",
              "      <button class=\"colab-df-convert\" onclick=\"convertToInteractive('df-79b201b8-7073-41c4-9656-fbd2a707bee8')\"\n",
              "              title=\"Convert this dataframe to an interactive table.\"\n",
              "              style=\"display:none;\">\n",
              "        \n",
              "  <svg xmlns=\"http://www.w3.org/2000/svg\" height=\"24px\"viewBox=\"0 0 24 24\"\n",
              "       width=\"24px\">\n",
              "    <path d=\"M0 0h24v24H0V0z\" fill=\"none\"/>\n",
              "    <path d=\"M18.56 5.44l.94 2.06.94-2.06 2.06-.94-2.06-.94-.94-2.06-.94 2.06-2.06.94zm-11 1L8.5 8.5l.94-2.06 2.06-.94-2.06-.94L8.5 2.5l-.94 2.06-2.06.94zm10 10l.94 2.06.94-2.06 2.06-.94-2.06-.94-.94-2.06-.94 2.06-2.06.94z\"/><path d=\"M17.41 7.96l-1.37-1.37c-.4-.4-.92-.59-1.43-.59-.52 0-1.04.2-1.43.59L10.3 9.45l-7.72 7.72c-.78.78-.78 2.05 0 2.83L4 21.41c.39.39.9.59 1.41.59.51 0 1.02-.2 1.41-.59l7.78-7.78 2.81-2.81c.8-.78.8-2.07 0-2.86zM5.41 20L4 18.59l7.72-7.72 1.47 1.35L5.41 20z\"/>\n",
              "  </svg>\n",
              "      </button>\n",
              "      \n",
              "  <style>\n",
              "    .colab-df-container {\n",
              "      display:flex;\n",
              "      flex-wrap:wrap;\n",
              "      gap: 12px;\n",
              "    }\n",
              "\n",
              "    .colab-df-convert {\n",
              "      background-color: #E8F0FE;\n",
              "      border: none;\n",
              "      border-radius: 50%;\n",
              "      cursor: pointer;\n",
              "      display: none;\n",
              "      fill: #1967D2;\n",
              "      height: 32px;\n",
              "      padding: 0 0 0 0;\n",
              "      width: 32px;\n",
              "    }\n",
              "\n",
              "    .colab-df-convert:hover {\n",
              "      background-color: #E2EBFA;\n",
              "      box-shadow: 0px 1px 2px rgba(60, 64, 67, 0.3), 0px 1px 3px 1px rgba(60, 64, 67, 0.15);\n",
              "      fill: #174EA6;\n",
              "    }\n",
              "\n",
              "    [theme=dark] .colab-df-convert {\n",
              "      background-color: #3B4455;\n",
              "      fill: #D2E3FC;\n",
              "    }\n",
              "\n",
              "    [theme=dark] .colab-df-convert:hover {\n",
              "      background-color: #434B5C;\n",
              "      box-shadow: 0px 1px 3px 1px rgba(0, 0, 0, 0.15);\n",
              "      filter: drop-shadow(0px 1px 2px rgba(0, 0, 0, 0.3));\n",
              "      fill: #FFFFFF;\n",
              "    }\n",
              "  </style>\n",
              "\n",
              "      <script>\n",
              "        const buttonEl =\n",
              "          document.querySelector('#df-79b201b8-7073-41c4-9656-fbd2a707bee8 button.colab-df-convert');\n",
              "        buttonEl.style.display =\n",
              "          google.colab.kernel.accessAllowed ? 'block' : 'none';\n",
              "\n",
              "        async function convertToInteractive(key) {\n",
              "          const element = document.querySelector('#df-79b201b8-7073-41c4-9656-fbd2a707bee8');\n",
              "          const dataTable =\n",
              "            await google.colab.kernel.invokeFunction('convertToInteractive',\n",
              "                                                     [key], {});\n",
              "          if (!dataTable) return;\n",
              "\n",
              "          const docLinkHtml = 'Like what you see? Visit the ' +\n",
              "            '<a target=\"_blank\" href=https://colab.research.google.com/notebooks/data_table.ipynb>data table notebook</a>'\n",
              "            + ' to learn more about interactive tables.';\n",
              "          element.innerHTML = '';\n",
              "          dataTable['output_type'] = 'display_data';\n",
              "          await google.colab.output.renderOutput(dataTable, element);\n",
              "          const docLink = document.createElement('div');\n",
              "          docLink.innerHTML = docLinkHtml;\n",
              "          element.appendChild(docLink);\n",
              "        }\n",
              "      </script>\n",
              "    </div>\n",
              "  </div>\n",
              "  "
            ]
          },
          "metadata": {},
          "execution_count": 140
        }
      ]
    },
    {
      "cell_type": "code",
      "source": [
        "# Atribuindo os novos valores em seus respectivos lugares\n",
        "df_medias['emprego_Comissionado'] = novas_colunas_emprego['emprego_Comissionado']\n",
        "df_medias['emprego_Geral'] = novas_colunas_emprego['emprego_Geral']\n",
        "df_medias['emprego_Gerente'] = novas_colunas_emprego['emprego_Gerente']\n",
        "df_medias['emprego_Outros'] = novas_colunas_emprego['emprego_Outros']\n",
        "df_medias['emprego_Professional'] = novas_colunas_emprego['emprego_Professional']"
      ],
      "metadata": {
        "id": "iz2_ITtzM-7Q"
      },
      "execution_count": 141,
      "outputs": []
    },
    {
      "cell_type": "code",
      "source": [
        "# Excluindo a coluna emprego, já que temos a mesma coluna só que particionada\n",
        "df_medias = df_medias.drop('Emprego', axis = 'columns')"
      ],
      "metadata": {
        "id": "z_LkN7hRKphZ"
      },
      "execution_count": 142,
      "outputs": []
    },
    {
      "cell_type": "code",
      "source": [
        "# Observando os valores\n",
        "df_medias.head()"
      ],
      "metadata": {
        "colab": {
          "base_uri": "https://localhost:8080/",
          "height": 0
        },
        "id": "BMgJFAxFNz25",
        "outputId": "68e17e17-4544-4691-819f-9596aa4c4e0a"
      },
      "execution_count": 143,
      "outputs": [
        {
          "output_type": "execute_result",
          "data": {
            "text/plain": [
              "   Atrasos  Cliente  Empréstimo  Finalidade  LC-Atual  LC-Recente  Negativos  \\\n",
              "0      1.0        0     19468.0           1      33.0         0.0        0.0   \n",
              "1      0.0        0     91688.0           0      41.0         1.0        0.0   \n",
              "2      0.0        0     34226.0           1      10.0         0.0        0.0   \n",
              "3      0.0        0     48356.0           0      26.0         3.0        1.0   \n",
              "4      0.0        0     64684.0           0      18.0         0.0        0.0   \n",
              "\n",
              "         RDS  TempoCliente  TempoEmprego  ValorDoBem  emprego_Comissionado  \\\n",
              "0  39.200000         185.6          0.50   309447.00                     0   \n",
              "1  34.948077         234.5         15.25   449020.00                     0   \n",
              "2  37.200000         250.5          1.25   164394.70                     0   \n",
              "3  29.000000         230.4          2.25   270592.64                     0   \n",
              "4  21.000000          93.6          3.75    78167.16                     0   \n",
              "\n",
              "   emprego_Geral  emprego_Gerente  emprego_Outros  emprego_Professional  \n",
              "0              0                0               1                     0  \n",
              "1              0                0               1                     0  \n",
              "2              0                0               1                     0  \n",
              "3              0                0               1                     0  \n",
              "4              0                0               0                     1  "
            ],
            "text/html": [
              "\n",
              "  <div id=\"df-0b177b93-cf99-4b1a-8c28-b1fb98a3cd7d\">\n",
              "    <div class=\"colab-df-container\">\n",
              "      <div>\n",
              "<style scoped>\n",
              "    .dataframe tbody tr th:only-of-type {\n",
              "        vertical-align: middle;\n",
              "    }\n",
              "\n",
              "    .dataframe tbody tr th {\n",
              "        vertical-align: top;\n",
              "    }\n",
              "\n",
              "    .dataframe thead th {\n",
              "        text-align: right;\n",
              "    }\n",
              "</style>\n",
              "<table border=\"1\" class=\"dataframe\">\n",
              "  <thead>\n",
              "    <tr style=\"text-align: right;\">\n",
              "      <th></th>\n",
              "      <th>Atrasos</th>\n",
              "      <th>Cliente</th>\n",
              "      <th>Empréstimo</th>\n",
              "      <th>Finalidade</th>\n",
              "      <th>LC-Atual</th>\n",
              "      <th>LC-Recente</th>\n",
              "      <th>Negativos</th>\n",
              "      <th>RDS</th>\n",
              "      <th>TempoCliente</th>\n",
              "      <th>TempoEmprego</th>\n",
              "      <th>ValorDoBem</th>\n",
              "      <th>emprego_Comissionado</th>\n",
              "      <th>emprego_Geral</th>\n",
              "      <th>emprego_Gerente</th>\n",
              "      <th>emprego_Outros</th>\n",
              "      <th>emprego_Professional</th>\n",
              "    </tr>\n",
              "  </thead>\n",
              "  <tbody>\n",
              "    <tr>\n",
              "      <th>0</th>\n",
              "      <td>1.0</td>\n",
              "      <td>0</td>\n",
              "      <td>19468.0</td>\n",
              "      <td>1</td>\n",
              "      <td>33.0</td>\n",
              "      <td>0.0</td>\n",
              "      <td>0.0</td>\n",
              "      <td>39.200000</td>\n",
              "      <td>185.6</td>\n",
              "      <td>0.50</td>\n",
              "      <td>309447.00</td>\n",
              "      <td>0</td>\n",
              "      <td>0</td>\n",
              "      <td>0</td>\n",
              "      <td>1</td>\n",
              "      <td>0</td>\n",
              "    </tr>\n",
              "    <tr>\n",
              "      <th>1</th>\n",
              "      <td>0.0</td>\n",
              "      <td>0</td>\n",
              "      <td>91688.0</td>\n",
              "      <td>0</td>\n",
              "      <td>41.0</td>\n",
              "      <td>1.0</td>\n",
              "      <td>0.0</td>\n",
              "      <td>34.948077</td>\n",
              "      <td>234.5</td>\n",
              "      <td>15.25</td>\n",
              "      <td>449020.00</td>\n",
              "      <td>0</td>\n",
              "      <td>0</td>\n",
              "      <td>0</td>\n",
              "      <td>1</td>\n",
              "      <td>0</td>\n",
              "    </tr>\n",
              "    <tr>\n",
              "      <th>2</th>\n",
              "      <td>0.0</td>\n",
              "      <td>0</td>\n",
              "      <td>34226.0</td>\n",
              "      <td>1</td>\n",
              "      <td>10.0</td>\n",
              "      <td>0.0</td>\n",
              "      <td>0.0</td>\n",
              "      <td>37.200000</td>\n",
              "      <td>250.5</td>\n",
              "      <td>1.25</td>\n",
              "      <td>164394.70</td>\n",
              "      <td>0</td>\n",
              "      <td>0</td>\n",
              "      <td>0</td>\n",
              "      <td>1</td>\n",
              "      <td>0</td>\n",
              "    </tr>\n",
              "    <tr>\n",
              "      <th>3</th>\n",
              "      <td>0.0</td>\n",
              "      <td>0</td>\n",
              "      <td>48356.0</td>\n",
              "      <td>0</td>\n",
              "      <td>26.0</td>\n",
              "      <td>3.0</td>\n",
              "      <td>1.0</td>\n",
              "      <td>29.000000</td>\n",
              "      <td>230.4</td>\n",
              "      <td>2.25</td>\n",
              "      <td>270592.64</td>\n",
              "      <td>0</td>\n",
              "      <td>0</td>\n",
              "      <td>0</td>\n",
              "      <td>1</td>\n",
              "      <td>0</td>\n",
              "    </tr>\n",
              "    <tr>\n",
              "      <th>4</th>\n",
              "      <td>0.0</td>\n",
              "      <td>0</td>\n",
              "      <td>64684.0</td>\n",
              "      <td>0</td>\n",
              "      <td>18.0</td>\n",
              "      <td>0.0</td>\n",
              "      <td>0.0</td>\n",
              "      <td>21.000000</td>\n",
              "      <td>93.6</td>\n",
              "      <td>3.75</td>\n",
              "      <td>78167.16</td>\n",
              "      <td>0</td>\n",
              "      <td>0</td>\n",
              "      <td>0</td>\n",
              "      <td>0</td>\n",
              "      <td>1</td>\n",
              "    </tr>\n",
              "  </tbody>\n",
              "</table>\n",
              "</div>\n",
              "      <button class=\"colab-df-convert\" onclick=\"convertToInteractive('df-0b177b93-cf99-4b1a-8c28-b1fb98a3cd7d')\"\n",
              "              title=\"Convert this dataframe to an interactive table.\"\n",
              "              style=\"display:none;\">\n",
              "        \n",
              "  <svg xmlns=\"http://www.w3.org/2000/svg\" height=\"24px\"viewBox=\"0 0 24 24\"\n",
              "       width=\"24px\">\n",
              "    <path d=\"M0 0h24v24H0V0z\" fill=\"none\"/>\n",
              "    <path d=\"M18.56 5.44l.94 2.06.94-2.06 2.06-.94-2.06-.94-.94-2.06-.94 2.06-2.06.94zm-11 1L8.5 8.5l.94-2.06 2.06-.94-2.06-.94L8.5 2.5l-.94 2.06-2.06.94zm10 10l.94 2.06.94-2.06 2.06-.94-2.06-.94-.94-2.06-.94 2.06-2.06.94z\"/><path d=\"M17.41 7.96l-1.37-1.37c-.4-.4-.92-.59-1.43-.59-.52 0-1.04.2-1.43.59L10.3 9.45l-7.72 7.72c-.78.78-.78 2.05 0 2.83L4 21.41c.39.39.9.59 1.41.59.51 0 1.02-.2 1.41-.59l7.78-7.78 2.81-2.81c.8-.78.8-2.07 0-2.86zM5.41 20L4 18.59l7.72-7.72 1.47 1.35L5.41 20z\"/>\n",
              "  </svg>\n",
              "      </button>\n",
              "      \n",
              "  <style>\n",
              "    .colab-df-container {\n",
              "      display:flex;\n",
              "      flex-wrap:wrap;\n",
              "      gap: 12px;\n",
              "    }\n",
              "\n",
              "    .colab-df-convert {\n",
              "      background-color: #E8F0FE;\n",
              "      border: none;\n",
              "      border-radius: 50%;\n",
              "      cursor: pointer;\n",
              "      display: none;\n",
              "      fill: #1967D2;\n",
              "      height: 32px;\n",
              "      padding: 0 0 0 0;\n",
              "      width: 32px;\n",
              "    }\n",
              "\n",
              "    .colab-df-convert:hover {\n",
              "      background-color: #E2EBFA;\n",
              "      box-shadow: 0px 1px 2px rgba(60, 64, 67, 0.3), 0px 1px 3px 1px rgba(60, 64, 67, 0.15);\n",
              "      fill: #174EA6;\n",
              "    }\n",
              "\n",
              "    [theme=dark] .colab-df-convert {\n",
              "      background-color: #3B4455;\n",
              "      fill: #D2E3FC;\n",
              "    }\n",
              "\n",
              "    [theme=dark] .colab-df-convert:hover {\n",
              "      background-color: #434B5C;\n",
              "      box-shadow: 0px 1px 3px 1px rgba(0, 0, 0, 0.15);\n",
              "      filter: drop-shadow(0px 1px 2px rgba(0, 0, 0, 0.3));\n",
              "      fill: #FFFFFF;\n",
              "    }\n",
              "  </style>\n",
              "\n",
              "      <script>\n",
              "        const buttonEl =\n",
              "          document.querySelector('#df-0b177b93-cf99-4b1a-8c28-b1fb98a3cd7d button.colab-df-convert');\n",
              "        buttonEl.style.display =\n",
              "          google.colab.kernel.accessAllowed ? 'block' : 'none';\n",
              "\n",
              "        async function convertToInteractive(key) {\n",
              "          const element = document.querySelector('#df-0b177b93-cf99-4b1a-8c28-b1fb98a3cd7d');\n",
              "          const dataTable =\n",
              "            await google.colab.kernel.invokeFunction('convertToInteractive',\n",
              "                                                     [key], {});\n",
              "          if (!dataTable) return;\n",
              "\n",
              "          const docLinkHtml = 'Like what you see? Visit the ' +\n",
              "            '<a target=\"_blank\" href=https://colab.research.google.com/notebooks/data_table.ipynb>data table notebook</a>'\n",
              "            + ' to learn more about interactive tables.';\n",
              "          element.innerHTML = '';\n",
              "          dataTable['output_type'] = 'display_data';\n",
              "          await google.colab.output.renderOutput(dataTable, element);\n",
              "          const docLink = document.createElement('div');\n",
              "          docLink.innerHTML = docLinkHtml;\n",
              "          element.appendChild(docLink);\n",
              "        }\n",
              "      </script>\n",
              "    </div>\n",
              "  </div>\n",
              "  "
            ]
          },
          "metadata": {},
          "execution_count": 143
        }
      ]
    },
    {
      "cell_type": "markdown",
      "source": [
        "### **Balanceamento das Variáveis**"
      ],
      "metadata": {
        "id": "5kIrlzZLav2c"
      }
    },
    {
      "cell_type": "code",
      "source": [
        "# Observando o balanceamento dos dados\n",
        "df_medias.groupby(['Cliente']).count()"
      ],
      "metadata": {
        "colab": {
          "base_uri": "https://localhost:8080/",
          "height": 0
        },
        "id": "YeRysH2IOReA",
        "outputId": "5abe7443-6ca5-41eb-c805-3e41fab62799"
      },
      "execution_count": 144,
      "outputs": [
        {
          "output_type": "execute_result",
          "data": {
            "text/plain": [
              "         Atrasos  Empréstimo  Finalidade  LC-Atual  LC-Recente  Negativos  \\\n",
              "Cliente                                                                     \n",
              "0           2686        2686        2686      2686        2686       2686   \n",
              "1            614         614         614       614         614        614   \n",
              "\n",
              "          RDS  TempoCliente  TempoEmprego  ValorDoBem  emprego_Comissionado  \\\n",
              "Cliente                                                                       \n",
              "0        2686          2686          2686        2686                  2686   \n",
              "1         614           614           614         614                   614   \n",
              "\n",
              "         emprego_Geral  emprego_Gerente  emprego_Outros  emprego_Professional  \n",
              "Cliente                                                                        \n",
              "0                 2686             2686            2686                  2686  \n",
              "1                  614              614             614                   614  "
            ],
            "text/html": [
              "\n",
              "  <div id=\"df-39348769-9d87-4d49-af70-eede321823d9\">\n",
              "    <div class=\"colab-df-container\">\n",
              "      <div>\n",
              "<style scoped>\n",
              "    .dataframe tbody tr th:only-of-type {\n",
              "        vertical-align: middle;\n",
              "    }\n",
              "\n",
              "    .dataframe tbody tr th {\n",
              "        vertical-align: top;\n",
              "    }\n",
              "\n",
              "    .dataframe thead th {\n",
              "        text-align: right;\n",
              "    }\n",
              "</style>\n",
              "<table border=\"1\" class=\"dataframe\">\n",
              "  <thead>\n",
              "    <tr style=\"text-align: right;\">\n",
              "      <th></th>\n",
              "      <th>Atrasos</th>\n",
              "      <th>Empréstimo</th>\n",
              "      <th>Finalidade</th>\n",
              "      <th>LC-Atual</th>\n",
              "      <th>LC-Recente</th>\n",
              "      <th>Negativos</th>\n",
              "      <th>RDS</th>\n",
              "      <th>TempoCliente</th>\n",
              "      <th>TempoEmprego</th>\n",
              "      <th>ValorDoBem</th>\n",
              "      <th>emprego_Comissionado</th>\n",
              "      <th>emprego_Geral</th>\n",
              "      <th>emprego_Gerente</th>\n",
              "      <th>emprego_Outros</th>\n",
              "      <th>emprego_Professional</th>\n",
              "    </tr>\n",
              "    <tr>\n",
              "      <th>Cliente</th>\n",
              "      <th></th>\n",
              "      <th></th>\n",
              "      <th></th>\n",
              "      <th></th>\n",
              "      <th></th>\n",
              "      <th></th>\n",
              "      <th></th>\n",
              "      <th></th>\n",
              "      <th></th>\n",
              "      <th></th>\n",
              "      <th></th>\n",
              "      <th></th>\n",
              "      <th></th>\n",
              "      <th></th>\n",
              "      <th></th>\n",
              "    </tr>\n",
              "  </thead>\n",
              "  <tbody>\n",
              "    <tr>\n",
              "      <th>0</th>\n",
              "      <td>2686</td>\n",
              "      <td>2686</td>\n",
              "      <td>2686</td>\n",
              "      <td>2686</td>\n",
              "      <td>2686</td>\n",
              "      <td>2686</td>\n",
              "      <td>2686</td>\n",
              "      <td>2686</td>\n",
              "      <td>2686</td>\n",
              "      <td>2686</td>\n",
              "      <td>2686</td>\n",
              "      <td>2686</td>\n",
              "      <td>2686</td>\n",
              "      <td>2686</td>\n",
              "      <td>2686</td>\n",
              "    </tr>\n",
              "    <tr>\n",
              "      <th>1</th>\n",
              "      <td>614</td>\n",
              "      <td>614</td>\n",
              "      <td>614</td>\n",
              "      <td>614</td>\n",
              "      <td>614</td>\n",
              "      <td>614</td>\n",
              "      <td>614</td>\n",
              "      <td>614</td>\n",
              "      <td>614</td>\n",
              "      <td>614</td>\n",
              "      <td>614</td>\n",
              "      <td>614</td>\n",
              "      <td>614</td>\n",
              "      <td>614</td>\n",
              "      <td>614</td>\n",
              "    </tr>\n",
              "  </tbody>\n",
              "</table>\n",
              "</div>\n",
              "      <button class=\"colab-df-convert\" onclick=\"convertToInteractive('df-39348769-9d87-4d49-af70-eede321823d9')\"\n",
              "              title=\"Convert this dataframe to an interactive table.\"\n",
              "              style=\"display:none;\">\n",
              "        \n",
              "  <svg xmlns=\"http://www.w3.org/2000/svg\" height=\"24px\"viewBox=\"0 0 24 24\"\n",
              "       width=\"24px\">\n",
              "    <path d=\"M0 0h24v24H0V0z\" fill=\"none\"/>\n",
              "    <path d=\"M18.56 5.44l.94 2.06.94-2.06 2.06-.94-2.06-.94-.94-2.06-.94 2.06-2.06.94zm-11 1L8.5 8.5l.94-2.06 2.06-.94-2.06-.94L8.5 2.5l-.94 2.06-2.06.94zm10 10l.94 2.06.94-2.06 2.06-.94-2.06-.94-.94-2.06-.94 2.06-2.06.94z\"/><path d=\"M17.41 7.96l-1.37-1.37c-.4-.4-.92-.59-1.43-.59-.52 0-1.04.2-1.43.59L10.3 9.45l-7.72 7.72c-.78.78-.78 2.05 0 2.83L4 21.41c.39.39.9.59 1.41.59.51 0 1.02-.2 1.41-.59l7.78-7.78 2.81-2.81c.8-.78.8-2.07 0-2.86zM5.41 20L4 18.59l7.72-7.72 1.47 1.35L5.41 20z\"/>\n",
              "  </svg>\n",
              "      </button>\n",
              "      \n",
              "  <style>\n",
              "    .colab-df-container {\n",
              "      display:flex;\n",
              "      flex-wrap:wrap;\n",
              "      gap: 12px;\n",
              "    }\n",
              "\n",
              "    .colab-df-convert {\n",
              "      background-color: #E8F0FE;\n",
              "      border: none;\n",
              "      border-radius: 50%;\n",
              "      cursor: pointer;\n",
              "      display: none;\n",
              "      fill: #1967D2;\n",
              "      height: 32px;\n",
              "      padding: 0 0 0 0;\n",
              "      width: 32px;\n",
              "    }\n",
              "\n",
              "    .colab-df-convert:hover {\n",
              "      background-color: #E2EBFA;\n",
              "      box-shadow: 0px 1px 2px rgba(60, 64, 67, 0.3), 0px 1px 3px 1px rgba(60, 64, 67, 0.15);\n",
              "      fill: #174EA6;\n",
              "    }\n",
              "\n",
              "    [theme=dark] .colab-df-convert {\n",
              "      background-color: #3B4455;\n",
              "      fill: #D2E3FC;\n",
              "    }\n",
              "\n",
              "    [theme=dark] .colab-df-convert:hover {\n",
              "      background-color: #434B5C;\n",
              "      box-shadow: 0px 1px 3px 1px rgba(0, 0, 0, 0.15);\n",
              "      filter: drop-shadow(0px 1px 2px rgba(0, 0, 0, 0.3));\n",
              "      fill: #FFFFFF;\n",
              "    }\n",
              "  </style>\n",
              "\n",
              "      <script>\n",
              "        const buttonEl =\n",
              "          document.querySelector('#df-39348769-9d87-4d49-af70-eede321823d9 button.colab-df-convert');\n",
              "        buttonEl.style.display =\n",
              "          google.colab.kernel.accessAllowed ? 'block' : 'none';\n",
              "\n",
              "        async function convertToInteractive(key) {\n",
              "          const element = document.querySelector('#df-39348769-9d87-4d49-af70-eede321823d9');\n",
              "          const dataTable =\n",
              "            await google.colab.kernel.invokeFunction('convertToInteractive',\n",
              "                                                     [key], {});\n",
              "          if (!dataTable) return;\n",
              "\n",
              "          const docLinkHtml = 'Like what you see? Visit the ' +\n",
              "            '<a target=\"_blank\" href=https://colab.research.google.com/notebooks/data_table.ipynb>data table notebook</a>'\n",
              "            + ' to learn more about interactive tables.';\n",
              "          element.innerHTML = '';\n",
              "          dataTable['output_type'] = 'display_data';\n",
              "          await google.colab.output.renderOutput(dataTable, element);\n",
              "          const docLink = document.createElement('div');\n",
              "          docLink.innerHTML = docLinkHtml;\n",
              "          element.appendChild(docLink);\n",
              "        }\n",
              "      </script>\n",
              "    </div>\n",
              "  </div>\n",
              "  "
            ]
          },
          "metadata": {},
          "execution_count": 144
        }
      ]
    },
    {
      "cell_type": "markdown",
      "source": [
        "É possível notar a existência de um desbalanceamento nos nossos dados, sendo assim se faz necessário a resolução dessa situação."
      ],
      "metadata": {
        "id": "-6QztGahbJTl"
      }
    },
    {
      "cell_type": "code",
      "source": [
        "# Fazendo a importação do SMOTE\n",
        "from imblearn.over_sampling import SMOTE\n",
        "\n",
        "# Criando o objeto\n",
        "smote = SMOTE(sampling_strategy = 'all', k_neighbors = 9 )"
      ],
      "metadata": {
        "id": "SPoXlr0maz0a"
      },
      "execution_count": 145,
      "outputs": []
    },
    {
      "cell_type": "markdown",
      "source": [
        "A conclusão do balanceamento vai ser feito adiante."
      ],
      "metadata": {
        "id": "hpLuyXIqfTvl"
      }
    },
    {
      "cell_type": "markdown",
      "source": [
        "#**5. Machine Learning**"
      ],
      "metadata": {
        "id": "P7wrMKX6PWVw"
      }
    },
    {
      "cell_type": "code",
      "source": [
        "# Instalando o Pycaret\n",
        "!pip install pycaret"
      ],
      "metadata": {
        "id": "1IDM-6BrO5Iw",
        "colab": {
          "base_uri": "https://localhost:8080/"
        },
        "outputId": "a37c8966-ebc8-4d50-8bfe-4d1a6c3fc897"
      },
      "execution_count": 146,
      "outputs": [
        {
          "output_type": "stream",
          "name": "stdout",
          "text": [
            "Looking in indexes: https://pypi.org/simple, https://us-python.pkg.dev/colab-wheels/public/simple/\n",
            "Requirement already satisfied: pycaret in /usr/local/lib/python3.10/dist-packages (3.0.3)\n",
            "Requirement already satisfied: ipython>=5.5.0 in /usr/local/lib/python3.10/dist-packages (from pycaret) (7.34.0)\n",
            "Requirement already satisfied: ipywidgets>=7.6.5 in /usr/local/lib/python3.10/dist-packages (from pycaret) (7.7.1)\n",
            "Requirement already satisfied: tqdm>=4.62.0 in /usr/local/lib/python3.10/dist-packages (from pycaret) (4.65.0)\n",
            "Requirement already satisfied: numpy<1.24,>=1.21 in /usr/local/lib/python3.10/dist-packages (from pycaret) (1.22.4)\n",
            "Requirement already satisfied: pandas<2.0.0,>=1.3.0 in /usr/local/lib/python3.10/dist-packages (from pycaret) (1.5.3)\n",
            "Requirement already satisfied: jinja2>=1.2 in /usr/local/lib/python3.10/dist-packages (from pycaret) (3.1.2)\n",
            "Requirement already satisfied: scipy<2.0.0 in /usr/local/lib/python3.10/dist-packages (from pycaret) (1.10.1)\n",
            "Requirement already satisfied: joblib>=1.2.0 in /usr/local/lib/python3.10/dist-packages (from pycaret) (1.2.0)\n",
            "Requirement already satisfied: scikit-learn>=1.0 in /usr/local/lib/python3.10/dist-packages (from pycaret) (1.2.2)\n",
            "Requirement already satisfied: pyod>=1.0.8 in /usr/local/lib/python3.10/dist-packages (from pycaret) (1.1.0)\n",
            "Requirement already satisfied: imbalanced-learn>=0.8.1 in /usr/local/lib/python3.10/dist-packages (from pycaret) (0.10.1)\n",
            "Requirement already satisfied: category-encoders>=2.4.0 in /usr/local/lib/python3.10/dist-packages (from pycaret) (2.6.1)\n",
            "Requirement already satisfied: lightgbm>=3.0.0 in /usr/local/lib/python3.10/dist-packages (from pycaret) (3.3.5)\n",
            "Requirement already satisfied: numba>=0.55.0 in /usr/local/lib/python3.10/dist-packages (from pycaret) (0.56.4)\n",
            "Requirement already satisfied: requests>=2.27.1 in /usr/local/lib/python3.10/dist-packages (from pycaret) (2.27.1)\n",
            "Requirement already satisfied: psutil>=5.9.0 in /usr/local/lib/python3.10/dist-packages (from pycaret) (5.9.5)\n",
            "Requirement already satisfied: markupsafe>=2.0.1 in /usr/local/lib/python3.10/dist-packages (from pycaret) (2.1.3)\n",
            "Requirement already satisfied: importlib-metadata>=4.12.0 in /usr/local/lib/python3.10/dist-packages (from pycaret) (6.7.0)\n",
            "Requirement already satisfied: nbformat>=4.2.0 in /usr/local/lib/python3.10/dist-packages (from pycaret) (5.9.0)\n",
            "Requirement already satisfied: cloudpickle in /usr/local/lib/python3.10/dist-packages (from pycaret) (2.2.1)\n",
            "Requirement already satisfied: deprecation>=2.1.0 in /usr/local/lib/python3.10/dist-packages (from pycaret) (2.1.0)\n",
            "Requirement already satisfied: xxhash in /usr/local/lib/python3.10/dist-packages (from pycaret) (3.2.0)\n",
            "Requirement already satisfied: matplotlib>=3.3.0 in /usr/local/lib/python3.10/dist-packages (from pycaret) (3.7.1)\n",
            "Requirement already satisfied: scikit-plot>=0.3.7 in /usr/local/lib/python3.10/dist-packages (from pycaret) (0.3.7)\n",
            "Requirement already satisfied: yellowbrick>=1.4 in /usr/local/lib/python3.10/dist-packages (from pycaret) (1.5)\n",
            "Requirement already satisfied: plotly>=5.0.0 in /usr/local/lib/python3.10/dist-packages (from pycaret) (5.13.1)\n",
            "Requirement already satisfied: kaleido>=0.2.1 in /usr/local/lib/python3.10/dist-packages (from pycaret) (0.2.1)\n",
            "Requirement already satisfied: schemdraw==0.15 in /usr/local/lib/python3.10/dist-packages (from pycaret) (0.15)\n",
            "Requirement already satisfied: plotly-resampler>=0.8.3.1 in /usr/local/lib/python3.10/dist-packages (from pycaret) (0.8.3.2)\n",
            "Requirement already satisfied: statsmodels>=0.12.1 in /usr/local/lib/python3.10/dist-packages (from pycaret) (0.13.5)\n",
            "Requirement already satisfied: sktime!=0.17.1,!=0.17.2,!=0.18.0,>=0.16.1 in /usr/local/lib/python3.10/dist-packages (from pycaret) (0.20.0)\n",
            "Requirement already satisfied: tbats>=1.1.3 in /usr/local/lib/python3.10/dist-packages (from pycaret) (1.1.3)\n",
            "Requirement already satisfied: pmdarima!=1.8.1,<3.0.0,>=1.8.0 in /usr/local/lib/python3.10/dist-packages (from pycaret) (2.0.3)\n",
            "Requirement already satisfied: wurlitzer in /usr/local/lib/python3.10/dist-packages (from pycaret) (3.0.3)\n",
            "Requirement already satisfied: patsy>=0.5.1 in /usr/local/lib/python3.10/dist-packages (from category-encoders>=2.4.0->pycaret) (0.5.3)\n",
            "Requirement already satisfied: packaging in /usr/local/lib/python3.10/dist-packages (from deprecation>=2.1.0->pycaret) (23.1)\n",
            "Requirement already satisfied: threadpoolctl>=2.0.0 in /usr/local/lib/python3.10/dist-packages (from imbalanced-learn>=0.8.1->pycaret) (3.1.0)\n",
            "Requirement already satisfied: zipp>=0.5 in /usr/local/lib/python3.10/dist-packages (from importlib-metadata>=4.12.0->pycaret) (3.15.0)\n",
            "Requirement already satisfied: setuptools>=18.5 in /usr/local/lib/python3.10/dist-packages (from ipython>=5.5.0->pycaret) (67.7.2)\n",
            "Requirement already satisfied: jedi>=0.16 in /usr/local/lib/python3.10/dist-packages (from ipython>=5.5.0->pycaret) (0.18.2)\n",
            "Requirement already satisfied: decorator in /usr/local/lib/python3.10/dist-packages (from ipython>=5.5.0->pycaret) (4.4.2)\n",
            "Requirement already satisfied: pickleshare in /usr/local/lib/python3.10/dist-packages (from ipython>=5.5.0->pycaret) (0.7.5)\n",
            "Requirement already satisfied: traitlets>=4.2 in /usr/local/lib/python3.10/dist-packages (from ipython>=5.5.0->pycaret) (5.7.1)\n",
            "Requirement already satisfied: prompt-toolkit!=3.0.0,!=3.0.1,<3.1.0,>=2.0.0 in /usr/local/lib/python3.10/dist-packages (from ipython>=5.5.0->pycaret) (3.0.38)\n",
            "Requirement already satisfied: pygments in /usr/local/lib/python3.10/dist-packages (from ipython>=5.5.0->pycaret) (2.14.0)\n",
            "Requirement already satisfied: backcall in /usr/local/lib/python3.10/dist-packages (from ipython>=5.5.0->pycaret) (0.2.0)\n",
            "Requirement already satisfied: matplotlib-inline in /usr/local/lib/python3.10/dist-packages (from ipython>=5.5.0->pycaret) (0.1.6)\n",
            "Requirement already satisfied: pexpect>4.3 in /usr/local/lib/python3.10/dist-packages (from ipython>=5.5.0->pycaret) (4.8.0)\n",
            "Requirement already satisfied: ipykernel>=4.5.1 in /usr/local/lib/python3.10/dist-packages (from ipywidgets>=7.6.5->pycaret) (5.5.6)\n",
            "Requirement already satisfied: ipython-genutils~=0.2.0 in /usr/local/lib/python3.10/dist-packages (from ipywidgets>=7.6.5->pycaret) (0.2.0)\n",
            "Requirement already satisfied: widgetsnbextension~=3.6.0 in /usr/local/lib/python3.10/dist-packages (from ipywidgets>=7.6.5->pycaret) (3.6.4)\n",
            "Requirement already satisfied: jupyterlab-widgets>=1.0.0 in /usr/local/lib/python3.10/dist-packages (from ipywidgets>=7.6.5->pycaret) (3.0.7)\n",
            "Requirement already satisfied: wheel in /usr/local/lib/python3.10/dist-packages (from lightgbm>=3.0.0->pycaret) (0.40.0)\n",
            "Requirement already satisfied: contourpy>=1.0.1 in /usr/local/lib/python3.10/dist-packages (from matplotlib>=3.3.0->pycaret) (1.1.0)\n",
            "Requirement already satisfied: cycler>=0.10 in /usr/local/lib/python3.10/dist-packages (from matplotlib>=3.3.0->pycaret) (0.11.0)\n",
            "Requirement already satisfied: fonttools>=4.22.0 in /usr/local/lib/python3.10/dist-packages (from matplotlib>=3.3.0->pycaret) (4.40.0)\n",
            "Requirement already satisfied: kiwisolver>=1.0.1 in /usr/local/lib/python3.10/dist-packages (from matplotlib>=3.3.0->pycaret) (1.4.4)\n",
            "Requirement already satisfied: pillow>=6.2.0 in /usr/local/lib/python3.10/dist-packages (from matplotlib>=3.3.0->pycaret) (8.4.0)\n",
            "Requirement already satisfied: pyparsing>=2.3.1 in /usr/local/lib/python3.10/dist-packages (from matplotlib>=3.3.0->pycaret) (3.1.0)\n",
            "Requirement already satisfied: python-dateutil>=2.7 in /usr/local/lib/python3.10/dist-packages (from matplotlib>=3.3.0->pycaret) (2.8.2)\n",
            "Requirement already satisfied: fastjsonschema in /usr/local/lib/python3.10/dist-packages (from nbformat>=4.2.0->pycaret) (2.17.1)\n",
            "Requirement already satisfied: jsonschema>=2.6 in /usr/local/lib/python3.10/dist-packages (from nbformat>=4.2.0->pycaret) (4.3.3)\n",
            "Requirement already satisfied: jupyter-core in /usr/local/lib/python3.10/dist-packages (from nbformat>=4.2.0->pycaret) (5.3.1)\n",
            "Requirement already satisfied: llvmlite<0.40,>=0.39.0dev0 in /usr/local/lib/python3.10/dist-packages (from numba>=0.55.0->pycaret) (0.39.1)\n",
            "Requirement already satisfied: pytz>=2020.1 in /usr/local/lib/python3.10/dist-packages (from pandas<2.0.0,>=1.3.0->pycaret) (2022.7.1)\n",
            "Requirement already satisfied: tenacity>=6.2.0 in /usr/local/lib/python3.10/dist-packages (from plotly>=5.0.0->pycaret) (8.2.2)\n",
            "Requirement already satisfied: dash<3.0.0,>=2.2.0 in /usr/local/lib/python3.10/dist-packages (from plotly-resampler>=0.8.3.1->pycaret) (2.11.0)\n",
            "Requirement already satisfied: jupyter-dash>=0.4.2 in /usr/local/lib/python3.10/dist-packages (from plotly-resampler>=0.8.3.1->pycaret) (0.4.2)\n",
            "Requirement already satisfied: orjson<4.0.0,>=3.8.0 in /usr/local/lib/python3.10/dist-packages (from plotly-resampler>=0.8.3.1->pycaret) (3.9.1)\n",
            "Requirement already satisfied: trace-updater>=0.0.8 in /usr/local/lib/python3.10/dist-packages (from plotly-resampler>=0.8.3.1->pycaret) (0.0.9.1)\n",
            "Requirement already satisfied: Cython!=0.29.18,!=0.29.31,>=0.29 in /usr/local/lib/python3.10/dist-packages (from pmdarima!=1.8.1,<3.0.0,>=1.8.0->pycaret) (0.29.35)\n",
            "Requirement already satisfied: urllib3 in /usr/local/lib/python3.10/dist-packages (from pmdarima!=1.8.1,<3.0.0,>=1.8.0->pycaret) (1.26.16)\n",
            "Requirement already satisfied: six in /usr/local/lib/python3.10/dist-packages (from pyod>=1.0.8->pycaret) (1.16.0)\n",
            "Requirement already satisfied: certifi>=2017.4.17 in /usr/local/lib/python3.10/dist-packages (from requests>=2.27.1->pycaret) (2023.5.7)\n",
            "Requirement already satisfied: charset-normalizer~=2.0.0 in /usr/local/lib/python3.10/dist-packages (from requests>=2.27.1->pycaret) (2.0.12)\n",
            "Requirement already satisfied: idna<4,>=2.5 in /usr/local/lib/python3.10/dist-packages (from requests>=2.27.1->pycaret) (3.4)\n",
            "Requirement already satisfied: deprecated>=1.2.13 in /usr/local/lib/python3.10/dist-packages (from sktime!=0.17.1,!=0.17.2,!=0.18.0,>=0.16.1->pycaret) (1.2.14)\n",
            "Requirement already satisfied: scikit-base<0.6.0 in /usr/local/lib/python3.10/dist-packages (from sktime!=0.17.1,!=0.17.2,!=0.18.0,>=0.16.1->pycaret) (0.5.0)\n",
            "Requirement already satisfied: Flask<2.3.0,>=1.0.4 in /usr/local/lib/python3.10/dist-packages (from dash<3.0.0,>=2.2.0->plotly-resampler>=0.8.3.1->pycaret) (2.2.5)\n",
            "Requirement already satisfied: Werkzeug<2.3.0 in /usr/local/lib/python3.10/dist-packages (from dash<3.0.0,>=2.2.0->plotly-resampler>=0.8.3.1->pycaret) (2.2.3)\n",
            "Requirement already satisfied: dash-html-components==2.0.0 in /usr/local/lib/python3.10/dist-packages (from dash<3.0.0,>=2.2.0->plotly-resampler>=0.8.3.1->pycaret) (2.0.0)\n",
            "Requirement already satisfied: dash-core-components==2.0.0 in /usr/local/lib/python3.10/dist-packages (from dash<3.0.0,>=2.2.0->plotly-resampler>=0.8.3.1->pycaret) (2.0.0)\n",
            "Requirement already satisfied: dash-table==5.0.0 in /usr/local/lib/python3.10/dist-packages (from dash<3.0.0,>=2.2.0->plotly-resampler>=0.8.3.1->pycaret) (5.0.0)\n",
            "Requirement already satisfied: typing-extensions>=4.1.1 in /usr/local/lib/python3.10/dist-packages (from dash<3.0.0,>=2.2.0->plotly-resampler>=0.8.3.1->pycaret) (4.6.3)\n",
            "Requirement already satisfied: retrying in /usr/local/lib/python3.10/dist-packages (from dash<3.0.0,>=2.2.0->plotly-resampler>=0.8.3.1->pycaret) (1.3.4)\n",
            "Requirement already satisfied: ansi2html in /usr/local/lib/python3.10/dist-packages (from dash<3.0.0,>=2.2.0->plotly-resampler>=0.8.3.1->pycaret) (1.8.0)\n",
            "Requirement already satisfied: nest-asyncio in /usr/local/lib/python3.10/dist-packages (from dash<3.0.0,>=2.2.0->plotly-resampler>=0.8.3.1->pycaret) (1.5.6)\n",
            "Requirement already satisfied: wrapt<2,>=1.10 in /usr/local/lib/python3.10/dist-packages (from deprecated>=1.2.13->sktime!=0.17.1,!=0.17.2,!=0.18.0,>=0.16.1->pycaret) (1.14.1)\n",
            "Requirement already satisfied: jupyter-client in /usr/local/lib/python3.10/dist-packages (from ipykernel>=4.5.1->ipywidgets>=7.6.5->pycaret) (6.1.12)\n",
            "Requirement already satisfied: tornado>=4.2 in /usr/local/lib/python3.10/dist-packages (from ipykernel>=4.5.1->ipywidgets>=7.6.5->pycaret) (6.3.1)\n",
            "Requirement already satisfied: parso<0.9.0,>=0.8.0 in /usr/local/lib/python3.10/dist-packages (from jedi>=0.16->ipython>=5.5.0->pycaret) (0.8.3)\n",
            "Requirement already satisfied: attrs>=17.4.0 in /usr/local/lib/python3.10/dist-packages (from jsonschema>=2.6->nbformat>=4.2.0->pycaret) (23.1.0)\n",
            "Requirement already satisfied: pyrsistent!=0.17.0,!=0.17.1,!=0.17.2,>=0.14.0 in /usr/local/lib/python3.10/dist-packages (from jsonschema>=2.6->nbformat>=4.2.0->pycaret) (0.19.3)\n",
            "Requirement already satisfied: ptyprocess>=0.5 in /usr/local/lib/python3.10/dist-packages (from pexpect>4.3->ipython>=5.5.0->pycaret) (0.7.0)\n",
            "Requirement already satisfied: wcwidth in /usr/local/lib/python3.10/dist-packages (from prompt-toolkit!=3.0.0,!=3.0.1,<3.1.0,>=2.0.0->ipython>=5.5.0->pycaret) (0.2.6)\n",
            "Requirement already satisfied: notebook>=4.4.1 in /usr/local/lib/python3.10/dist-packages (from widgetsnbextension~=3.6.0->ipywidgets>=7.6.5->pycaret) (6.4.8)\n",
            "Requirement already satisfied: platformdirs>=2.5 in /usr/local/lib/python3.10/dist-packages (from jupyter-core->nbformat>=4.2.0->pycaret) (3.7.0)\n",
            "Requirement already satisfied: itsdangerous>=2.0 in /usr/local/lib/python3.10/dist-packages (from Flask<2.3.0,>=1.0.4->dash<3.0.0,>=2.2.0->plotly-resampler>=0.8.3.1->pycaret) (2.1.2)\n",
            "Requirement already satisfied: click>=8.0 in /usr/local/lib/python3.10/dist-packages (from Flask<2.3.0,>=1.0.4->dash<3.0.0,>=2.2.0->plotly-resampler>=0.8.3.1->pycaret) (8.1.3)\n",
            "Requirement already satisfied: pyzmq>=17 in /usr/local/lib/python3.10/dist-packages (from notebook>=4.4.1->widgetsnbextension~=3.6.0->ipywidgets>=7.6.5->pycaret) (23.2.1)\n",
            "Requirement already satisfied: argon2-cffi in /usr/local/lib/python3.10/dist-packages (from notebook>=4.4.1->widgetsnbextension~=3.6.0->ipywidgets>=7.6.5->pycaret) (21.3.0)\n",
            "Requirement already satisfied: nbconvert in /usr/local/lib/python3.10/dist-packages (from notebook>=4.4.1->widgetsnbextension~=3.6.0->ipywidgets>=7.6.5->pycaret) (6.5.4)\n",
            "Requirement already satisfied: Send2Trash>=1.8.0 in /usr/local/lib/python3.10/dist-packages (from notebook>=4.4.1->widgetsnbextension~=3.6.0->ipywidgets>=7.6.5->pycaret) (1.8.2)\n",
            "Requirement already satisfied: terminado>=0.8.3 in /usr/local/lib/python3.10/dist-packages (from notebook>=4.4.1->widgetsnbextension~=3.6.0->ipywidgets>=7.6.5->pycaret) (0.17.1)\n",
            "Requirement already satisfied: prometheus-client in /usr/local/lib/python3.10/dist-packages (from notebook>=4.4.1->widgetsnbextension~=3.6.0->ipywidgets>=7.6.5->pycaret) (0.17.0)\n",
            "Requirement already satisfied: argon2-cffi-bindings in /usr/local/lib/python3.10/dist-packages (from argon2-cffi->notebook>=4.4.1->widgetsnbextension~=3.6.0->ipywidgets>=7.6.5->pycaret) (21.2.0)\n",
            "Requirement already satisfied: lxml in /usr/local/lib/python3.10/dist-packages (from nbconvert->notebook>=4.4.1->widgetsnbextension~=3.6.0->ipywidgets>=7.6.5->pycaret) (4.9.2)\n",
            "Requirement already satisfied: beautifulsoup4 in /usr/local/lib/python3.10/dist-packages (from nbconvert->notebook>=4.4.1->widgetsnbextension~=3.6.0->ipywidgets>=7.6.5->pycaret) (4.11.2)\n",
            "Requirement already satisfied: bleach in /usr/local/lib/python3.10/dist-packages (from nbconvert->notebook>=4.4.1->widgetsnbextension~=3.6.0->ipywidgets>=7.6.5->pycaret) (6.0.0)\n",
            "Requirement already satisfied: defusedxml in /usr/local/lib/python3.10/dist-packages (from nbconvert->notebook>=4.4.1->widgetsnbextension~=3.6.0->ipywidgets>=7.6.5->pycaret) (0.7.1)\n",
            "Requirement already satisfied: entrypoints>=0.2.2 in /usr/local/lib/python3.10/dist-packages (from nbconvert->notebook>=4.4.1->widgetsnbextension~=3.6.0->ipywidgets>=7.6.5->pycaret) (0.4)\n",
            "Requirement already satisfied: jupyterlab-pygments in /usr/local/lib/python3.10/dist-packages (from nbconvert->notebook>=4.4.1->widgetsnbextension~=3.6.0->ipywidgets>=7.6.5->pycaret) (0.2.2)\n",
            "Requirement already satisfied: mistune<2,>=0.8.1 in /usr/local/lib/python3.10/dist-packages (from nbconvert->notebook>=4.4.1->widgetsnbextension~=3.6.0->ipywidgets>=7.6.5->pycaret) (0.8.4)\n",
            "Requirement already satisfied: nbclient>=0.5.0 in /usr/local/lib/python3.10/dist-packages (from nbconvert->notebook>=4.4.1->widgetsnbextension~=3.6.0->ipywidgets>=7.6.5->pycaret) (0.8.0)\n",
            "Requirement already satisfied: pandocfilters>=1.4.1 in /usr/local/lib/python3.10/dist-packages (from nbconvert->notebook>=4.4.1->widgetsnbextension~=3.6.0->ipywidgets>=7.6.5->pycaret) (1.5.0)\n",
            "Requirement already satisfied: tinycss2 in /usr/local/lib/python3.10/dist-packages (from nbconvert->notebook>=4.4.1->widgetsnbextension~=3.6.0->ipywidgets>=7.6.5->pycaret) (1.2.1)\n",
            "Requirement already satisfied: cffi>=1.0.1 in /usr/local/lib/python3.10/dist-packages (from argon2-cffi-bindings->argon2-cffi->notebook>=4.4.1->widgetsnbextension~=3.6.0->ipywidgets>=7.6.5->pycaret) (1.15.1)\n",
            "Requirement already satisfied: soupsieve>1.2 in /usr/local/lib/python3.10/dist-packages (from beautifulsoup4->nbconvert->notebook>=4.4.1->widgetsnbextension~=3.6.0->ipywidgets>=7.6.5->pycaret) (2.4.1)\n",
            "Requirement already satisfied: webencodings in /usr/local/lib/python3.10/dist-packages (from bleach->nbconvert->notebook>=4.4.1->widgetsnbextension~=3.6.0->ipywidgets>=7.6.5->pycaret) (0.5.1)\n",
            "Requirement already satisfied: pycparser in /usr/local/lib/python3.10/dist-packages (from cffi>=1.0.1->argon2-cffi-bindings->argon2-cffi->notebook>=4.4.1->widgetsnbextension~=3.6.0->ipywidgets>=7.6.5->pycaret) (2.21)\n"
          ]
        }
      ]
    },
    {
      "cell_type": "code",
      "source": [
        "# Importando o pycaret\n",
        "from pycaret.classification import *"
      ],
      "metadata": {
        "id": "-256lWw_O6d_"
      },
      "execution_count": 147,
      "outputs": []
    },
    {
      "cell_type": "code",
      "source": [
        "# Separando os dados em X e Y\n",
        "\n",
        "# Variaveis preditoras\n",
        "x = df_medias.drop(['Cliente'], axis = 'columns')\n",
        "\n",
        "# Variavel resposta\n",
        "y = df_medias['Cliente']"
      ],
      "metadata": {
        "id": "A_Fa9MUzbfbb"
      },
      "execution_count": 148,
      "outputs": []
    },
    {
      "cell_type": "code",
      "source": [
        "# Aplicando os registros da classe balanceada\n",
        "x_res, y_res = smote.fit_resample(x, y)"
      ],
      "metadata": {
        "id": "OePLTieCPfn4"
      },
      "execution_count": 149,
      "outputs": []
    },
    {
      "cell_type": "code",
      "source": [
        "# Observando o balanceamento dos dados\n",
        "y_res.value_counts()"
      ],
      "metadata": {
        "colab": {
          "base_uri": "https://localhost:8080/"
        },
        "id": "GpIV-0_-chCd",
        "outputId": "03dbd3ce-0c5e-4b52-9800-171dc10162be"
      },
      "execution_count": 150,
      "outputs": [
        {
          "output_type": "execute_result",
          "data": {
            "text/plain": [
              "0    2686\n",
              "1    2686\n",
              "Name: Cliente, dtype: int64"
            ]
          },
          "metadata": {},
          "execution_count": 150
        }
      ]
    },
    {
      "cell_type": "code",
      "source": [
        "# Criando o ambiente de treinamento\n",
        "s = setup(x_res, target = y_res, fold = 20, train_size = 0.8 )"
      ],
      "metadata": {
        "colab": {
          "base_uri": "https://localhost:8080/",
          "height": 645
        },
        "id": "IKU-x7yYPjWo",
        "outputId": "2700dcd8-9159-4922-c3a8-8e91db971650"
      },
      "execution_count": 151,
      "outputs": [
        {
          "output_type": "display_data",
          "data": {
            "text/plain": [
              "<pandas.io.formats.style.Styler at 0x7f2f8c7947f0>"
            ],
            "text/html": [
              "<style type=\"text/css\">\n",
              "#T_be995_row8_col1 {\n",
              "  background-color: lightgreen;\n",
              "}\n",
              "</style>\n",
              "<table id=\"T_be995\" class=\"dataframe\">\n",
              "  <thead>\n",
              "    <tr>\n",
              "      <th class=\"blank level0\" >&nbsp;</th>\n",
              "      <th id=\"T_be995_level0_col0\" class=\"col_heading level0 col0\" >Description</th>\n",
              "      <th id=\"T_be995_level0_col1\" class=\"col_heading level0 col1\" >Value</th>\n",
              "    </tr>\n",
              "  </thead>\n",
              "  <tbody>\n",
              "    <tr>\n",
              "      <th id=\"T_be995_level0_row0\" class=\"row_heading level0 row0\" >0</th>\n",
              "      <td id=\"T_be995_row0_col0\" class=\"data row0 col0\" >Session id</td>\n",
              "      <td id=\"T_be995_row0_col1\" class=\"data row0 col1\" >5295</td>\n",
              "    </tr>\n",
              "    <tr>\n",
              "      <th id=\"T_be995_level0_row1\" class=\"row_heading level0 row1\" >1</th>\n",
              "      <td id=\"T_be995_row1_col0\" class=\"data row1 col0\" >Target</td>\n",
              "      <td id=\"T_be995_row1_col1\" class=\"data row1 col1\" >Cliente</td>\n",
              "    </tr>\n",
              "    <tr>\n",
              "      <th id=\"T_be995_level0_row2\" class=\"row_heading level0 row2\" >2</th>\n",
              "      <td id=\"T_be995_row2_col0\" class=\"data row2 col0\" >Target type</td>\n",
              "      <td id=\"T_be995_row2_col1\" class=\"data row2 col1\" >Binary</td>\n",
              "    </tr>\n",
              "    <tr>\n",
              "      <th id=\"T_be995_level0_row3\" class=\"row_heading level0 row3\" >3</th>\n",
              "      <td id=\"T_be995_row3_col0\" class=\"data row3 col0\" >Original data shape</td>\n",
              "      <td id=\"T_be995_row3_col1\" class=\"data row3 col1\" >(5372, 16)</td>\n",
              "    </tr>\n",
              "    <tr>\n",
              "      <th id=\"T_be995_level0_row4\" class=\"row_heading level0 row4\" >4</th>\n",
              "      <td id=\"T_be995_row4_col0\" class=\"data row4 col0\" >Transformed data shape</td>\n",
              "      <td id=\"T_be995_row4_col1\" class=\"data row4 col1\" >(5372, 16)</td>\n",
              "    </tr>\n",
              "    <tr>\n",
              "      <th id=\"T_be995_level0_row5\" class=\"row_heading level0 row5\" >5</th>\n",
              "      <td id=\"T_be995_row5_col0\" class=\"data row5 col0\" >Transformed train set shape</td>\n",
              "      <td id=\"T_be995_row5_col1\" class=\"data row5 col1\" >(4297, 16)</td>\n",
              "    </tr>\n",
              "    <tr>\n",
              "      <th id=\"T_be995_level0_row6\" class=\"row_heading level0 row6\" >6</th>\n",
              "      <td id=\"T_be995_row6_col0\" class=\"data row6 col0\" >Transformed test set shape</td>\n",
              "      <td id=\"T_be995_row6_col1\" class=\"data row6 col1\" >(1075, 16)</td>\n",
              "    </tr>\n",
              "    <tr>\n",
              "      <th id=\"T_be995_level0_row7\" class=\"row_heading level0 row7\" >7</th>\n",
              "      <td id=\"T_be995_row7_col0\" class=\"data row7 col0\" >Numeric features</td>\n",
              "      <td id=\"T_be995_row7_col1\" class=\"data row7 col1\" >15</td>\n",
              "    </tr>\n",
              "    <tr>\n",
              "      <th id=\"T_be995_level0_row8\" class=\"row_heading level0 row8\" >8</th>\n",
              "      <td id=\"T_be995_row8_col0\" class=\"data row8 col0\" >Preprocess</td>\n",
              "      <td id=\"T_be995_row8_col1\" class=\"data row8 col1\" >True</td>\n",
              "    </tr>\n",
              "    <tr>\n",
              "      <th id=\"T_be995_level0_row9\" class=\"row_heading level0 row9\" >9</th>\n",
              "      <td id=\"T_be995_row9_col0\" class=\"data row9 col0\" >Imputation type</td>\n",
              "      <td id=\"T_be995_row9_col1\" class=\"data row9 col1\" >simple</td>\n",
              "    </tr>\n",
              "    <tr>\n",
              "      <th id=\"T_be995_level0_row10\" class=\"row_heading level0 row10\" >10</th>\n",
              "      <td id=\"T_be995_row10_col0\" class=\"data row10 col0\" >Numeric imputation</td>\n",
              "      <td id=\"T_be995_row10_col1\" class=\"data row10 col1\" >mean</td>\n",
              "    </tr>\n",
              "    <tr>\n",
              "      <th id=\"T_be995_level0_row11\" class=\"row_heading level0 row11\" >11</th>\n",
              "      <td id=\"T_be995_row11_col0\" class=\"data row11 col0\" >Categorical imputation</td>\n",
              "      <td id=\"T_be995_row11_col1\" class=\"data row11 col1\" >mode</td>\n",
              "    </tr>\n",
              "    <tr>\n",
              "      <th id=\"T_be995_level0_row12\" class=\"row_heading level0 row12\" >12</th>\n",
              "      <td id=\"T_be995_row12_col0\" class=\"data row12 col0\" >Fold Generator</td>\n",
              "      <td id=\"T_be995_row12_col1\" class=\"data row12 col1\" >StratifiedKFold</td>\n",
              "    </tr>\n",
              "    <tr>\n",
              "      <th id=\"T_be995_level0_row13\" class=\"row_heading level0 row13\" >13</th>\n",
              "      <td id=\"T_be995_row13_col0\" class=\"data row13 col0\" >Fold Number</td>\n",
              "      <td id=\"T_be995_row13_col1\" class=\"data row13 col1\" >20</td>\n",
              "    </tr>\n",
              "    <tr>\n",
              "      <th id=\"T_be995_level0_row14\" class=\"row_heading level0 row14\" >14</th>\n",
              "      <td id=\"T_be995_row14_col0\" class=\"data row14 col0\" >CPU Jobs</td>\n",
              "      <td id=\"T_be995_row14_col1\" class=\"data row14 col1\" >-1</td>\n",
              "    </tr>\n",
              "    <tr>\n",
              "      <th id=\"T_be995_level0_row15\" class=\"row_heading level0 row15\" >15</th>\n",
              "      <td id=\"T_be995_row15_col0\" class=\"data row15 col0\" >Use GPU</td>\n",
              "      <td id=\"T_be995_row15_col1\" class=\"data row15 col1\" >False</td>\n",
              "    </tr>\n",
              "    <tr>\n",
              "      <th id=\"T_be995_level0_row16\" class=\"row_heading level0 row16\" >16</th>\n",
              "      <td id=\"T_be995_row16_col0\" class=\"data row16 col0\" >Log Experiment</td>\n",
              "      <td id=\"T_be995_row16_col1\" class=\"data row16 col1\" >False</td>\n",
              "    </tr>\n",
              "    <tr>\n",
              "      <th id=\"T_be995_level0_row17\" class=\"row_heading level0 row17\" >17</th>\n",
              "      <td id=\"T_be995_row17_col0\" class=\"data row17 col0\" >Experiment Name</td>\n",
              "      <td id=\"T_be995_row17_col1\" class=\"data row17 col1\" >clf-default-name</td>\n",
              "    </tr>\n",
              "    <tr>\n",
              "      <th id=\"T_be995_level0_row18\" class=\"row_heading level0 row18\" >18</th>\n",
              "      <td id=\"T_be995_row18_col0\" class=\"data row18 col0\" >USI</td>\n",
              "      <td id=\"T_be995_row18_col1\" class=\"data row18 col1\" >ed75</td>\n",
              "    </tr>\n",
              "  </tbody>\n",
              "</table>\n"
            ]
          },
          "metadata": {}
        }
      ]
    },
    {
      "cell_type": "code",
      "source": [
        "# Avaliando os modelos ordenados pelo F1-score\n",
        "best = compare_models(sort = 'F1' )"
      ],
      "metadata": {
        "colab": {
          "base_uri": "https://localhost:8080/",
          "referenced_widgets": [
            "36827dfda2584856ba64824a5723dc52",
            "aa32b734238e463d9c0136fb7b541ea8",
            "c6e9feb9533447289d39d64576b40aca",
            "11922afb2fb24ebcb6e9aa4eec175a9d",
            "39dab00c8d504bc08aba2c64cdae027a",
            "bf6a1ec3cd174ee69ffa200224c5e0fc",
            "478b8fcae5cc49f4952189dd1aef6940",
            "f0b92f5f415945abbc8ba68b750002b6",
            "d018c0fb84ad43ae8665962859da8324",
            "2d9727ad2b824d2db50ea2c78819b0c9",
            "6abc2713fa3b4f5687aef968e65c1bf4"
          ],
          "height": 519
        },
        "id": "oncZPxsDPryw",
        "outputId": "da58949f-95e2-46de-cd66-a03db9e16720"
      },
      "execution_count": 152,
      "outputs": [
        {
          "output_type": "display_data",
          "data": {
            "text/plain": [
              "<IPython.core.display.HTML object>"
            ],
            "text/html": []
          },
          "metadata": {}
        },
        {
          "output_type": "display_data",
          "data": {
            "text/plain": [
              "<pandas.io.formats.style.Styler at 0x7f2fb83be7a0>"
            ],
            "text/html": [
              "<style type=\"text/css\">\n",
              "#T_43146 th {\n",
              "  text-align: left;\n",
              "}\n",
              "#T_43146_row0_col0, #T_43146_row1_col0, #T_43146_row1_col1, #T_43146_row1_col2, #T_43146_row1_col3, #T_43146_row1_col4, #T_43146_row1_col5, #T_43146_row1_col6, #T_43146_row1_col7, #T_43146_row2_col0, #T_43146_row2_col1, #T_43146_row2_col2, #T_43146_row2_col3, #T_43146_row2_col4, #T_43146_row2_col5, #T_43146_row2_col6, #T_43146_row2_col7, #T_43146_row3_col0, #T_43146_row3_col1, #T_43146_row3_col2, #T_43146_row3_col3, #T_43146_row3_col4, #T_43146_row3_col5, #T_43146_row3_col6, #T_43146_row3_col7, #T_43146_row4_col0, #T_43146_row4_col1, #T_43146_row4_col2, #T_43146_row4_col3, #T_43146_row4_col4, #T_43146_row4_col5, #T_43146_row4_col6, #T_43146_row4_col7, #T_43146_row5_col0, #T_43146_row5_col1, #T_43146_row5_col2, #T_43146_row5_col3, #T_43146_row5_col4, #T_43146_row5_col5, #T_43146_row5_col6, #T_43146_row5_col7, #T_43146_row6_col0, #T_43146_row6_col1, #T_43146_row6_col2, #T_43146_row6_col3, #T_43146_row6_col4, #T_43146_row6_col5, #T_43146_row6_col6, #T_43146_row6_col7, #T_43146_row7_col0, #T_43146_row7_col1, #T_43146_row7_col2, #T_43146_row7_col3, #T_43146_row7_col4, #T_43146_row7_col5, #T_43146_row7_col6, #T_43146_row7_col7, #T_43146_row8_col0, #T_43146_row8_col1, #T_43146_row8_col2, #T_43146_row8_col3, #T_43146_row8_col4, #T_43146_row8_col5, #T_43146_row8_col6, #T_43146_row8_col7, #T_43146_row9_col0, #T_43146_row9_col1, #T_43146_row9_col2, #T_43146_row9_col3, #T_43146_row9_col4, #T_43146_row9_col5, #T_43146_row9_col6, #T_43146_row9_col7, #T_43146_row10_col0, #T_43146_row10_col1, #T_43146_row10_col2, #T_43146_row10_col3, #T_43146_row10_col4, #T_43146_row10_col5, #T_43146_row10_col6, #T_43146_row10_col7, #T_43146_row11_col0, #T_43146_row11_col1, #T_43146_row11_col2, #T_43146_row11_col3, #T_43146_row11_col4, #T_43146_row11_col5, #T_43146_row11_col6, #T_43146_row11_col7, #T_43146_row12_col0, #T_43146_row12_col1, #T_43146_row12_col2, #T_43146_row12_col3, #T_43146_row12_col4, #T_43146_row12_col5, #T_43146_row12_col6, #T_43146_row12_col7, #T_43146_row13_col0, #T_43146_row13_col1, #T_43146_row13_col2, #T_43146_row13_col3, #T_43146_row13_col4, #T_43146_row13_col5, #T_43146_row13_col6, #T_43146_row13_col7, #T_43146_row14_col0, #T_43146_row14_col1, #T_43146_row14_col2, #T_43146_row14_col3, #T_43146_row14_col4, #T_43146_row14_col5, #T_43146_row14_col6, #T_43146_row14_col7 {\n",
              "  text-align: left;\n",
              "}\n",
              "#T_43146_row0_col1, #T_43146_row0_col2, #T_43146_row0_col3, #T_43146_row0_col4, #T_43146_row0_col5, #T_43146_row0_col6, #T_43146_row0_col7 {\n",
              "  text-align: left;\n",
              "  background-color: yellow;\n",
              "}\n",
              "#T_43146_row0_col8, #T_43146_row1_col8, #T_43146_row2_col8, #T_43146_row3_col8, #T_43146_row4_col8, #T_43146_row5_col8, #T_43146_row6_col8, #T_43146_row7_col8, #T_43146_row8_col8, #T_43146_row9_col8, #T_43146_row10_col8, #T_43146_row11_col8, #T_43146_row12_col8, #T_43146_row13_col8 {\n",
              "  text-align: left;\n",
              "  background-color: lightgrey;\n",
              "}\n",
              "#T_43146_row14_col8 {\n",
              "  text-align: left;\n",
              "  background-color: yellow;\n",
              "  background-color: lightgrey;\n",
              "}\n",
              "</style>\n",
              "<table id=\"T_43146\" class=\"dataframe\">\n",
              "  <thead>\n",
              "    <tr>\n",
              "      <th class=\"blank level0\" >&nbsp;</th>\n",
              "      <th id=\"T_43146_level0_col0\" class=\"col_heading level0 col0\" >Model</th>\n",
              "      <th id=\"T_43146_level0_col1\" class=\"col_heading level0 col1\" >Accuracy</th>\n",
              "      <th id=\"T_43146_level0_col2\" class=\"col_heading level0 col2\" >AUC</th>\n",
              "      <th id=\"T_43146_level0_col3\" class=\"col_heading level0 col3\" >Recall</th>\n",
              "      <th id=\"T_43146_level0_col4\" class=\"col_heading level0 col4\" >Prec.</th>\n",
              "      <th id=\"T_43146_level0_col5\" class=\"col_heading level0 col5\" >F1</th>\n",
              "      <th id=\"T_43146_level0_col6\" class=\"col_heading level0 col6\" >Kappa</th>\n",
              "      <th id=\"T_43146_level0_col7\" class=\"col_heading level0 col7\" >MCC</th>\n",
              "      <th id=\"T_43146_level0_col8\" class=\"col_heading level0 col8\" >TT (Sec)</th>\n",
              "    </tr>\n",
              "  </thead>\n",
              "  <tbody>\n",
              "    <tr>\n",
              "      <th id=\"T_43146_level0_row0\" class=\"row_heading level0 row0\" >et</th>\n",
              "      <td id=\"T_43146_row0_col0\" class=\"data row0 col0\" >Extra Trees Classifier</td>\n",
              "      <td id=\"T_43146_row0_col1\" class=\"data row0 col1\" >0.9679</td>\n",
              "      <td id=\"T_43146_row0_col2\" class=\"data row0 col2\" >0.9965</td>\n",
              "      <td id=\"T_43146_row0_col3\" class=\"data row0 col3\" >0.9428</td>\n",
              "      <td id=\"T_43146_row0_col4\" class=\"data row0 col4\" >0.9928</td>\n",
              "      <td id=\"T_43146_row0_col5\" class=\"data row0 col5\" >0.9670</td>\n",
              "      <td id=\"T_43146_row0_col6\" class=\"data row0 col6\" >0.9358</td>\n",
              "      <td id=\"T_43146_row0_col7\" class=\"data row0 col7\" >0.9372</td>\n",
              "      <td id=\"T_43146_row0_col8\" class=\"data row0 col8\" >0.8600</td>\n",
              "    </tr>\n",
              "    <tr>\n",
              "      <th id=\"T_43146_level0_row1\" class=\"row_heading level0 row1\" >rf</th>\n",
              "      <td id=\"T_43146_row1_col0\" class=\"data row1 col0\" >Random Forest Classifier</td>\n",
              "      <td id=\"T_43146_row1_col1\" class=\"data row1 col1\" >0.9579</td>\n",
              "      <td id=\"T_43146_row1_col2\" class=\"data row1 col2\" >0.9917</td>\n",
              "      <td id=\"T_43146_row1_col3\" class=\"data row1 col3\" >0.9400</td>\n",
              "      <td id=\"T_43146_row1_col4\" class=\"data row1 col4\" >0.9753</td>\n",
              "      <td id=\"T_43146_row1_col5\" class=\"data row1 col5\" >0.9571</td>\n",
              "      <td id=\"T_43146_row1_col6\" class=\"data row1 col6\" >0.9158</td>\n",
              "      <td id=\"T_43146_row1_col7\" class=\"data row1 col7\" >0.9168</td>\n",
              "      <td id=\"T_43146_row1_col8\" class=\"data row1 col8\" >1.4435</td>\n",
              "    </tr>\n",
              "    <tr>\n",
              "      <th id=\"T_43146_level0_row2\" class=\"row_heading level0 row2\" >xgboost</th>\n",
              "      <td id=\"T_43146_row2_col0\" class=\"data row2 col0\" >Extreme Gradient Boosting</td>\n",
              "      <td id=\"T_43146_row2_col1\" class=\"data row2 col1\" >0.9532</td>\n",
              "      <td id=\"T_43146_row2_col2\" class=\"data row2 col2\" >0.9890</td>\n",
              "      <td id=\"T_43146_row2_col3\" class=\"data row2 col3\" >0.9353</td>\n",
              "      <td id=\"T_43146_row2_col4\" class=\"data row2 col4\" >0.9704</td>\n",
              "      <td id=\"T_43146_row2_col5\" class=\"data row2 col5\" >0.9523</td>\n",
              "      <td id=\"T_43146_row2_col6\" class=\"data row2 col6\" >0.9065</td>\n",
              "      <td id=\"T_43146_row2_col7\" class=\"data row2 col7\" >0.9074</td>\n",
              "      <td id=\"T_43146_row2_col8\" class=\"data row2 col8\" >0.9730</td>\n",
              "    </tr>\n",
              "    <tr>\n",
              "      <th id=\"T_43146_level0_row3\" class=\"row_heading level0 row3\" >lightgbm</th>\n",
              "      <td id=\"T_43146_row3_col0\" class=\"data row3 col0\" >Light Gradient Boosting Machine</td>\n",
              "      <td id=\"T_43146_row3_col1\" class=\"data row3 col1\" >0.9523</td>\n",
              "      <td id=\"T_43146_row3_col2\" class=\"data row3 col2\" >0.9887</td>\n",
              "      <td id=\"T_43146_row3_col3\" class=\"data row3 col3\" >0.9325</td>\n",
              "      <td id=\"T_43146_row3_col4\" class=\"data row3 col4\" >0.9711</td>\n",
              "      <td id=\"T_43146_row3_col5\" class=\"data row3 col5\" >0.9513</td>\n",
              "      <td id=\"T_43146_row3_col6\" class=\"data row3 col6\" >0.9046</td>\n",
              "      <td id=\"T_43146_row3_col7\" class=\"data row3 col7\" >0.9056</td>\n",
              "      <td id=\"T_43146_row3_col8\" class=\"data row3 col8\" >0.5365</td>\n",
              "    </tr>\n",
              "    <tr>\n",
              "      <th id=\"T_43146_level0_row4\" class=\"row_heading level0 row4\" >gbc</th>\n",
              "      <td id=\"T_43146_row4_col0\" class=\"data row4 col0\" >Gradient Boosting Classifier</td>\n",
              "      <td id=\"T_43146_row4_col1\" class=\"data row4 col1\" >0.9183</td>\n",
              "      <td id=\"T_43146_row4_col2\" class=\"data row4 col2\" >0.9714</td>\n",
              "      <td id=\"T_43146_row4_col3\" class=\"data row4 col3\" >0.8963</td>\n",
              "      <td id=\"T_43146_row4_col4\" class=\"data row4 col4\" >0.9380</td>\n",
              "      <td id=\"T_43146_row4_col5\" class=\"data row4 col5\" >0.9164</td>\n",
              "      <td id=\"T_43146_row4_col6\" class=\"data row4 col6\" >0.8366</td>\n",
              "      <td id=\"T_43146_row4_col7\" class=\"data row4 col7\" >0.8378</td>\n",
              "      <td id=\"T_43146_row4_col8\" class=\"data row4 col8\" >1.4085</td>\n",
              "    </tr>\n",
              "    <tr>\n",
              "      <th id=\"T_43146_level0_row5\" class=\"row_heading level0 row5\" >dt</th>\n",
              "      <td id=\"T_43146_row5_col0\" class=\"data row5 col0\" >Decision Tree Classifier</td>\n",
              "      <td id=\"T_43146_row5_col1\" class=\"data row5 col1\" >0.8960</td>\n",
              "      <td id=\"T_43146_row5_col2\" class=\"data row5 col2\" >0.8960</td>\n",
              "      <td id=\"T_43146_row5_col3\" class=\"data row5 col3\" >0.8884</td>\n",
              "      <td id=\"T_43146_row5_col4\" class=\"data row5 col4\" >0.9033</td>\n",
              "      <td id=\"T_43146_row5_col5\" class=\"data row5 col5\" >0.8954</td>\n",
              "      <td id=\"T_43146_row5_col6\" class=\"data row5 col6\" >0.7920</td>\n",
              "      <td id=\"T_43146_row5_col7\" class=\"data row5 col7\" >0.7928</td>\n",
              "      <td id=\"T_43146_row5_col8\" class=\"data row5 col8\" >0.2450</td>\n",
              "    </tr>\n",
              "    <tr>\n",
              "      <th id=\"T_43146_level0_row6\" class=\"row_heading level0 row6\" >ada</th>\n",
              "      <td id=\"T_43146_row6_col0\" class=\"data row6 col0\" >Ada Boost Classifier</td>\n",
              "      <td id=\"T_43146_row6_col1\" class=\"data row6 col1\" >0.8883</td>\n",
              "      <td id=\"T_43146_row6_col2\" class=\"data row6 col2\" >0.9538</td>\n",
              "      <td id=\"T_43146_row6_col3\" class=\"data row6 col3\" >0.8660</td>\n",
              "      <td id=\"T_43146_row6_col4\" class=\"data row6 col4\" >0.9067</td>\n",
              "      <td id=\"T_43146_row6_col5\" class=\"data row6 col5\" >0.8856</td>\n",
              "      <td id=\"T_43146_row6_col6\" class=\"data row6 col6\" >0.7766</td>\n",
              "      <td id=\"T_43146_row6_col7\" class=\"data row6 col7\" >0.7778</td>\n",
              "      <td id=\"T_43146_row6_col8\" class=\"data row6 col8\" >0.5905</td>\n",
              "    </tr>\n",
              "    <tr>\n",
              "      <th id=\"T_43146_level0_row7\" class=\"row_heading level0 row7\" >qda</th>\n",
              "      <td id=\"T_43146_row7_col0\" class=\"data row7 col0\" >Quadratic Discriminant Analysis</td>\n",
              "      <td id=\"T_43146_row7_col1\" class=\"data row7 col1\" >0.8175</td>\n",
              "      <td id=\"T_43146_row7_col2\" class=\"data row7 col2\" >0.8959</td>\n",
              "      <td id=\"T_43146_row7_col3\" class=\"data row7 col3\" >0.7372</td>\n",
              "      <td id=\"T_43146_row7_col4\" class=\"data row7 col4\" >0.8793</td>\n",
              "      <td id=\"T_43146_row7_col5\" class=\"data row7 col5\" >0.8013</td>\n",
              "      <td id=\"T_43146_row7_col6\" class=\"data row7 col6\" >0.6352</td>\n",
              "      <td id=\"T_43146_row7_col7\" class=\"data row7 col7\" >0.6443</td>\n",
              "      <td id=\"T_43146_row7_col8\" class=\"data row7 col8\" >0.1470</td>\n",
              "    </tr>\n",
              "    <tr>\n",
              "      <th id=\"T_43146_level0_row8\" class=\"row_heading level0 row8\" >ridge</th>\n",
              "      <td id=\"T_43146_row8_col0\" class=\"data row8 col0\" >Ridge Classifier</td>\n",
              "      <td id=\"T_43146_row8_col1\" class=\"data row8 col1\" >0.8187</td>\n",
              "      <td id=\"T_43146_row8_col2\" class=\"data row8 col2\" >0.0000</td>\n",
              "      <td id=\"T_43146_row8_col3\" class=\"data row8 col3\" >0.7194</td>\n",
              "      <td id=\"T_43146_row8_col4\" class=\"data row8 col4\" >0.8982</td>\n",
              "      <td id=\"T_43146_row8_col5\" class=\"data row8 col5\" >0.7986</td>\n",
              "      <td id=\"T_43146_row8_col6\" class=\"data row8 col6\" >0.6375</td>\n",
              "      <td id=\"T_43146_row8_col7\" class=\"data row8 col7\" >0.6508</td>\n",
              "      <td id=\"T_43146_row8_col8\" class=\"data row8 col8\" >0.1980</td>\n",
              "    </tr>\n",
              "    <tr>\n",
              "      <th id=\"T_43146_level0_row9\" class=\"row_heading level0 row9\" >lda</th>\n",
              "      <td id=\"T_43146_row9_col0\" class=\"data row9 col0\" >Linear Discriminant Analysis</td>\n",
              "      <td id=\"T_43146_row9_col1\" class=\"data row9 col1\" >0.8183</td>\n",
              "      <td id=\"T_43146_row9_col2\" class=\"data row9 col2\" >0.9064</td>\n",
              "      <td id=\"T_43146_row9_col3\" class=\"data row9 col3\" >0.7176</td>\n",
              "      <td id=\"T_43146_row9_col4\" class=\"data row9 col4\" >0.8990</td>\n",
              "      <td id=\"T_43146_row9_col5\" class=\"data row9 col5\" >0.7978</td>\n",
              "      <td id=\"T_43146_row9_col6\" class=\"data row9 col6\" >0.6365</td>\n",
              "      <td id=\"T_43146_row9_col7\" class=\"data row9 col7\" >0.6502</td>\n",
              "      <td id=\"T_43146_row9_col8\" class=\"data row9 col8\" >0.1405</td>\n",
              "    </tr>\n",
              "    <tr>\n",
              "      <th id=\"T_43146_level0_row10\" class=\"row_heading level0 row10\" >knn</th>\n",
              "      <td id=\"T_43146_row10_col0\" class=\"data row10 col0\" >K Neighbors Classifier</td>\n",
              "      <td id=\"T_43146_row10_col1\" class=\"data row10 col1\" >0.7091</td>\n",
              "      <td id=\"T_43146_row10_col2\" class=\"data row10 col2\" >0.7749</td>\n",
              "      <td id=\"T_43146_row10_col3\" class=\"data row10 col3\" >0.7408</td>\n",
              "      <td id=\"T_43146_row10_col4\" class=\"data row10 col4\" >0.6975</td>\n",
              "      <td id=\"T_43146_row10_col5\" class=\"data row10 col5\" >0.7180</td>\n",
              "      <td id=\"T_43146_row10_col6\" class=\"data row10 col6\" >0.4182</td>\n",
              "      <td id=\"T_43146_row10_col7\" class=\"data row10 col7\" >0.4197</td>\n",
              "      <td id=\"T_43146_row10_col8\" class=\"data row10 col8\" >0.3195</td>\n",
              "    </tr>\n",
              "    <tr>\n",
              "      <th id=\"T_43146_level0_row11\" class=\"row_heading level0 row11\" >lr</th>\n",
              "      <td id=\"T_43146_row11_col0\" class=\"data row11 col0\" >Logistic Regression</td>\n",
              "      <td id=\"T_43146_row11_col1\" class=\"data row11 col1\" >0.6486</td>\n",
              "      <td id=\"T_43146_row11_col2\" class=\"data row11 col2\" >0.6999</td>\n",
              "      <td id=\"T_43146_row11_col3\" class=\"data row11 col3\" >0.7110</td>\n",
              "      <td id=\"T_43146_row11_col4\" class=\"data row11 col4\" >0.6328</td>\n",
              "      <td id=\"T_43146_row11_col5\" class=\"data row11 col5\" >0.6691</td>\n",
              "      <td id=\"T_43146_row11_col6\" class=\"data row11 col6\" >0.2972</td>\n",
              "      <td id=\"T_43146_row11_col7\" class=\"data row11 col7\" >0.3001</td>\n",
              "      <td id=\"T_43146_row11_col8\" class=\"data row11 col8\" >0.1905</td>\n",
              "    </tr>\n",
              "    <tr>\n",
              "      <th id=\"T_43146_level0_row12\" class=\"row_heading level0 row12\" >nb</th>\n",
              "      <td id=\"T_43146_row12_col0\" class=\"data row12 col0\" >Naive Bayes</td>\n",
              "      <td id=\"T_43146_row12_col1\" class=\"data row12 col1\" >0.6197</td>\n",
              "      <td id=\"T_43146_row12_col2\" class=\"data row12 col2\" >0.7021</td>\n",
              "      <td id=\"T_43146_row12_col3\" class=\"data row12 col3\" >0.4310</td>\n",
              "      <td id=\"T_43146_row12_col4\" class=\"data row12 col4\" >0.6927</td>\n",
              "      <td id=\"T_43146_row12_col5\" class=\"data row12 col5\" >0.5300</td>\n",
              "      <td id=\"T_43146_row12_col6\" class=\"data row12 col6\" >0.2396</td>\n",
              "      <td id=\"T_43146_row12_col7\" class=\"data row12 col7\" >0.2590</td>\n",
              "      <td id=\"T_43146_row12_col8\" class=\"data row12 col8\" >0.2820</td>\n",
              "    </tr>\n",
              "    <tr>\n",
              "      <th id=\"T_43146_level0_row13\" class=\"row_heading level0 row13\" >svm</th>\n",
              "      <td id=\"T_43146_row13_col0\" class=\"data row13 col0\" >SVM - Linear Kernel</td>\n",
              "      <td id=\"T_43146_row13_col1\" class=\"data row13 col1\" >0.5020</td>\n",
              "      <td id=\"T_43146_row13_col2\" class=\"data row13 col2\" >0.0000</td>\n",
              "      <td id=\"T_43146_row13_col3\" class=\"data row13 col3\" >0.5809</td>\n",
              "      <td id=\"T_43146_row13_col4\" class=\"data row13 col4\" >0.3520</td>\n",
              "      <td id=\"T_43146_row13_col5\" class=\"data row13 col5\" >0.4071</td>\n",
              "      <td id=\"T_43146_row13_col6\" class=\"data row13 col6\" >0.0056</td>\n",
              "      <td id=\"T_43146_row13_col7\" class=\"data row13 col7\" >0.0077</td>\n",
              "      <td id=\"T_43146_row13_col8\" class=\"data row13 col8\" >0.4365</td>\n",
              "    </tr>\n",
              "    <tr>\n",
              "      <th id=\"T_43146_level0_row14\" class=\"row_heading level0 row14\" >dummy</th>\n",
              "      <td id=\"T_43146_row14_col0\" class=\"data row14 col0\" >Dummy Classifier</td>\n",
              "      <td id=\"T_43146_row14_col1\" class=\"data row14 col1\" >0.4980</td>\n",
              "      <td id=\"T_43146_row14_col2\" class=\"data row14 col2\" >0.5000</td>\n",
              "      <td id=\"T_43146_row14_col3\" class=\"data row14 col3\" >0.5500</td>\n",
              "      <td id=\"T_43146_row14_col4\" class=\"data row14 col4\" >0.2741</td>\n",
              "      <td id=\"T_43146_row14_col5\" class=\"data row14 col5\" >0.3658</td>\n",
              "      <td id=\"T_43146_row14_col6\" class=\"data row14 col6\" >0.0000</td>\n",
              "      <td id=\"T_43146_row14_col7\" class=\"data row14 col7\" >0.0000</td>\n",
              "      <td id=\"T_43146_row14_col8\" class=\"data row14 col8\" >0.1370</td>\n",
              "    </tr>\n",
              "  </tbody>\n",
              "</table>\n"
            ]
          },
          "metadata": {}
        },
        {
          "output_type": "display_data",
          "data": {
            "text/plain": [
              "Processing:   0%|          | 0/65 [00:00<?, ?it/s]"
            ],
            "application/vnd.jupyter.widget-view+json": {
              "version_major": 2,
              "version_minor": 0,
              "model_id": "36827dfda2584856ba64824a5723dc52"
            }
          },
          "metadata": {
            "application/vnd.jupyter.widget-view+json": {
              "colab": {
                "custom_widget_manager": {
                  "url": "https://ssl.gstatic.com/colaboratory-static/widgets/colab-cdn-widget-manager/b3e629b1971e1542/manager.min.js"
                }
              }
            }
          }
        },
        {
          "output_type": "display_data",
          "data": {
            "text/plain": [
              "<IPython.core.display.HTML object>"
            ],
            "text/html": []
          },
          "metadata": {}
        }
      ]
    },
    {
      "cell_type": "code",
      "source": [
        "# Criando uma matriz de confusão para avaliar o desempenho do melhor modelo\n",
        "plot_model(best, plot = 'confusion_matrix')"
      ],
      "metadata": {
        "colab": {
          "base_uri": "https://localhost:8080/",
          "height": 551
        },
        "id": "ToaluFOsPush",
        "outputId": "b22e60a9-1d89-4306-f49b-cf4bc2c029d4"
      },
      "execution_count": 153,
      "outputs": [
        {
          "output_type": "display_data",
          "data": {
            "text/plain": [
              "<IPython.core.display.HTML object>"
            ],
            "text/html": []
          },
          "metadata": {}
        },
        {
          "output_type": "display_data",
          "data": {
            "text/plain": [
              "<Figure size 800x550 with 1 Axes>"
            ],
            "image/png": "[encoded data removed]"
          },
          "metadata": {}
        }
      ]
    },
    {
      "cell_type": "code",
      "source": [
        "# Observando as métricas do modelo\n",
        "predict_model(best)"
      ],
      "metadata": {
        "colab": {
          "base_uri": "https://localhost:8080/",
          "height": 569
        },
        "id": "gSQOfuAwd_bF",
        "outputId": "b7b4c7e0-a0c8-45de-f3c8-e59a30ec5466"
      },
      "execution_count": 154,
      "outputs": [
        {
          "output_type": "display_data",
          "data": {
            "text/plain": [
              "<pandas.io.formats.style.Styler at 0x7f2fb560c400>"
            ],
            "text/html": [
              "<style type=\"text/css\">\n",
              "</style>\n",
              "<table id=\"T_52176\" class=\"dataframe\">\n",
              "  <thead>\n",
              "    <tr>\n",
              "      <th class=\"blank level0\" >&nbsp;</th>\n",
              "      <th id=\"T_52176_level0_col0\" class=\"col_heading level0 col0\" >Model</th>\n",
              "      <th id=\"T_52176_level0_col1\" class=\"col_heading level0 col1\" >Accuracy</th>\n",
              "      <th id=\"T_52176_level0_col2\" class=\"col_heading level0 col2\" >AUC</th>\n",
              "      <th id=\"T_52176_level0_col3\" class=\"col_heading level0 col3\" >Recall</th>\n",
              "      <th id=\"T_52176_level0_col4\" class=\"col_heading level0 col4\" >Prec.</th>\n",
              "      <th id=\"T_52176_level0_col5\" class=\"col_heading level0 col5\" >F1</th>\n",
              "      <th id=\"T_52176_level0_col6\" class=\"col_heading level0 col6\" >Kappa</th>\n",
              "      <th id=\"T_52176_level0_col7\" class=\"col_heading level0 col7\" >MCC</th>\n",
              "    </tr>\n",
              "  </thead>\n",
              "  <tbody>\n",
              "    <tr>\n",
              "      <th id=\"T_52176_level0_row0\" class=\"row_heading level0 row0\" >0</th>\n",
              "      <td id=\"T_52176_row0_col0\" class=\"data row0 col0\" >Extra Trees Classifier</td>\n",
              "      <td id=\"T_52176_row0_col1\" class=\"data row0 col1\" >0.9637</td>\n",
              "      <td id=\"T_52176_row0_col2\" class=\"data row0 col2\" >0.9962</td>\n",
              "      <td id=\"T_52176_row0_col3\" class=\"data row0 col3\" >0.9348</td>\n",
              "      <td id=\"T_52176_row0_col4\" class=\"data row0 col4\" >0.9921</td>\n",
              "      <td id=\"T_52176_row0_col5\" class=\"data row0 col5\" >0.9626</td>\n",
              "      <td id=\"T_52176_row0_col6\" class=\"data row0 col6\" >0.9274</td>\n",
              "      <td id=\"T_52176_row0_col7\" class=\"data row0 col7\" >0.9290</td>\n",
              "    </tr>\n",
              "  </tbody>\n",
              "</table>\n"
            ]
          },
          "metadata": {}
        },
        {
          "output_type": "execute_result",
          "data": {
            "text/plain": [
              "       Atrasos    Empréstimo  Finalidade   LC-Atual  LC-Recente  Negativos  \\\n",
              "2692  0.000000  78186.000000           0  19.000000    0.000000   1.000000   \n",
              "1424  0.000000  37994.000000           0  14.000000    0.000000   0.000000   \n",
              "3268  0.000000  48670.000000           1  26.000000    0.000000   0.000000   \n",
              "2792  0.000000  63114.000000           0  38.000000    2.000000   0.000000   \n",
              "1551  0.000000  30772.000000           0  37.000000    1.000000   0.000000   \n",
              "...        ...           ...         ...        ...         ...        ...   \n",
              "4657  0.473455  69544.031250           0  21.053091    1.053090   0.000000   \n",
              "4400  0.000000  57113.332031           0  19.404825    1.926395   2.889593   \n",
              "4439  0.000000  47672.093750           0  32.550739    2.271218   0.000000   \n",
              "2847  0.000000  59974.000000           0  15.000000    3.000000   0.000000   \n",
              "5074  0.000000  33103.226562           0  30.667107    5.863576   0.000000   \n",
              "\n",
              "            RDS  TempoCliente  TempoEmprego     ValorDoBem  \\\n",
              "2692  34.299999    203.500000      7.500000  532054.187500   \n",
              "1424  28.500000    177.699997      3.750000  208527.406250   \n",
              "3268  25.600000    293.899994      6.750000  544997.250000   \n",
              "2792  38.700001    229.500000     21.000000  296036.062500   \n",
              "1551  19.299999    242.500000      0.000000  350307.812500   \n",
              "...         ...           ...           ...            ...   \n",
              "4657  35.054752    141.644409      7.089640  338508.468750   \n",
              "4400  36.561298    105.733635      0.377224  280837.843750   \n",
              "4439  43.434978    250.316864      1.688515  335260.656250   \n",
              "2847  42.200001    101.699997      7.000000  208706.375000   \n",
              "5074  34.672955    191.600876      5.378588  224134.921875   \n",
              "\n",
              "      emprego_Comissionado  emprego_Geral  emprego_Gerente  emprego_Outros  \\\n",
              "2692                     0              0                0               1   \n",
              "1424                     0              0                0               1   \n",
              "3268                     0              0                0               0   \n",
              "2792                     0              0                0               1   \n",
              "1551                     0              1                0               0   \n",
              "...                    ...            ...              ...             ...   \n",
              "4657                     0              0                0               0   \n",
              "4400                     0              0                0               0   \n",
              "4439                     0              0                0               0   \n",
              "2847                     0              0                0               1   \n",
              "5074                     0              0                0               0   \n",
              "\n",
              "      emprego_Professional  Cliente  prediction_label  prediction_score  \n",
              "2692                     0        0                 0              0.90  \n",
              "1424                     0        0                 0              0.90  \n",
              "3268                     0        0                 0              0.97  \n",
              "2792                     0        0                 0              0.97  \n",
              "1551                     0        0                 0              0.98  \n",
              "...                    ...      ...               ...               ...  \n",
              "4657                     1        1                 0              0.63  \n",
              "4400                     0        1                 1              0.99  \n",
              "4439                     0        1                 1              0.87  \n",
              "2847                     0        0                 0              0.91  \n",
              "5074                     0        1                 1              0.98  \n",
              "\n",
              "[1075 rows x 18 columns]"
            ],
            "text/html": [
              "\n",
              "  <div id=\"df-2dcb72d4-0ee8-4c63-916e-75337dc5daad\">\n",
              "    <div class=\"colab-df-container\">\n",
              "      <div>\n",
              "<style scoped>\n",
              "    .dataframe tbody tr th:only-of-type {\n",
              "        vertical-align: middle;\n",
              "    }\n",
              "\n",
              "    .dataframe tbody tr th {\n",
              "        vertical-align: top;\n",
              "    }\n",
              "\n",
              "    .dataframe thead th {\n",
              "        text-align: right;\n",
              "    }\n",
              "</style>\n",
              "<table border=\"1\" class=\"dataframe\">\n",
              "  <thead>\n",
              "    <tr style=\"text-align: right;\">\n",
              "      <th></th>\n",
              "      <th>Atrasos</th>\n",
              "      <th>Empréstimo</th>\n",
              "      <th>Finalidade</th>\n",
              "      <th>LC-Atual</th>\n",
              "      <th>LC-Recente</th>\n",
              "      <th>Negativos</th>\n",
              "      <th>RDS</th>\n",
              "      <th>TempoCliente</th>\n",
              "      <th>TempoEmprego</th>\n",
              "      <th>ValorDoBem</th>\n",
              "      <th>emprego_Comissionado</th>\n",
              "      <th>emprego_Geral</th>\n",
              "      <th>emprego_Gerente</th>\n",
              "      <th>emprego_Outros</th>\n",
              "      <th>emprego_Professional</th>\n",
              "      <th>Cliente</th>\n",
              "      <th>prediction_label</th>\n",
              "      <th>prediction_score</th>\n",
              "    </tr>\n",
              "  </thead>\n",
              "  <tbody>\n",
              "    <tr>\n",
              "      <th>2692</th>\n",
              "      <td>0.000000</td>\n",
              "      <td>78186.000000</td>\n",
              "      <td>0</td>\n",
              "      <td>19.000000</td>\n",
              "      <td>0.000000</td>\n",
              "      <td>1.000000</td>\n",
              "      <td>34.299999</td>\n",
              "      <td>203.500000</td>\n",
              "      <td>7.500000</td>\n",
              "      <td>532054.187500</td>\n",
              "      <td>0</td>\n",
              "      <td>0</td>\n",
              "      <td>0</td>\n",
              "      <td>1</td>\n",
              "      <td>0</td>\n",
              "      <td>0</td>\n",
              "      <td>0</td>\n",
              "      <td>0.90</td>\n",
              "    </tr>\n",
              "    <tr>\n",
              "      <th>1424</th>\n",
              "      <td>0.000000</td>\n",
              "      <td>37994.000000</td>\n",
              "      <td>0</td>\n",
              "      <td>14.000000</td>\n",
              "      <td>0.000000</td>\n",
              "      <td>0.000000</td>\n",
              "      <td>28.500000</td>\n",
              "      <td>177.699997</td>\n",
              "      <td>3.750000</td>\n",
              "      <td>208527.406250</td>\n",
              "      <td>0</td>\n",
              "      <td>0</td>\n",
              "      <td>0</td>\n",
              "      <td>1</td>\n",
              "      <td>0</td>\n",
              "      <td>0</td>\n",
              "      <td>0</td>\n",
              "      <td>0.90</td>\n",
              "    </tr>\n",
              "    <tr>\n",
              "      <th>3268</th>\n",
              "      <td>0.000000</td>\n",
              "      <td>48670.000000</td>\n",
              "      <td>1</td>\n",
              "      <td>26.000000</td>\n",
              "      <td>0.000000</td>\n",
              "      <td>0.000000</td>\n",
              "      <td>25.600000</td>\n",
              "      <td>293.899994</td>\n",
              "      <td>6.750000</td>\n",
              "      <td>544997.250000</td>\n",
              "      <td>0</td>\n",
              "      <td>0</td>\n",
              "      <td>0</td>\n",
              "      <td>0</td>\n",
              "      <td>0</td>\n",
              "      <td>0</td>\n",
              "      <td>0</td>\n",
              "      <td>0.97</td>\n",
              "    </tr>\n",
              "    <tr>\n",
              "      <th>2792</th>\n",
              "      <td>0.000000</td>\n",
              "      <td>63114.000000</td>\n",
              "      <td>0</td>\n",
              "      <td>38.000000</td>\n",
              "      <td>2.000000</td>\n",
              "      <td>0.000000</td>\n",
              "      <td>38.700001</td>\n",
              "      <td>229.500000</td>\n",
              "      <td>21.000000</td>\n",
              "      <td>296036.062500</td>\n",
              "      <td>0</td>\n",
              "      <td>0</td>\n",
              "      <td>0</td>\n",
              "      <td>1</td>\n",
              "      <td>0</td>\n",
              "      <td>0</td>\n",
              "      <td>0</td>\n",
              "      <td>0.97</td>\n",
              "    </tr>\n",
              "    <tr>\n",
              "      <th>1551</th>\n",
              "      <td>0.000000</td>\n",
              "      <td>30772.000000</td>\n",
              "      <td>0</td>\n",
              "      <td>37.000000</td>\n",
              "      <td>1.000000</td>\n",
              "      <td>0.000000</td>\n",
              "      <td>19.299999</td>\n",
              "      <td>242.500000</td>\n",
              "      <td>0.000000</td>\n",
              "      <td>350307.812500</td>\n",
              "      <td>0</td>\n",
              "      <td>1</td>\n",
              "      <td>0</td>\n",
              "      <td>0</td>\n",
              "      <td>0</td>\n",
              "      <td>0</td>\n",
              "      <td>0</td>\n",
              "      <td>0.98</td>\n",
              "    </tr>\n",
              "    <tr>\n",
              "      <th>...</th>\n",
              "      <td>...</td>\n",
              "      <td>...</td>\n",
              "      <td>...</td>\n",
              "      <td>...</td>\n",
              "      <td>...</td>\n",
              "      <td>...</td>\n",
              "      <td>...</td>\n",
              "      <td>...</td>\n",
              "      <td>...</td>\n",
              "      <td>...</td>\n",
              "      <td>...</td>\n",
              "      <td>...</td>\n",
              "      <td>...</td>\n",
              "      <td>...</td>\n",
              "      <td>...</td>\n",
              "      <td>...</td>\n",
              "      <td>...</td>\n",
              "      <td>...</td>\n",
              "    </tr>\n",
              "    <tr>\n",
              "      <th>4657</th>\n",
              "      <td>0.473455</td>\n",
              "      <td>69544.031250</td>\n",
              "      <td>0</td>\n",
              "      <td>21.053091</td>\n",
              "      <td>1.053090</td>\n",
              "      <td>0.000000</td>\n",
              "      <td>35.054752</td>\n",
              "      <td>141.644409</td>\n",
              "      <td>7.089640</td>\n",
              "      <td>338508.468750</td>\n",
              "      <td>0</td>\n",
              "      <td>0</td>\n",
              "      <td>0</td>\n",
              "      <td>0</td>\n",
              "      <td>1</td>\n",
              "      <td>1</td>\n",
              "      <td>0</td>\n",
              "      <td>0.63</td>\n",
              "    </tr>\n",
              "    <tr>\n",
              "      <th>4400</th>\n",
              "      <td>0.000000</td>\n",
              "      <td>57113.332031</td>\n",
              "      <td>0</td>\n",
              "      <td>19.404825</td>\n",
              "      <td>1.926395</td>\n",
              "      <td>2.889593</td>\n",
              "      <td>36.561298</td>\n",
              "      <td>105.733635</td>\n",
              "      <td>0.377224</td>\n",
              "      <td>280837.843750</td>\n",
              "      <td>0</td>\n",
              "      <td>0</td>\n",
              "      <td>0</td>\n",
              "      <td>0</td>\n",
              "      <td>0</td>\n",
              "      <td>1</td>\n",
              "      <td>1</td>\n",
              "      <td>0.99</td>\n",
              "    </tr>\n",
              "    <tr>\n",
              "      <th>4439</th>\n",
              "      <td>0.000000</td>\n",
              "      <td>47672.093750</td>\n",
              "      <td>0</td>\n",
              "      <td>32.550739</td>\n",
              "      <td>2.271218</td>\n",
              "      <td>0.000000</td>\n",
              "      <td>43.434978</td>\n",
              "      <td>250.316864</td>\n",
              "      <td>1.688515</td>\n",
              "      <td>335260.656250</td>\n",
              "      <td>0</td>\n",
              "      <td>0</td>\n",
              "      <td>0</td>\n",
              "      <td>0</td>\n",
              "      <td>0</td>\n",
              "      <td>1</td>\n",
              "      <td>1</td>\n",
              "      <td>0.87</td>\n",
              "    </tr>\n",
              "    <tr>\n",
              "      <th>2847</th>\n",
              "      <td>0.000000</td>\n",
              "      <td>59974.000000</td>\n",
              "      <td>0</td>\n",
              "      <td>15.000000</td>\n",
              "      <td>3.000000</td>\n",
              "      <td>0.000000</td>\n",
              "      <td>42.200001</td>\n",
              "      <td>101.699997</td>\n",
              "      <td>7.000000</td>\n",
              "      <td>208706.375000</td>\n",
              "      <td>0</td>\n",
              "      <td>0</td>\n",
              "      <td>0</td>\n",
              "      <td>1</td>\n",
              "      <td>0</td>\n",
              "      <td>0</td>\n",
              "      <td>0</td>\n",
              "      <td>0.91</td>\n",
              "    </tr>\n",
              "    <tr>\n",
              "      <th>5074</th>\n",
              "      <td>0.000000</td>\n",
              "      <td>33103.226562</td>\n",
              "      <td>0</td>\n",
              "      <td>30.667107</td>\n",
              "      <td>5.863576</td>\n",
              "      <td>0.000000</td>\n",
              "      <td>34.672955</td>\n",
              "      <td>191.600876</td>\n",
              "      <td>5.378588</td>\n",
              "      <td>224134.921875</td>\n",
              "      <td>0</td>\n",
              "      <td>0</td>\n",
              "      <td>0</td>\n",
              "      <td>0</td>\n",
              "      <td>0</td>\n",
              "      <td>1</td>\n",
              "      <td>1</td>\n",
              "      <td>0.98</td>\n",
              "    </tr>\n",
              "  </tbody>\n",
              "</table>\n",
              "<p>1075 rows × 18 columns</p>\n",
              "</div>\n",
              "      <button class=\"colab-df-convert\" onclick=\"convertToInteractive('df-2dcb72d4-0ee8-4c63-916e-75337dc5daad')\"\n",
              "              title=\"Convert this dataframe to an interactive table.\"\n",
              "              style=\"display:none;\">\n",
              "        \n",
              "  <svg xmlns=\"http://www.w3.org/2000/svg\" height=\"24px\"viewBox=\"0 0 24 24\"\n",
              "       width=\"24px\">\n",
              "    <path d=\"M0 0h24v24H0V0z\" fill=\"none\"/>\n",
              "    <path d=\"M18.56 5.44l.94 2.06.94-2.06 2.06-.94-2.06-.94-.94-2.06-.94 2.06-2.06.94zm-11 1L8.5 8.5l.94-2.06 2.06-.94-2.06-.94L8.5 2.5l-.94 2.06-2.06.94zm10 10l.94 2.06.94-2.06 2.06-.94-2.06-.94-.94-2.06-.94 2.06-2.06.94z\"/><path d=\"M17.41 7.96l-1.37-1.37c-.4-.4-.92-.59-1.43-.59-.52 0-1.04.2-1.43.59L10.3 9.45l-7.72 7.72c-.78.78-.78 2.05 0 2.83L4 21.41c.39.39.9.59 1.41.59.51 0 1.02-.2 1.41-.59l7.78-7.78 2.81-2.81c.8-.78.8-2.07 0-2.86zM5.41 20L4 18.59l7.72-7.72 1.47 1.35L5.41 20z\"/>\n",
              "  </svg>\n",
              "      </button>\n",
              "      \n",
              "  <style>\n",
              "    .colab-df-container {\n",
              "      display:flex;\n",
              "      flex-wrap:wrap;\n",
              "      gap: 12px;\n",
              "    }\n",
              "\n",
              "    .colab-df-convert {\n",
              "      background-color: #E8F0FE;\n",
              "      border: none;\n",
              "      border-radius: 50%;\n",
              "      cursor: pointer;\n",
              "      display: none;\n",
              "      fill: #1967D2;\n",
              "      height: 32px;\n",
              "      padding: 0 0 0 0;\n",
              "      width: 32px;\n",
              "    }\n",
              "\n",
              "    .colab-df-convert:hover {\n",
              "      background-color: #E2EBFA;\n",
              "      box-shadow: 0px 1px 2px rgba(60, 64, 67, 0.3), 0px 1px 3px 1px rgba(60, 64, 67, 0.15);\n",
              "      fill: #174EA6;\n",
              "    }\n",
              "\n",
              "    [theme=dark] .colab-df-convert {\n",
              "      background-color: #3B4455;\n",
              "      fill: #D2E3FC;\n",
              "    }\n",
              "\n",
              "    [theme=dark] .colab-df-convert:hover {\n",
              "      background-color: #434B5C;\n",
              "      box-shadow: 0px 1px 3px 1px rgba(0, 0, 0, 0.15);\n",
              "      filter: drop-shadow(0px 1px 2px rgba(0, 0, 0, 0.3));\n",
              "      fill: #FFFFFF;\n",
              "    }\n",
              "  </style>\n",
              "\n",
              "      <script>\n",
              "        const buttonEl =\n",
              "          document.querySelector('#df-2dcb72d4-0ee8-4c63-916e-75337dc5daad button.colab-df-convert');\n",
              "        buttonEl.style.display =\n",
              "          google.colab.kernel.accessAllowed ? 'block' : 'none';\n",
              "\n",
              "        async function convertToInteractive(key) {\n",
              "          const element = document.querySelector('#df-2dcb72d4-0ee8-4c63-916e-75337dc5daad');\n",
              "          const dataTable =\n",
              "            await google.colab.kernel.invokeFunction('convertToInteractive',\n",
              "                                                     [key], {});\n",
              "          if (!dataTable) return;\n",
              "\n",
              "          const docLinkHtml = 'Like what you see? Visit the ' +\n",
              "            '<a target=\"_blank\" href=https://colab.research.google.com/notebooks/data_table.ipynb>data table notebook</a>'\n",
              "            + ' to learn more about interactive tables.';\n",
              "          element.innerHTML = '';\n",
              "          dataTable['output_type'] = 'display_data';\n",
              "          await google.colab.output.renderOutput(dataTable, element);\n",
              "          const docLink = document.createElement('div');\n",
              "          docLink.innerHTML = docLinkHtml;\n",
              "          element.appendChild(docLink);\n",
              "        }\n",
              "      </script>\n",
              "    </div>\n",
              "  </div>\n",
              "  "
            ]
          },
          "metadata": {},
          "execution_count": 154
        }
      ]
    },
    {
      "cell_type": "markdown",
      "source": [
        "# **6. Tratamento dados de teste**"
      ],
      "metadata": {
        "id": "skyHwc22ayC2"
      }
    },
    {
      "cell_type": "markdown",
      "source": [
        "Essa parte do projeto contem apenas 3 etapas\n",
        "\n",
        "* 1. *Obtenção dos dados*\n",
        "* 2. *Pré-Processamento*\n",
        "* 3. *Previsão nos dados de teste*"
      ],
      "metadata": {
        "id": "Hxm1lwbIVrWN"
      }
    },
    {
      "cell_type": "markdown",
      "source": [
        "## **1. Obtenção dos dados de teste**"
      ],
      "metadata": {
        "id": "m44q7RxAVYxD"
      }
    },
    {
      "cell_type": "markdown",
      "source": [
        "\n",
        "**Importando os dados do google drive**"
      ],
      "metadata": {
        "id": "jUHHw8DjVeCU"
      }
    },
    {
      "cell_type": "code",
      "source": [
        "# Dados de teste\n",
        "teste = pd.read_csv('/content/drive/MyDrive/Dados/testeFLAI_competicao.csv')"
      ],
      "metadata": {
        "id": "tszybWyRtHPF"
      },
      "execution_count": 155,
      "outputs": []
    },
    {
      "cell_type": "code",
      "source": [
        "# Observando os dados\n",
        "teste.head()"
      ],
      "metadata": {
        "colab": {
          "base_uri": "https://localhost:8080/",
          "height": 0
        },
        "id": "3FPf4-IsXEJt",
        "outputId": "09adcc5c-67de-49ba-a5fa-f985298d757a"
      },
      "execution_count": 156,
      "outputs": [
        {
          "output_type": "execute_result",
          "data": {
            "text/plain": [
              "   Empréstimo  ValorDoBem Finalidade Emprego  TempoEmprego  Negativos  \\\n",
              "0     82582.0   342542.60   Diversas   Geral          8.00        0.0   \n",
              "1     37680.0   233000.56   Diversas   Geral          6.00        0.0   \n",
              "2     58404.0   218578.54    Reforma   Geral          2.75        0.0   \n",
              "3     33284.0   255630.54    Reforma  Outros         15.75        0.0   \n",
              "4     66882.0   315629.66   Diversas   Geral          7.00        NaN   \n",
              "\n",
              "   Atrasos  TempoCliente  LC-Recente  LC-Atual    RDS  \n",
              "0      0.0         407.7         0.0      43.0  41.3%  \n",
              "1      0.0         100.3         2.0      14.0  25.5%  \n",
              "2      0.0         133.1         0.0      17.0  34.7%  \n",
              "3      0.0         239.8         1.0      35.0  36.7%  \n",
              "4      0.0         101.4         1.0      18.0  34.0%  "
            ],
            "text/html": [
              "\n",
              "  <div id=\"df-eead0c4c-d62a-47ab-9761-52a2c74fe388\">\n",
              "    <div class=\"colab-df-container\">\n",
              "      <div>\n",
              "<style scoped>\n",
              "    .dataframe tbody tr th:only-of-type {\n",
              "        vertical-align: middle;\n",
              "    }\n",
              "\n",
              "    .dataframe tbody tr th {\n",
              "        vertical-align: top;\n",
              "    }\n",
              "\n",
              "    .dataframe thead th {\n",
              "        text-align: right;\n",
              "    }\n",
              "</style>\n",
              "<table border=\"1\" class=\"dataframe\">\n",
              "  <thead>\n",
              "    <tr style=\"text-align: right;\">\n",
              "      <th></th>\n",
              "      <th>Empréstimo</th>\n",
              "      <th>ValorDoBem</th>\n",
              "      <th>Finalidade</th>\n",
              "      <th>Emprego</th>\n",
              "      <th>TempoEmprego</th>\n",
              "      <th>Negativos</th>\n",
              "      <th>Atrasos</th>\n",
              "      <th>TempoCliente</th>\n",
              "      <th>LC-Recente</th>\n",
              "      <th>LC-Atual</th>\n",
              "      <th>RDS</th>\n",
              "    </tr>\n",
              "  </thead>\n",
              "  <tbody>\n",
              "    <tr>\n",
              "      <th>0</th>\n",
              "      <td>82582.0</td>\n",
              "      <td>342542.60</td>\n",
              "      <td>Diversas</td>\n",
              "      <td>Geral</td>\n",
              "      <td>8.00</td>\n",
              "      <td>0.0</td>\n",
              "      <td>0.0</td>\n",
              "      <td>407.7</td>\n",
              "      <td>0.0</td>\n",
              "      <td>43.0</td>\n",
              "      <td>41.3%</td>\n",
              "    </tr>\n",
              "    <tr>\n",
              "      <th>1</th>\n",
              "      <td>37680.0</td>\n",
              "      <td>233000.56</td>\n",
              "      <td>Diversas</td>\n",
              "      <td>Geral</td>\n",
              "      <td>6.00</td>\n",
              "      <td>0.0</td>\n",
              "      <td>0.0</td>\n",
              "      <td>100.3</td>\n",
              "      <td>2.0</td>\n",
              "      <td>14.0</td>\n",
              "      <td>25.5%</td>\n",
              "    </tr>\n",
              "    <tr>\n",
              "      <th>2</th>\n",
              "      <td>58404.0</td>\n",
              "      <td>218578.54</td>\n",
              "      <td>Reforma</td>\n",
              "      <td>Geral</td>\n",
              "      <td>2.75</td>\n",
              "      <td>0.0</td>\n",
              "      <td>0.0</td>\n",
              "      <td>133.1</td>\n",
              "      <td>0.0</td>\n",
              "      <td>17.0</td>\n",
              "      <td>34.7%</td>\n",
              "    </tr>\n",
              "    <tr>\n",
              "      <th>3</th>\n",
              "      <td>33284.0</td>\n",
              "      <td>255630.54</td>\n",
              "      <td>Reforma</td>\n",
              "      <td>Outros</td>\n",
              "      <td>15.75</td>\n",
              "      <td>0.0</td>\n",
              "      <td>0.0</td>\n",
              "      <td>239.8</td>\n",
              "      <td>1.0</td>\n",
              "      <td>35.0</td>\n",
              "      <td>36.7%</td>\n",
              "    </tr>\n",
              "    <tr>\n",
              "      <th>4</th>\n",
              "      <td>66882.0</td>\n",
              "      <td>315629.66</td>\n",
              "      <td>Diversas</td>\n",
              "      <td>Geral</td>\n",
              "      <td>7.00</td>\n",
              "      <td>NaN</td>\n",
              "      <td>0.0</td>\n",
              "      <td>101.4</td>\n",
              "      <td>1.0</td>\n",
              "      <td>18.0</td>\n",
              "      <td>34.0%</td>\n",
              "    </tr>\n",
              "  </tbody>\n",
              "</table>\n",
              "</div>\n",
              "      <button class=\"colab-df-convert\" onclick=\"convertToInteractive('df-eead0c4c-d62a-47ab-9761-52a2c74fe388')\"\n",
              "              title=\"Convert this dataframe to an interactive table.\"\n",
              "              style=\"display:none;\">\n",
              "        \n",
              "  <svg xmlns=\"http://www.w3.org/2000/svg\" height=\"24px\"viewBox=\"0 0 24 24\"\n",
              "       width=\"24px\">\n",
              "    <path d=\"M0 0h24v24H0V0z\" fill=\"none\"/>\n",
              "    <path d=\"M18.56 5.44l.94 2.06.94-2.06 2.06-.94-2.06-.94-.94-2.06-.94 2.06-2.06.94zm-11 1L8.5 8.5l.94-2.06 2.06-.94-2.06-.94L8.5 2.5l-.94 2.06-2.06.94zm10 10l.94 2.06.94-2.06 2.06-.94-2.06-.94-.94-2.06-.94 2.06-2.06.94z\"/><path d=\"M17.41 7.96l-1.37-1.37c-.4-.4-.92-.59-1.43-.59-.52 0-1.04.2-1.43.59L10.3 9.45l-7.72 7.72c-.78.78-.78 2.05 0 2.83L4 21.41c.39.39.9.59 1.41.59.51 0 1.02-.2 1.41-.59l7.78-7.78 2.81-2.81c.8-.78.8-2.07 0-2.86zM5.41 20L4 18.59l7.72-7.72 1.47 1.35L5.41 20z\"/>\n",
              "  </svg>\n",
              "      </button>\n",
              "      \n",
              "  <style>\n",
              "    .colab-df-container {\n",
              "      display:flex;\n",
              "      flex-wrap:wrap;\n",
              "      gap: 12px;\n",
              "    }\n",
              "\n",
              "    .colab-df-convert {\n",
              "      background-color: #E8F0FE;\n",
              "      border: none;\n",
              "      border-radius: 50%;\n",
              "      cursor: pointer;\n",
              "      display: none;\n",
              "      fill: #1967D2;\n",
              "      height: 32px;\n",
              "      padding: 0 0 0 0;\n",
              "      width: 32px;\n",
              "    }\n",
              "\n",
              "    .colab-df-convert:hover {\n",
              "      background-color: #E2EBFA;\n",
              "      box-shadow: 0px 1px 2px rgba(60, 64, 67, 0.3), 0px 1px 3px 1px rgba(60, 64, 67, 0.15);\n",
              "      fill: #174EA6;\n",
              "    }\n",
              "\n",
              "    [theme=dark] .colab-df-convert {\n",
              "      background-color: #3B4455;\n",
              "      fill: #D2E3FC;\n",
              "    }\n",
              "\n",
              "    [theme=dark] .colab-df-convert:hover {\n",
              "      background-color: #434B5C;\n",
              "      box-shadow: 0px 1px 3px 1px rgba(0, 0, 0, 0.15);\n",
              "      filter: drop-shadow(0px 1px 2px rgba(0, 0, 0, 0.3));\n",
              "      fill: #FFFFFF;\n",
              "    }\n",
              "  </style>\n",
              "\n",
              "      <script>\n",
              "        const buttonEl =\n",
              "          document.querySelector('#df-eead0c4c-d62a-47ab-9761-52a2c74fe388 button.colab-df-convert');\n",
              "        buttonEl.style.display =\n",
              "          google.colab.kernel.accessAllowed ? 'block' : 'none';\n",
              "\n",
              "        async function convertToInteractive(key) {\n",
              "          const element = document.querySelector('#df-eead0c4c-d62a-47ab-9761-52a2c74fe388');\n",
              "          const dataTable =\n",
              "            await google.colab.kernel.invokeFunction('convertToInteractive',\n",
              "                                                     [key], {});\n",
              "          if (!dataTable) return;\n",
              "\n",
              "          const docLinkHtml = 'Like what you see? Visit the ' +\n",
              "            '<a target=\"_blank\" href=https://colab.research.google.com/notebooks/data_table.ipynb>data table notebook</a>'\n",
              "            + ' to learn more about interactive tables.';\n",
              "          element.innerHTML = '';\n",
              "          dataTable['output_type'] = 'display_data';\n",
              "          await google.colab.output.renderOutput(dataTable, element);\n",
              "          const docLink = document.createElement('div');\n",
              "          docLink.innerHTML = docLinkHtml;\n",
              "          element.appendChild(docLink);\n",
              "        }\n",
              "      </script>\n",
              "    </div>\n",
              "  </div>\n",
              "  "
            ]
          },
          "metadata": {},
          "execution_count": 156
        }
      ]
    },
    {
      "cell_type": "code",
      "source": [
        "# Retirando a % e transformando a coluna para tipo numerico\n",
        "teste = teste.replace (regex = '%', value = '', inplace = False )\n",
        "teste['RDS'] = pd.to_numeric(teste['RDS'])"
      ],
      "metadata": {
        "id": "bbC9ZGMLkfz7"
      },
      "execution_count": 157,
      "outputs": []
    },
    {
      "cell_type": "code",
      "source": [
        "# Criando uma copia do DF de teste\n",
        "df_medias_teste = teste.copy()"
      ],
      "metadata": {
        "id": "g8BnR1cEk2na"
      },
      "execution_count": 158,
      "outputs": []
    },
    {
      "cell_type": "markdown",
      "source": [
        "## **2. Pré-Processamento nos dados de teste**"
      ],
      "metadata": {
        "id": "VN7F_rbhWbrl"
      }
    },
    {
      "cell_type": "markdown",
      "source": [
        "### **A. Eliminando variavies que não serão utilizadas.**"
      ],
      "metadata": {
        "id": "5LwVhdB7W31k"
      }
    },
    {
      "cell_type": "markdown",
      "source": [
        "Por mais que algumas variáveis apresentem poucas influências, nenhuma delas pode ser descartada do dataset atualmente, então não existem variáveis a serem descartadas."
      ],
      "metadata": {
        "id": "8xmsXSrIgiP8"
      }
    },
    {
      "cell_type": "markdown",
      "source": [
        "### **B. Tratando dados ausentes**"
      ],
      "metadata": {
        "id": "f96ODfvLgSpb"
      }
    },
    {
      "cell_type": "markdown",
      "source": [
        "Aqui será utilizado a mesma estrategia que foi feita nos dados de treino."
      ],
      "metadata": {
        "id": "7_yhgML2gSph"
      }
    },
    {
      "cell_type": "code",
      "source": [
        "# Observando os valores ausentes\n",
        "def percent_ausentes(df_medias_teste):\n",
        "    p_faltantes = df_medias_teste.isnull().mean()\n",
        "    valores_faltantes = pd.DataFrame({'Variavéis': df_medias_teste.columns,\n",
        "                                           '% de ausentes': p_faltantes}\n",
        "                                      ).reset_index(drop = True)\n",
        "\n",
        "    return valores_faltantes.sort_values(by = ['% de ausentes'], ascending = False)\n",
        "\n",
        "percent_ausentes(df_medias_teste)"
      ],
      "metadata": {
        "colab": {
          "base_uri": "https://localhost:8080/",
          "height": 0
        },
        "id": "msWjLLqNkw8S",
        "outputId": "8b56bbaf-01fd-4174-a1fd-d4b1d1c65849"
      },
      "execution_count": 159,
      "outputs": [
        {
          "output_type": "execute_result",
          "data": {
            "text/plain": [
              "       Variavéis  % de ausentes\n",
              "10           RDS       0.219412\n",
              "4   TempoEmprego       0.067059\n",
              "5      Negativos       0.062941\n",
              "6        Atrasos       0.025294\n",
              "0     Empréstimo       0.000000\n",
              "1     ValorDoBem       0.000000\n",
              "2     Finalidade       0.000000\n",
              "3        Emprego       0.000000\n",
              "7   TempoCliente       0.000000\n",
              "8     LC-Recente       0.000000\n",
              "9       LC-Atual       0.000000"
            ],
            "text/html": [
              "\n",
              "  <div id=\"df-133be34b-e535-44bd-9ced-06d34acdad6a\">\n",
              "    <div class=\"colab-df-container\">\n",
              "      <div>\n",
              "<style scoped>\n",
              "    .dataframe tbody tr th:only-of-type {\n",
              "        vertical-align: middle;\n",
              "    }\n",
              "\n",
              "    .dataframe tbody tr th {\n",
              "        vertical-align: top;\n",
              "    }\n",
              "\n",
              "    .dataframe thead th {\n",
              "        text-align: right;\n",
              "    }\n",
              "</style>\n",
              "<table border=\"1\" class=\"dataframe\">\n",
              "  <thead>\n",
              "    <tr style=\"text-align: right;\">\n",
              "      <th></th>\n",
              "      <th>Variavéis</th>\n",
              "      <th>% de ausentes</th>\n",
              "    </tr>\n",
              "  </thead>\n",
              "  <tbody>\n",
              "    <tr>\n",
              "      <th>10</th>\n",
              "      <td>RDS</td>\n",
              "      <td>0.219412</td>\n",
              "    </tr>\n",
              "    <tr>\n",
              "      <th>4</th>\n",
              "      <td>TempoEmprego</td>\n",
              "      <td>0.067059</td>\n",
              "    </tr>\n",
              "    <tr>\n",
              "      <th>5</th>\n",
              "      <td>Negativos</td>\n",
              "      <td>0.062941</td>\n",
              "    </tr>\n",
              "    <tr>\n",
              "      <th>6</th>\n",
              "      <td>Atrasos</td>\n",
              "      <td>0.025294</td>\n",
              "    </tr>\n",
              "    <tr>\n",
              "      <th>0</th>\n",
              "      <td>Empréstimo</td>\n",
              "      <td>0.000000</td>\n",
              "    </tr>\n",
              "    <tr>\n",
              "      <th>1</th>\n",
              "      <td>ValorDoBem</td>\n",
              "      <td>0.000000</td>\n",
              "    </tr>\n",
              "    <tr>\n",
              "      <th>2</th>\n",
              "      <td>Finalidade</td>\n",
              "      <td>0.000000</td>\n",
              "    </tr>\n",
              "    <tr>\n",
              "      <th>3</th>\n",
              "      <td>Emprego</td>\n",
              "      <td>0.000000</td>\n",
              "    </tr>\n",
              "    <tr>\n",
              "      <th>7</th>\n",
              "      <td>TempoCliente</td>\n",
              "      <td>0.000000</td>\n",
              "    </tr>\n",
              "    <tr>\n",
              "      <th>8</th>\n",
              "      <td>LC-Recente</td>\n",
              "      <td>0.000000</td>\n",
              "    </tr>\n",
              "    <tr>\n",
              "      <th>9</th>\n",
              "      <td>LC-Atual</td>\n",
              "      <td>0.000000</td>\n",
              "    </tr>\n",
              "  </tbody>\n",
              "</table>\n",
              "</div>\n",
              "      <button class=\"colab-df-convert\" onclick=\"convertToInteractive('df-133be34b-e535-44bd-9ced-06d34acdad6a')\"\n",
              "              title=\"Convert this dataframe to an interactive table.\"\n",
              "              style=\"display:none;\">\n",
              "        \n",
              "  <svg xmlns=\"http://www.w3.org/2000/svg\" height=\"24px\"viewBox=\"0 0 24 24\"\n",
              "       width=\"24px\">\n",
              "    <path d=\"M0 0h24v24H0V0z\" fill=\"none\"/>\n",
              "    <path d=\"M18.56 5.44l.94 2.06.94-2.06 2.06-.94-2.06-.94-.94-2.06-.94 2.06-2.06.94zm-11 1L8.5 8.5l.94-2.06 2.06-.94-2.06-.94L8.5 2.5l-.94 2.06-2.06.94zm10 10l.94 2.06.94-2.06 2.06-.94-2.06-.94-.94-2.06-.94 2.06-2.06.94z\"/><path d=\"M17.41 7.96l-1.37-1.37c-.4-.4-.92-.59-1.43-.59-.52 0-1.04.2-1.43.59L10.3 9.45l-7.72 7.72c-.78.78-.78 2.05 0 2.83L4 21.41c.39.39.9.59 1.41.59.51 0 1.02-.2 1.41-.59l7.78-7.78 2.81-2.81c.8-.78.8-2.07 0-2.86zM5.41 20L4 18.59l7.72-7.72 1.47 1.35L5.41 20z\"/>\n",
              "  </svg>\n",
              "      </button>\n",
              "      \n",
              "  <style>\n",
              "    .colab-df-container {\n",
              "      display:flex;\n",
              "      flex-wrap:wrap;\n",
              "      gap: 12px;\n",
              "    }\n",
              "\n",
              "    .colab-df-convert {\n",
              "      background-color: #E8F0FE;\n",
              "      border: none;\n",
              "      border-radius: 50%;\n",
              "      cursor: pointer;\n",
              "      display: none;\n",
              "      fill: #1967D2;\n",
              "      height: 32px;\n",
              "      padding: 0 0 0 0;\n",
              "      width: 32px;\n",
              "    }\n",
              "\n",
              "    .colab-df-convert:hover {\n",
              "      background-color: #E2EBFA;\n",
              "      box-shadow: 0px 1px 2px rgba(60, 64, 67, 0.3), 0px 1px 3px 1px rgba(60, 64, 67, 0.15);\n",
              "      fill: #174EA6;\n",
              "    }\n",
              "\n",
              "    [theme=dark] .colab-df-convert {\n",
              "      background-color: #3B4455;\n",
              "      fill: #D2E3FC;\n",
              "    }\n",
              "\n",
              "    [theme=dark] .colab-df-convert:hover {\n",
              "      background-color: #434B5C;\n",
              "      box-shadow: 0px 1px 3px 1px rgba(0, 0, 0, 0.15);\n",
              "      filter: drop-shadow(0px 1px 2px rgba(0, 0, 0, 0.3));\n",
              "      fill: #FFFFFF;\n",
              "    }\n",
              "  </style>\n",
              "\n",
              "      <script>\n",
              "        const buttonEl =\n",
              "          document.querySelector('#df-133be34b-e535-44bd-9ced-06d34acdad6a button.colab-df-convert');\n",
              "        buttonEl.style.display =\n",
              "          google.colab.kernel.accessAllowed ? 'block' : 'none';\n",
              "\n",
              "        async function convertToInteractive(key) {\n",
              "          const element = document.querySelector('#df-133be34b-e535-44bd-9ced-06d34acdad6a');\n",
              "          const dataTable =\n",
              "            await google.colab.kernel.invokeFunction('convertToInteractive',\n",
              "                                                     [key], {});\n",
              "          if (!dataTable) return;\n",
              "\n",
              "          const docLinkHtml = 'Like what you see? Visit the ' +\n",
              "            '<a target=\"_blank\" href=https://colab.research.google.com/notebooks/data_table.ipynb>data table notebook</a>'\n",
              "            + ' to learn more about interactive tables.';\n",
              "          element.innerHTML = '';\n",
              "          dataTable['output_type'] = 'display_data';\n",
              "          await google.colab.output.renderOutput(dataTable, element);\n",
              "          const docLink = document.createElement('div');\n",
              "          docLink.innerHTML = docLinkHtml;\n",
              "          element.appendChild(docLink);\n",
              "        }\n",
              "      </script>\n",
              "    </div>\n",
              "  </div>\n",
              "  "
            ]
          },
          "metadata": {},
          "execution_count": 159
        }
      ]
    },
    {
      "cell_type": "code",
      "source": [
        "# Obtendo a média agrupada\n",
        "df_medias_teste.groupby(['LC-Atual', 'LC-Recente'])[ 'RDS' ].mean()"
      ],
      "metadata": {
        "colab": {
          "base_uri": "https://localhost:8080/"
        },
        "outputId": "688ed919-e85b-48d4-d5d6-cc156c9d3658",
        "id": "0nI6gWtggSph"
      },
      "execution_count": 160,
      "outputs": [
        {
          "output_type": "execute_result",
          "data": {
            "text/plain": [
              "LC-Atual  LC-Recente\n",
              "1.0       0.0            NaN\n",
              "2.0       0.0           33.6\n",
              "          1.0           28.0\n",
              "          2.0            NaN\n",
              "          3.0            NaN\n",
              "                        ... \n",
              "54.0      1.0           34.9\n",
              "55.0      0.0           36.2\n",
              "          3.0            NaN\n",
              "64.0      0.0           64.8\n",
              "65.0      2.0            NaN\n",
              "Name: RDS, Length: 280, dtype: float64"
            ]
          },
          "metadata": {},
          "execution_count": 160
        }
      ]
    },
    {
      "cell_type": "code",
      "source": [
        "# Obtendo a média agrupada\n",
        "df_medias_teste.groupby(['TempoCliente', 'Emprego'])[ 'ValorDoBem' ].mean()"
      ],
      "metadata": {
        "colab": {
          "base_uri": "https://localhost:8080/"
        },
        "outputId": "44a5232b-845d-41af-c048-e2934fd5a916",
        "id": "n8Kt87c1gSph"
      },
      "execution_count": 161,
      "outputs": [
        {
          "output_type": "execute_result",
          "data": {
            "text/plain": [
              "TempoCliente  Emprego     \n",
              "1.3           Autônomo        944826.00\n",
              "3.4           Outros           82079.60\n",
              "8.4           Autônomo        706500.00\n",
              "10.9          Professional    426857.88\n",
              "12.3          Autônomo        959313.96\n",
              "                                ...    \n",
              "426.1         Outros          397637.04\n",
              "429.4         Professional    511524.84\n",
              "442.9         Professional    518401.44\n",
              "640.9         Professional    303393.08\n",
              "649.9         Professional    319199.84\n",
              "Name: ValorDoBem, Length: 1548, dtype: float64"
            ]
          },
          "metadata": {},
          "execution_count": 161
        }
      ]
    },
    {
      "cell_type": "code",
      "source": [
        "# Obtendo a média agrupada\n",
        "df_medias_teste.groupby(['Atrasos', 'LC-Recente'])[ 'Negativos' ].mean()"
      ],
      "metadata": {
        "colab": {
          "base_uri": "https://localhost:8080/"
        },
        "outputId": "013a3269-cbdd-4464-f878-0898fcd0790e",
        "id": "0Mk_gtThgSpi"
      },
      "execution_count": 162,
      "outputs": [
        {
          "output_type": "execute_result",
          "data": {
            "text/plain": [
              "Atrasos  LC-Recente\n",
              "0.0      0.0           0.094991\n",
              "         1.0           0.133333\n",
              "         2.0           0.203390\n",
              "         3.0           0.148936\n",
              "         4.0           0.323529\n",
              "         5.0           0.875000\n",
              "         6.0           0.428571\n",
              "         7.0           1.600000\n",
              "         8.0           0.500000\n",
              "         9.0           0.200000\n",
              "         10.0          0.000000\n",
              "         11.0          0.000000\n",
              "         12.0          0.333333\n",
              "1.0      0.0           0.367347\n",
              "         1.0           0.228571\n",
              "         2.0           0.441176\n",
              "         3.0           0.000000\n",
              "         4.0           1.000000\n",
              "         5.0           1.250000\n",
              "         6.0           2.000000\n",
              "         7.0           3.000000\n",
              "         8.0           0.500000\n",
              "         9.0           2.000000\n",
              "         10.0          2.000000\n",
              "2.0      0.0           0.218750\n",
              "         1.0           0.294118\n",
              "         2.0           1.000000\n",
              "         3.0           1.375000\n",
              "         4.0           1.500000\n",
              "         5.0           4.000000\n",
              "         7.0           0.000000\n",
              "         8.0           0.000000\n",
              "3.0      0.0           0.090909\n",
              "         1.0           0.357143\n",
              "         2.0           1.000000\n",
              "         3.0           1.000000\n",
              "         5.0           0.000000\n",
              "         11.0          0.000000\n",
              "4.0      0.0           1.000000\n",
              "         1.0           0.000000\n",
              "         2.0           0.000000\n",
              "         3.0           1.000000\n",
              "         4.0           0.000000\n",
              "         5.0           0.000000\n",
              "5.0      0.0           2.333333\n",
              "         1.0           0.750000\n",
              "         2.0           2.000000\n",
              "         3.0           0.000000\n",
              "         4.0           1.000000\n",
              "6.0      0.0           1.500000\n",
              "         1.0           0.500000\n",
              "         4.0           0.000000\n",
              "         8.0           2.000000\n",
              "7.0      0.0           0.000000\n",
              "         3.0           0.000000\n",
              "11.0     1.0           0.000000\n",
              "Name: Negativos, dtype: float64"
            ]
          },
          "metadata": {},
          "execution_count": 162
        }
      ]
    },
    {
      "cell_type": "code",
      "source": [
        "# Obtendo a média agrupada\n",
        "df_medias_teste.groupby(['Negativos', 'LC-Atual'])[ 'Atrasos' ].mean()"
      ],
      "metadata": {
        "colab": {
          "base_uri": "https://localhost:8080/"
        },
        "outputId": "a195b969-b8e7-46e2-d07a-77637212936c",
        "id": "CAWLsKHLgSpi"
      },
      "execution_count": 163,
      "outputs": [
        {
          "output_type": "execute_result",
          "data": {
            "text/plain": [
              "Negativos  LC-Atual\n",
              "0.0        2.0         0.333333\n",
              "           3.0         0.000000\n",
              "           4.0         0.083333\n",
              "           5.0         0.333333\n",
              "           6.0         0.142857\n",
              "                         ...   \n",
              "8.0        18.0        1.000000\n",
              "           30.0        0.000000\n",
              "           31.0        2.000000\n",
              "9.0        9.0         1.000000\n",
              "           16.0        0.000000\n",
              "Name: Atrasos, Length: 143, dtype: float64"
            ]
          },
          "metadata": {},
          "execution_count": 163
        }
      ]
    },
    {
      "cell_type": "markdown",
      "source": [
        "Agora que já temos as médias agrupadas chegou a hora de preencher os valores ausentes."
      ],
      "metadata": {
        "id": "lRE0yEVmgSpi"
      }
    },
    {
      "cell_type": "code",
      "source": [
        "df_medias_teste[\"TempoEmprego\"] = df_medias_teste[\"TempoEmprego\"].fillna( df_medias_teste.groupby(['Finalidade', 'Emprego'])[ 'TempoEmprego' ].transform('mean') )\n",
        "\n",
        "df_medias_teste[\"Negativos\"] = df_medias_teste[\"Negativos\"].fillna( df_medias_teste.groupby(['Finalidade', 'Emprego'])[ 'Negativos' ].transform('mean') )\n",
        "\n",
        "df_medias_teste[\"Atrasos\"] = df_medias_teste[\"Atrasos\"].fillna( df_medias_teste.groupby(['Finalidade', 'Emprego'])[ 'Atrasos' ].transform('mean') )\n",
        "\n",
        "df_medias_teste[\"RDS\"] = df_medias_teste[\"RDS\"].fillna( df_medias_teste.groupby(['Finalidade', 'Emprego'])[ 'RDS' ].transform('mean') )"
      ],
      "metadata": {
        "id": "XeaNwgr7gSpi"
      },
      "execution_count": 164,
      "outputs": []
    },
    {
      "cell_type": "markdown",
      "source": [
        "Conferindo se ainda resta algum dado ausente."
      ],
      "metadata": {
        "id": "ms1lLxdkuwBQ"
      }
    },
    {
      "cell_type": "code",
      "source": [
        "# Observandos os valores ausentes\n",
        "def percent_ausentes(df_medias_teste):\n",
        "    p_faltantes = df_medias_teste.isnull().mean()\n",
        "    valores_faltantes = pd.DataFrame({'Variavéis': df_medias_teste.columns,\n",
        "                                           '% de ausentes': p_faltantes}\n",
        "                                      ).reset_index(drop = True)\n",
        "\n",
        "    return valores_faltantes.sort_values(by = ['% de ausentes'], ascending = False)\n",
        "\n",
        "percent_ausentes(df_medias_teste)"
      ],
      "metadata": {
        "colab": {
          "base_uri": "https://localhost:8080/",
          "height": 0
        },
        "outputId": "01cd949d-1d89-4d9b-ccd9-bde19dc4f3c8",
        "id": "8C_JHTdhgSpi"
      },
      "execution_count": 165,
      "outputs": [
        {
          "output_type": "execute_result",
          "data": {
            "text/plain": [
              "       Variavéis  % de ausentes\n",
              "0     Empréstimo            0.0\n",
              "1     ValorDoBem            0.0\n",
              "2     Finalidade            0.0\n",
              "3        Emprego            0.0\n",
              "4   TempoEmprego            0.0\n",
              "5      Negativos            0.0\n",
              "6        Atrasos            0.0\n",
              "7   TempoCliente            0.0\n",
              "8     LC-Recente            0.0\n",
              "9       LC-Atual            0.0\n",
              "10           RDS            0.0"
            ],
            "text/html": [
              "\n",
              "  <div id=\"df-e76ee44d-f0b0-4888-8769-2d55b5a36484\">\n",
              "    <div class=\"colab-df-container\">\n",
              "      <div>\n",
              "<style scoped>\n",
              "    .dataframe tbody tr th:only-of-type {\n",
              "        vertical-align: middle;\n",
              "    }\n",
              "\n",
              "    .dataframe tbody tr th {\n",
              "        vertical-align: top;\n",
              "    }\n",
              "\n",
              "    .dataframe thead th {\n",
              "        text-align: right;\n",
              "    }\n",
              "</style>\n",
              "<table border=\"1\" class=\"dataframe\">\n",
              "  <thead>\n",
              "    <tr style=\"text-align: right;\">\n",
              "      <th></th>\n",
              "      <th>Variavéis</th>\n",
              "      <th>% de ausentes</th>\n",
              "    </tr>\n",
              "  </thead>\n",
              "  <tbody>\n",
              "    <tr>\n",
              "      <th>0</th>\n",
              "      <td>Empréstimo</td>\n",
              "      <td>0.0</td>\n",
              "    </tr>\n",
              "    <tr>\n",
              "      <th>1</th>\n",
              "      <td>ValorDoBem</td>\n",
              "      <td>0.0</td>\n",
              "    </tr>\n",
              "    <tr>\n",
              "      <th>2</th>\n",
              "      <td>Finalidade</td>\n",
              "      <td>0.0</td>\n",
              "    </tr>\n",
              "    <tr>\n",
              "      <th>3</th>\n",
              "      <td>Emprego</td>\n",
              "      <td>0.0</td>\n",
              "    </tr>\n",
              "    <tr>\n",
              "      <th>4</th>\n",
              "      <td>TempoEmprego</td>\n",
              "      <td>0.0</td>\n",
              "    </tr>\n",
              "    <tr>\n",
              "      <th>5</th>\n",
              "      <td>Negativos</td>\n",
              "      <td>0.0</td>\n",
              "    </tr>\n",
              "    <tr>\n",
              "      <th>6</th>\n",
              "      <td>Atrasos</td>\n",
              "      <td>0.0</td>\n",
              "    </tr>\n",
              "    <tr>\n",
              "      <th>7</th>\n",
              "      <td>TempoCliente</td>\n",
              "      <td>0.0</td>\n",
              "    </tr>\n",
              "    <tr>\n",
              "      <th>8</th>\n",
              "      <td>LC-Recente</td>\n",
              "      <td>0.0</td>\n",
              "    </tr>\n",
              "    <tr>\n",
              "      <th>9</th>\n",
              "      <td>LC-Atual</td>\n",
              "      <td>0.0</td>\n",
              "    </tr>\n",
              "    <tr>\n",
              "      <th>10</th>\n",
              "      <td>RDS</td>\n",
              "      <td>0.0</td>\n",
              "    </tr>\n",
              "  </tbody>\n",
              "</table>\n",
              "</div>\n",
              "      <button class=\"colab-df-convert\" onclick=\"convertToInteractive('df-e76ee44d-f0b0-4888-8769-2d55b5a36484')\"\n",
              "              title=\"Convert this dataframe to an interactive table.\"\n",
              "              style=\"display:none;\">\n",
              "        \n",
              "  <svg xmlns=\"http://www.w3.org/2000/svg\" height=\"24px\"viewBox=\"0 0 24 24\"\n",
              "       width=\"24px\">\n",
              "    <path d=\"M0 0h24v24H0V0z\" fill=\"none\"/>\n",
              "    <path d=\"M18.56 5.44l.94 2.06.94-2.06 2.06-.94-2.06-.94-.94-2.06-.94 2.06-2.06.94zm-11 1L8.5 8.5l.94-2.06 2.06-.94-2.06-.94L8.5 2.5l-.94 2.06-2.06.94zm10 10l.94 2.06.94-2.06 2.06-.94-2.06-.94-.94-2.06-.94 2.06-2.06.94z\"/><path d=\"M17.41 7.96l-1.37-1.37c-.4-.4-.92-.59-1.43-.59-.52 0-1.04.2-1.43.59L10.3 9.45l-7.72 7.72c-.78.78-.78 2.05 0 2.83L4 21.41c.39.39.9.59 1.41.59.51 0 1.02-.2 1.41-.59l7.78-7.78 2.81-2.81c.8-.78.8-2.07 0-2.86zM5.41 20L4 18.59l7.72-7.72 1.47 1.35L5.41 20z\"/>\n",
              "  </svg>\n",
              "      </button>\n",
              "      \n",
              "  <style>\n",
              "    .colab-df-container {\n",
              "      display:flex;\n",
              "      flex-wrap:wrap;\n",
              "      gap: 12px;\n",
              "    }\n",
              "\n",
              "    .colab-df-convert {\n",
              "      background-color: #E8F0FE;\n",
              "      border: none;\n",
              "      border-radius: 50%;\n",
              "      cursor: pointer;\n",
              "      display: none;\n",
              "      fill: #1967D2;\n",
              "      height: 32px;\n",
              "      padding: 0 0 0 0;\n",
              "      width: 32px;\n",
              "    }\n",
              "\n",
              "    .colab-df-convert:hover {\n",
              "      background-color: #E2EBFA;\n",
              "      box-shadow: 0px 1px 2px rgba(60, 64, 67, 0.3), 0px 1px 3px 1px rgba(60, 64, 67, 0.15);\n",
              "      fill: #174EA6;\n",
              "    }\n",
              "\n",
              "    [theme=dark] .colab-df-convert {\n",
              "      background-color: #3B4455;\n",
              "      fill: #D2E3FC;\n",
              "    }\n",
              "\n",
              "    [theme=dark] .colab-df-convert:hover {\n",
              "      background-color: #434B5C;\n",
              "      box-shadow: 0px 1px 3px 1px rgba(0, 0, 0, 0.15);\n",
              "      filter: drop-shadow(0px 1px 2px rgba(0, 0, 0, 0.3));\n",
              "      fill: #FFFFFF;\n",
              "    }\n",
              "  </style>\n",
              "\n",
              "      <script>\n",
              "        const buttonEl =\n",
              "          document.querySelector('#df-e76ee44d-f0b0-4888-8769-2d55b5a36484 button.colab-df-convert');\n",
              "        buttonEl.style.display =\n",
              "          google.colab.kernel.accessAllowed ? 'block' : 'none';\n",
              "\n",
              "        async function convertToInteractive(key) {\n",
              "          const element = document.querySelector('#df-e76ee44d-f0b0-4888-8769-2d55b5a36484');\n",
              "          const dataTable =\n",
              "            await google.colab.kernel.invokeFunction('convertToInteractive',\n",
              "                                                     [key], {});\n",
              "          if (!dataTable) return;\n",
              "\n",
              "          const docLinkHtml = 'Like what you see? Visit the ' +\n",
              "            '<a target=\"_blank\" href=https://colab.research.google.com/notebooks/data_table.ipynb>data table notebook</a>'\n",
              "            + ' to learn more about interactive tables.';\n",
              "          element.innerHTML = '';\n",
              "          dataTable['output_type'] = 'display_data';\n",
              "          await google.colab.output.renderOutput(dataTable, element);\n",
              "          const docLink = document.createElement('div');\n",
              "          docLink.innerHTML = docLinkHtml;\n",
              "          element.appendChild(docLink);\n",
              "        }\n",
              "      </script>\n",
              "    </div>\n",
              "  </div>\n",
              "  "
            ]
          },
          "metadata": {},
          "execution_count": 165
        }
      ]
    },
    {
      "cell_type": "markdown",
      "source": [
        "*Com todos os dados ausentes devidamente tratados podemos ir para a próxima etapa.*"
      ],
      "metadata": {
        "id": "5ut9WZx1uwBR"
      }
    },
    {
      "cell_type": "markdown",
      "source": [
        "### **C. Escala das Variáveis**"
      ],
      "metadata": {
        "id": "NE9HjCUPhtkK"
      }
    },
    {
      "cell_type": "markdown",
      "source": [
        " **Processamento das variáveis categóricas:**\n",
        "\n",
        "Para que os modelos possam atingir um bom desempenho faz-se necessário a transformação de uma variável categórica para uma variável numérica.\n",
        "\n",
        "**Processamento das variáveis numéricas:**\n",
        "\n",
        "Como as variáveis estão em escalas diferentes, isso pode acabar causando problemas nos modelos de Machine Learning, dessa forma o próximo passo vai ser padronizar os dados\n",
        "das variáveis"
      ],
      "metadata": {
        "id": "9BsIVBBnhtkP"
      }
    },
    {
      "cell_type": "markdown",
      "source": [
        "#### **Coluna Finalidade**"
      ],
      "metadata": {
        "id": "M9imSxKThtkP"
      }
    },
    {
      "cell_type": "markdown",
      "source": [
        "A coluna finalidade é uma variável categórica, então é necessário que ela passe por um tratamento para que o modelo de machine learning que vai ser criado tenha um melhor desempenho."
      ],
      "metadata": {
        "id": "wRkBSFuohtkP"
      }
    },
    {
      "cell_type": "code",
      "source": [
        "# Conferindo os valores em 'Finalidade'\n",
        "df_medias_teste['Finalidade'].value_counts()"
      ],
      "metadata": {
        "colab": {
          "base_uri": "https://localhost:8080/"
        },
        "outputId": "96d954f8-eb1d-4d38-cd78-33e3ad7bb6f8",
        "id": "kOHIUwJMhtkP"
      },
      "execution_count": 166,
      "outputs": [
        {
          "output_type": "execute_result",
          "data": {
            "text/plain": [
              "Diversas    1180\n",
              "Reforma      520\n",
              "Name: Finalidade, dtype: int64"
            ]
          },
          "metadata": {},
          "execution_count": 166
        }
      ]
    },
    {
      "cell_type": "code",
      "source": [
        "# Aplicando a dummyficação de variaveis na coluna finalidade\n",
        "df_medias_teste['Finalidade'] = pd.get_dummies(df_medias_teste['Finalidade'], drop_first=True, prefix = 'finalidade')"
      ],
      "metadata": {
        "id": "h3rk1xk2htkP"
      },
      "execution_count": 167,
      "outputs": []
    },
    {
      "cell_type": "code",
      "source": [
        "# Conferindo os valores em 'Finalidade'\n",
        "df_medias_teste['Finalidade'].value_counts()"
      ],
      "metadata": {
        "colab": {
          "base_uri": "https://localhost:8080/"
        },
        "outputId": "93a7c18d-a385-4101-ad1d-2da54a3f52a7",
        "id": "wqrZM_m3htkP"
      },
      "execution_count": 168,
      "outputs": [
        {
          "output_type": "execute_result",
          "data": {
            "text/plain": [
              "0    1180\n",
              "1     520\n",
              "Name: Finalidade, dtype: int64"
            ]
          },
          "metadata": {},
          "execution_count": 168
        }
      ]
    },
    {
      "cell_type": "code",
      "source": [
        "# Observando os dados\n",
        "df_medias_teste.head()"
      ],
      "metadata": {
        "colab": {
          "base_uri": "https://localhost:8080/",
          "height": 0
        },
        "outputId": "3cb516ac-d066-48d9-d865-b0f4bee78b55",
        "id": "g7iK2RjRhtkP"
      },
      "execution_count": 169,
      "outputs": [
        {
          "output_type": "execute_result",
          "data": {
            "text/plain": [
              "   Empréstimo  ValorDoBem  Finalidade Emprego  TempoEmprego  Negativos  \\\n",
              "0     82582.0   342542.60           0   Geral          8.00   0.000000   \n",
              "1     37680.0   233000.56           0   Geral          6.00   0.000000   \n",
              "2     58404.0   218578.54           1   Geral          2.75   0.000000   \n",
              "3     33284.0   255630.54           1  Outros         15.75   0.000000   \n",
              "4     66882.0   315629.66           0   Geral          7.00   0.108108   \n",
              "\n",
              "   Atrasos  TempoCliente  LC-Recente  LC-Atual   RDS  \n",
              "0      0.0         407.7         0.0      43.0  41.3  \n",
              "1      0.0         100.3         2.0      14.0  25.5  \n",
              "2      0.0         133.1         0.0      17.0  34.7  \n",
              "3      0.0         239.8         1.0      35.0  36.7  \n",
              "4      0.0         101.4         1.0      18.0  34.0  "
            ],
            "text/html": [
              "\n",
              "  <div id=\"df-3fe2b86a-674b-456a-8ce8-d2e0bdd59394\">\n",
              "    <div class=\"colab-df-container\">\n",
              "      <div>\n",
              "<style scoped>\n",
              "    .dataframe tbody tr th:only-of-type {\n",
              "        vertical-align: middle;\n",
              "    }\n",
              "\n",
              "    .dataframe tbody tr th {\n",
              "        vertical-align: top;\n",
              "    }\n",
              "\n",
              "    .dataframe thead th {\n",
              "        text-align: right;\n",
              "    }\n",
              "</style>\n",
              "<table border=\"1\" class=\"dataframe\">\n",
              "  <thead>\n",
              "    <tr style=\"text-align: right;\">\n",
              "      <th></th>\n",
              "      <th>Empréstimo</th>\n",
              "      <th>ValorDoBem</th>\n",
              "      <th>Finalidade</th>\n",
              "      <th>Emprego</th>\n",
              "      <th>TempoEmprego</th>\n",
              "      <th>Negativos</th>\n",
              "      <th>Atrasos</th>\n",
              "      <th>TempoCliente</th>\n",
              "      <th>LC-Recente</th>\n",
              "      <th>LC-Atual</th>\n",
              "      <th>RDS</th>\n",
              "    </tr>\n",
              "  </thead>\n",
              "  <tbody>\n",
              "    <tr>\n",
              "      <th>0</th>\n",
              "      <td>82582.0</td>\n",
              "      <td>342542.60</td>\n",
              "      <td>0</td>\n",
              "      <td>Geral</td>\n",
              "      <td>8.00</td>\n",
              "      <td>0.000000</td>\n",
              "      <td>0.0</td>\n",
              "      <td>407.7</td>\n",
              "      <td>0.0</td>\n",
              "      <td>43.0</td>\n",
              "      <td>41.3</td>\n",
              "    </tr>\n",
              "    <tr>\n",
              "      <th>1</th>\n",
              "      <td>37680.0</td>\n",
              "      <td>233000.56</td>\n",
              "      <td>0</td>\n",
              "      <td>Geral</td>\n",
              "      <td>6.00</td>\n",
              "      <td>0.000000</td>\n",
              "      <td>0.0</td>\n",
              "      <td>100.3</td>\n",
              "      <td>2.0</td>\n",
              "      <td>14.0</td>\n",
              "      <td>25.5</td>\n",
              "    </tr>\n",
              "    <tr>\n",
              "      <th>2</th>\n",
              "      <td>58404.0</td>\n",
              "      <td>218578.54</td>\n",
              "      <td>1</td>\n",
              "      <td>Geral</td>\n",
              "      <td>2.75</td>\n",
              "      <td>0.000000</td>\n",
              "      <td>0.0</td>\n",
              "      <td>133.1</td>\n",
              "      <td>0.0</td>\n",
              "      <td>17.0</td>\n",
              "      <td>34.7</td>\n",
              "    </tr>\n",
              "    <tr>\n",
              "      <th>3</th>\n",
              "      <td>33284.0</td>\n",
              "      <td>255630.54</td>\n",
              "      <td>1</td>\n",
              "      <td>Outros</td>\n",
              "      <td>15.75</td>\n",
              "      <td>0.000000</td>\n",
              "      <td>0.0</td>\n",
              "      <td>239.8</td>\n",
              "      <td>1.0</td>\n",
              "      <td>35.0</td>\n",
              "      <td>36.7</td>\n",
              "    </tr>\n",
              "    <tr>\n",
              "      <th>4</th>\n",
              "      <td>66882.0</td>\n",
              "      <td>315629.66</td>\n",
              "      <td>0</td>\n",
              "      <td>Geral</td>\n",
              "      <td>7.00</td>\n",
              "      <td>0.108108</td>\n",
              "      <td>0.0</td>\n",
              "      <td>101.4</td>\n",
              "      <td>1.0</td>\n",
              "      <td>18.0</td>\n",
              "      <td>34.0</td>\n",
              "    </tr>\n",
              "  </tbody>\n",
              "</table>\n",
              "</div>\n",
              "      <button class=\"colab-df-convert\" onclick=\"convertToInteractive('df-3fe2b86a-674b-456a-8ce8-d2e0bdd59394')\"\n",
              "              title=\"Convert this dataframe to an interactive table.\"\n",
              "              style=\"display:none;\">\n",
              "        \n",
              "  <svg xmlns=\"http://www.w3.org/2000/svg\" height=\"24px\"viewBox=\"0 0 24 24\"\n",
              "       width=\"24px\">\n",
              "    <path d=\"M0 0h24v24H0V0z\" fill=\"none\"/>\n",
              "    <path d=\"M18.56 5.44l.94 2.06.94-2.06 2.06-.94-2.06-.94-.94-2.06-.94 2.06-2.06.94zm-11 1L8.5 8.5l.94-2.06 2.06-.94-2.06-.94L8.5 2.5l-.94 2.06-2.06.94zm10 10l.94 2.06.94-2.06 2.06-.94-2.06-.94-.94-2.06-.94 2.06-2.06.94z\"/><path d=\"M17.41 7.96l-1.37-1.37c-.4-.4-.92-.59-1.43-.59-.52 0-1.04.2-1.43.59L10.3 9.45l-7.72 7.72c-.78.78-.78 2.05 0 2.83L4 21.41c.39.39.9.59 1.41.59.51 0 1.02-.2 1.41-.59l7.78-7.78 2.81-2.81c.8-.78.8-2.07 0-2.86zM5.41 20L4 18.59l7.72-7.72 1.47 1.35L5.41 20z\"/>\n",
              "  </svg>\n",
              "      </button>\n",
              "      \n",
              "  <style>\n",
              "    .colab-df-container {\n",
              "      display:flex;\n",
              "      flex-wrap:wrap;\n",
              "      gap: 12px;\n",
              "    }\n",
              "\n",
              "    .colab-df-convert {\n",
              "      background-color: #E8F0FE;\n",
              "      border: none;\n",
              "      border-radius: 50%;\n",
              "      cursor: pointer;\n",
              "      display: none;\n",
              "      fill: #1967D2;\n",
              "      height: 32px;\n",
              "      padding: 0 0 0 0;\n",
              "      width: 32px;\n",
              "    }\n",
              "\n",
              "    .colab-df-convert:hover {\n",
              "      background-color: #E2EBFA;\n",
              "      box-shadow: 0px 1px 2px rgba(60, 64, 67, 0.3), 0px 1px 3px 1px rgba(60, 64, 67, 0.15);\n",
              "      fill: #174EA6;\n",
              "    }\n",
              "\n",
              "    [theme=dark] .colab-df-convert {\n",
              "      background-color: #3B4455;\n",
              "      fill: #D2E3FC;\n",
              "    }\n",
              "\n",
              "    [theme=dark] .colab-df-convert:hover {\n",
              "      background-color: #434B5C;\n",
              "      box-shadow: 0px 1px 3px 1px rgba(0, 0, 0, 0.15);\n",
              "      filter: drop-shadow(0px 1px 2px rgba(0, 0, 0, 0.3));\n",
              "      fill: #FFFFFF;\n",
              "    }\n",
              "  </style>\n",
              "\n",
              "      <script>\n",
              "        const buttonEl =\n",
              "          document.querySelector('#df-3fe2b86a-674b-456a-8ce8-d2e0bdd59394 button.colab-df-convert');\n",
              "        buttonEl.style.display =\n",
              "          google.colab.kernel.accessAllowed ? 'block' : 'none';\n",
              "\n",
              "        async function convertToInteractive(key) {\n",
              "          const element = document.querySelector('#df-3fe2b86a-674b-456a-8ce8-d2e0bdd59394');\n",
              "          const dataTable =\n",
              "            await google.colab.kernel.invokeFunction('convertToInteractive',\n",
              "                                                     [key], {});\n",
              "          if (!dataTable) return;\n",
              "\n",
              "          const docLinkHtml = 'Like what you see? Visit the ' +\n",
              "            '<a target=\"_blank\" href=https://colab.research.google.com/notebooks/data_table.ipynb>data table notebook</a>'\n",
              "            + ' to learn more about interactive tables.';\n",
              "          element.innerHTML = '';\n",
              "          dataTable['output_type'] = 'display_data';\n",
              "          await google.colab.output.renderOutput(dataTable, element);\n",
              "          const docLink = document.createElement('div');\n",
              "          docLink.innerHTML = docLinkHtml;\n",
              "          element.appendChild(docLink);\n",
              "        }\n",
              "      </script>\n",
              "    </div>\n",
              "  </div>\n",
              "  "
            ]
          },
          "metadata": {},
          "execution_count": 169
        }
      ]
    },
    {
      "cell_type": "markdown",
      "source": [
        "#### **Coluna emprego**"
      ],
      "metadata": {
        "id": "XG4KqiqKhtkQ"
      }
    },
    {
      "cell_type": "markdown",
      "source": [
        "No tratamento dessa variável vai ser necessário utilizar o get_dummies e o resultado será armazenado em uma nova variável que posteriormente vai ser inserida de volta no Dataset."
      ],
      "metadata": {
        "id": "04YfoD0FhtkQ"
      }
    },
    {
      "cell_type": "code",
      "source": [
        "# Observando os valores\n",
        "df_medias_teste['Emprego'].value_counts()"
      ],
      "metadata": {
        "colab": {
          "base_uri": "https://localhost:8080/"
        },
        "outputId": "e9ad1110-001a-43b1-eb11-000d745ddaac",
        "id": "9jJCpp4_htkQ"
      },
      "execution_count": 170,
      "outputs": [
        {
          "output_type": "execute_result",
          "data": {
            "text/plain": [
              "Outros          713\n",
              "Professional    370\n",
              "Geral           286\n",
              "Gerente         235\n",
              "Autônomo         57\n",
              "Comissionado     39\n",
              "Name: Emprego, dtype: int64"
            ]
          },
          "metadata": {},
          "execution_count": 170
        }
      ]
    },
    {
      "cell_type": "code",
      "source": [
        "# Aplicando a dummyficação de variaveis na coluna emprego e armazenando em uma nova variavel\n",
        "novas_colunas_emprego = pd.get_dummies(df_medias_teste['Emprego'], drop_first=True, prefix = 'emprego')\n",
        "\n",
        "# Observando os valores\n",
        "novas_colunas_emprego"
      ],
      "metadata": {
        "colab": {
          "base_uri": "https://localhost:8080/",
          "height": 0
        },
        "outputId": "fdbdb9ac-6d4b-47c7-a2dc-df407efcc746",
        "id": "v46-kRcChtkQ"
      },
      "execution_count": 171,
      "outputs": [
        {
          "output_type": "execute_result",
          "data": {
            "text/plain": [
              "      emprego_Comissionado  emprego_Geral  emprego_Gerente  emprego_Outros  \\\n",
              "0                        0              1                0               0   \n",
              "1                        0              1                0               0   \n",
              "2                        0              1                0               0   \n",
              "3                        0              0                0               1   \n",
              "4                        0              1                0               0   \n",
              "...                    ...            ...              ...             ...   \n",
              "1695                     0              0                0               0   \n",
              "1696                     0              1                0               0   \n",
              "1697                     0              0                0               0   \n",
              "1698                     0              0                0               1   \n",
              "1699                     0              0                0               1   \n",
              "\n",
              "      emprego_Professional  \n",
              "0                        0  \n",
              "1                        0  \n",
              "2                        0  \n",
              "3                        0  \n",
              "4                        0  \n",
              "...                    ...  \n",
              "1695                     1  \n",
              "1696                     0  \n",
              "1697                     1  \n",
              "1698                     0  \n",
              "1699                     0  \n",
              "\n",
              "[1700 rows x 5 columns]"
            ],
            "text/html": [
              "\n",
              "  <div id=\"df-f2fc2930-ae6c-4403-b971-ee96720dd368\">\n",
              "    <div class=\"colab-df-container\">\n",
              "      <div>\n",
              "<style scoped>\n",
              "    .dataframe tbody tr th:only-of-type {\n",
              "        vertical-align: middle;\n",
              "    }\n",
              "\n",
              "    .dataframe tbody tr th {\n",
              "        vertical-align: top;\n",
              "    }\n",
              "\n",
              "    .dataframe thead th {\n",
              "        text-align: right;\n",
              "    }\n",
              "</style>\n",
              "<table border=\"1\" class=\"dataframe\">\n",
              "  <thead>\n",
              "    <tr style=\"text-align: right;\">\n",
              "      <th></th>\n",
              "      <th>emprego_Comissionado</th>\n",
              "      <th>emprego_Geral</th>\n",
              "      <th>emprego_Gerente</th>\n",
              "      <th>emprego_Outros</th>\n",
              "      <th>emprego_Professional</th>\n",
              "    </tr>\n",
              "  </thead>\n",
              "  <tbody>\n",
              "    <tr>\n",
              "      <th>0</th>\n",
              "      <td>0</td>\n",
              "      <td>1</td>\n",
              "      <td>0</td>\n",
              "      <td>0</td>\n",
              "      <td>0</td>\n",
              "    </tr>\n",
              "    <tr>\n",
              "      <th>1</th>\n",
              "      <td>0</td>\n",
              "      <td>1</td>\n",
              "      <td>0</td>\n",
              "      <td>0</td>\n",
              "      <td>0</td>\n",
              "    </tr>\n",
              "    <tr>\n",
              "      <th>2</th>\n",
              "      <td>0</td>\n",
              "      <td>1</td>\n",
              "      <td>0</td>\n",
              "      <td>0</td>\n",
              "      <td>0</td>\n",
              "    </tr>\n",
              "    <tr>\n",
              "      <th>3</th>\n",
              "      <td>0</td>\n",
              "      <td>0</td>\n",
              "      <td>0</td>\n",
              "      <td>1</td>\n",
              "      <td>0</td>\n",
              "    </tr>\n",
              "    <tr>\n",
              "      <th>4</th>\n",
              "      <td>0</td>\n",
              "      <td>1</td>\n",
              "      <td>0</td>\n",
              "      <td>0</td>\n",
              "      <td>0</td>\n",
              "    </tr>\n",
              "    <tr>\n",
              "      <th>...</th>\n",
              "      <td>...</td>\n",
              "      <td>...</td>\n",
              "      <td>...</td>\n",
              "      <td>...</td>\n",
              "      <td>...</td>\n",
              "    </tr>\n",
              "    <tr>\n",
              "      <th>1695</th>\n",
              "      <td>0</td>\n",
              "      <td>0</td>\n",
              "      <td>0</td>\n",
              "      <td>0</td>\n",
              "      <td>1</td>\n",
              "    </tr>\n",
              "    <tr>\n",
              "      <th>1696</th>\n",
              "      <td>0</td>\n",
              "      <td>1</td>\n",
              "      <td>0</td>\n",
              "      <td>0</td>\n",
              "      <td>0</td>\n",
              "    </tr>\n",
              "    <tr>\n",
              "      <th>1697</th>\n",
              "      <td>0</td>\n",
              "      <td>0</td>\n",
              "      <td>0</td>\n",
              "      <td>0</td>\n",
              "      <td>1</td>\n",
              "    </tr>\n",
              "    <tr>\n",
              "      <th>1698</th>\n",
              "      <td>0</td>\n",
              "      <td>0</td>\n",
              "      <td>0</td>\n",
              "      <td>1</td>\n",
              "      <td>0</td>\n",
              "    </tr>\n",
              "    <tr>\n",
              "      <th>1699</th>\n",
              "      <td>0</td>\n",
              "      <td>0</td>\n",
              "      <td>0</td>\n",
              "      <td>1</td>\n",
              "      <td>0</td>\n",
              "    </tr>\n",
              "  </tbody>\n",
              "</table>\n",
              "<p>1700 rows × 5 columns</p>\n",
              "</div>\n",
              "      <button class=\"colab-df-convert\" onclick=\"convertToInteractive('df-f2fc2930-ae6c-4403-b971-ee96720dd368')\"\n",
              "              title=\"Convert this dataframe to an interactive table.\"\n",
              "              style=\"display:none;\">\n",
              "        \n",
              "  <svg xmlns=\"http://www.w3.org/2000/svg\" height=\"24px\"viewBox=\"0 0 24 24\"\n",
              "       width=\"24px\">\n",
              "    <path d=\"M0 0h24v24H0V0z\" fill=\"none\"/>\n",
              "    <path d=\"M18.56 5.44l.94 2.06.94-2.06 2.06-.94-2.06-.94-.94-2.06-.94 2.06-2.06.94zm-11 1L8.5 8.5l.94-2.06 2.06-.94-2.06-.94L8.5 2.5l-.94 2.06-2.06.94zm10 10l.94 2.06.94-2.06 2.06-.94-2.06-.94-.94-2.06-.94 2.06-2.06.94z\"/><path d=\"M17.41 7.96l-1.37-1.37c-.4-.4-.92-.59-1.43-.59-.52 0-1.04.2-1.43.59L10.3 9.45l-7.72 7.72c-.78.78-.78 2.05 0 2.83L4 21.41c.39.39.9.59 1.41.59.51 0 1.02-.2 1.41-.59l7.78-7.78 2.81-2.81c.8-.78.8-2.07 0-2.86zM5.41 20L4 18.59l7.72-7.72 1.47 1.35L5.41 20z\"/>\n",
              "  </svg>\n",
              "      </button>\n",
              "      \n",
              "  <style>\n",
              "    .colab-df-container {\n",
              "      display:flex;\n",
              "      flex-wrap:wrap;\n",
              "      gap: 12px;\n",
              "    }\n",
              "\n",
              "    .colab-df-convert {\n",
              "      background-color: #E8F0FE;\n",
              "      border: none;\n",
              "      border-radius: 50%;\n",
              "      cursor: pointer;\n",
              "      display: none;\n",
              "      fill: #1967D2;\n",
              "      height: 32px;\n",
              "      padding: 0 0 0 0;\n",
              "      width: 32px;\n",
              "    }\n",
              "\n",
              "    .colab-df-convert:hover {\n",
              "      background-color: #E2EBFA;\n",
              "      box-shadow: 0px 1px 2px rgba(60, 64, 67, 0.3), 0px 1px 3px 1px rgba(60, 64, 67, 0.15);\n",
              "      fill: #174EA6;\n",
              "    }\n",
              "\n",
              "    [theme=dark] .colab-df-convert {\n",
              "      background-color: #3B4455;\n",
              "      fill: #D2E3FC;\n",
              "    }\n",
              "\n",
              "    [theme=dark] .colab-df-convert:hover {\n",
              "      background-color: #434B5C;\n",
              "      box-shadow: 0px 1px 3px 1px rgba(0, 0, 0, 0.15);\n",
              "      filter: drop-shadow(0px 1px 2px rgba(0, 0, 0, 0.3));\n",
              "      fill: #FFFFFF;\n",
              "    }\n",
              "  </style>\n",
              "\n",
              "      <script>\n",
              "        const buttonEl =\n",
              "          document.querySelector('#df-f2fc2930-ae6c-4403-b971-ee96720dd368 button.colab-df-convert');\n",
              "        buttonEl.style.display =\n",
              "          google.colab.kernel.accessAllowed ? 'block' : 'none';\n",
              "\n",
              "        async function convertToInteractive(key) {\n",
              "          const element = document.querySelector('#df-f2fc2930-ae6c-4403-b971-ee96720dd368');\n",
              "          const dataTable =\n",
              "            await google.colab.kernel.invokeFunction('convertToInteractive',\n",
              "                                                     [key], {});\n",
              "          if (!dataTable) return;\n",
              "\n",
              "          const docLinkHtml = 'Like what you see? Visit the ' +\n",
              "            '<a target=\"_blank\" href=https://colab.research.google.com/notebooks/data_table.ipynb>data table notebook</a>'\n",
              "            + ' to learn more about interactive tables.';\n",
              "          element.innerHTML = '';\n",
              "          dataTable['output_type'] = 'display_data';\n",
              "          await google.colab.output.renderOutput(dataTable, element);\n",
              "          const docLink = document.createElement('div');\n",
              "          docLink.innerHTML = docLinkHtml;\n",
              "          element.appendChild(docLink);\n",
              "        }\n",
              "      </script>\n",
              "    </div>\n",
              "  </div>\n",
              "  "
            ]
          },
          "metadata": {},
          "execution_count": 171
        }
      ]
    },
    {
      "cell_type": "code",
      "source": [
        "# Atribuindo os novos valores em seus respectivos lugares\n",
        "df_medias_teste['emprego_Comissionado'] = novas_colunas_emprego['emprego_Comissionado']\n",
        "df_medias_teste['emprego_Geral'] = novas_colunas_emprego['emprego_Geral']\n",
        "df_medias_teste['emprego_Gerente'] = novas_colunas_emprego['emprego_Gerente']\n",
        "df_medias_teste['emprego_Outros'] = novas_colunas_emprego['emprego_Outros']\n",
        "df_medias_teste['emprego_Professional'] = novas_colunas_emprego['emprego_Professional']"
      ],
      "metadata": {
        "id": "KX1FSv87htkQ"
      },
      "execution_count": 172,
      "outputs": []
    },
    {
      "cell_type": "code",
      "source": [
        "# Excluindo a coluna emprego, já que temos a mesma coluna só que particionada\n",
        "df_medias_teste = df_medias_teste.drop('Emprego', axis = 'columns')"
      ],
      "metadata": {
        "id": "_y7k4Up_htkQ"
      },
      "execution_count": 173,
      "outputs": []
    },
    {
      "cell_type": "code",
      "source": [
        "# Observando os valores\n",
        "df_medias_teste.head()"
      ],
      "metadata": {
        "colab": {
          "base_uri": "https://localhost:8080/",
          "height": 0
        },
        "outputId": "fbeac21a-354c-4230-a26c-f6ca6bbc9a1d",
        "id": "y8ytOpgQhtkQ"
      },
      "execution_count": 174,
      "outputs": [
        {
          "output_type": "execute_result",
          "data": {
            "text/plain": [
              "   Empréstimo  ValorDoBem  Finalidade  TempoEmprego  Negativos  Atrasos  \\\n",
              "0     82582.0   342542.60           0          8.00   0.000000      0.0   \n",
              "1     37680.0   233000.56           0          6.00   0.000000      0.0   \n",
              "2     58404.0   218578.54           1          2.75   0.000000      0.0   \n",
              "3     33284.0   255630.54           1         15.75   0.000000      0.0   \n",
              "4     66882.0   315629.66           0          7.00   0.108108      0.0   \n",
              "\n",
              "   TempoCliente  LC-Recente  LC-Atual   RDS  emprego_Comissionado  \\\n",
              "0         407.7         0.0      43.0  41.3                     0   \n",
              "1         100.3         2.0      14.0  25.5                     0   \n",
              "2         133.1         0.0      17.0  34.7                     0   \n",
              "3         239.8         1.0      35.0  36.7                     0   \n",
              "4         101.4         1.0      18.0  34.0                     0   \n",
              "\n",
              "   emprego_Geral  emprego_Gerente  emprego_Outros  emprego_Professional  \n",
              "0              1                0               0                     0  \n",
              "1              1                0               0                     0  \n",
              "2              1                0               0                     0  \n",
              "3              0                0               1                     0  \n",
              "4              1                0               0                     0  "
            ],
            "text/html": [
              "\n",
              "  <div id=\"df-156f1ae0-beeb-4a8d-b83a-34c46018f064\">\n",
              "    <div class=\"colab-df-container\">\n",
              "      <div>\n",
              "<style scoped>\n",
              "    .dataframe tbody tr th:only-of-type {\n",
              "        vertical-align: middle;\n",
              "    }\n",
              "\n",
              "    .dataframe tbody tr th {\n",
              "        vertical-align: top;\n",
              "    }\n",
              "\n",
              "    .dataframe thead th {\n",
              "        text-align: right;\n",
              "    }\n",
              "</style>\n",
              "<table border=\"1\" class=\"dataframe\">\n",
              "  <thead>\n",
              "    <tr style=\"text-align: right;\">\n",
              "      <th></th>\n",
              "      <th>Empréstimo</th>\n",
              "      <th>ValorDoBem</th>\n",
              "      <th>Finalidade</th>\n",
              "      <th>TempoEmprego</th>\n",
              "      <th>Negativos</th>\n",
              "      <th>Atrasos</th>\n",
              "      <th>TempoCliente</th>\n",
              "      <th>LC-Recente</th>\n",
              "      <th>LC-Atual</th>\n",
              "      <th>RDS</th>\n",
              "      <th>emprego_Comissionado</th>\n",
              "      <th>emprego_Geral</th>\n",
              "      <th>emprego_Gerente</th>\n",
              "      <th>emprego_Outros</th>\n",
              "      <th>emprego_Professional</th>\n",
              "    </tr>\n",
              "  </thead>\n",
              "  <tbody>\n",
              "    <tr>\n",
              "      <th>0</th>\n",
              "      <td>82582.0</td>\n",
              "      <td>342542.60</td>\n",
              "      <td>0</td>\n",
              "      <td>8.00</td>\n",
              "      <td>0.000000</td>\n",
              "      <td>0.0</td>\n",
              "      <td>407.7</td>\n",
              "      <td>0.0</td>\n",
              "      <td>43.0</td>\n",
              "      <td>41.3</td>\n",
              "      <td>0</td>\n",
              "      <td>1</td>\n",
              "      <td>0</td>\n",
              "      <td>0</td>\n",
              "      <td>0</td>\n",
              "    </tr>\n",
              "    <tr>\n",
              "      <th>1</th>\n",
              "      <td>37680.0</td>\n",
              "      <td>233000.56</td>\n",
              "      <td>0</td>\n",
              "      <td>6.00</td>\n",
              "      <td>0.000000</td>\n",
              "      <td>0.0</td>\n",
              "      <td>100.3</td>\n",
              "      <td>2.0</td>\n",
              "      <td>14.0</td>\n",
              "      <td>25.5</td>\n",
              "      <td>0</td>\n",
              "      <td>1</td>\n",
              "      <td>0</td>\n",
              "      <td>0</td>\n",
              "      <td>0</td>\n",
              "    </tr>\n",
              "    <tr>\n",
              "      <th>2</th>\n",
              "      <td>58404.0</td>\n",
              "      <td>218578.54</td>\n",
              "      <td>1</td>\n",
              "      <td>2.75</td>\n",
              "      <td>0.000000</td>\n",
              "      <td>0.0</td>\n",
              "      <td>133.1</td>\n",
              "      <td>0.0</td>\n",
              "      <td>17.0</td>\n",
              "      <td>34.7</td>\n",
              "      <td>0</td>\n",
              "      <td>1</td>\n",
              "      <td>0</td>\n",
              "      <td>0</td>\n",
              "      <td>0</td>\n",
              "    </tr>\n",
              "    <tr>\n",
              "      <th>3</th>\n",
              "      <td>33284.0</td>\n",
              "      <td>255630.54</td>\n",
              "      <td>1</td>\n",
              "      <td>15.75</td>\n",
              "      <td>0.000000</td>\n",
              "      <td>0.0</td>\n",
              "      <td>239.8</td>\n",
              "      <td>1.0</td>\n",
              "      <td>35.0</td>\n",
              "      <td>36.7</td>\n",
              "      <td>0</td>\n",
              "      <td>0</td>\n",
              "      <td>0</td>\n",
              "      <td>1</td>\n",
              "      <td>0</td>\n",
              "    </tr>\n",
              "    <tr>\n",
              "      <th>4</th>\n",
              "      <td>66882.0</td>\n",
              "      <td>315629.66</td>\n",
              "      <td>0</td>\n",
              "      <td>7.00</td>\n",
              "      <td>0.108108</td>\n",
              "      <td>0.0</td>\n",
              "      <td>101.4</td>\n",
              "      <td>1.0</td>\n",
              "      <td>18.0</td>\n",
              "      <td>34.0</td>\n",
              "      <td>0</td>\n",
              "      <td>1</td>\n",
              "      <td>0</td>\n",
              "      <td>0</td>\n",
              "      <td>0</td>\n",
              "    </tr>\n",
              "  </tbody>\n",
              "</table>\n",
              "</div>\n",
              "      <button class=\"colab-df-convert\" onclick=\"convertToInteractive('df-156f1ae0-beeb-4a8d-b83a-34c46018f064')\"\n",
              "              title=\"Convert this dataframe to an interactive table.\"\n",
              "              style=\"display:none;\">\n",
              "        \n",
              "  <svg xmlns=\"http://www.w3.org/2000/svg\" height=\"24px\"viewBox=\"0 0 24 24\"\n",
              "       width=\"24px\">\n",
              "    <path d=\"M0 0h24v24H0V0z\" fill=\"none\"/>\n",
              "    <path d=\"M18.56 5.44l.94 2.06.94-2.06 2.06-.94-2.06-.94-.94-2.06-.94 2.06-2.06.94zm-11 1L8.5 8.5l.94-2.06 2.06-.94-2.06-.94L8.5 2.5l-.94 2.06-2.06.94zm10 10l.94 2.06.94-2.06 2.06-.94-2.06-.94-.94-2.06-.94 2.06-2.06.94z\"/><path d=\"M17.41 7.96l-1.37-1.37c-.4-.4-.92-.59-1.43-.59-.52 0-1.04.2-1.43.59L10.3 9.45l-7.72 7.72c-.78.78-.78 2.05 0 2.83L4 21.41c.39.39.9.59 1.41.59.51 0 1.02-.2 1.41-.59l7.78-7.78 2.81-2.81c.8-.78.8-2.07 0-2.86zM5.41 20L4 18.59l7.72-7.72 1.47 1.35L5.41 20z\"/>\n",
              "  </svg>\n",
              "      </button>\n",
              "      \n",
              "  <style>\n",
              "    .colab-df-container {\n",
              "      display:flex;\n",
              "      flex-wrap:wrap;\n",
              "      gap: 12px;\n",
              "    }\n",
              "\n",
              "    .colab-df-convert {\n",
              "      background-color: #E8F0FE;\n",
              "      border: none;\n",
              "      border-radius: 50%;\n",
              "      cursor: pointer;\n",
              "      display: none;\n",
              "      fill: #1967D2;\n",
              "      height: 32px;\n",
              "      padding: 0 0 0 0;\n",
              "      width: 32px;\n",
              "    }\n",
              "\n",
              "    .colab-df-convert:hover {\n",
              "      background-color: #E2EBFA;\n",
              "      box-shadow: 0px 1px 2px rgba(60, 64, 67, 0.3), 0px 1px 3px 1px rgba(60, 64, 67, 0.15);\n",
              "      fill: #174EA6;\n",
              "    }\n",
              "\n",
              "    [theme=dark] .colab-df-convert {\n",
              "      background-color: #3B4455;\n",
              "      fill: #D2E3FC;\n",
              "    }\n",
              "\n",
              "    [theme=dark] .colab-df-convert:hover {\n",
              "      background-color: #434B5C;\n",
              "      box-shadow: 0px 1px 3px 1px rgba(0, 0, 0, 0.15);\n",
              "      filter: drop-shadow(0px 1px 2px rgba(0, 0, 0, 0.3));\n",
              "      fill: #FFFFFF;\n",
              "    }\n",
              "  </style>\n",
              "\n",
              "      <script>\n",
              "        const buttonEl =\n",
              "          document.querySelector('#df-156f1ae0-beeb-4a8d-b83a-34c46018f064 button.colab-df-convert');\n",
              "        buttonEl.style.display =\n",
              "          google.colab.kernel.accessAllowed ? 'block' : 'none';\n",
              "\n",
              "        async function convertToInteractive(key) {\n",
              "          const element = document.querySelector('#df-156f1ae0-beeb-4a8d-b83a-34c46018f064');\n",
              "          const dataTable =\n",
              "            await google.colab.kernel.invokeFunction('convertToInteractive',\n",
              "                                                     [key], {});\n",
              "          if (!dataTable) return;\n",
              "\n",
              "          const docLinkHtml = 'Like what you see? Visit the ' +\n",
              "            '<a target=\"_blank\" href=https://colab.research.google.com/notebooks/data_table.ipynb>data table notebook</a>'\n",
              "            + ' to learn more about interactive tables.';\n",
              "          element.innerHTML = '';\n",
              "          dataTable['output_type'] = 'display_data';\n",
              "          await google.colab.output.renderOutput(dataTable, element);\n",
              "          const docLink = document.createElement('div');\n",
              "          docLink.innerHTML = docLinkHtml;\n",
              "          element.appendChild(docLink);\n",
              "        }\n",
              "      </script>\n",
              "    </div>\n",
              "  </div>\n",
              "  "
            ]
          },
          "metadata": {},
          "execution_count": 174
        }
      ]
    },
    {
      "cell_type": "markdown",
      "source": [
        "Com todos os tratamentos executados podemos seguir para as predições nos dados de teste."
      ],
      "metadata": {
        "id": "Odbq2u8BhcZK"
      }
    },
    {
      "cell_type": "markdown",
      "source": [
        "## **3. Previsão nos dados de teste**"
      ],
      "metadata": {
        "id": "pTArDW-7Wi8k"
      }
    },
    {
      "cell_type": "code",
      "source": [
        "# Criando um DF, para armazenar os valores preditos\n",
        "submissao = pd.DataFrame()\n",
        "\n",
        "# Criando a coluna e armazenando as predições\n",
        "submissao['Cliente'] = predict_model(best, data = df_medias_teste)['prediction_label']\n",
        "\n",
        "# Alterando os valores preditos\n",
        "submissao['Cliente'] = submissao['Cliente'].map({1: 'mau pagador', 0: 'bom pagador'})\n",
        "\n",
        "# Observando os valores\n",
        "submissao"
      ],
      "metadata": {
        "id": "0sPBhjQtyAtN",
        "colab": {
          "base_uri": "https://localhost:8080/",
          "height": 423
        },
        "outputId": "6efd15f6-213d-43df-8fdd-e90c3bf2c169"
      },
      "execution_count": 175,
      "outputs": [
        {
          "output_type": "display_data",
          "data": {
            "text/plain": [
              "<IPython.core.display.HTML object>"
            ],
            "text/html": []
          },
          "metadata": {}
        },
        {
          "output_type": "execute_result",
          "data": {
            "text/plain": [
              "          Cliente\n",
              "0     bom pagador\n",
              "1     bom pagador\n",
              "2     bom pagador\n",
              "3     bom pagador\n",
              "4     bom pagador\n",
              "...           ...\n",
              "1695  bom pagador\n",
              "1696  bom pagador\n",
              "1697  bom pagador\n",
              "1698  bom pagador\n",
              "1699  bom pagador\n",
              "\n",
              "[1700 rows x 1 columns]"
            ],
            "text/html": [
              "\n",
              "  <div id=\"df-306ac602-8646-45fb-aecd-9d78d9548577\">\n",
              "    <div class=\"colab-df-container\">\n",
              "      <div>\n",
              "<style scoped>\n",
              "    .dataframe tbody tr th:only-of-type {\n",
              "        vertical-align: middle;\n",
              "    }\n",
              "\n",
              "    .dataframe tbody tr th {\n",
              "        vertical-align: top;\n",
              "    }\n",
              "\n",
              "    .dataframe thead th {\n",
              "        text-align: right;\n",
              "    }\n",
              "</style>\n",
              "<table border=\"1\" class=\"dataframe\">\n",
              "  <thead>\n",
              "    <tr style=\"text-align: right;\">\n",
              "      <th></th>\n",
              "      <th>Cliente</th>\n",
              "    </tr>\n",
              "  </thead>\n",
              "  <tbody>\n",
              "    <tr>\n",
              "      <th>0</th>\n",
              "      <td>bom pagador</td>\n",
              "    </tr>\n",
              "    <tr>\n",
              "      <th>1</th>\n",
              "      <td>bom pagador</td>\n",
              "    </tr>\n",
              "    <tr>\n",
              "      <th>2</th>\n",
              "      <td>bom pagador</td>\n",
              "    </tr>\n",
              "    <tr>\n",
              "      <th>3</th>\n",
              "      <td>bom pagador</td>\n",
              "    </tr>\n",
              "    <tr>\n",
              "      <th>4</th>\n",
              "      <td>bom pagador</td>\n",
              "    </tr>\n",
              "    <tr>\n",
              "      <th>...</th>\n",
              "      <td>...</td>\n",
              "    </tr>\n",
              "    <tr>\n",
              "      <th>1695</th>\n",
              "      <td>bom pagador</td>\n",
              "    </tr>\n",
              "    <tr>\n",
              "      <th>1696</th>\n",
              "      <td>bom pagador</td>\n",
              "    </tr>\n",
              "    <tr>\n",
              "      <th>1697</th>\n",
              "      <td>bom pagador</td>\n",
              "    </tr>\n",
              "    <tr>\n",
              "      <th>1698</th>\n",
              "      <td>bom pagador</td>\n",
              "    </tr>\n",
              "    <tr>\n",
              "      <th>1699</th>\n",
              "      <td>bom pagador</td>\n",
              "    </tr>\n",
              "  </tbody>\n",
              "</table>\n",
              "<p>1700 rows × 1 columns</p>\n",
              "</div>\n",
              "      <button class=\"colab-df-convert\" onclick=\"convertToInteractive('df-306ac602-8646-45fb-aecd-9d78d9548577')\"\n",
              "              title=\"Convert this dataframe to an interactive table.\"\n",
              "              style=\"display:none;\">\n",
              "        \n",
              "  <svg xmlns=\"http://www.w3.org/2000/svg\" height=\"24px\"viewBox=\"0 0 24 24\"\n",
              "       width=\"24px\">\n",
              "    <path d=\"M0 0h24v24H0V0z\" fill=\"none\"/>\n",
              "    <path d=\"M18.56 5.44l.94 2.06.94-2.06 2.06-.94-2.06-.94-.94-2.06-.94 2.06-2.06.94zm-11 1L8.5 8.5l.94-2.06 2.06-.94-2.06-.94L8.5 2.5l-.94 2.06-2.06.94zm10 10l.94 2.06.94-2.06 2.06-.94-2.06-.94-.94-2.06-.94 2.06-2.06.94z\"/><path d=\"M17.41 7.96l-1.37-1.37c-.4-.4-.92-.59-1.43-.59-.52 0-1.04.2-1.43.59L10.3 9.45l-7.72 7.72c-.78.78-.78 2.05 0 2.83L4 21.41c.39.39.9.59 1.41.59.51 0 1.02-.2 1.41-.59l7.78-7.78 2.81-2.81c.8-.78.8-2.07 0-2.86zM5.41 20L4 18.59l7.72-7.72 1.47 1.35L5.41 20z\"/>\n",
              "  </svg>\n",
              "      </button>\n",
              "      \n",
              "  <style>\n",
              "    .colab-df-container {\n",
              "      display:flex;\n",
              "      flex-wrap:wrap;\n",
              "      gap: 12px;\n",
              "    }\n",
              "\n",
              "    .colab-df-convert {\n",
              "      background-color: #E8F0FE;\n",
              "      border: none;\n",
              "      border-radius: 50%;\n",
              "      cursor: pointer;\n",
              "      display: none;\n",
              "      fill: #1967D2;\n",
              "      height: 32px;\n",
              "      padding: 0 0 0 0;\n",
              "      width: 32px;\n",
              "    }\n",
              "\n",
              "    .colab-df-convert:hover {\n",
              "      background-color: #E2EBFA;\n",
              "      box-shadow: 0px 1px 2px rgba(60, 64, 67, 0.3), 0px 1px 3px 1px rgba(60, 64, 67, 0.15);\n",
              "      fill: #174EA6;\n",
              "    }\n",
              "\n",
              "    [theme=dark] .colab-df-convert {\n",
              "      background-color: #3B4455;\n",
              "      fill: #D2E3FC;\n",
              "    }\n",
              "\n",
              "    [theme=dark] .colab-df-convert:hover {\n",
              "      background-color: #434B5C;\n",
              "      box-shadow: 0px 1px 3px 1px rgba(0, 0, 0, 0.15);\n",
              "      filter: drop-shadow(0px 1px 2px rgba(0, 0, 0, 0.3));\n",
              "      fill: #FFFFFF;\n",
              "    }\n",
              "  </style>\n",
              "\n",
              "      <script>\n",
              "        const buttonEl =\n",
              "          document.querySelector('#df-306ac602-8646-45fb-aecd-9d78d9548577 button.colab-df-convert');\n",
              "        buttonEl.style.display =\n",
              "          google.colab.kernel.accessAllowed ? 'block' : 'none';\n",
              "\n",
              "        async function convertToInteractive(key) {\n",
              "          const element = document.querySelector('#df-306ac602-8646-45fb-aecd-9d78d9548577');\n",
              "          const dataTable =\n",
              "            await google.colab.kernel.invokeFunction('convertToInteractive',\n",
              "                                                     [key], {});\n",
              "          if (!dataTable) return;\n",
              "\n",
              "          const docLinkHtml = 'Like what you see? Visit the ' +\n",
              "            '<a target=\"_blank\" href=https://colab.research.google.com/notebooks/data_table.ipynb>data table notebook</a>'\n",
              "            + ' to learn more about interactive tables.';\n",
              "          element.innerHTML = '';\n",
              "          dataTable['output_type'] = 'display_data';\n",
              "          await google.colab.output.renderOutput(dataTable, element);\n",
              "          const docLink = document.createElement('div');\n",
              "          docLink.innerHTML = docLinkHtml;\n",
              "          element.appendChild(docLink);\n",
              "        }\n",
              "      </script>\n",
              "    </div>\n",
              "  </div>\n",
              "  "
            ]
          },
          "metadata": {},
          "execution_count": 175
        }
      ]
    },
    {
      "cell_type": "code",
      "source": [
        "# Observando os valores preditos\n",
        "submissao.value_counts()"
      ],
      "metadata": {
        "colab": {
          "base_uri": "https://localhost:8080/"
        },
        "id": "tXox-0wG-Lk1",
        "outputId": "c9607b97-8030-44a3-8f0b-f8180575c45b"
      },
      "execution_count": 176,
      "outputs": [
        {
          "output_type": "execute_result",
          "data": {
            "text/plain": [
              "Cliente    \n",
              "bom pagador    1437\n",
              "mau pagador     263\n",
              "dtype: int64"
            ]
          },
          "metadata": {},
          "execution_count": 176
        }
      ]
    },
    {
      "cell_type": "code",
      "source": [
        "# Salvando o arquivo no Colab\n",
        "submissao.to_csv('submissão-pycaret-03.csv', index = False)"
      ],
      "metadata": {
        "id": "104o61WzyKdV"
      },
      "execution_count": 180,
      "outputs": []
    },
    {
      "cell_type": "code",
      "source": [
        "from google.colab import files\n",
        "\n",
        "# Baixando o arquivo\n",
        "files.download('submissão-pycaret-03.csv')"
      ],
      "metadata": {
        "colab": {
          "base_uri": "https://localhost:8080/",
          "height": 17
        },
        "id": "_kPYp29wpgL0",
        "outputId": "a8dbfbed-45e3-4d79-b51a-706c057291a6"
      },
      "execution_count": 181,
      "outputs": [
        {
          "output_type": "display_data",
          "data": {
            "text/plain": [
              "<IPython.core.display.Javascript object>"
            ],
            "application/javascript": [
              "\n",
              "    async function download(id, filename, size) {\n",
              "      if (!google.colab.kernel.accessAllowed) {\n",
              "        return;\n",
              "      }\n",
              "      const div = document.createElement('div');\n",
              "      const label = document.createElement('label');\n",
              "      label.textContent = `Downloading \"${filename}\": `;\n",
              "      div.appendChild(label);\n",
              "      const progress = document.createElement('progress');\n",
              "      progress.max = size;\n",
              "      div.appendChild(progress);\n",
              "      document.body.appendChild(div);\n",
              "\n",
              "      const buffers = [];\n",
              "      let downloaded = 0;\n",
              "\n",
              "      const channel = await google.colab.kernel.comms.open(id);\n",
              "      // Send a message to notify the kernel that we're ready.\n",
              "      channel.send({})\n",
              "\n",
              "      for await (const message of channel.messages) {\n",
              "        // Send a message to notify the kernel that we're ready.\n",
              "        channel.send({})\n",
              "        if (message.buffers) {\n",
              "          for (const buffer of message.buffers) {\n",
              "            buffers.push(buffer);\n",
              "            downloaded += buffer.byteLength;\n",
              "            progress.value = downloaded;\n",
              "          }\n",
              "        }\n",
              "      }\n",
              "      const blob = new Blob(buffers, {type: 'application/binary'});\n",
              "      const a = document.createElement('a');\n",
              "      a.href = window.URL.createObjectURL(blob);\n",
              "      a.download = filename;\n",
              "      div.appendChild(a);\n",
              "      a.click();\n",
              "      div.remove();\n",
              "    }\n",
              "  "
            ]
          },
          "metadata": {}
        },
        {
          "output_type": "display_data",
          "data": {
            "text/plain": [
              "<IPython.core.display.Javascript object>"
            ],
            "application/javascript": [
              "download(\"download_f278f33b-fc90-4517-9e2b-25233b324881\", \"submiss\\u00e3o-pycaret-03.csv\", 20408)"
            ]
          },
          "metadata": {}
        }
      ]
    }
  ]
}