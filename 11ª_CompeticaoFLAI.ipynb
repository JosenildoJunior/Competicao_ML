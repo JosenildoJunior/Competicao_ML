{
  "nbformat": 4,
  "nbformat_minor": 0,
  "metadata": {
    "colab": {
      "provenance": [],
      "collapsed_sections": [
        "VyyMbV594tS-",
        "-OWjEmhKJMhu",
        "XxUewktXv6jj",
        "ViwHenNmGslV",
        "5wKgFcGWA0c3",
        "Tt_5QALX_B4y",
        "mxFudoswFgjo",
        "ik9JrEk3FmE4",
        "en73-BQQCK_P",
        "WCUAIgZ6IEyy",
        "aQm23s0bI9Ri",
        "glF9Q-l4LBdi",
        "IlhPlPjeM0jx",
        "o17pmSm6NTSQ",
        "xAwDS3kxoF-Y",
        "5kIrlzZLav2c",
        "0jYAH_INTOFa",
        "9ZdTk748e08J",
        "TJ4QdllSw1y2"
      ],
      "authorship_tag": "ABX9TyO3TR3NhpWIbVN3cDTFUqox",
      "include_colab_link": true
    },
    "kernelspec": {
      "name": "python3",
      "display_name": "Python 3"
    },
    "language_info": {
      "name": "python"
    }
  },
  "cells": [
    {
      "cell_type": "markdown",
      "metadata": {
        "id": "view-in-github",
        "colab_type": "text"
      },
      "source": [
        "<a href=\"https://colab.research.google.com/github/JosenildoJunior/Competicao_ML/blob/main/11%C2%AA_CompeticaoFLAI.ipynb\" target=\"_parent\"><img src=\"https://colab.research.google.com/assets/colab-badge.svg\" alt=\"Open In Colab\"/></a>"
      ]
    },
    {
      "cell_type": "markdown",
      "source": [
        "# **1. Entendimento do problema**"
      ],
      "metadata": {
        "id": "VyyMbV594tS-"
      }
    },
    {
      "cell_type": "markdown",
      "source": [
        "O departamento de crédito de um banco deseja automatizar o processo de tomada de\n",
        "decisão para a aprovação de empréstimos fiduciários. Sua missão é avaliar um conjunto\n",
        "de dados sobre o tomador do empréstimo e decidir se um novo empréstimo poderá ser\n",
        "feito."
      ],
      "metadata": {
        "id": "pBg4lxrmJj-l"
      }
    },
    {
      "cell_type": "markdown",
      "source": [
        "# **2. Obtenção dos dados**"
      ],
      "metadata": {
        "id": "-OWjEmhKJMhu"
      }
    },
    {
      "cell_type": "markdown",
      "source": [
        "O departamento de crédito de um banco deseja automatizar o processo de tomada de\n",
        "decisão para a aprovação de empréstimos fiduciários. Sua missão é avaliar um conjunto\n",
        "de dados sobre o tomador do empréstimo e decidir se um novo empréstimo poderá ser\n",
        "feito."
      ],
      "metadata": {
        "id": "siGZywQKJQve"
      }
    },
    {
      "cell_type": "markdown",
      "source": [
        "\n",
        "**Permitindo o acesso do Google Colab ao Drive**\n",
        "\n",
        "  Esse passo é necessário para que seja possivel importar dados diretamente do drive"
      ],
      "metadata": {
        "id": "I6yaOqbMIWrN"
      }
    },
    {
      "cell_type": "code",
      "execution_count": 105,
      "metadata": {
        "colab": {
          "base_uri": "https://localhost:8080/"
        },
        "id": "L5xnHB_FrCyC",
        "outputId": "35655c03-3cfe-47f0-dc6c-70c915490540"
      },
      "outputs": [
        {
          "output_type": "stream",
          "name": "stdout",
          "text": [
            "Drive already mounted at /content/drive; to attempt to forcibly remount, call drive.mount(\"/content/drive\", force_remount=True).\n"
          ]
        }
      ],
      "source": [
        "# \"Montando\" o drive\n",
        "from google.colab import drive\n",
        "drive.mount('/content/drive')"
      ]
    },
    {
      "cell_type": "markdown",
      "source": [
        "**Importando as bibliotecas**"
      ],
      "metadata": {
        "id": "p1WpBjCgIgSN"
      }
    },
    {
      "cell_type": "markdown",
      "source": [
        "**Para fazer as analises é necessario importar algumas bibliotecas previamente, nesse caso estou importando o pandas para manipulação de dados, também estão sendo importadas o pyplot e o seaborn para visualização dos dados.**"
      ],
      "metadata": {
        "id": "bWpWdF2NIbzG"
      }
    },
    {
      "cell_type": "code",
      "source": [
        "# Importações iniciais\n",
        "import pandas as pd \n",
        "import seaborn as sns\n",
        "import matplotlib.pyplot as plt"
      ],
      "metadata": {
        "id": "UlKIhUxstDqG"
      },
      "execution_count": 106,
      "outputs": []
    },
    {
      "cell_type": "markdown",
      "source": [
        "**Importação dos dados**"
      ],
      "metadata": {
        "id": "rZlT2MRsIrxN"
      }
    },
    {
      "cell_type": "code",
      "source": [
        "# Fonte:\n",
        "\n",
        "# Dados de treino\n",
        "df = pd.read_csv('/content/drive/MyDrive/Dados/treinoFLAI_competicao.csv')\n",
        "\n",
        "# Dados de teste\n",
        "teste = pd.read_csv('/content/drive/MyDrive/Dados/testeFLAI_competicao.csv')\n",
        "# Visualizando as primeiras linhas do DF\n",
        "df.head()"
      ],
      "metadata": {
        "colab": {
          "base_uri": "https://localhost:8080/",
          "height": 0
        },
        "id": "s8FdoYPUtFFV",
        "outputId": "96865335-ace0-4147-ac03-a1484da1979b"
      },
      "execution_count": 107,
      "outputs": [
        {
          "output_type": "execute_result",
          "data": {
            "text/plain": [
              "       Cliente  Empréstimo  ValorDoBem Finalidade       Emprego  TempoEmprego  \\\n",
              "0  bom pagador     19468.0   309447.00    Reforma        Outros          0.50   \n",
              "1  bom pagador     91688.0   449020.00   Diversas        Outros         15.25   \n",
              "2  bom pagador     34226.0   164394.70    Reforma        Outros          1.25   \n",
              "3  bom pagador     48356.0   270592.64   Diversas        Outros          2.25   \n",
              "4  bom pagador     64684.0    78167.16   Diversas  Professional          3.75   \n",
              "\n",
              "   Negativos  Atrasos  TempoCliente  LC-Recente  LC-Atual    RDS  \n",
              "0        0.0      1.0         185.6         0.0      33.0  39.2%  \n",
              "1        0.0      0.0         234.5         1.0      41.0    NaN  \n",
              "2        0.0      0.0         250.5         0.0      10.0  37.2%  \n",
              "3        1.0      0.0         230.4         3.0      26.0  29.0%  \n",
              "4        0.0      0.0          93.6         0.0      18.0  21.0%  "
            ],
            "text/html": [
              "\n",
              "  <div id=\"df-10503ddc-2222-4277-92b8-88d5424400d0\">\n",
              "    <div class=\"colab-df-container\">\n",
              "      <div>\n",
              "<style scoped>\n",
              "    .dataframe tbody tr th:only-of-type {\n",
              "        vertical-align: middle;\n",
              "    }\n",
              "\n",
              "    .dataframe tbody tr th {\n",
              "        vertical-align: top;\n",
              "    }\n",
              "\n",
              "    .dataframe thead th {\n",
              "        text-align: right;\n",
              "    }\n",
              "</style>\n",
              "<table border=\"1\" class=\"dataframe\">\n",
              "  <thead>\n",
              "    <tr style=\"text-align: right;\">\n",
              "      <th></th>\n",
              "      <th>Cliente</th>\n",
              "      <th>Empréstimo</th>\n",
              "      <th>ValorDoBem</th>\n",
              "      <th>Finalidade</th>\n",
              "      <th>Emprego</th>\n",
              "      <th>TempoEmprego</th>\n",
              "      <th>Negativos</th>\n",
              "      <th>Atrasos</th>\n",
              "      <th>TempoCliente</th>\n",
              "      <th>LC-Recente</th>\n",
              "      <th>LC-Atual</th>\n",
              "      <th>RDS</th>\n",
              "    </tr>\n",
              "  </thead>\n",
              "  <tbody>\n",
              "    <tr>\n",
              "      <th>0</th>\n",
              "      <td>bom pagador</td>\n",
              "      <td>19468.0</td>\n",
              "      <td>309447.00</td>\n",
              "      <td>Reforma</td>\n",
              "      <td>Outros</td>\n",
              "      <td>0.50</td>\n",
              "      <td>0.0</td>\n",
              "      <td>1.0</td>\n",
              "      <td>185.6</td>\n",
              "      <td>0.0</td>\n",
              "      <td>33.0</td>\n",
              "      <td>39.2%</td>\n",
              "    </tr>\n",
              "    <tr>\n",
              "      <th>1</th>\n",
              "      <td>bom pagador</td>\n",
              "      <td>91688.0</td>\n",
              "      <td>449020.00</td>\n",
              "      <td>Diversas</td>\n",
              "      <td>Outros</td>\n",
              "      <td>15.25</td>\n",
              "      <td>0.0</td>\n",
              "      <td>0.0</td>\n",
              "      <td>234.5</td>\n",
              "      <td>1.0</td>\n",
              "      <td>41.0</td>\n",
              "      <td>NaN</td>\n",
              "    </tr>\n",
              "    <tr>\n",
              "      <th>2</th>\n",
              "      <td>bom pagador</td>\n",
              "      <td>34226.0</td>\n",
              "      <td>164394.70</td>\n",
              "      <td>Reforma</td>\n",
              "      <td>Outros</td>\n",
              "      <td>1.25</td>\n",
              "      <td>0.0</td>\n",
              "      <td>0.0</td>\n",
              "      <td>250.5</td>\n",
              "      <td>0.0</td>\n",
              "      <td>10.0</td>\n",
              "      <td>37.2%</td>\n",
              "    </tr>\n",
              "    <tr>\n",
              "      <th>3</th>\n",
              "      <td>bom pagador</td>\n",
              "      <td>48356.0</td>\n",
              "      <td>270592.64</td>\n",
              "      <td>Diversas</td>\n",
              "      <td>Outros</td>\n",
              "      <td>2.25</td>\n",
              "      <td>1.0</td>\n",
              "      <td>0.0</td>\n",
              "      <td>230.4</td>\n",
              "      <td>3.0</td>\n",
              "      <td>26.0</td>\n",
              "      <td>29.0%</td>\n",
              "    </tr>\n",
              "    <tr>\n",
              "      <th>4</th>\n",
              "      <td>bom pagador</td>\n",
              "      <td>64684.0</td>\n",
              "      <td>78167.16</td>\n",
              "      <td>Diversas</td>\n",
              "      <td>Professional</td>\n",
              "      <td>3.75</td>\n",
              "      <td>0.0</td>\n",
              "      <td>0.0</td>\n",
              "      <td>93.6</td>\n",
              "      <td>0.0</td>\n",
              "      <td>18.0</td>\n",
              "      <td>21.0%</td>\n",
              "    </tr>\n",
              "  </tbody>\n",
              "</table>\n",
              "</div>\n",
              "      <button class=\"colab-df-convert\" onclick=\"convertToInteractive('df-10503ddc-2222-4277-92b8-88d5424400d0')\"\n",
              "              title=\"Convert this dataframe to an interactive table.\"\n",
              "              style=\"display:none;\">\n",
              "        \n",
              "  <svg xmlns=\"http://www.w3.org/2000/svg\" height=\"24px\"viewBox=\"0 0 24 24\"\n",
              "       width=\"24px\">\n",
              "    <path d=\"M0 0h24v24H0V0z\" fill=\"none\"/>\n",
              "    <path d=\"M18.56 5.44l.94 2.06.94-2.06 2.06-.94-2.06-.94-.94-2.06-.94 2.06-2.06.94zm-11 1L8.5 8.5l.94-2.06 2.06-.94-2.06-.94L8.5 2.5l-.94 2.06-2.06.94zm10 10l.94 2.06.94-2.06 2.06-.94-2.06-.94-.94-2.06-.94 2.06-2.06.94z\"/><path d=\"M17.41 7.96l-1.37-1.37c-.4-.4-.92-.59-1.43-.59-.52 0-1.04.2-1.43.59L10.3 9.45l-7.72 7.72c-.78.78-.78 2.05 0 2.83L4 21.41c.39.39.9.59 1.41.59.51 0 1.02-.2 1.41-.59l7.78-7.78 2.81-2.81c.8-.78.8-2.07 0-2.86zM5.41 20L4 18.59l7.72-7.72 1.47 1.35L5.41 20z\"/>\n",
              "  </svg>\n",
              "      </button>\n",
              "      \n",
              "  <style>\n",
              "    .colab-df-container {\n",
              "      display:flex;\n",
              "      flex-wrap:wrap;\n",
              "      gap: 12px;\n",
              "    }\n",
              "\n",
              "    .colab-df-convert {\n",
              "      background-color: #E8F0FE;\n",
              "      border: none;\n",
              "      border-radius: 50%;\n",
              "      cursor: pointer;\n",
              "      display: none;\n",
              "      fill: #1967D2;\n",
              "      height: 32px;\n",
              "      padding: 0 0 0 0;\n",
              "      width: 32px;\n",
              "    }\n",
              "\n",
              "    .colab-df-convert:hover {\n",
              "      background-color: #E2EBFA;\n",
              "      box-shadow: 0px 1px 2px rgba(60, 64, 67, 0.3), 0px 1px 3px 1px rgba(60, 64, 67, 0.15);\n",
              "      fill: #174EA6;\n",
              "    }\n",
              "\n",
              "    [theme=dark] .colab-df-convert {\n",
              "      background-color: #3B4455;\n",
              "      fill: #D2E3FC;\n",
              "    }\n",
              "\n",
              "    [theme=dark] .colab-df-convert:hover {\n",
              "      background-color: #434B5C;\n",
              "      box-shadow: 0px 1px 3px 1px rgba(0, 0, 0, 0.15);\n",
              "      filter: drop-shadow(0px 1px 2px rgba(0, 0, 0, 0.3));\n",
              "      fill: #FFFFFF;\n",
              "    }\n",
              "  </style>\n",
              "\n",
              "      <script>\n",
              "        const buttonEl =\n",
              "          document.querySelector('#df-10503ddc-2222-4277-92b8-88d5424400d0 button.colab-df-convert');\n",
              "        buttonEl.style.display =\n",
              "          google.colab.kernel.accessAllowed ? 'block' : 'none';\n",
              "\n",
              "        async function convertToInteractive(key) {\n",
              "          const element = document.querySelector('#df-10503ddc-2222-4277-92b8-88d5424400d0');\n",
              "          const dataTable =\n",
              "            await google.colab.kernel.invokeFunction('convertToInteractive',\n",
              "                                                     [key], {});\n",
              "          if (!dataTable) return;\n",
              "\n",
              "          const docLinkHtml = 'Like what you see? Visit the ' +\n",
              "            '<a target=\"_blank\" href=https://colab.research.google.com/notebooks/data_table.ipynb>data table notebook</a>'\n",
              "            + ' to learn more about interactive tables.';\n",
              "          element.innerHTML = '';\n",
              "          dataTable['output_type'] = 'display_data';\n",
              "          await google.colab.output.renderOutput(dataTable, element);\n",
              "          const docLink = document.createElement('div');\n",
              "          docLink.innerHTML = docLinkHtml;\n",
              "          element.appendChild(docLink);\n",
              "        }\n",
              "      </script>\n",
              "    </div>\n",
              "  </div>\n",
              "  "
            ]
          },
          "metadata": {},
          "execution_count": 107
        }
      ]
    },
    {
      "cell_type": "markdown",
      "source": [
        "*No conjunto de dados temos as seguintes variáveis*\n",
        "* Cliente [Variável Resposta]: bom pagador é aquele que pagou a sua dívida corretamente, mau\n",
        "pagador é aquele que não pagou ou teve atrasos muito grandes em seu pagamento.\n",
        "* Empréstimo: Valor emprestado ao cliente.\n",
        "* ValorDoBem: Valor do bem que o cliente está colocando como garantia (em geral, são imóveis).\n",
        "* Finalidade: Motivo pelo qual o empréstimo está sendo tomado.\n",
        "* Emprego: Tipo de emprego do cliente.\n",
        "* TempoEmprego: Tempo em anos que o cliente tem no seu emprego atual.\n",
        "* Negativos: Número de prerrogativas negativas do cliente (por exemplo, pendências com IPTU,\n",
        "IPVA, conta de luz, cartão de crédito, etc).\n",
        "* Atrasos: Número de linhas de crédito que o cliente já entrou em atraso.\n",
        "* TempoCliente: Tempo do cliente na instituição (em meses).\n",
        "* LC-Recente: Número de linhas de crédito recentes (adquiridas nos últimos 2 anos).\n",
        "* LC-Atual: Número de linhas de crédito atuais.\n",
        "* RDS: Relação Débito/Salário - A porcentagem do salário anual do cliente comprometida em débitos."
      ],
      "metadata": {
        "id": "H8wAxASquLYW"
      }
    },
    {
      "cell_type": "markdown",
      "source": [
        "# **3. Analise exploratória dos dados**\n",
        "\n",
        "\n",
        "\n"
      ],
      "metadata": {
        "id": "XxUewktXv6jj"
      }
    },
    {
      "cell_type": "markdown",
      "source": [
        "**Objetivos**: \n",
        "\n",
        "* Identificar o tipo de cada variável (numérica, categórica, temporal)\n",
        "* Identificar qual é a variável target (alvo) para o nosso problema\n",
        "* Exploração dos dados (medidas descritivas, distribuição das variáveis)\n",
        "* Visualizar os dados para identificar padrões de fraudes"
      ],
      "metadata": {
        "id": "sAcjLe-2447-"
      }
    },
    {
      "cell_type": "code",
      "source": [
        "# Visão geral dos dados\n",
        "df.info()"
      ],
      "metadata": {
        "colab": {
          "base_uri": "https://localhost:8080/"
        },
        "id": "SEUD71Wwv64b",
        "outputId": "d734e2e0-689a-48fa-c33c-e2be39f271bf"
      },
      "execution_count": 108,
      "outputs": [
        {
          "output_type": "stream",
          "name": "stdout",
          "text": [
            "<class 'pandas.core.frame.DataFrame'>\n",
            "RangeIndex: 3300 entries, 0 to 3299\n",
            "Data columns (total 12 columns):\n",
            " #   Column        Non-Null Count  Dtype  \n",
            "---  ------        --------------  -----  \n",
            " 0   Cliente       3300 non-null   object \n",
            " 1   Empréstimo    3300 non-null   float64\n",
            " 2   ValorDoBem    3300 non-null   float64\n",
            " 3   Finalidade    3300 non-null   object \n",
            " 4   Emprego       3300 non-null   object \n",
            " 5   TempoEmprego  3122 non-null   float64\n",
            " 6   Negativos     3122 non-null   float64\n",
            " 7   Atrasos       3198 non-null   float64\n",
            " 8   TempoCliente  3300 non-null   float64\n",
            " 9   LC-Recente    3300 non-null   float64\n",
            " 10  LC-Atual      3300 non-null   float64\n",
            " 11  RDS           2647 non-null   object \n",
            "dtypes: float64(8), object(4)\n",
            "memory usage: 309.5+ KB\n"
          ]
        }
      ]
    },
    {
      "cell_type": "code",
      "source": [
        "# Observando as dimensões do DataFrame\n",
        "df.shape"
      ],
      "metadata": {
        "colab": {
          "base_uri": "https://localhost:8080/"
        },
        "id": "1425zQqkwKTU",
        "outputId": "afb33304-96d3-4c2b-f765-911373cc407d"
      },
      "execution_count": 109,
      "outputs": [
        {
          "output_type": "execute_result",
          "data": {
            "text/plain": [
              "(3300, 12)"
            ]
          },
          "metadata": {},
          "execution_count": 109
        }
      ]
    },
    {
      "cell_type": "markdown",
      "source": [
        "É possível observar que esse dataset tem 3300 entradas e 12 colunas.\n",
        "\n",
        "Os dados se enquadram em duas categorias:\n",
        "\n",
        "* **Variáveis numéricas: Empréstimo, ValorDoBem, TempoEmprego, Negativos, Atrasos, TempoCliente, LC-Recente e LC-Atual**\n",
        "\n",
        "* **Variáveis categóricas: Finalidade, Emprego e RDS.**\n",
        "\n",
        "**Identificando a variável alvo:**\n",
        "\n",
        "O objetivo é é avaliar os dados sobre o tomador do empréstimo e decidir se um novo empréstimo poderá ser feito. Assim, a variável **'Cliente'** é a variável adequada para alcançar os objetivos propostos."
      ],
      "metadata": {
        "id": "ihLFQwuH5EoP"
      }
    },
    {
      "cell_type": "code",
      "source": [
        "# Observando os dados \n",
        "df.describe()"
      ],
      "metadata": {
        "colab": {
          "base_uri": "https://localhost:8080/",
          "height": 0
        },
        "id": "XcgZXc7K2ALd",
        "outputId": "61af54d4-a753-4279-a2b7-c80f815b0319"
      },
      "execution_count": 110,
      "outputs": [
        {
          "output_type": "execute_result",
          "data": {
            "text/plain": [
              "          Empréstimo    ValorDoBem  TempoEmprego    Negativos      Atrasos  \\\n",
              "count    3300.000000  3.300000e+03   3122.000000  3122.000000  3198.000000   \n",
              "mean    58841.030909  3.256274e+05      9.475208     0.212684     0.413696   \n",
              "std     34109.356093  1.757902e+05      7.540252     0.726832     1.087892   \n",
              "min      4710.000000  2.512000e+04      0.000000     0.000000     0.000000   \n",
              "25%     35796.000000  2.151960e+05      3.500000     0.000000     0.000000   \n",
              "50%     52438.000000  2.884828e+05      7.750000     0.000000     0.000000   \n",
              "75%     73162.000000  3.800829e+05     13.750000     0.000000     0.000000   \n",
              "max    279460.000000  2.687554e+06     41.250000    10.000000    15.000000   \n",
              "\n",
              "       TempoCliente   LC-Recente     LC-Atual  \n",
              "count   3300.000000  3300.000000  3300.000000  \n",
              "mean     182.681818     1.153333    21.763333  \n",
              "std       86.159247     1.695742     9.900538  \n",
              "min        1.100000     0.000000     0.000000  \n",
              "25%      119.450000     0.000000    15.000000  \n",
              "50%      177.200000     1.000000    20.000000  \n",
              "75%      232.750000     2.000000    27.000000  \n",
              "max     1170.200000    18.000000    67.000000  "
            ],
            "text/html": [
              "\n",
              "  <div id=\"df-37c419d0-95b1-4859-9d6f-0cd7b7bec9a8\">\n",
              "    <div class=\"colab-df-container\">\n",
              "      <div>\n",
              "<style scoped>\n",
              "    .dataframe tbody tr th:only-of-type {\n",
              "        vertical-align: middle;\n",
              "    }\n",
              "\n",
              "    .dataframe tbody tr th {\n",
              "        vertical-align: top;\n",
              "    }\n",
              "\n",
              "    .dataframe thead th {\n",
              "        text-align: right;\n",
              "    }\n",
              "</style>\n",
              "<table border=\"1\" class=\"dataframe\">\n",
              "  <thead>\n",
              "    <tr style=\"text-align: right;\">\n",
              "      <th></th>\n",
              "      <th>Empréstimo</th>\n",
              "      <th>ValorDoBem</th>\n",
              "      <th>TempoEmprego</th>\n",
              "      <th>Negativos</th>\n",
              "      <th>Atrasos</th>\n",
              "      <th>TempoCliente</th>\n",
              "      <th>LC-Recente</th>\n",
              "      <th>LC-Atual</th>\n",
              "    </tr>\n",
              "  </thead>\n",
              "  <tbody>\n",
              "    <tr>\n",
              "      <th>count</th>\n",
              "      <td>3300.000000</td>\n",
              "      <td>3.300000e+03</td>\n",
              "      <td>3122.000000</td>\n",
              "      <td>3122.000000</td>\n",
              "      <td>3198.000000</td>\n",
              "      <td>3300.000000</td>\n",
              "      <td>3300.000000</td>\n",
              "      <td>3300.000000</td>\n",
              "    </tr>\n",
              "    <tr>\n",
              "      <th>mean</th>\n",
              "      <td>58841.030909</td>\n",
              "      <td>3.256274e+05</td>\n",
              "      <td>9.475208</td>\n",
              "      <td>0.212684</td>\n",
              "      <td>0.413696</td>\n",
              "      <td>182.681818</td>\n",
              "      <td>1.153333</td>\n",
              "      <td>21.763333</td>\n",
              "    </tr>\n",
              "    <tr>\n",
              "      <th>std</th>\n",
              "      <td>34109.356093</td>\n",
              "      <td>1.757902e+05</td>\n",
              "      <td>7.540252</td>\n",
              "      <td>0.726832</td>\n",
              "      <td>1.087892</td>\n",
              "      <td>86.159247</td>\n",
              "      <td>1.695742</td>\n",
              "      <td>9.900538</td>\n",
              "    </tr>\n",
              "    <tr>\n",
              "      <th>min</th>\n",
              "      <td>4710.000000</td>\n",
              "      <td>2.512000e+04</td>\n",
              "      <td>0.000000</td>\n",
              "      <td>0.000000</td>\n",
              "      <td>0.000000</td>\n",
              "      <td>1.100000</td>\n",
              "      <td>0.000000</td>\n",
              "      <td>0.000000</td>\n",
              "    </tr>\n",
              "    <tr>\n",
              "      <th>25%</th>\n",
              "      <td>35796.000000</td>\n",
              "      <td>2.151960e+05</td>\n",
              "      <td>3.500000</td>\n",
              "      <td>0.000000</td>\n",
              "      <td>0.000000</td>\n",
              "      <td>119.450000</td>\n",
              "      <td>0.000000</td>\n",
              "      <td>15.000000</td>\n",
              "    </tr>\n",
              "    <tr>\n",
              "      <th>50%</th>\n",
              "      <td>52438.000000</td>\n",
              "      <td>2.884828e+05</td>\n",
              "      <td>7.750000</td>\n",
              "      <td>0.000000</td>\n",
              "      <td>0.000000</td>\n",
              "      <td>177.200000</td>\n",
              "      <td>1.000000</td>\n",
              "      <td>20.000000</td>\n",
              "    </tr>\n",
              "    <tr>\n",
              "      <th>75%</th>\n",
              "      <td>73162.000000</td>\n",
              "      <td>3.800829e+05</td>\n",
              "      <td>13.750000</td>\n",
              "      <td>0.000000</td>\n",
              "      <td>0.000000</td>\n",
              "      <td>232.750000</td>\n",
              "      <td>2.000000</td>\n",
              "      <td>27.000000</td>\n",
              "    </tr>\n",
              "    <tr>\n",
              "      <th>max</th>\n",
              "      <td>279460.000000</td>\n",
              "      <td>2.687554e+06</td>\n",
              "      <td>41.250000</td>\n",
              "      <td>10.000000</td>\n",
              "      <td>15.000000</td>\n",
              "      <td>1170.200000</td>\n",
              "      <td>18.000000</td>\n",
              "      <td>67.000000</td>\n",
              "    </tr>\n",
              "  </tbody>\n",
              "</table>\n",
              "</div>\n",
              "      <button class=\"colab-df-convert\" onclick=\"convertToInteractive('df-37c419d0-95b1-4859-9d6f-0cd7b7bec9a8')\"\n",
              "              title=\"Convert this dataframe to an interactive table.\"\n",
              "              style=\"display:none;\">\n",
              "        \n",
              "  <svg xmlns=\"http://www.w3.org/2000/svg\" height=\"24px\"viewBox=\"0 0 24 24\"\n",
              "       width=\"24px\">\n",
              "    <path d=\"M0 0h24v24H0V0z\" fill=\"none\"/>\n",
              "    <path d=\"M18.56 5.44l.94 2.06.94-2.06 2.06-.94-2.06-.94-.94-2.06-.94 2.06-2.06.94zm-11 1L8.5 8.5l.94-2.06 2.06-.94-2.06-.94L8.5 2.5l-.94 2.06-2.06.94zm10 10l.94 2.06.94-2.06 2.06-.94-2.06-.94-.94-2.06-.94 2.06-2.06.94z\"/><path d=\"M17.41 7.96l-1.37-1.37c-.4-.4-.92-.59-1.43-.59-.52 0-1.04.2-1.43.59L10.3 9.45l-7.72 7.72c-.78.78-.78 2.05 0 2.83L4 21.41c.39.39.9.59 1.41.59.51 0 1.02-.2 1.41-.59l7.78-7.78 2.81-2.81c.8-.78.8-2.07 0-2.86zM5.41 20L4 18.59l7.72-7.72 1.47 1.35L5.41 20z\"/>\n",
              "  </svg>\n",
              "      </button>\n",
              "      \n",
              "  <style>\n",
              "    .colab-df-container {\n",
              "      display:flex;\n",
              "      flex-wrap:wrap;\n",
              "      gap: 12px;\n",
              "    }\n",
              "\n",
              "    .colab-df-convert {\n",
              "      background-color: #E8F0FE;\n",
              "      border: none;\n",
              "      border-radius: 50%;\n",
              "      cursor: pointer;\n",
              "      display: none;\n",
              "      fill: #1967D2;\n",
              "      height: 32px;\n",
              "      padding: 0 0 0 0;\n",
              "      width: 32px;\n",
              "    }\n",
              "\n",
              "    .colab-df-convert:hover {\n",
              "      background-color: #E2EBFA;\n",
              "      box-shadow: 0px 1px 2px rgba(60, 64, 67, 0.3), 0px 1px 3px 1px rgba(60, 64, 67, 0.15);\n",
              "      fill: #174EA6;\n",
              "    }\n",
              "\n",
              "    [theme=dark] .colab-df-convert {\n",
              "      background-color: #3B4455;\n",
              "      fill: #D2E3FC;\n",
              "    }\n",
              "\n",
              "    [theme=dark] .colab-df-convert:hover {\n",
              "      background-color: #434B5C;\n",
              "      box-shadow: 0px 1px 3px 1px rgba(0, 0, 0, 0.15);\n",
              "      filter: drop-shadow(0px 1px 2px rgba(0, 0, 0, 0.3));\n",
              "      fill: #FFFFFF;\n",
              "    }\n",
              "  </style>\n",
              "\n",
              "      <script>\n",
              "        const buttonEl =\n",
              "          document.querySelector('#df-37c419d0-95b1-4859-9d6f-0cd7b7bec9a8 button.colab-df-convert');\n",
              "        buttonEl.style.display =\n",
              "          google.colab.kernel.accessAllowed ? 'block' : 'none';\n",
              "\n",
              "        async function convertToInteractive(key) {\n",
              "          const element = document.querySelector('#df-37c419d0-95b1-4859-9d6f-0cd7b7bec9a8');\n",
              "          const dataTable =\n",
              "            await google.colab.kernel.invokeFunction('convertToInteractive',\n",
              "                                                     [key], {});\n",
              "          if (!dataTable) return;\n",
              "\n",
              "          const docLinkHtml = 'Like what you see? Visit the ' +\n",
              "            '<a target=\"_blank\" href=https://colab.research.google.com/notebooks/data_table.ipynb>data table notebook</a>'\n",
              "            + ' to learn more about interactive tables.';\n",
              "          element.innerHTML = '';\n",
              "          dataTable['output_type'] = 'display_data';\n",
              "          await google.colab.output.renderOutput(dataTable, element);\n",
              "          const docLink = document.createElement('div');\n",
              "          docLink.innerHTML = docLinkHtml;\n",
              "          element.appendChild(docLink);\n",
              "        }\n",
              "      </script>\n",
              "    </div>\n",
              "  </div>\n",
              "  "
            ]
          },
          "metadata": {},
          "execution_count": 110
        }
      ]
    },
    {
      "cell_type": "markdown",
      "source": [
        "Nossos clientes tem em média 58 mil em emprestimos, os clientes têm em média 9 anos em empregos, a maioria dos clientes não tem muitas prerrogativas negativas, os clientes não costumam atrasar muito suas linhas de créditos, nossos clientes têm em média 182 meses como clientes, nos últimos 2 anos nossos clientes pegaram em média uma linha de crédito e atualmente nossos clientes tem em média 21 linhas de créditos."
      ],
      "metadata": {
        "id": "3ZKmwfdg77r_"
      }
    },
    {
      "cell_type": "markdown",
      "source": [
        "## Alterando os valores da variável alvo"
      ],
      "metadata": {
        "id": "TJM50MOW8zNm"
      }
    },
    {
      "cell_type": "markdown",
      "source": [
        "O tipo da variável alvo está como categórica, isso pode dificultar o funcionamento do modelo que vai ser criado, sendo assim faz se necessário um tratamento nessa variável."
      ],
      "metadata": {
        "id": "fIvXmDTr9qoW"
      }
    },
    {
      "cell_type": "code",
      "source": [
        "# Observando os valores presentes na variável\n",
        "df['Cliente'].value_counts(normalize = True)"
      ],
      "metadata": {
        "colab": {
          "base_uri": "https://localhost:8080/"
        },
        "id": "ZzKkFrDA949e",
        "outputId": "503b01ad-7d9d-440e-eb9e-6d48c775bc3e"
      },
      "execution_count": 111,
      "outputs": [
        {
          "output_type": "execute_result",
          "data": {
            "text/plain": [
              "bom pagador    0.813939\n",
              "mau pagador    0.186061\n",
              "Name: Cliente, dtype: float64"
            ]
          },
          "metadata": {},
          "execution_count": 111
        }
      ]
    },
    {
      "cell_type": "markdown",
      "source": [
        "*Podemos notar que na base temos 81,39% de bons pagadores equanto os outros 18,60% são maus pagadores*"
      ],
      "metadata": {
        "id": "j0gEuX_RsUQJ"
      }
    },
    {
      "cell_type": "markdown",
      "source": [
        "Criando função para realizar o tratamento necessário na variável 'Cliente'"
      ],
      "metadata": {
        "id": "OHSCfn7astdp"
      }
    },
    {
      "cell_type": "code",
      "source": [
        "# Criando uma função para substituir os valores\n",
        "def aux(x):\n",
        "    if x == 'bom pagador':\n",
        "        return 0\n",
        "    elif x == 'mau pagador':\n",
        "        return 1 \n",
        "\n",
        "# Aplicando a função na coluna cliente\n",
        "df['Cliente'] = df['Cliente'].apply(aux) "
      ],
      "metadata": {
        "id": "d_Bd7OwJ-A5V"
      },
      "execution_count": 112,
      "outputs": []
    },
    {
      "cell_type": "markdown",
      "source": [
        "*Conferindo como ficou a variável após a função ter sido aplicada.*"
      ],
      "metadata": {
        "id": "lk6wDIkzs7o4"
      }
    },
    {
      "cell_type": "code",
      "source": [
        "# Observando os valores presentes na variável\n",
        "df['Cliente'].value_counts()"
      ],
      "metadata": {
        "colab": {
          "base_uri": "https://localhost:8080/"
        },
        "id": "6jmTT5bmCDeO",
        "outputId": "822a5d9a-80f0-4e82-a304-cf7308f500d2"
      },
      "execution_count": 113,
      "outputs": [
        {
          "output_type": "execute_result",
          "data": {
            "text/plain": [
              "0    2686\n",
              "1     614\n",
              "Name: Cliente, dtype: int64"
            ]
          },
          "metadata": {},
          "execution_count": 113
        }
      ]
    },
    {
      "cell_type": "markdown",
      "source": [
        "*Agora que a variável esta devidamente tratada podemos prosseguir*"
      ],
      "metadata": {
        "id": "QArUHglisqCZ"
      }
    },
    {
      "cell_type": "markdown",
      "source": [
        "**Criando um dataset apenas com as variaveis númericas. O objetivo da criação desse novo dataset é a observação da correlação entre as variaveisa a partir de uma matriz de correlação.**"
      ],
      "metadata": {
        "id": "Nmz-hxfX8mK1"
      }
    },
    {
      "cell_type": "code",
      "source": [
        "# Criando um dataset apenas com as variaveis númericas e acrescentando a variavel churn para observar a correlação entre as outras\n",
        "df_num = df[['Empréstimo', 'ValorDoBem', 'TempoEmprego', 'Negativos', 'Atrasos', 'TempoCliente', 'LC-Recente', 'LC-Atual', 'Cliente']]"
      ],
      "metadata": {
        "id": "PpaMcCBxQDCE"
      },
      "execution_count": 114,
      "outputs": []
    },
    {
      "cell_type": "code",
      "source": [
        "# Criando a matriz\n",
        "plt.figure(figsize=(9,6))\n",
        "sns.heatmap(df_num.corr(),annot = True, cmap='Blues',linewidth=.5);"
      ],
      "metadata": {
        "colab": {
          "base_uri": "https://localhost:8080/",
          "height": 0
        },
        "id": "HQORChoTDZFu",
        "outputId": "a3319d06-81eb-46f1-97fd-ec279555697f"
      },
      "execution_count": 115,
      "outputs": [
        {
          "output_type": "display_data",
          "data": {
            "text/plain": [
              "<Figure size 900x600 with 2 Axes>"
            ],
            "image/png": "[encoded data removed]"
          },
          "metadata": {}
        }
      ]
    },
    {
      "cell_type": "markdown",
      "source": [
        "* É possível observar uma correlação positiva entre a variável alvo 'Cliente' e as variáveis 'Negativos', 'Atrasos' e 'LC-Recente' sendo que a maior correlação é entre 'Cliente' e 'Atrasos', seguido por 'Cliente e Negativos'. Por se tratar de uma correlação positiva podemos afirmar que enquanto uma variável aumenta a outra também vai aumentar, ou seja, elas tendem a se mover na mesma direção.\n",
        "\n",
        "* Vale destacar que a maior correlação que temos é entre a variável 'ValorDoBem' e 'Empréstimo', também apresentam uma correlação positiva."
      ],
      "metadata": {
        "id": "eE_y1o0pzoni"
      }
    },
    {
      "cell_type": "markdown",
      "source": [
        "## Variáveis que apresentaram maiores correlações em relação à variável alvo."
      ],
      "metadata": {
        "id": "ViwHenNmGslV"
      }
    },
    {
      "cell_type": "code",
      "source": [
        "# Dimensões da figura\n",
        "plt.figure(figsize=(10, 8))\n",
        "\n",
        "# Grafico 1\n",
        "plt.subplot(2,2,1)\n",
        "# Criando o gráfico \n",
        "grafico = sns.barplot(data=df, x='Cliente', y='Atrasos')\n",
        "\n",
        "# Renomeando o index do eixo\n",
        "grafico.set_xticklabels(['Bom pagador', 'Mau pagador'])\n",
        "\n",
        "# Definindo o titudo do grafico\n",
        "grafico.set_title('Tipo do clientes por Atrasos', fontsize=14)\n",
        "\n",
        "# Defininfo o tamnho do index do eixo\n",
        "plt.xticks(fontsize=12)\n",
        "\n",
        "\n",
        "\n",
        "# Grafico 2\n",
        "plt.subplot(2,2,2)\n",
        "\n",
        "# Criando o gráfico \n",
        "grafico = sns.barplot(data=df, x='Cliente', y='LC-Recente')\n",
        "\n",
        "# Renomeando o index do eixo\n",
        "grafico.set_xticklabels(['Bom pagador', 'Mau pagador'])\n",
        "\n",
        "# Definindo o titudo do grafico\n",
        "grafico.set_title('Tipo do clientes por LC-Recente', fontsize=14)\n",
        "\n",
        "# Defininfo o tamnho do index do eixo\n",
        "plt.xticks(fontsize=12)\n",
        "\n",
        "\n",
        "\n",
        "# Grafico 3\n",
        "plt.subplot(2,2,3)\n",
        "\n",
        "grafico = sns.barplot(data=df, x='Cliente', y='Negativos')\n",
        "\n",
        "# Renomeando o index do eixo\n",
        "grafico.set_xticklabels(['Bom pagador', 'Mau pagador'])\n",
        "\n",
        "# Definindo o titudo do grafico\n",
        "grafico.set_title('Tipo do clientes por Negativos', fontsize=14)\n",
        "\n",
        "# Defininfo o tamnho do index do eixo\n",
        "plt.xticks(fontsize=12)\n",
        "\n",
        "plt.tight_layout()"
      ],
      "metadata": {
        "colab": {
          "base_uri": "https://localhost:8080/",
          "height": 0
        },
        "id": "fvKuNr3cEU-P",
        "outputId": "e1587ed7-e048-4c5a-b692-665f7e582774"
      },
      "execution_count": 116,
      "outputs": [
        {
          "output_type": "display_data",
          "data": {
            "text/plain": [
              "<Figure size 1000x800 with 3 Axes>"
            ],
            "image/png": "[encoded data removed]"
          },
          "metadata": {}
        }
      ]
    },
    {
      "cell_type": "markdown",
      "source": [
        "Quanto maior o número de linhas de créditos atrasadas maiores são as chances do cliente ser um mau pagador, o mesmo se aplica aos clientes, com prerrogativas negativas e os clientes que adquiriram linhas de créditos recentes tendem a ser mau pagadores também."
      ],
      "metadata": {
        "id": "DgVgmokiGp5e"
      }
    },
    {
      "cell_type": "markdown",
      "source": [
        "## Variáveis que apresentaram menores correlações em relação à variável alvo."
      ],
      "metadata": {
        "id": "5wKgFcGWA0c3"
      }
    },
    {
      "cell_type": "code",
      "source": [
        "# Dimensões da figura\n",
        "plt.figure(figsize=(12, 8))\n",
        "\n",
        "# Gráfico 1\n",
        "plt.subplot(2,3,1)\n",
        "\n",
        "# Criando o gráfico \n",
        "grafico = sns.barplot(data=df, x='Cliente', y='ValorDoBem')\n",
        "\n",
        "# Renomeando o index do eixo\n",
        "grafico.set_xticklabels(['Bom pagador', 'Mau pagador'])\n",
        "\n",
        "# Definindo o titudo do grafico\n",
        "grafico.set_title('Tipo do clientes pelo valor do bem', fontsize=14)\n",
        "\n",
        "# Defininfo o tamnho do index do eixo\n",
        "plt.xticks(fontsize=12)\n",
        "\n",
        "\n",
        "\n",
        "# Gráfico 2\n",
        "plt.subplot(2,3,2)\n",
        "\n",
        "# Criando o gráfico \n",
        "grafico = sns.barplot(data=df, x='Cliente', y='Empréstimo')\n",
        "\n",
        "# Renomeando o index do eixo\n",
        "grafico.set_xticklabels(['Bom pagador', 'Mau pagador'])\n",
        "\n",
        "# Definindo o titudo do grafico\n",
        "grafico.set_title('Tipo do clientes por empréstimos', fontsize=14)\n",
        "\n",
        "# Defininfo o tamnho do index do eixo\n",
        "plt.xticks(fontsize=12)\n",
        "\n",
        "\n",
        "\n",
        "# Gráfico 3\n",
        "plt.subplot(2,3,3)\n",
        "\n",
        "# Criando o gráfico \n",
        "grafico = sns.barplot(data=df, x='Cliente', y='TempoEmprego')\n",
        "\n",
        "# Renomeando o index do eixo\n",
        "grafico.set_xticklabels(['Bom pagador', 'Mau pagador'])\n",
        "\n",
        "# Definindo o titudo do grafico\n",
        "grafico.set_title('Tipo do clientes por tempo de emprego', fontsize=14)\n",
        "\n",
        "# Defininfo o tamnho do index do eixo\n",
        "plt.xticks(fontsize=12)\n",
        "\n",
        "\n",
        "# Gráfico 4\n",
        "plt.subplot(2,3,4)\n",
        "\n",
        "# Criando o gráfico \n",
        "grafico = sns.barplot(data=df, x='Cliente', y='TempoCliente')\n",
        "\n",
        "# Renomeando o index do eixo\n",
        "grafico.set_xticklabels(['Bom pagador', 'Mau pagador'])\n",
        "\n",
        "# Definindo o titudo do grafico\n",
        "grafico.set_title('Tipo do clientes por tempo como cliente', fontsize=14)\n",
        "\n",
        "# Defininfo o tamnho do index do eixo\n",
        "plt.xticks(fontsize=12)\n",
        "\n",
        "\n",
        "\n",
        "# Gráfico 5\n",
        "plt.subplot(2,3,5)\n",
        "\n",
        "# Criando o gráfico \n",
        "grafico = sns.barplot(data=df, x='Cliente', y='LC-Atual')\n",
        "\n",
        "# Renomeando o index do eixo\n",
        "grafico.set_xticklabels(['Bom pagador', 'Mau pagador'])\n",
        "\n",
        "# Definindo o titudo do grafico\n",
        "grafico.set_title('Tipo do clientes por LC-Atual', fontsize=14)\n",
        "\n",
        "# Defininfo o tamnho do index do eixo\n",
        "plt.xticks(fontsize=12)\n",
        "\n",
        "\n",
        "plt.tight_layout()"
      ],
      "metadata": {
        "colab": {
          "base_uri": "https://localhost:8080/",
          "height": 0
        },
        "id": "fNSt5eOX3QGh",
        "outputId": "1003a8de-e730-452f-c96d-ab1b3a8f2f84"
      },
      "execution_count": 117,
      "outputs": [
        {
          "output_type": "display_data",
          "data": {
            "text/plain": [
              "<Figure size 1200x800 with 5 Axes>"
            ],
            "image/png": "[encoded data removed]"
          },
          "metadata": {}
        }
      ]
    },
    {
      "cell_type": "markdown",
      "source": [
        "*Podemos confirmar agora que essas variáveis não são tão impactantes em relação à variável alvo*\n",
        "\n",
        "**Algumas anotações a respeito:**\n",
        "\n",
        "*Podemos observar que quanto mais antigo o cliente maiores são as chances de que ele seja um bom pagador, quanto mais tempo o cliente tem de trabalho menores são as chances de que ele seja um mau pagador*"
      ],
      "metadata": {
        "id": "jZ2AiBXnCoN-"
      }
    },
    {
      "cell_type": "code",
      "source": [
        "# Criando um histograma com todas as colunas do dataset\n",
        "df.hist(figsize=(10,10));"
      ],
      "metadata": {
        "colab": {
          "base_uri": "https://localhost:8080/",
          "height": 0
        },
        "id": "mc2whSk29m8a",
        "outputId": "d3a5ee58-8c04-42c7-9689-36b151174ee9"
      },
      "execution_count": 118,
      "outputs": [
        {
          "output_type": "display_data",
          "data": {
            "text/plain": [
              "<Figure size 1000x1000 with 9 Axes>"
            ],
            "image/png": "[encoded data removed]"
          },
          "metadata": {}
        }
      ]
    },
    {
      "cell_type": "markdown",
      "source": [
        "* Podemos observar que na variável cliente\n",
        "\n",
        "* Tempo Emprego é notável uma assimetria a direita, onde a maioria de nossos dados estão entre zero e 13 anos.\n",
        "\n",
        "* Nota-se uma assimetria à direita na variável empréstimo, a maioria dos dados esta entre 0 e 70.000.\n",
        "\n",
        "* Em valor do bem a maioria dos nossos dados estão entre 0 e 3 milhões.\n",
        "\n",
        "* Na variável negativos observa-se menos de 75% dos clientes apresentam algum tipo de prerrogativas negativas.\n",
        "\n",
        "* O mesmo se aplica aos clientes com algum tipo de atraso, os clientes que apresentam algum tipo de atraso representa menos de 75% da base de dados.\n",
        "\n",
        "* Nossos clientes têm em média cerca de 182 meses como cliente, sendo que a maioria dos clientes está entre 1 mês e 232 meses.\n",
        "\n",
        "* Nos últimos 2 anos 75% dos nossos clientes não tem mais que 2 linhas de créditos adquiridas, enquanto a maioria dos nossos.\n",
        "\n",
        "* Podemos notar uma concentração nos dados por volta de 15 e 27, evidenciando que a maioria dos nossos clientes tem entre 15 e 27 linhas ativas."
      ],
      "metadata": {
        "id": "XUoNISxpFdWi"
      }
    },
    {
      "cell_type": "markdown",
      "source": [
        "# **4. Pré-Processamento**"
      ],
      "metadata": {
        "id": "Tt_5QALX_B4y"
      }
    },
    {
      "cell_type": "markdown",
      "source": [
        "Objetivos:\n",
        "\n",
        "* Eliminar as variáveis que não serão utilizadas;\n",
        "* Separar amostra dos dados\n",
        "* Identificação de dados ausentes;\n",
        "* Remoção de Outliers;\n",
        "* Escala das variáveis"
      ],
      "metadata": {
        "id": "t9Ib8ish_EOp"
      }
    },
    {
      "cell_type": "markdown",
      "source": [
        "## **A. Eliminando variavies que não serão utilizadas.**"
      ],
      "metadata": {
        "id": "mxFudoswFgjo"
      }
    },
    {
      "cell_type": "markdown",
      "source": [
        "Por mais que algumas variáveis apresentem poucas influências, nenhuma delas pode ser descartada do dataset atualmente, então não existem variáveis a serem descartadas."
      ],
      "metadata": {
        "id": "4wnIHfiMFigI"
      }
    },
    {
      "cell_type": "markdown",
      "source": [
        "## **B. Tratando dados ausentes**"
      ],
      "metadata": {
        "id": "ik9JrEk3FmE4"
      }
    },
    {
      "cell_type": "markdown",
      "source": [
        "*Verificando quais as variáveis que tem dados faltantes.*"
      ],
      "metadata": {
        "id": "2RwjbxZCFr9g"
      }
    },
    {
      "cell_type": "code",
      "source": [
        "# Observando dados faltantes e ordenando em ordem decrescente\n",
        "def percent_ausentes(df):\n",
        "    p_faltantes = df.isnull().mean()\n",
        "    valores_faltantes = pd.DataFrame({'Variavéis': df.columns, \n",
        "                                           '% de ausentes': p_faltantes}\n",
        "                                      ).reset_index(drop = True)\n",
        "        \n",
        "    return valores_faltantes.sort_values(by = ['% de ausentes'], ascending = False) \n",
        "\n",
        "percent_ausentes(df)"
      ],
      "metadata": {
        "colab": {
          "base_uri": "https://localhost:8080/",
          "height": 0
        },
        "id": "Kbua2adIFsY4",
        "outputId": "d9190308-b487-41db-afcd-e8b44f0538e8"
      },
      "execution_count": 119,
      "outputs": [
        {
          "output_type": "execute_result",
          "data": {
            "text/plain": [
              "       Variavéis  % de ausentes\n",
              "11           RDS       0.197879\n",
              "5   TempoEmprego       0.053939\n",
              "6      Negativos       0.053939\n",
              "7        Atrasos       0.030909\n",
              "0        Cliente       0.000000\n",
              "1     Empréstimo       0.000000\n",
              "2     ValorDoBem       0.000000\n",
              "3     Finalidade       0.000000\n",
              "4        Emprego       0.000000\n",
              "8   TempoCliente       0.000000\n",
              "9     LC-Recente       0.000000\n",
              "10      LC-Atual       0.000000"
            ],
            "text/html": [
              "\n",
              "  <div id=\"df-14b3eb34-1e3c-4aac-a4b3-79fc88a99215\">\n",
              "    <div class=\"colab-df-container\">\n",
              "      <div>\n",
              "<style scoped>\n",
              "    .dataframe tbody tr th:only-of-type {\n",
              "        vertical-align: middle;\n",
              "    }\n",
              "\n",
              "    .dataframe tbody tr th {\n",
              "        vertical-align: top;\n",
              "    }\n",
              "\n",
              "    .dataframe thead th {\n",
              "        text-align: right;\n",
              "    }\n",
              "</style>\n",
              "<table border=\"1\" class=\"dataframe\">\n",
              "  <thead>\n",
              "    <tr style=\"text-align: right;\">\n",
              "      <th></th>\n",
              "      <th>Variavéis</th>\n",
              "      <th>% de ausentes</th>\n",
              "    </tr>\n",
              "  </thead>\n",
              "  <tbody>\n",
              "    <tr>\n",
              "      <th>11</th>\n",
              "      <td>RDS</td>\n",
              "      <td>0.197879</td>\n",
              "    </tr>\n",
              "    <tr>\n",
              "      <th>5</th>\n",
              "      <td>TempoEmprego</td>\n",
              "      <td>0.053939</td>\n",
              "    </tr>\n",
              "    <tr>\n",
              "      <th>6</th>\n",
              "      <td>Negativos</td>\n",
              "      <td>0.053939</td>\n",
              "    </tr>\n",
              "    <tr>\n",
              "      <th>7</th>\n",
              "      <td>Atrasos</td>\n",
              "      <td>0.030909</td>\n",
              "    </tr>\n",
              "    <tr>\n",
              "      <th>0</th>\n",
              "      <td>Cliente</td>\n",
              "      <td>0.000000</td>\n",
              "    </tr>\n",
              "    <tr>\n",
              "      <th>1</th>\n",
              "      <td>Empréstimo</td>\n",
              "      <td>0.000000</td>\n",
              "    </tr>\n",
              "    <tr>\n",
              "      <th>2</th>\n",
              "      <td>ValorDoBem</td>\n",
              "      <td>0.000000</td>\n",
              "    </tr>\n",
              "    <tr>\n",
              "      <th>3</th>\n",
              "      <td>Finalidade</td>\n",
              "      <td>0.000000</td>\n",
              "    </tr>\n",
              "    <tr>\n",
              "      <th>4</th>\n",
              "      <td>Emprego</td>\n",
              "      <td>0.000000</td>\n",
              "    </tr>\n",
              "    <tr>\n",
              "      <th>8</th>\n",
              "      <td>TempoCliente</td>\n",
              "      <td>0.000000</td>\n",
              "    </tr>\n",
              "    <tr>\n",
              "      <th>9</th>\n",
              "      <td>LC-Recente</td>\n",
              "      <td>0.000000</td>\n",
              "    </tr>\n",
              "    <tr>\n",
              "      <th>10</th>\n",
              "      <td>LC-Atual</td>\n",
              "      <td>0.000000</td>\n",
              "    </tr>\n",
              "  </tbody>\n",
              "</table>\n",
              "</div>\n",
              "      <button class=\"colab-df-convert\" onclick=\"convertToInteractive('df-14b3eb34-1e3c-4aac-a4b3-79fc88a99215')\"\n",
              "              title=\"Convert this dataframe to an interactive table.\"\n",
              "              style=\"display:none;\">\n",
              "        \n",
              "  <svg xmlns=\"http://www.w3.org/2000/svg\" height=\"24px\"viewBox=\"0 0 24 24\"\n",
              "       width=\"24px\">\n",
              "    <path d=\"M0 0h24v24H0V0z\" fill=\"none\"/>\n",
              "    <path d=\"M18.56 5.44l.94 2.06.94-2.06 2.06-.94-2.06-.94-.94-2.06-.94 2.06-2.06.94zm-11 1L8.5 8.5l.94-2.06 2.06-.94-2.06-.94L8.5 2.5l-.94 2.06-2.06.94zm10 10l.94 2.06.94-2.06 2.06-.94-2.06-.94-.94-2.06-.94 2.06-2.06.94z\"/><path d=\"M17.41 7.96l-1.37-1.37c-.4-.4-.92-.59-1.43-.59-.52 0-1.04.2-1.43.59L10.3 9.45l-7.72 7.72c-.78.78-.78 2.05 0 2.83L4 21.41c.39.39.9.59 1.41.59.51 0 1.02-.2 1.41-.59l7.78-7.78 2.81-2.81c.8-.78.8-2.07 0-2.86zM5.41 20L4 18.59l7.72-7.72 1.47 1.35L5.41 20z\"/>\n",
              "  </svg>\n",
              "      </button>\n",
              "      \n",
              "  <style>\n",
              "    .colab-df-container {\n",
              "      display:flex;\n",
              "      flex-wrap:wrap;\n",
              "      gap: 12px;\n",
              "    }\n",
              "\n",
              "    .colab-df-convert {\n",
              "      background-color: #E8F0FE;\n",
              "      border: none;\n",
              "      border-radius: 50%;\n",
              "      cursor: pointer;\n",
              "      display: none;\n",
              "      fill: #1967D2;\n",
              "      height: 32px;\n",
              "      padding: 0 0 0 0;\n",
              "      width: 32px;\n",
              "    }\n",
              "\n",
              "    .colab-df-convert:hover {\n",
              "      background-color: #E2EBFA;\n",
              "      box-shadow: 0px 1px 2px rgba(60, 64, 67, 0.3), 0px 1px 3px 1px rgba(60, 64, 67, 0.15);\n",
              "      fill: #174EA6;\n",
              "    }\n",
              "\n",
              "    [theme=dark] .colab-df-convert {\n",
              "      background-color: #3B4455;\n",
              "      fill: #D2E3FC;\n",
              "    }\n",
              "\n",
              "    [theme=dark] .colab-df-convert:hover {\n",
              "      background-color: #434B5C;\n",
              "      box-shadow: 0px 1px 3px 1px rgba(0, 0, 0, 0.15);\n",
              "      filter: drop-shadow(0px 1px 2px rgba(0, 0, 0, 0.3));\n",
              "      fill: #FFFFFF;\n",
              "    }\n",
              "  </style>\n",
              "\n",
              "      <script>\n",
              "        const buttonEl =\n",
              "          document.querySelector('#df-14b3eb34-1e3c-4aac-a4b3-79fc88a99215 button.colab-df-convert');\n",
              "        buttonEl.style.display =\n",
              "          google.colab.kernel.accessAllowed ? 'block' : 'none';\n",
              "\n",
              "        async function convertToInteractive(key) {\n",
              "          const element = document.querySelector('#df-14b3eb34-1e3c-4aac-a4b3-79fc88a99215');\n",
              "          const dataTable =\n",
              "            await google.colab.kernel.invokeFunction('convertToInteractive',\n",
              "                                                     [key], {});\n",
              "          if (!dataTable) return;\n",
              "\n",
              "          const docLinkHtml = 'Like what you see? Visit the ' +\n",
              "            '<a target=\"_blank\" href=https://colab.research.google.com/notebooks/data_table.ipynb>data table notebook</a>'\n",
              "            + ' to learn more about interactive tables.';\n",
              "          element.innerHTML = '';\n",
              "          dataTable['output_type'] = 'display_data';\n",
              "          await google.colab.output.renderOutput(dataTable, element);\n",
              "          const docLink = document.createElement('div');\n",
              "          docLink.innerHTML = docLinkHtml;\n",
              "          element.appendChild(docLink);\n",
              "        }\n",
              "      </script>\n",
              "    </div>\n",
              "  </div>\n",
              "  "
            ]
          },
          "metadata": {},
          "execution_count": 119
        }
      ]
    },
    {
      "cell_type": "markdown",
      "source": [
        "### Variavel 'RDS'"
      ],
      "metadata": {
        "id": "ZCpuDh4177hn"
      }
    },
    {
      "cell_type": "markdown",
      "source": [
        "Por se tratar de uma variável categórica, vou preencher os 19% de dados ausentes utilizando a moda."
      ],
      "metadata": {
        "id": "6UID7aMQ77p_"
      }
    },
    {
      "cell_type": "code",
      "source": [
        "# Pegando a moda da coluna 'RDS'\n",
        "moda_rds = df['RDS'].mode()\n",
        "\n",
        "# Observando a moda\n",
        "moda_rds"
      ],
      "metadata": {
        "colab": {
          "base_uri": "https://localhost:8080/"
        },
        "id": "9U82Hb9K8I63",
        "outputId": "3940a4cc-a27e-49eb-b7f2-938fe8327264"
      },
      "execution_count": 120,
      "outputs": [
        {
          "output_type": "execute_result",
          "data": {
            "text/plain": [
              "0    37.0%\n",
              "Name: RDS, dtype: object"
            ]
          },
          "metadata": {},
          "execution_count": 120
        }
      ]
    },
    {
      "cell_type": "code",
      "source": [
        "# Substituindo os valores ausentes pela moda\n",
        "df['RDS'].fillna('37.0%', inplace = True)"
      ],
      "metadata": {
        "id": "TFS5GpILECjv"
      },
      "execution_count": 121,
      "outputs": []
    },
    {
      "cell_type": "markdown",
      "source": [
        "### Variavel 'TempoEmprego'"
      ],
      "metadata": {
        "id": "GDA9iKJm9B9e"
      }
    },
    {
      "cell_type": "markdown",
      "source": [
        "Antes de qualquer coisa, primeiro vamos checar se essa variável possui algum outlier."
      ],
      "metadata": {
        "id": "glTWHgxE9u_n"
      }
    },
    {
      "cell_type": "code",
      "source": [
        "sns.boxplot(data = df, x = 'TempoEmprego').set_title('Outliers em \"TempoEmprego\"');"
      ],
      "metadata": {
        "colab": {
          "base_uri": "https://localhost:8080/",
          "height": 0
        },
        "id": "V34odX5C92cf",
        "outputId": "27c8ef6c-dbc1-49a2-f0d6-e7a77d460192"
      },
      "execution_count": 122,
      "outputs": [
        {
          "output_type": "display_data",
          "data": {
            "text/plain": [
              "<Figure size 640x480 with 1 Axes>"
            ],
            "image/png": "[encoded data removed]"
          },
          "metadata": {}
        }
      ]
    },
    {
      "cell_type": "markdown",
      "source": [
        "Por não possuir tantos outliers e a média e mediana está bem parelhas vou optar pela mediana."
      ],
      "metadata": {
        "id": "lnaurIWH-8Ju"
      }
    },
    {
      "cell_type": "code",
      "source": [
        "# Pegando a mediana da coluna 'TempoEmprego'\n",
        "mediana_temp = df['TempoEmprego'].median()\n",
        "\n",
        "# Substituindo os valores ausentes pela TempoEmprego\n",
        "df['TempoEmprego'] = df['TempoEmprego'].fillna(mediana_temp)"
      ],
      "metadata": {
        "id": "jphmjAB3-B6v"
      },
      "execution_count": 123,
      "outputs": []
    },
    {
      "cell_type": "markdown",
      "source": [
        "### Variavel 'Negativos'"
      ],
      "metadata": {
        "id": "hq72TQP-9K21"
      }
    },
    {
      "cell_type": "markdown",
      "source": [
        "Antes de qualquer coisa, primeiro vamos checar se essa variável possui algum outlier."
      ],
      "metadata": {
        "id": "jvYMWdHZAth4"
      }
    },
    {
      "cell_type": "code",
      "source": [
        "sns.boxplot(data = df, x = 'Negativos').set_title('Outliers em \"Negativos\"');"
      ],
      "metadata": {
        "colab": {
          "base_uri": "https://localhost:8080/",
          "height": 0
        },
        "id": "No-ej8mC_dTG",
        "outputId": "2fe1ed54-1de7-4d7a-ed10-593bb99fca83"
      },
      "execution_count": 124,
      "outputs": [
        {
          "output_type": "display_data",
          "data": {
            "text/plain": [
              "<Figure size 640x480 with 1 Axes>"
            ],
            "image/png": "[encoded data removed]"
          },
          "metadata": {}
        }
      ]
    },
    {
      "cell_type": "markdown",
      "source": [
        "Como a variável 'Negativos', é composta pelo número de negativas que o cliente tem, esses valores que se sobressaem não podem ser considerados outliers sendo assim como também não há grande diferença entre a média e mediana, nesse caso vou utilizar a média."
      ],
      "metadata": {
        "id": "VVIWAw3D_ovn"
      }
    },
    {
      "cell_type": "code",
      "source": [
        "# Pegando a média da coluna 'Negativos'\n",
        "media_negativa = df['Negativos'].mean()\n",
        "\n",
        "# Substituindo os valores ausentes pela Negativos\n",
        "df['Negativos'] = df['Negativos'].fillna(media_negativa)"
      ],
      "metadata": {
        "id": "DVoa8zYyAM_3"
      },
      "execution_count": 125,
      "outputs": []
    },
    {
      "cell_type": "markdown",
      "source": [
        "### Variavel 'Atrasos'"
      ],
      "metadata": {
        "id": "vd_n3MXeA8YF"
      }
    },
    {
      "cell_type": "markdown",
      "source": [
        "Antes de qualquer coisa, primeiro vamos checar se essa variável possui algum outlier."
      ],
      "metadata": {
        "id": "hCPCZj_QBAW9"
      }
    },
    {
      "cell_type": "code",
      "source": [
        "sns.boxplot(data = df, x = 'Atrasos').set_title('Outliers em \"Atrasos\"');"
      ],
      "metadata": {
        "colab": {
          "base_uri": "https://localhost:8080/",
          "height": 0
        },
        "id": "lfnDbHS5A-3l",
        "outputId": "befca419-ab93-4782-b973-9aecc69629be"
      },
      "execution_count": 126,
      "outputs": [
        {
          "output_type": "display_data",
          "data": {
            "text/plain": [
              "<Figure size 640x480 with 1 Axes>"
            ],
            "image/png": "[encoded data removed]"
          },
          "metadata": {}
        }
      ]
    },
    {
      "cell_type": "markdown",
      "source": [
        "Como a variável 'Atrasos', é composta pelo número de linhas de atraso que o cliente tem, esses valores que se sobressaem não podem ser considerados outliers sendo assim como também não há grande diferença entre a média e mediana, nesse caso vou utilizar a média."
      ],
      "metadata": {
        "id": "qFKxTN_ABKHm"
      }
    },
    {
      "cell_type": "code",
      "source": [
        "# Pegando a média da coluna 'Atrasos'\n",
        "media_atrasos = df['Negativos'].mean()\n",
        "\n",
        "# Substituindo os valores ausentes pela Atrasos\n",
        "df['Atrasos'] = df['Atrasos'].fillna(media_atrasos)"
      ],
      "metadata": {
        "id": "HEvPSwSgBUgu"
      },
      "execution_count": 127,
      "outputs": []
    },
    {
      "cell_type": "markdown",
      "source": [
        "Conferindo se ainda resta algum dado ausente."
      ],
      "metadata": {
        "id": "rnAZY-90BlVG"
      }
    },
    {
      "cell_type": "code",
      "source": [
        "# Observando dados faltantes e ordenando em ordem decrescente\n",
        "def percent_ausentes(df):\n",
        "    p_faltantes = df.isnull().mean()\n",
        "    valores_faltantes = pd.DataFrame({'Variavéis': df.columns, \n",
        "                                           '% de ausentes': p_faltantes}\n",
        "                                      ).reset_index(drop = True)\n",
        "        \n",
        "    return valores_faltantes.sort_values(by = ['% de ausentes'], ascending = False) \n",
        "\n",
        "percent_ausentes(df)"
      ],
      "metadata": {
        "colab": {
          "base_uri": "https://localhost:8080/",
          "height": 0
        },
        "id": "XZkRHLxFBU2u",
        "outputId": "32cc5a33-f69d-4e97-be27-17b827abebfc"
      },
      "execution_count": 128,
      "outputs": [
        {
          "output_type": "execute_result",
          "data": {
            "text/plain": [
              "       Variavéis  % de ausentes\n",
              "0        Cliente            0.0\n",
              "1     Empréstimo            0.0\n",
              "2     ValorDoBem            0.0\n",
              "3     Finalidade            0.0\n",
              "4        Emprego            0.0\n",
              "5   TempoEmprego            0.0\n",
              "6      Negativos            0.0\n",
              "7        Atrasos            0.0\n",
              "8   TempoCliente            0.0\n",
              "9     LC-Recente            0.0\n",
              "10      LC-Atual            0.0\n",
              "11           RDS            0.0"
            ],
            "text/html": [
              "\n",
              "  <div id=\"df-5dfdc2d0-898e-49d5-a75e-5e3c4bd73fc5\">\n",
              "    <div class=\"colab-df-container\">\n",
              "      <div>\n",
              "<style scoped>\n",
              "    .dataframe tbody tr th:only-of-type {\n",
              "        vertical-align: middle;\n",
              "    }\n",
              "\n",
              "    .dataframe tbody tr th {\n",
              "        vertical-align: top;\n",
              "    }\n",
              "\n",
              "    .dataframe thead th {\n",
              "        text-align: right;\n",
              "    }\n",
              "</style>\n",
              "<table border=\"1\" class=\"dataframe\">\n",
              "  <thead>\n",
              "    <tr style=\"text-align: right;\">\n",
              "      <th></th>\n",
              "      <th>Variavéis</th>\n",
              "      <th>% de ausentes</th>\n",
              "    </tr>\n",
              "  </thead>\n",
              "  <tbody>\n",
              "    <tr>\n",
              "      <th>0</th>\n",
              "      <td>Cliente</td>\n",
              "      <td>0.0</td>\n",
              "    </tr>\n",
              "    <tr>\n",
              "      <th>1</th>\n",
              "      <td>Empréstimo</td>\n",
              "      <td>0.0</td>\n",
              "    </tr>\n",
              "    <tr>\n",
              "      <th>2</th>\n",
              "      <td>ValorDoBem</td>\n",
              "      <td>0.0</td>\n",
              "    </tr>\n",
              "    <tr>\n",
              "      <th>3</th>\n",
              "      <td>Finalidade</td>\n",
              "      <td>0.0</td>\n",
              "    </tr>\n",
              "    <tr>\n",
              "      <th>4</th>\n",
              "      <td>Emprego</td>\n",
              "      <td>0.0</td>\n",
              "    </tr>\n",
              "    <tr>\n",
              "      <th>5</th>\n",
              "      <td>TempoEmprego</td>\n",
              "      <td>0.0</td>\n",
              "    </tr>\n",
              "    <tr>\n",
              "      <th>6</th>\n",
              "      <td>Negativos</td>\n",
              "      <td>0.0</td>\n",
              "    </tr>\n",
              "    <tr>\n",
              "      <th>7</th>\n",
              "      <td>Atrasos</td>\n",
              "      <td>0.0</td>\n",
              "    </tr>\n",
              "    <tr>\n",
              "      <th>8</th>\n",
              "      <td>TempoCliente</td>\n",
              "      <td>0.0</td>\n",
              "    </tr>\n",
              "    <tr>\n",
              "      <th>9</th>\n",
              "      <td>LC-Recente</td>\n",
              "      <td>0.0</td>\n",
              "    </tr>\n",
              "    <tr>\n",
              "      <th>10</th>\n",
              "      <td>LC-Atual</td>\n",
              "      <td>0.0</td>\n",
              "    </tr>\n",
              "    <tr>\n",
              "      <th>11</th>\n",
              "      <td>RDS</td>\n",
              "      <td>0.0</td>\n",
              "    </tr>\n",
              "  </tbody>\n",
              "</table>\n",
              "</div>\n",
              "      <button class=\"colab-df-convert\" onclick=\"convertToInteractive('df-5dfdc2d0-898e-49d5-a75e-5e3c4bd73fc5')\"\n",
              "              title=\"Convert this dataframe to an interactive table.\"\n",
              "              style=\"display:none;\">\n",
              "        \n",
              "  <svg xmlns=\"http://www.w3.org/2000/svg\" height=\"24px\"viewBox=\"0 0 24 24\"\n",
              "       width=\"24px\">\n",
              "    <path d=\"M0 0h24v24H0V0z\" fill=\"none\"/>\n",
              "    <path d=\"M18.56 5.44l.94 2.06.94-2.06 2.06-.94-2.06-.94-.94-2.06-.94 2.06-2.06.94zm-11 1L8.5 8.5l.94-2.06 2.06-.94-2.06-.94L8.5 2.5l-.94 2.06-2.06.94zm10 10l.94 2.06.94-2.06 2.06-.94-2.06-.94-.94-2.06-.94 2.06-2.06.94z\"/><path d=\"M17.41 7.96l-1.37-1.37c-.4-.4-.92-.59-1.43-.59-.52 0-1.04.2-1.43.59L10.3 9.45l-7.72 7.72c-.78.78-.78 2.05 0 2.83L4 21.41c.39.39.9.59 1.41.59.51 0 1.02-.2 1.41-.59l7.78-7.78 2.81-2.81c.8-.78.8-2.07 0-2.86zM5.41 20L4 18.59l7.72-7.72 1.47 1.35L5.41 20z\"/>\n",
              "  </svg>\n",
              "      </button>\n",
              "      \n",
              "  <style>\n",
              "    .colab-df-container {\n",
              "      display:flex;\n",
              "      flex-wrap:wrap;\n",
              "      gap: 12px;\n",
              "    }\n",
              "\n",
              "    .colab-df-convert {\n",
              "      background-color: #E8F0FE;\n",
              "      border: none;\n",
              "      border-radius: 50%;\n",
              "      cursor: pointer;\n",
              "      display: none;\n",
              "      fill: #1967D2;\n",
              "      height: 32px;\n",
              "      padding: 0 0 0 0;\n",
              "      width: 32px;\n",
              "    }\n",
              "\n",
              "    .colab-df-convert:hover {\n",
              "      background-color: #E2EBFA;\n",
              "      box-shadow: 0px 1px 2px rgba(60, 64, 67, 0.3), 0px 1px 3px 1px rgba(60, 64, 67, 0.15);\n",
              "      fill: #174EA6;\n",
              "    }\n",
              "\n",
              "    [theme=dark] .colab-df-convert {\n",
              "      background-color: #3B4455;\n",
              "      fill: #D2E3FC;\n",
              "    }\n",
              "\n",
              "    [theme=dark] .colab-df-convert:hover {\n",
              "      background-color: #434B5C;\n",
              "      box-shadow: 0px 1px 3px 1px rgba(0, 0, 0, 0.15);\n",
              "      filter: drop-shadow(0px 1px 2px rgba(0, 0, 0, 0.3));\n",
              "      fill: #FFFFFF;\n",
              "    }\n",
              "  </style>\n",
              "\n",
              "      <script>\n",
              "        const buttonEl =\n",
              "          document.querySelector('#df-5dfdc2d0-898e-49d5-a75e-5e3c4bd73fc5 button.colab-df-convert');\n",
              "        buttonEl.style.display =\n",
              "          google.colab.kernel.accessAllowed ? 'block' : 'none';\n",
              "\n",
              "        async function convertToInteractive(key) {\n",
              "          const element = document.querySelector('#df-5dfdc2d0-898e-49d5-a75e-5e3c4bd73fc5');\n",
              "          const dataTable =\n",
              "            await google.colab.kernel.invokeFunction('convertToInteractive',\n",
              "                                                     [key], {});\n",
              "          if (!dataTable) return;\n",
              "\n",
              "          const docLinkHtml = 'Like what you see? Visit the ' +\n",
              "            '<a target=\"_blank\" href=https://colab.research.google.com/notebooks/data_table.ipynb>data table notebook</a>'\n",
              "            + ' to learn more about interactive tables.';\n",
              "          element.innerHTML = '';\n",
              "          dataTable['output_type'] = 'display_data';\n",
              "          await google.colab.output.renderOutput(dataTable, element);\n",
              "          const docLink = document.createElement('div');\n",
              "          docLink.innerHTML = docLinkHtml;\n",
              "          element.appendChild(docLink);\n",
              "        }\n",
              "      </script>\n",
              "    </div>\n",
              "  </div>\n",
              "  "
            ]
          },
          "metadata": {},
          "execution_count": 128
        }
      ]
    },
    {
      "cell_type": "markdown",
      "source": [
        "*Com todos os dados ausentes devidamente tratados podemos ir para a próxima etapa.*"
      ],
      "metadata": {
        "id": "sdjXLRr3ExxN"
      }
    },
    {
      "cell_type": "markdown",
      "source": [
        "## **C. Remoção de outliers**"
      ],
      "metadata": {
        "id": "en73-BQQCK_P"
      }
    },
    {
      "cell_type": "markdown",
      "source": [
        "*Nessa etapa será feito uma verificação e remoção dos outliers*"
      ],
      "metadata": {
        "id": "lpSZnH_JFOXW"
      }
    },
    {
      "cell_type": "code",
      "source": [
        "# Dimensões da figura\n",
        "plt.figure(figsize=(17, 8))\n",
        "\n",
        "# Gráfico 1\n",
        "plt.subplot(2,3,1)\n",
        "\n",
        "# Criando o gráfico \n",
        "grafico = sns.boxplot(data=df, x = 'Empréstimo')\n",
        "\n",
        "# Definindo o titudo do grafico\n",
        "grafico.set_title('Outlier em Empréstimo', fontsize=14)\n",
        "\n",
        "# Defininfo o tamnho do index do eixo\n",
        "plt.xticks(fontsize=12)\n",
        "\n",
        "\n",
        "\n",
        "# Gráfico 2\n",
        "plt.subplot(2,3,2)\n",
        "\n",
        "# Criando o gráfico \n",
        "grafico = sns.boxplot(data=df, x = 'ValorDoBem')\n",
        "\n",
        "# Definindo o titudo do grafico\n",
        "grafico.set_title('Outlier em ValorDoBem', fontsize=14)\n",
        "\n",
        "# Defininfo o tamnho do index do eixo\n",
        "plt.xticks(fontsize=12)\n",
        "\n",
        "\n",
        "\n",
        "\n",
        "# Gráfico 3\n",
        "plt.subplot(2,3,3)\n",
        "\n",
        "# Criando o gráfico \n",
        "grafico = sns.boxplot(data=df, x = 'TempoEmprego')\n",
        "\n",
        "# Definindo o titudo do grafico\n",
        "grafico.set_title('Outlier em TempoEmprego', fontsize=14)\n",
        "\n",
        "# Defininfo o tamnho do index do eixo\n",
        "plt.xticks(fontsize=12)\n",
        "\n",
        "\n",
        "# Gráfico 4\n",
        "plt.subplot(2,3,4)\n",
        "\n",
        "# Criando o gráfico \n",
        "grafico = sns.boxplot(data=df, x = 'TempoCliente')\n",
        "\n",
        "# Definindo o titudo do grafico\n",
        "grafico.set_title('Outlier em TempoCliente', fontsize=14)\n",
        "\n",
        "# Defininfo o tamnho do index do eixo\n",
        "plt.xticks(fontsize=12)\n",
        "\n",
        "\n",
        "\n",
        "# Gráfico 5\n",
        "plt.subplot(2,3,5)\n",
        "\n",
        "# Criando o gráfico \n",
        "grafico = sns.boxplot(data=df, x = 'LC-Recente')\n",
        "\n",
        "# Definindo o titudo do grafico\n",
        "grafico.set_title('Outlier em LC-Recente', fontsize=14)\n",
        "\n",
        "# Defininfo o tamnho do index do eixo\n",
        "plt.xticks(fontsize=12)\n",
        "\n",
        "\n",
        "# Gráfico 6\n",
        "plt.subplot(2,3,6)\n",
        "\n",
        "# Criando o gráfico \n",
        "grafico = sns.boxplot(data=df, x = 'LC-Atual')\n",
        "\n",
        "# Definindo o titudo do grafico\n",
        "grafico.set_title('Outlier em LC-Atual', fontsize=14)\n",
        "\n",
        "# Defininfo o tamnho do index do eixo\n",
        "plt.xticks(fontsize=12)\n",
        "\n",
        "\n",
        "plt.tight_layout()"
      ],
      "metadata": {
        "colab": {
          "base_uri": "https://localhost:8080/",
          "height": 0
        },
        "id": "W7X6x-02FLF2",
        "outputId": "a722f9a4-3b61-4297-cfdf-ba5c0c2884f0"
      },
      "execution_count": 129,
      "outputs": [
        {
          "output_type": "display_data",
          "data": {
            "text/plain": [
              "<Figure size 1700x800 with 6 Axes>"
            ],
            "image/png": "[encoded data removed]"
          },
          "metadata": {}
        }
      ]
    },
    {
      "cell_type": "markdown",
      "source": [
        "###**A primeira variavel que vai passar pelo tratamento de outlier é 'Empréstimo'**"
      ],
      "metadata": {
        "id": "WCUAIgZ6IEyy"
      }
    },
    {
      "cell_type": "code",
      "source": [
        "top_emprestimo = df['Empréstimo'].quantile(0.97)\n",
        "top_emprestimo"
      ],
      "metadata": {
        "colab": {
          "base_uri": "https://localhost:8080/"
        },
        "id": "sG_pL3ujISiB",
        "outputId": "43147cb6-7466-48be-8f4c-933433d18c4b"
      },
      "execution_count": 130,
      "outputs": [
        {
          "output_type": "execute_result",
          "data": {
            "text/plain": [
              "143535.67999999967"
            ]
          },
          "metadata": {},
          "execution_count": 130
        }
      ]
    },
    {
      "cell_type": "markdown",
      "source": [
        "Agora que o maior valor correspondente a 97% dos dados está armazenado na variável 'Empréstimo' o próximo passo é fazer o tratamento propriamente dito."
      ],
      "metadata": {
        "id": "1eZV4j29Iljq"
      }
    },
    {
      "cell_type": "code",
      "source": [
        "df.loc[df['Empréstimo'] > top_emprestimo, 'Empréstimo'] = top_emprestimo"
      ],
      "metadata": {
        "id": "qKwX3YkFIq5h"
      },
      "execution_count": 131,
      "outputs": []
    },
    {
      "cell_type": "markdown",
      "source": [
        "Se algum valor na variável Empréstimo, for maior que a variável top_emprestimo esse valor vai ser substituído pelo valor da variável."
      ],
      "metadata": {
        "id": "ViHOp05fIzJR"
      }
    },
    {
      "cell_type": "markdown",
      "source": [
        "###**A próxima variável que vai passar pelo tratamento de outlier é 'ValorDoBem'**"
      ],
      "metadata": {
        "id": "aQm23s0bI9Ri"
      }
    },
    {
      "cell_type": "code",
      "source": [
        "top_ValorDoBem= df['ValorDoBem'].quantile(0.95)\n",
        "top_ValorDoBem"
      ],
      "metadata": {
        "colab": {
          "base_uri": "https://localhost:8080/"
        },
        "id": "NoSFurmJJTA7",
        "outputId": "73a51c79-d474-4cfe-b785-72baa8ac0cf1"
      },
      "execution_count": 132,
      "outputs": [
        {
          "output_type": "execute_result",
          "data": {
            "text/plain": [
              "645266.075"
            ]
          },
          "metadata": {},
          "execution_count": 132
        }
      ]
    },
    {
      "cell_type": "markdown",
      "source": [
        "Agora que o maior valor correspondente a 95% dos dados está armazenado na variável 'ValorDoBem' o próximo passo é fazer o tratamento propriamente dito."
      ],
      "metadata": {
        "id": "XbKWpv68Jh7D"
      }
    },
    {
      "cell_type": "code",
      "source": [
        "df.loc[df['ValorDoBem'] > top_ValorDoBem, 'ValorDoBem'] = top_ValorDoBem"
      ],
      "metadata": {
        "id": "i0RAkFh1JlTy"
      },
      "execution_count": 133,
      "outputs": []
    },
    {
      "cell_type": "markdown",
      "source": [
        "*As próximas variáveis podem ter valores discrepantes, no entanto, eles podem não ser considerados outliers, por isso não vou tratá-los no momento.*"
      ],
      "metadata": {
        "id": "4KGrb2rQKVhi"
      }
    },
    {
      "cell_type": "markdown",
      "source": [
        "**Conferindo o resultado do tratamento**"
      ],
      "metadata": {
        "id": "Iv6bviQkKrEq"
      }
    },
    {
      "cell_type": "code",
      "source": [
        "# Dimensões da figura\n",
        "plt.figure(figsize=(17, 8))\n",
        "\n",
        "# Gráfico 1\n",
        "plt.subplot(2,3,1)\n",
        "\n",
        "# Criando o gráfico \n",
        "grafico = sns.boxplot(data=df, x = 'Empréstimo')\n",
        "\n",
        "# Definindo o titudo do grafico\n",
        "grafico.set_title('Outlier em Empréstimo', fontsize=14)\n",
        "\n",
        "# Defininfo o tamnho do index do eixo\n",
        "plt.xticks(fontsize=12)\n",
        "\n",
        "\n",
        "\n",
        "# Gráfico 2\n",
        "plt.subplot(2,3,2)\n",
        "\n",
        "# Criando o gráfico \n",
        "grafico = sns.boxplot(data=df, x = 'ValorDoBem')\n",
        "\n",
        "# Definindo o titudo do grafico\n",
        "grafico.set_title('Outlier em ValorDoBem', fontsize=14)\n",
        "\n",
        "# Defininfo o tamnho do index do eixo\n",
        "plt.xticks(fontsize=12)\n",
        "\n",
        "\n",
        "\n",
        "\n",
        "# Gráfico 3\n",
        "plt.subplot(2,3,3)\n",
        "\n",
        "# Criando o gráfico \n",
        "grafico = sns.boxplot(data=df, x = 'TempoEmprego')\n",
        "\n",
        "# Definindo o titudo do grafico\n",
        "grafico.set_title('Outlier em TempoEmprego', fontsize=14)\n",
        "\n",
        "# Defininfo o tamnho do index do eixo\n",
        "plt.xticks(fontsize=12)\n",
        "\n",
        "\n",
        "# Gráfico 4\n",
        "plt.subplot(2,3,4)\n",
        "\n",
        "# Criando o gráfico \n",
        "grafico = sns.boxplot(data=df, x = 'TempoCliente')\n",
        "\n",
        "# Definindo o titudo do grafico\n",
        "grafico.set_title('Outlier em TempoCliente', fontsize=14)\n",
        "\n",
        "# Defininfo o tamnho do index do eixo\n",
        "plt.xticks(fontsize=12)\n",
        "\n",
        "\n",
        "\n",
        "# Gráfico 5\n",
        "plt.subplot(2,3,5)\n",
        "\n",
        "# Criando o gráfico \n",
        "grafico = sns.boxplot(data=df, x = 'LC-Recente')\n",
        "\n",
        "# Definindo o titudo do grafico\n",
        "grafico.set_title('Outlier em LC-Recente', fontsize=14)\n",
        "\n",
        "# Defininfo o tamnho do index do eixo\n",
        "plt.xticks(fontsize=12)\n",
        "\n",
        "\n",
        "# Gráfico 6\n",
        "plt.subplot(2,3,6)\n",
        "\n",
        "# Criando o gráfico \n",
        "grafico = sns.boxplot(data=df, x = 'LC-Atual')\n",
        "\n",
        "# Definindo o titudo do grafico\n",
        "grafico.set_title('Outlier em LC-Atual', fontsize=14)\n",
        "\n",
        "# Defininfo o tamnho do index do eixo\n",
        "plt.xticks(fontsize=12)\n",
        "\n",
        "\n",
        "plt.tight_layout()"
      ],
      "metadata": {
        "colab": {
          "base_uri": "https://localhost:8080/",
          "height": 0
        },
        "id": "obNCrlutKv9y",
        "outputId": "01f57ad6-92f2-4898-8d1a-daa684a889aa"
      },
      "execution_count": 134,
      "outputs": [
        {
          "output_type": "display_data",
          "data": {
            "text/plain": [
              "<Figure size 1700x800 with 6 Axes>"
            ],
            "image/png": "[encoded data removed]"
          },
          "metadata": {}
        }
      ]
    },
    {
      "cell_type": "markdown",
      "source": [
        "*Outliers tratados*"
      ],
      "metadata": {
        "id": "8opvuBRfK6Fa"
      }
    },
    {
      "cell_type": "markdown",
      "source": [
        "## **D. Escala das Variáveis**"
      ],
      "metadata": {
        "id": "glF9Q-l4LBdi"
      }
    },
    {
      "cell_type": "markdown",
      "source": [
        " **Processamento das variáveis categóricas:**\n",
        "\n",
        "Para que os modelos possam atingir um bom desempenho faz-se necessário a transformação de uma variável categórica para uma variável numérica.\n",
        "\n",
        "**Processamento das variáveis numéricas:**\n",
        "\n",
        "Como as variáveis estão em escalas diferentes, isso pode acabar causando problemas nos modelos de Machine Learning, dessa forma o próximo passo vai ser padronizar os dados\n",
        "das variáveis "
      ],
      "metadata": {
        "id": "dsFFU0D3LxI6"
      }
    },
    {
      "cell_type": "markdown",
      "source": [
        "### **Coluna Finalidade**"
      ],
      "metadata": {
        "id": "IlhPlPjeM0jx"
      }
    },
    {
      "cell_type": "markdown",
      "source": [
        "A coluna finalidade é uma variavel categorica, então é necessario que ela passe por um tratamento para que o modelo de machine learning que vai ser criado tenha um melhor desempenho."
      ],
      "metadata": {
        "id": "BpyhrDzqM2gH"
      }
    },
    {
      "cell_type": "code",
      "source": [
        "# Conferindo os valores em 'Finalidade'\n",
        "df['Finalidade'].value_counts()"
      ],
      "metadata": {
        "colab": {
          "base_uri": "https://localhost:8080/"
        },
        "id": "Hz-aP0JeH2Jh",
        "outputId": "df725850-fb47-4d73-9a5a-c2322641fa3b"
      },
      "execution_count": 135,
      "outputs": [
        {
          "output_type": "execute_result",
          "data": {
            "text/plain": [
              "Diversas    2270\n",
              "Reforma     1030\n",
              "Name: Finalidade, dtype: int64"
            ]
          },
          "metadata": {},
          "execution_count": 135
        }
      ]
    },
    {
      "cell_type": "code",
      "source": [
        "# Criando uma função para substituir os valores\n",
        "def aux2(x):\n",
        "  if x == 'Diversas':\n",
        "    return 1\n",
        "  elif x == 'Reforma':\n",
        "    return 0\n",
        "\n",
        "# Aplicando a função na coluna Finalidade\n",
        "df['Finalidade'] = df['Finalidade'].apply(aux2) "
      ],
      "metadata": {
        "id": "pIWz-gpgGXow"
      },
      "execution_count": 136,
      "outputs": []
    },
    {
      "cell_type": "code",
      "source": [
        "# Conferindo os valores em 'Finalidade'\n",
        "df['Finalidade'].value_counts()"
      ],
      "metadata": {
        "colab": {
          "base_uri": "https://localhost:8080/"
        },
        "id": "UG17Bed6LP3S",
        "outputId": "c4b7d998-1a9f-4ba4-e39a-c9353145c9dc"
      },
      "execution_count": 137,
      "outputs": [
        {
          "output_type": "execute_result",
          "data": {
            "text/plain": [
              "1    2270\n",
              "0    1030\n",
              "Name: Finalidade, dtype: int64"
            ]
          },
          "metadata": {},
          "execution_count": 137
        }
      ]
    },
    {
      "cell_type": "code",
      "source": [
        "df.head()"
      ],
      "metadata": {
        "colab": {
          "base_uri": "https://localhost:8080/",
          "height": 0
        },
        "id": "-WuINI8XLiGK",
        "outputId": "6313e6a8-115e-454b-8b64-70fdbba8d193"
      },
      "execution_count": 138,
      "outputs": [
        {
          "output_type": "execute_result",
          "data": {
            "text/plain": [
              "   Cliente  Empréstimo  ValorDoBem  Finalidade       Emprego  TempoEmprego  \\\n",
              "0        0     19468.0   309447.00           0        Outros          0.50   \n",
              "1        0     91688.0   449020.00           1        Outros         15.25   \n",
              "2        0     34226.0   164394.70           0        Outros          1.25   \n",
              "3        0     48356.0   270592.64           1        Outros          2.25   \n",
              "4        0     64684.0    78167.16           1  Professional          3.75   \n",
              "\n",
              "   Negativos  Atrasos  TempoCliente  LC-Recente  LC-Atual    RDS  \n",
              "0        0.0      1.0         185.6         0.0      33.0  39.2%  \n",
              "1        0.0      0.0         234.5         1.0      41.0  37.0%  \n",
              "2        0.0      0.0         250.5         0.0      10.0  37.2%  \n",
              "3        1.0      0.0         230.4         3.0      26.0  29.0%  \n",
              "4        0.0      0.0          93.6         0.0      18.0  21.0%  "
            ],
            "text/html": [
              "\n",
              "  <div id=\"df-f15dd00b-a073-44f9-93c5-4beca99b0b65\">\n",
              "    <div class=\"colab-df-container\">\n",
              "      <div>\n",
              "<style scoped>\n",
              "    .dataframe tbody tr th:only-of-type {\n",
              "        vertical-align: middle;\n",
              "    }\n",
              "\n",
              "    .dataframe tbody tr th {\n",
              "        vertical-align: top;\n",
              "    }\n",
              "\n",
              "    .dataframe thead th {\n",
              "        text-align: right;\n",
              "    }\n",
              "</style>\n",
              "<table border=\"1\" class=\"dataframe\">\n",
              "  <thead>\n",
              "    <tr style=\"text-align: right;\">\n",
              "      <th></th>\n",
              "      <th>Cliente</th>\n",
              "      <th>Empréstimo</th>\n",
              "      <th>ValorDoBem</th>\n",
              "      <th>Finalidade</th>\n",
              "      <th>Emprego</th>\n",
              "      <th>TempoEmprego</th>\n",
              "      <th>Negativos</th>\n",
              "      <th>Atrasos</th>\n",
              "      <th>TempoCliente</th>\n",
              "      <th>LC-Recente</th>\n",
              "      <th>LC-Atual</th>\n",
              "      <th>RDS</th>\n",
              "    </tr>\n",
              "  </thead>\n",
              "  <tbody>\n",
              "    <tr>\n",
              "      <th>0</th>\n",
              "      <td>0</td>\n",
              "      <td>19468.0</td>\n",
              "      <td>309447.00</td>\n",
              "      <td>0</td>\n",
              "      <td>Outros</td>\n",
              "      <td>0.50</td>\n",
              "      <td>0.0</td>\n",
              "      <td>1.0</td>\n",
              "      <td>185.6</td>\n",
              "      <td>0.0</td>\n",
              "      <td>33.0</td>\n",
              "      <td>39.2%</td>\n",
              "    </tr>\n",
              "    <tr>\n",
              "      <th>1</th>\n",
              "      <td>0</td>\n",
              "      <td>91688.0</td>\n",
              "      <td>449020.00</td>\n",
              "      <td>1</td>\n",
              "      <td>Outros</td>\n",
              "      <td>15.25</td>\n",
              "      <td>0.0</td>\n",
              "      <td>0.0</td>\n",
              "      <td>234.5</td>\n",
              "      <td>1.0</td>\n",
              "      <td>41.0</td>\n",
              "      <td>37.0%</td>\n",
              "    </tr>\n",
              "    <tr>\n",
              "      <th>2</th>\n",
              "      <td>0</td>\n",
              "      <td>34226.0</td>\n",
              "      <td>164394.70</td>\n",
              "      <td>0</td>\n",
              "      <td>Outros</td>\n",
              "      <td>1.25</td>\n",
              "      <td>0.0</td>\n",
              "      <td>0.0</td>\n",
              "      <td>250.5</td>\n",
              "      <td>0.0</td>\n",
              "      <td>10.0</td>\n",
              "      <td>37.2%</td>\n",
              "    </tr>\n",
              "    <tr>\n",
              "      <th>3</th>\n",
              "      <td>0</td>\n",
              "      <td>48356.0</td>\n",
              "      <td>270592.64</td>\n",
              "      <td>1</td>\n",
              "      <td>Outros</td>\n",
              "      <td>2.25</td>\n",
              "      <td>1.0</td>\n",
              "      <td>0.0</td>\n",
              "      <td>230.4</td>\n",
              "      <td>3.0</td>\n",
              "      <td>26.0</td>\n",
              "      <td>29.0%</td>\n",
              "    </tr>\n",
              "    <tr>\n",
              "      <th>4</th>\n",
              "      <td>0</td>\n",
              "      <td>64684.0</td>\n",
              "      <td>78167.16</td>\n",
              "      <td>1</td>\n",
              "      <td>Professional</td>\n",
              "      <td>3.75</td>\n",
              "      <td>0.0</td>\n",
              "      <td>0.0</td>\n",
              "      <td>93.6</td>\n",
              "      <td>0.0</td>\n",
              "      <td>18.0</td>\n",
              "      <td>21.0%</td>\n",
              "    </tr>\n",
              "  </tbody>\n",
              "</table>\n",
              "</div>\n",
              "      <button class=\"colab-df-convert\" onclick=\"convertToInteractive('df-f15dd00b-a073-44f9-93c5-4beca99b0b65')\"\n",
              "              title=\"Convert this dataframe to an interactive table.\"\n",
              "              style=\"display:none;\">\n",
              "        \n",
              "  <svg xmlns=\"http://www.w3.org/2000/svg\" height=\"24px\"viewBox=\"0 0 24 24\"\n",
              "       width=\"24px\">\n",
              "    <path d=\"M0 0h24v24H0V0z\" fill=\"none\"/>\n",
              "    <path d=\"M18.56 5.44l.94 2.06.94-2.06 2.06-.94-2.06-.94-.94-2.06-.94 2.06-2.06.94zm-11 1L8.5 8.5l.94-2.06 2.06-.94-2.06-.94L8.5 2.5l-.94 2.06-2.06.94zm10 10l.94 2.06.94-2.06 2.06-.94-2.06-.94-.94-2.06-.94 2.06-2.06.94z\"/><path d=\"M17.41 7.96l-1.37-1.37c-.4-.4-.92-.59-1.43-.59-.52 0-1.04.2-1.43.59L10.3 9.45l-7.72 7.72c-.78.78-.78 2.05 0 2.83L4 21.41c.39.39.9.59 1.41.59.51 0 1.02-.2 1.41-.59l7.78-7.78 2.81-2.81c.8-.78.8-2.07 0-2.86zM5.41 20L4 18.59l7.72-7.72 1.47 1.35L5.41 20z\"/>\n",
              "  </svg>\n",
              "      </button>\n",
              "      \n",
              "  <style>\n",
              "    .colab-df-container {\n",
              "      display:flex;\n",
              "      flex-wrap:wrap;\n",
              "      gap: 12px;\n",
              "    }\n",
              "\n",
              "    .colab-df-convert {\n",
              "      background-color: #E8F0FE;\n",
              "      border: none;\n",
              "      border-radius: 50%;\n",
              "      cursor: pointer;\n",
              "      display: none;\n",
              "      fill: #1967D2;\n",
              "      height: 32px;\n",
              "      padding: 0 0 0 0;\n",
              "      width: 32px;\n",
              "    }\n",
              "\n",
              "    .colab-df-convert:hover {\n",
              "      background-color: #E2EBFA;\n",
              "      box-shadow: 0px 1px 2px rgba(60, 64, 67, 0.3), 0px 1px 3px 1px rgba(60, 64, 67, 0.15);\n",
              "      fill: #174EA6;\n",
              "    }\n",
              "\n",
              "    [theme=dark] .colab-df-convert {\n",
              "      background-color: #3B4455;\n",
              "      fill: #D2E3FC;\n",
              "    }\n",
              "\n",
              "    [theme=dark] .colab-df-convert:hover {\n",
              "      background-color: #434B5C;\n",
              "      box-shadow: 0px 1px 3px 1px rgba(0, 0, 0, 0.15);\n",
              "      filter: drop-shadow(0px 1px 2px rgba(0, 0, 0, 0.3));\n",
              "      fill: #FFFFFF;\n",
              "    }\n",
              "  </style>\n",
              "\n",
              "      <script>\n",
              "        const buttonEl =\n",
              "          document.querySelector('#df-f15dd00b-a073-44f9-93c5-4beca99b0b65 button.colab-df-convert');\n",
              "        buttonEl.style.display =\n",
              "          google.colab.kernel.accessAllowed ? 'block' : 'none';\n",
              "\n",
              "        async function convertToInteractive(key) {\n",
              "          const element = document.querySelector('#df-f15dd00b-a073-44f9-93c5-4beca99b0b65');\n",
              "          const dataTable =\n",
              "            await google.colab.kernel.invokeFunction('convertToInteractive',\n",
              "                                                     [key], {});\n",
              "          if (!dataTable) return;\n",
              "\n",
              "          const docLinkHtml = 'Like what you see? Visit the ' +\n",
              "            '<a target=\"_blank\" href=https://colab.research.google.com/notebooks/data_table.ipynb>data table notebook</a>'\n",
              "            + ' to learn more about interactive tables.';\n",
              "          element.innerHTML = '';\n",
              "          dataTable['output_type'] = 'display_data';\n",
              "          await google.colab.output.renderOutput(dataTable, element);\n",
              "          const docLink = document.createElement('div');\n",
              "          docLink.innerHTML = docLinkHtml;\n",
              "          element.appendChild(docLink);\n",
              "        }\n",
              "      </script>\n",
              "    </div>\n",
              "  </div>\n",
              "  "
            ]
          },
          "metadata": {},
          "execution_count": 138
        }
      ]
    },
    {
      "cell_type": "markdown",
      "source": [
        "### **Coluna emprego**"
      ],
      "metadata": {
        "id": "o17pmSm6NTSQ"
      }
    },
    {
      "cell_type": "markdown",
      "source": [
        "No tratamento dessa variavel em especifico vai ser necessario utilizar o One Hot Encoder que é uma técnica utilizada para transformar variáveis categóricas em variáveis numéricas."
      ],
      "metadata": {
        "id": "uBNY3JM8MRpS"
      }
    },
    {
      "cell_type": "code",
      "source": [
        "# Observando os valores\n",
        "df['Emprego'].value_counts()"
      ],
      "metadata": {
        "colab": {
          "base_uri": "https://localhost:8080/"
        },
        "id": "diFgPLp-IQtQ",
        "outputId": "1cdcf272-a2f6-49c1-fe4b-14dcbaa91b06"
      },
      "execution_count": 139,
      "outputs": [
        {
          "output_type": "execute_result",
          "data": {
            "text/plain": [
              "Outros          1330\n",
              "Professional     803\n",
              "Geral            569\n",
              "Gerente          433\n",
              "Autônomo          97\n",
              "Comissionado      68\n",
              "Name: Emprego, dtype: int64"
            ]
          },
          "metadata": {},
          "execution_count": 139
        }
      ]
    },
    {
      "cell_type": "code",
      "source": [
        "# Fazendo a instalação do modulo do category_encoders\n",
        "!pip install category_encoders"
      ],
      "metadata": {
        "colab": {
          "base_uri": "https://localhost:8080/"
        },
        "id": "ihtr5SseQvwL",
        "outputId": "afd7c15b-ea8f-4f34-ec24-47d754186cd0"
      },
      "execution_count": 140,
      "outputs": [
        {
          "output_type": "stream",
          "name": "stdout",
          "text": [
            "Looking in indexes: https://pypi.org/simple, https://us-python.pkg.dev/colab-wheels/public/simple/\n",
            "Requirement already satisfied: category_encoders in /usr/local/lib/python3.9/dist-packages (2.6.0)\n",
            "Requirement already satisfied: scipy>=1.0.0 in /usr/local/lib/python3.9/dist-packages (from category_encoders) (1.10.1)\n",
            "Requirement already satisfied: scikit-learn>=0.20.0 in /usr/local/lib/python3.9/dist-packages (from category_encoders) (1.2.2)\n",
            "Requirement already satisfied: patsy>=0.5.1 in /usr/local/lib/python3.9/dist-packages (from category_encoders) (0.5.3)\n",
            "Requirement already satisfied: pandas>=1.0.5 in /usr/local/lib/python3.9/dist-packages (from category_encoders) (1.5.3)\n",
            "Requirement already satisfied: numpy>=1.14.0 in /usr/local/lib/python3.9/dist-packages (from category_encoders) (1.22.4)\n",
            "Requirement already satisfied: statsmodels>=0.9.0 in /usr/local/lib/python3.9/dist-packages (from category_encoders) (0.13.5)\n",
            "Requirement already satisfied: python-dateutil>=2.8.1 in /usr/local/lib/python3.9/dist-packages (from pandas>=1.0.5->category_encoders) (2.8.2)\n",
            "Requirement already satisfied: pytz>=2020.1 in /usr/local/lib/python3.9/dist-packages (from pandas>=1.0.5->category_encoders) (2022.7.1)\n",
            "Requirement already satisfied: six in /usr/local/lib/python3.9/dist-packages (from patsy>=0.5.1->category_encoders) (1.16.0)\n",
            "Requirement already satisfied: threadpoolctl>=2.0.0 in /usr/local/lib/python3.9/dist-packages (from scikit-learn>=0.20.0->category_encoders) (3.1.0)\n",
            "Requirement already satisfied: joblib>=1.1.1 in /usr/local/lib/python3.9/dist-packages (from scikit-learn>=0.20.0->category_encoders) (1.2.0)\n",
            "Requirement already satisfied: packaging>=21.3 in /usr/local/lib/python3.9/dist-packages (from statsmodels>=0.9.0->category_encoders) (23.1)\n"
          ]
        }
      ]
    },
    {
      "cell_type": "code",
      "source": [
        "# Importando o One Hot Encoders\n",
        "from category_encoders.one_hot import OneHotEncoder\n",
        "\n",
        "# Instanciando o ENC, definindo as colunas que serão transformadas e utilizando o proprio nomes delas\n",
        "enc = OneHotEncoder(cols=['Emprego'], use_cat_names=True)\n",
        "\n",
        "# Aplicando a transformação no DF\n",
        "df_enc = enc.fit_transform(df)"
      ],
      "metadata": {
        "id": "WogRtO1aNDNh"
      },
      "execution_count": 141,
      "outputs": []
    },
    {
      "cell_type": "code",
      "source": [
        "# Observando os valores\n",
        "df_enc.head()"
      ],
      "metadata": {
        "colab": {
          "base_uri": "https://localhost:8080/",
          "height": 0
        },
        "id": "DtNlQ88kPTMr",
        "outputId": "9831117f-62e6-4891-916a-ff1effee88c2"
      },
      "execution_count": 142,
      "outputs": [
        {
          "output_type": "execute_result",
          "data": {
            "text/plain": [
              "   Cliente  Empréstimo  ValorDoBem  Finalidade  Emprego_Outros  \\\n",
              "0        0     19468.0   309447.00           0               1   \n",
              "1        0     91688.0   449020.00           1               1   \n",
              "2        0     34226.0   164394.70           0               1   \n",
              "3        0     48356.0   270592.64           1               1   \n",
              "4        0     64684.0    78167.16           1               0   \n",
              "\n",
              "   Emprego_Professional  Emprego_Geral  Emprego_Gerente  Emprego_Autônomo  \\\n",
              "0                     0              0                0                 0   \n",
              "1                     0              0                0                 0   \n",
              "2                     0              0                0                 0   \n",
              "3                     0              0                0                 0   \n",
              "4                     1              0                0                 0   \n",
              "\n",
              "   Emprego_Comissionado  TempoEmprego  Negativos  Atrasos  TempoCliente  \\\n",
              "0                     0          0.50        0.0      1.0         185.6   \n",
              "1                     0         15.25        0.0      0.0         234.5   \n",
              "2                     0          1.25        0.0      0.0         250.5   \n",
              "3                     0          2.25        1.0      0.0         230.4   \n",
              "4                     0          3.75        0.0      0.0          93.6   \n",
              "\n",
              "   LC-Recente  LC-Atual    RDS  \n",
              "0         0.0      33.0  39.2%  \n",
              "1         1.0      41.0  37.0%  \n",
              "2         0.0      10.0  37.2%  \n",
              "3         3.0      26.0  29.0%  \n",
              "4         0.0      18.0  21.0%  "
            ],
            "text/html": [
              "\n",
              "  <div id=\"df-683a5f9e-ea38-4543-92ce-9ea1f34b8480\">\n",
              "    <div class=\"colab-df-container\">\n",
              "      <div>\n",
              "<style scoped>\n",
              "    .dataframe tbody tr th:only-of-type {\n",
              "        vertical-align: middle;\n",
              "    }\n",
              "\n",
              "    .dataframe tbody tr th {\n",
              "        vertical-align: top;\n",
              "    }\n",
              "\n",
              "    .dataframe thead th {\n",
              "        text-align: right;\n",
              "    }\n",
              "</style>\n",
              "<table border=\"1\" class=\"dataframe\">\n",
              "  <thead>\n",
              "    <tr style=\"text-align: right;\">\n",
              "      <th></th>\n",
              "      <th>Cliente</th>\n",
              "      <th>Empréstimo</th>\n",
              "      <th>ValorDoBem</th>\n",
              "      <th>Finalidade</th>\n",
              "      <th>Emprego_Outros</th>\n",
              "      <th>Emprego_Professional</th>\n",
              "      <th>Emprego_Geral</th>\n",
              "      <th>Emprego_Gerente</th>\n",
              "      <th>Emprego_Autônomo</th>\n",
              "      <th>Emprego_Comissionado</th>\n",
              "      <th>TempoEmprego</th>\n",
              "      <th>Negativos</th>\n",
              "      <th>Atrasos</th>\n",
              "      <th>TempoCliente</th>\n",
              "      <th>LC-Recente</th>\n",
              "      <th>LC-Atual</th>\n",
              "      <th>RDS</th>\n",
              "    </tr>\n",
              "  </thead>\n",
              "  <tbody>\n",
              "    <tr>\n",
              "      <th>0</th>\n",
              "      <td>0</td>\n",
              "      <td>19468.0</td>\n",
              "      <td>309447.00</td>\n",
              "      <td>0</td>\n",
              "      <td>1</td>\n",
              "      <td>0</td>\n",
              "      <td>0</td>\n",
              "      <td>0</td>\n",
              "      <td>0</td>\n",
              "      <td>0</td>\n",
              "      <td>0.50</td>\n",
              "      <td>0.0</td>\n",
              "      <td>1.0</td>\n",
              "      <td>185.6</td>\n",
              "      <td>0.0</td>\n",
              "      <td>33.0</td>\n",
              "      <td>39.2%</td>\n",
              "    </tr>\n",
              "    <tr>\n",
              "      <th>1</th>\n",
              "      <td>0</td>\n",
              "      <td>91688.0</td>\n",
              "      <td>449020.00</td>\n",
              "      <td>1</td>\n",
              "      <td>1</td>\n",
              "      <td>0</td>\n",
              "      <td>0</td>\n",
              "      <td>0</td>\n",
              "      <td>0</td>\n",
              "      <td>0</td>\n",
              "      <td>15.25</td>\n",
              "      <td>0.0</td>\n",
              "      <td>0.0</td>\n",
              "      <td>234.5</td>\n",
              "      <td>1.0</td>\n",
              "      <td>41.0</td>\n",
              "      <td>37.0%</td>\n",
              "    </tr>\n",
              "    <tr>\n",
              "      <th>2</th>\n",
              "      <td>0</td>\n",
              "      <td>34226.0</td>\n",
              "      <td>164394.70</td>\n",
              "      <td>0</td>\n",
              "      <td>1</td>\n",
              "      <td>0</td>\n",
              "      <td>0</td>\n",
              "      <td>0</td>\n",
              "      <td>0</td>\n",
              "      <td>0</td>\n",
              "      <td>1.25</td>\n",
              "      <td>0.0</td>\n",
              "      <td>0.0</td>\n",
              "      <td>250.5</td>\n",
              "      <td>0.0</td>\n",
              "      <td>10.0</td>\n",
              "      <td>37.2%</td>\n",
              "    </tr>\n",
              "    <tr>\n",
              "      <th>3</th>\n",
              "      <td>0</td>\n",
              "      <td>48356.0</td>\n",
              "      <td>270592.64</td>\n",
              "      <td>1</td>\n",
              "      <td>1</td>\n",
              "      <td>0</td>\n",
              "      <td>0</td>\n",
              "      <td>0</td>\n",
              "      <td>0</td>\n",
              "      <td>0</td>\n",
              "      <td>2.25</td>\n",
              "      <td>1.0</td>\n",
              "      <td>0.0</td>\n",
              "      <td>230.4</td>\n",
              "      <td>3.0</td>\n",
              "      <td>26.0</td>\n",
              "      <td>29.0%</td>\n",
              "    </tr>\n",
              "    <tr>\n",
              "      <th>4</th>\n",
              "      <td>0</td>\n",
              "      <td>64684.0</td>\n",
              "      <td>78167.16</td>\n",
              "      <td>1</td>\n",
              "      <td>0</td>\n",
              "      <td>1</td>\n",
              "      <td>0</td>\n",
              "      <td>0</td>\n",
              "      <td>0</td>\n",
              "      <td>0</td>\n",
              "      <td>3.75</td>\n",
              "      <td>0.0</td>\n",
              "      <td>0.0</td>\n",
              "      <td>93.6</td>\n",
              "      <td>0.0</td>\n",
              "      <td>18.0</td>\n",
              "      <td>21.0%</td>\n",
              "    </tr>\n",
              "  </tbody>\n",
              "</table>\n",
              "</div>\n",
              "      <button class=\"colab-df-convert\" onclick=\"convertToInteractive('df-683a5f9e-ea38-4543-92ce-9ea1f34b8480')\"\n",
              "              title=\"Convert this dataframe to an interactive table.\"\n",
              "              style=\"display:none;\">\n",
              "        \n",
              "  <svg xmlns=\"http://www.w3.org/2000/svg\" height=\"24px\"viewBox=\"0 0 24 24\"\n",
              "       width=\"24px\">\n",
              "    <path d=\"M0 0h24v24H0V0z\" fill=\"none\"/>\n",
              "    <path d=\"M18.56 5.44l.94 2.06.94-2.06 2.06-.94-2.06-.94-.94-2.06-.94 2.06-2.06.94zm-11 1L8.5 8.5l.94-2.06 2.06-.94-2.06-.94L8.5 2.5l-.94 2.06-2.06.94zm10 10l.94 2.06.94-2.06 2.06-.94-2.06-.94-.94-2.06-.94 2.06-2.06.94z\"/><path d=\"M17.41 7.96l-1.37-1.37c-.4-.4-.92-.59-1.43-.59-.52 0-1.04.2-1.43.59L10.3 9.45l-7.72 7.72c-.78.78-.78 2.05 0 2.83L4 21.41c.39.39.9.59 1.41.59.51 0 1.02-.2 1.41-.59l7.78-7.78 2.81-2.81c.8-.78.8-2.07 0-2.86zM5.41 20L4 18.59l7.72-7.72 1.47 1.35L5.41 20z\"/>\n",
              "  </svg>\n",
              "      </button>\n",
              "      \n",
              "  <style>\n",
              "    .colab-df-container {\n",
              "      display:flex;\n",
              "      flex-wrap:wrap;\n",
              "      gap: 12px;\n",
              "    }\n",
              "\n",
              "    .colab-df-convert {\n",
              "      background-color: #E8F0FE;\n",
              "      border: none;\n",
              "      border-radius: 50%;\n",
              "      cursor: pointer;\n",
              "      display: none;\n",
              "      fill: #1967D2;\n",
              "      height: 32px;\n",
              "      padding: 0 0 0 0;\n",
              "      width: 32px;\n",
              "    }\n",
              "\n",
              "    .colab-df-convert:hover {\n",
              "      background-color: #E2EBFA;\n",
              "      box-shadow: 0px 1px 2px rgba(60, 64, 67, 0.3), 0px 1px 3px 1px rgba(60, 64, 67, 0.15);\n",
              "      fill: #174EA6;\n",
              "    }\n",
              "\n",
              "    [theme=dark] .colab-df-convert {\n",
              "      background-color: #3B4455;\n",
              "      fill: #D2E3FC;\n",
              "    }\n",
              "\n",
              "    [theme=dark] .colab-df-convert:hover {\n",
              "      background-color: #434B5C;\n",
              "      box-shadow: 0px 1px 3px 1px rgba(0, 0, 0, 0.15);\n",
              "      filter: drop-shadow(0px 1px 2px rgba(0, 0, 0, 0.3));\n",
              "      fill: #FFFFFF;\n",
              "    }\n",
              "  </style>\n",
              "\n",
              "      <script>\n",
              "        const buttonEl =\n",
              "          document.querySelector('#df-683a5f9e-ea38-4543-92ce-9ea1f34b8480 button.colab-df-convert');\n",
              "        buttonEl.style.display =\n",
              "          google.colab.kernel.accessAllowed ? 'block' : 'none';\n",
              "\n",
              "        async function convertToInteractive(key) {\n",
              "          const element = document.querySelector('#df-683a5f9e-ea38-4543-92ce-9ea1f34b8480');\n",
              "          const dataTable =\n",
              "            await google.colab.kernel.invokeFunction('convertToInteractive',\n",
              "                                                     [key], {});\n",
              "          if (!dataTable) return;\n",
              "\n",
              "          const docLinkHtml = 'Like what you see? Visit the ' +\n",
              "            '<a target=\"_blank\" href=https://colab.research.google.com/notebooks/data_table.ipynb>data table notebook</a>'\n",
              "            + ' to learn more about interactive tables.';\n",
              "          element.innerHTML = '';\n",
              "          dataTable['output_type'] = 'display_data';\n",
              "          await google.colab.output.renderOutput(dataTable, element);\n",
              "          const docLink = document.createElement('div');\n",
              "          docLink.innerHTML = docLinkHtml;\n",
              "          element.appendChild(docLink);\n",
              "        }\n",
              "      </script>\n",
              "    </div>\n",
              "  </div>\n",
              "  "
            ]
          },
          "metadata": {},
          "execution_count": 142
        }
      ]
    },
    {
      "cell_type": "markdown",
      "source": [
        "### Variavel RDS"
      ],
      "metadata": {
        "id": "xAwDS3kxoF-Y"
      }
    },
    {
      "cell_type": "code",
      "source": [
        "# Importando o Ordinal Encoder\n",
        "from category_encoders.ordinal import OrdinalEncoder\n",
        "\n",
        "# Instanciando o ENC, definindo as colunas que serão transformadas e utilizando o proprio nomes delas\n",
        "onc = OrdinalEncoder(cols=['RDS'])\n",
        "\n",
        "# Aplicando a transformação que já passou pelo one hot encoders\n",
        "df_train = onc.fit_transform(df_enc)"
      ],
      "metadata": {
        "id": "ywA6VnM3oJuX"
      },
      "execution_count": 143,
      "outputs": []
    },
    {
      "cell_type": "code",
      "source": [
        "# Observando os valores\n",
        "df_train.head()"
      ],
      "metadata": {
        "colab": {
          "base_uri": "https://localhost:8080/",
          "height": 0
        },
        "id": "w20Q4ufAopoQ",
        "outputId": "d9cfe09a-09d9-403f-e27e-97e75ad5a432"
      },
      "execution_count": 144,
      "outputs": [
        {
          "output_type": "execute_result",
          "data": {
            "text/plain": [
              "   Cliente  Empréstimo  ValorDoBem  Finalidade  Emprego_Outros  \\\n",
              "0        0     19468.0   309447.00           0               1   \n",
              "1        0     91688.0   449020.00           1               1   \n",
              "2        0     34226.0   164394.70           0               1   \n",
              "3        0     48356.0   270592.64           1               1   \n",
              "4        0     64684.0    78167.16           1               0   \n",
              "\n",
              "   Emprego_Professional  Emprego_Geral  Emprego_Gerente  Emprego_Autônomo  \\\n",
              "0                     0              0                0                 0   \n",
              "1                     0              0                0                 0   \n",
              "2                     0              0                0                 0   \n",
              "3                     0              0                0                 0   \n",
              "4                     1              0                0                 0   \n",
              "\n",
              "   Emprego_Comissionado  TempoEmprego  Negativos  Atrasos  TempoCliente  \\\n",
              "0                     0          0.50        0.0      1.0         185.6   \n",
              "1                     0         15.25        0.0      0.0         234.5   \n",
              "2                     0          1.25        0.0      0.0         250.5   \n",
              "3                     0          2.25        1.0      0.0         230.4   \n",
              "4                     0          3.75        0.0      0.0          93.6   \n",
              "\n",
              "   LC-Recente  LC-Atual  RDS  \n",
              "0         0.0      33.0    1  \n",
              "1         1.0      41.0    2  \n",
              "2         0.0      10.0    3  \n",
              "3         3.0      26.0    4  \n",
              "4         0.0      18.0    5  "
            ],
            "text/html": [
              "\n",
              "  <div id=\"df-44079083-cb5a-40a2-a743-cad8d3131886\">\n",
              "    <div class=\"colab-df-container\">\n",
              "      <div>\n",
              "<style scoped>\n",
              "    .dataframe tbody tr th:only-of-type {\n",
              "        vertical-align: middle;\n",
              "    }\n",
              "\n",
              "    .dataframe tbody tr th {\n",
              "        vertical-align: top;\n",
              "    }\n",
              "\n",
              "    .dataframe thead th {\n",
              "        text-align: right;\n",
              "    }\n",
              "</style>\n",
              "<table border=\"1\" class=\"dataframe\">\n",
              "  <thead>\n",
              "    <tr style=\"text-align: right;\">\n",
              "      <th></th>\n",
              "      <th>Cliente</th>\n",
              "      <th>Empréstimo</th>\n",
              "      <th>ValorDoBem</th>\n",
              "      <th>Finalidade</th>\n",
              "      <th>Emprego_Outros</th>\n",
              "      <th>Emprego_Professional</th>\n",
              "      <th>Emprego_Geral</th>\n",
              "      <th>Emprego_Gerente</th>\n",
              "      <th>Emprego_Autônomo</th>\n",
              "      <th>Emprego_Comissionado</th>\n",
              "      <th>TempoEmprego</th>\n",
              "      <th>Negativos</th>\n",
              "      <th>Atrasos</th>\n",
              "      <th>TempoCliente</th>\n",
              "      <th>LC-Recente</th>\n",
              "      <th>LC-Atual</th>\n",
              "      <th>RDS</th>\n",
              "    </tr>\n",
              "  </thead>\n",
              "  <tbody>\n",
              "    <tr>\n",
              "      <th>0</th>\n",
              "      <td>0</td>\n",
              "      <td>19468.0</td>\n",
              "      <td>309447.00</td>\n",
              "      <td>0</td>\n",
              "      <td>1</td>\n",
              "      <td>0</td>\n",
              "      <td>0</td>\n",
              "      <td>0</td>\n",
              "      <td>0</td>\n",
              "      <td>0</td>\n",
              "      <td>0.50</td>\n",
              "      <td>0.0</td>\n",
              "      <td>1.0</td>\n",
              "      <td>185.6</td>\n",
              "      <td>0.0</td>\n",
              "      <td>33.0</td>\n",
              "      <td>1</td>\n",
              "    </tr>\n",
              "    <tr>\n",
              "      <th>1</th>\n",
              "      <td>0</td>\n",
              "      <td>91688.0</td>\n",
              "      <td>449020.00</td>\n",
              "      <td>1</td>\n",
              "      <td>1</td>\n",
              "      <td>0</td>\n",
              "      <td>0</td>\n",
              "      <td>0</td>\n",
              "      <td>0</td>\n",
              "      <td>0</td>\n",
              "      <td>15.25</td>\n",
              "      <td>0.0</td>\n",
              "      <td>0.0</td>\n",
              "      <td>234.5</td>\n",
              "      <td>1.0</td>\n",
              "      <td>41.0</td>\n",
              "      <td>2</td>\n",
              "    </tr>\n",
              "    <tr>\n",
              "      <th>2</th>\n",
              "      <td>0</td>\n",
              "      <td>34226.0</td>\n",
              "      <td>164394.70</td>\n",
              "      <td>0</td>\n",
              "      <td>1</td>\n",
              "      <td>0</td>\n",
              "      <td>0</td>\n",
              "      <td>0</td>\n",
              "      <td>0</td>\n",
              "      <td>0</td>\n",
              "      <td>1.25</td>\n",
              "      <td>0.0</td>\n",
              "      <td>0.0</td>\n",
              "      <td>250.5</td>\n",
              "      <td>0.0</td>\n",
              "      <td>10.0</td>\n",
              "      <td>3</td>\n",
              "    </tr>\n",
              "    <tr>\n",
              "      <th>3</th>\n",
              "      <td>0</td>\n",
              "      <td>48356.0</td>\n",
              "      <td>270592.64</td>\n",
              "      <td>1</td>\n",
              "      <td>1</td>\n",
              "      <td>0</td>\n",
              "      <td>0</td>\n",
              "      <td>0</td>\n",
              "      <td>0</td>\n",
              "      <td>0</td>\n",
              "      <td>2.25</td>\n",
              "      <td>1.0</td>\n",
              "      <td>0.0</td>\n",
              "      <td>230.4</td>\n",
              "      <td>3.0</td>\n",
              "      <td>26.0</td>\n",
              "      <td>4</td>\n",
              "    </tr>\n",
              "    <tr>\n",
              "      <th>4</th>\n",
              "      <td>0</td>\n",
              "      <td>64684.0</td>\n",
              "      <td>78167.16</td>\n",
              "      <td>1</td>\n",
              "      <td>0</td>\n",
              "      <td>1</td>\n",
              "      <td>0</td>\n",
              "      <td>0</td>\n",
              "      <td>0</td>\n",
              "      <td>0</td>\n",
              "      <td>3.75</td>\n",
              "      <td>0.0</td>\n",
              "      <td>0.0</td>\n",
              "      <td>93.6</td>\n",
              "      <td>0.0</td>\n",
              "      <td>18.0</td>\n",
              "      <td>5</td>\n",
              "    </tr>\n",
              "  </tbody>\n",
              "</table>\n",
              "</div>\n",
              "      <button class=\"colab-df-convert\" onclick=\"convertToInteractive('df-44079083-cb5a-40a2-a743-cad8d3131886')\"\n",
              "              title=\"Convert this dataframe to an interactive table.\"\n",
              "              style=\"display:none;\">\n",
              "        \n",
              "  <svg xmlns=\"http://www.w3.org/2000/svg\" height=\"24px\"viewBox=\"0 0 24 24\"\n",
              "       width=\"24px\">\n",
              "    <path d=\"M0 0h24v24H0V0z\" fill=\"none\"/>\n",
              "    <path d=\"M18.56 5.44l.94 2.06.94-2.06 2.06-.94-2.06-.94-.94-2.06-.94 2.06-2.06.94zm-11 1L8.5 8.5l.94-2.06 2.06-.94-2.06-.94L8.5 2.5l-.94 2.06-2.06.94zm10 10l.94 2.06.94-2.06 2.06-.94-2.06-.94-.94-2.06-.94 2.06-2.06.94z\"/><path d=\"M17.41 7.96l-1.37-1.37c-.4-.4-.92-.59-1.43-.59-.52 0-1.04.2-1.43.59L10.3 9.45l-7.72 7.72c-.78.78-.78 2.05 0 2.83L4 21.41c.39.39.9.59 1.41.59.51 0 1.02-.2 1.41-.59l7.78-7.78 2.81-2.81c.8-.78.8-2.07 0-2.86zM5.41 20L4 18.59l7.72-7.72 1.47 1.35L5.41 20z\"/>\n",
              "  </svg>\n",
              "      </button>\n",
              "      \n",
              "  <style>\n",
              "    .colab-df-container {\n",
              "      display:flex;\n",
              "      flex-wrap:wrap;\n",
              "      gap: 12px;\n",
              "    }\n",
              "\n",
              "    .colab-df-convert {\n",
              "      background-color: #E8F0FE;\n",
              "      border: none;\n",
              "      border-radius: 50%;\n",
              "      cursor: pointer;\n",
              "      display: none;\n",
              "      fill: #1967D2;\n",
              "      height: 32px;\n",
              "      padding: 0 0 0 0;\n",
              "      width: 32px;\n",
              "    }\n",
              "\n",
              "    .colab-df-convert:hover {\n",
              "      background-color: #E2EBFA;\n",
              "      box-shadow: 0px 1px 2px rgba(60, 64, 67, 0.3), 0px 1px 3px 1px rgba(60, 64, 67, 0.15);\n",
              "      fill: #174EA6;\n",
              "    }\n",
              "\n",
              "    [theme=dark] .colab-df-convert {\n",
              "      background-color: #3B4455;\n",
              "      fill: #D2E3FC;\n",
              "    }\n",
              "\n",
              "    [theme=dark] .colab-df-convert:hover {\n",
              "      background-color: #434B5C;\n",
              "      box-shadow: 0px 1px 3px 1px rgba(0, 0, 0, 0.15);\n",
              "      filter: drop-shadow(0px 1px 2px rgba(0, 0, 0, 0.3));\n",
              "      fill: #FFFFFF;\n",
              "    }\n",
              "  </style>\n",
              "\n",
              "      <script>\n",
              "        const buttonEl =\n",
              "          document.querySelector('#df-44079083-cb5a-40a2-a743-cad8d3131886 button.colab-df-convert');\n",
              "        buttonEl.style.display =\n",
              "          google.colab.kernel.accessAllowed ? 'block' : 'none';\n",
              "\n",
              "        async function convertToInteractive(key) {\n",
              "          const element = document.querySelector('#df-44079083-cb5a-40a2-a743-cad8d3131886');\n",
              "          const dataTable =\n",
              "            await google.colab.kernel.invokeFunction('convertToInteractive',\n",
              "                                                     [key], {});\n",
              "          if (!dataTable) return;\n",
              "\n",
              "          const docLinkHtml = 'Like what you see? Visit the ' +\n",
              "            '<a target=\"_blank\" href=https://colab.research.google.com/notebooks/data_table.ipynb>data table notebook</a>'\n",
              "            + ' to learn more about interactive tables.';\n",
              "          element.innerHTML = '';\n",
              "          dataTable['output_type'] = 'display_data';\n",
              "          await google.colab.output.renderOutput(dataTable, element);\n",
              "          const docLink = document.createElement('div');\n",
              "          docLink.innerHTML = docLinkHtml;\n",
              "          element.appendChild(docLink);\n",
              "        }\n",
              "      </script>\n",
              "    </div>\n",
              "  </div>\n",
              "  "
            ]
          },
          "metadata": {},
          "execution_count": 144
        }
      ]
    },
    {
      "cell_type": "markdown",
      "source": [
        "### **Ajustando as escalas das Variáveis**"
      ],
      "metadata": {
        "id": "5kIrlzZLav2c"
      }
    },
    {
      "cell_type": "code",
      "source": [
        "# Biblioteca para fazer a PADRONIZAÇÃO\n",
        "from sklearn.preprocessing import StandardScaler\n",
        "sc = StandardScaler()\n",
        "\n",
        "#Padronização\n",
        "df_train[['Empréstimo','ValorDoBem', 'TempoEmprego', 'Negativos', 'Atrasos', 'TempoCliente',\n",
        "    'LC-Recente', 'LC-Atual' ]] = sc.fit_transform(df_train[['Empréstimo','ValorDoBem', 'TempoEmprego', 'Negativos', 'Atrasos', 'TempoCliente', 'LC-Recente', 'LC-Atual']])"
      ],
      "metadata": {
        "id": "SPoXlr0maz0a"
      },
      "execution_count": 145,
      "outputs": []
    },
    {
      "cell_type": "code",
      "source": [
        "df_train.head()"
      ],
      "metadata": {
        "colab": {
          "base_uri": "https://localhost:8080/",
          "height": 0
        },
        "id": "A_Fa9MUzbfbb",
        "outputId": "dc2d2237-1d14-4149-9283-b7109d69046b"
      },
      "execution_count": 146,
      "outputs": [
        {
          "output_type": "execute_result",
          "data": {
            "text/plain": [
              "   Cliente  Empréstimo  ValorDoBem  Finalidade  Emprego_Outros  \\\n",
              "0        0   -1.281742   -0.051543           0               1   \n",
              "1        0    1.138867    0.929993           1               1   \n",
              "2        0   -0.787096   -1.071612           0               1   \n",
              "3        0   -0.313499   -0.324784           1               1   \n",
              "4        0    0.233769   -1.678001           1               0   \n",
              "\n",
              "   Emprego_Professional  Emprego_Geral  Emprego_Gerente  Emprego_Autônomo  \\\n",
              "0                     0              0                0                 0   \n",
              "1                     0              0                0                 0   \n",
              "2                     0              0                0                 0   \n",
              "3                     0              0                0                 0   \n",
              "4                     1              0                0                 0   \n",
              "\n",
              "   Emprego_Comissionado  TempoEmprego  Negativos   Atrasos  TempoCliente  \\\n",
              "0                     0     -1.209567  -0.300892  0.553059      0.033875   \n",
              "1                     0      0.799081  -0.300892 -0.380347      0.601514   \n",
              "2                     0     -1.107432  -0.300892 -0.380347      0.787245   \n",
              "3                     0     -0.971253   1.113845 -0.380347      0.553921   \n",
              "4                     0     -0.766984  -0.300892 -0.380347     -1.034077   \n",
              "\n",
              "   LC-Recente  LC-Atual  RDS  \n",
              "0   -0.680238  1.135127    1  \n",
              "1   -0.090436  1.943286    2  \n",
              "2   -0.680238 -1.188331    3  \n",
              "3    1.089167  0.427988    4  \n",
              "4   -0.680238 -0.380172    5  "
            ],
            "text/html": [
              "\n",
              "  <div id=\"df-5ca14bde-234f-49b7-9789-286481438507\">\n",
              "    <div class=\"colab-df-container\">\n",
              "      <div>\n",
              "<style scoped>\n",
              "    .dataframe tbody tr th:only-of-type {\n",
              "        vertical-align: middle;\n",
              "    }\n",
              "\n",
              "    .dataframe tbody tr th {\n",
              "        vertical-align: top;\n",
              "    }\n",
              "\n",
              "    .dataframe thead th {\n",
              "        text-align: right;\n",
              "    }\n",
              "</style>\n",
              "<table border=\"1\" class=\"dataframe\">\n",
              "  <thead>\n",
              "    <tr style=\"text-align: right;\">\n",
              "      <th></th>\n",
              "      <th>Cliente</th>\n",
              "      <th>Empréstimo</th>\n",
              "      <th>ValorDoBem</th>\n",
              "      <th>Finalidade</th>\n",
              "      <th>Emprego_Outros</th>\n",
              "      <th>Emprego_Professional</th>\n",
              "      <th>Emprego_Geral</th>\n",
              "      <th>Emprego_Gerente</th>\n",
              "      <th>Emprego_Autônomo</th>\n",
              "      <th>Emprego_Comissionado</th>\n",
              "      <th>TempoEmprego</th>\n",
              "      <th>Negativos</th>\n",
              "      <th>Atrasos</th>\n",
              "      <th>TempoCliente</th>\n",
              "      <th>LC-Recente</th>\n",
              "      <th>LC-Atual</th>\n",
              "      <th>RDS</th>\n",
              "    </tr>\n",
              "  </thead>\n",
              "  <tbody>\n",
              "    <tr>\n",
              "      <th>0</th>\n",
              "      <td>0</td>\n",
              "      <td>-1.281742</td>\n",
              "      <td>-0.051543</td>\n",
              "      <td>0</td>\n",
              "      <td>1</td>\n",
              "      <td>0</td>\n",
              "      <td>0</td>\n",
              "      <td>0</td>\n",
              "      <td>0</td>\n",
              "      <td>0</td>\n",
              "      <td>-1.209567</td>\n",
              "      <td>-0.300892</td>\n",
              "      <td>0.553059</td>\n",
              "      <td>0.033875</td>\n",
              "      <td>-0.680238</td>\n",
              "      <td>1.135127</td>\n",
              "      <td>1</td>\n",
              "    </tr>\n",
              "    <tr>\n",
              "      <th>1</th>\n",
              "      <td>0</td>\n",
              "      <td>1.138867</td>\n",
              "      <td>0.929993</td>\n",
              "      <td>1</td>\n",
              "      <td>1</td>\n",
              "      <td>0</td>\n",
              "      <td>0</td>\n",
              "      <td>0</td>\n",
              "      <td>0</td>\n",
              "      <td>0</td>\n",
              "      <td>0.799081</td>\n",
              "      <td>-0.300892</td>\n",
              "      <td>-0.380347</td>\n",
              "      <td>0.601514</td>\n",
              "      <td>-0.090436</td>\n",
              "      <td>1.943286</td>\n",
              "      <td>2</td>\n",
              "    </tr>\n",
              "    <tr>\n",
              "      <th>2</th>\n",
              "      <td>0</td>\n",
              "      <td>-0.787096</td>\n",
              "      <td>-1.071612</td>\n",
              "      <td>0</td>\n",
              "      <td>1</td>\n",
              "      <td>0</td>\n",
              "      <td>0</td>\n",
              "      <td>0</td>\n",
              "      <td>0</td>\n",
              "      <td>0</td>\n",
              "      <td>-1.107432</td>\n",
              "      <td>-0.300892</td>\n",
              "      <td>-0.380347</td>\n",
              "      <td>0.787245</td>\n",
              "      <td>-0.680238</td>\n",
              "      <td>-1.188331</td>\n",
              "      <td>3</td>\n",
              "    </tr>\n",
              "    <tr>\n",
              "      <th>3</th>\n",
              "      <td>0</td>\n",
              "      <td>-0.313499</td>\n",
              "      <td>-0.324784</td>\n",
              "      <td>1</td>\n",
              "      <td>1</td>\n",
              "      <td>0</td>\n",
              "      <td>0</td>\n",
              "      <td>0</td>\n",
              "      <td>0</td>\n",
              "      <td>0</td>\n",
              "      <td>-0.971253</td>\n",
              "      <td>1.113845</td>\n",
              "      <td>-0.380347</td>\n",
              "      <td>0.553921</td>\n",
              "      <td>1.089167</td>\n",
              "      <td>0.427988</td>\n",
              "      <td>4</td>\n",
              "    </tr>\n",
              "    <tr>\n",
              "      <th>4</th>\n",
              "      <td>0</td>\n",
              "      <td>0.233769</td>\n",
              "      <td>-1.678001</td>\n",
              "      <td>1</td>\n",
              "      <td>0</td>\n",
              "      <td>1</td>\n",
              "      <td>0</td>\n",
              "      <td>0</td>\n",
              "      <td>0</td>\n",
              "      <td>0</td>\n",
              "      <td>-0.766984</td>\n",
              "      <td>-0.300892</td>\n",
              "      <td>-0.380347</td>\n",
              "      <td>-1.034077</td>\n",
              "      <td>-0.680238</td>\n",
              "      <td>-0.380172</td>\n",
              "      <td>5</td>\n",
              "    </tr>\n",
              "  </tbody>\n",
              "</table>\n",
              "</div>\n",
              "      <button class=\"colab-df-convert\" onclick=\"convertToInteractive('df-5ca14bde-234f-49b7-9789-286481438507')\"\n",
              "              title=\"Convert this dataframe to an interactive table.\"\n",
              "              style=\"display:none;\">\n",
              "        \n",
              "  <svg xmlns=\"http://www.w3.org/2000/svg\" height=\"24px\"viewBox=\"0 0 24 24\"\n",
              "       width=\"24px\">\n",
              "    <path d=\"M0 0h24v24H0V0z\" fill=\"none\"/>\n",
              "    <path d=\"M18.56 5.44l.94 2.06.94-2.06 2.06-.94-2.06-.94-.94-2.06-.94 2.06-2.06.94zm-11 1L8.5 8.5l.94-2.06 2.06-.94-2.06-.94L8.5 2.5l-.94 2.06-2.06.94zm10 10l.94 2.06.94-2.06 2.06-.94-2.06-.94-.94-2.06-.94 2.06-2.06.94z\"/><path d=\"M17.41 7.96l-1.37-1.37c-.4-.4-.92-.59-1.43-.59-.52 0-1.04.2-1.43.59L10.3 9.45l-7.72 7.72c-.78.78-.78 2.05 0 2.83L4 21.41c.39.39.9.59 1.41.59.51 0 1.02-.2 1.41-.59l7.78-7.78 2.81-2.81c.8-.78.8-2.07 0-2.86zM5.41 20L4 18.59l7.72-7.72 1.47 1.35L5.41 20z\"/>\n",
              "  </svg>\n",
              "      </button>\n",
              "      \n",
              "  <style>\n",
              "    .colab-df-container {\n",
              "      display:flex;\n",
              "      flex-wrap:wrap;\n",
              "      gap: 12px;\n",
              "    }\n",
              "\n",
              "    .colab-df-convert {\n",
              "      background-color: #E8F0FE;\n",
              "      border: none;\n",
              "      border-radius: 50%;\n",
              "      cursor: pointer;\n",
              "      display: none;\n",
              "      fill: #1967D2;\n",
              "      height: 32px;\n",
              "      padding: 0 0 0 0;\n",
              "      width: 32px;\n",
              "    }\n",
              "\n",
              "    .colab-df-convert:hover {\n",
              "      background-color: #E2EBFA;\n",
              "      box-shadow: 0px 1px 2px rgba(60, 64, 67, 0.3), 0px 1px 3px 1px rgba(60, 64, 67, 0.15);\n",
              "      fill: #174EA6;\n",
              "    }\n",
              "\n",
              "    [theme=dark] .colab-df-convert {\n",
              "      background-color: #3B4455;\n",
              "      fill: #D2E3FC;\n",
              "    }\n",
              "\n",
              "    [theme=dark] .colab-df-convert:hover {\n",
              "      background-color: #434B5C;\n",
              "      box-shadow: 0px 1px 3px 1px rgba(0, 0, 0, 0.15);\n",
              "      filter: drop-shadow(0px 1px 2px rgba(0, 0, 0, 0.3));\n",
              "      fill: #FFFFFF;\n",
              "    }\n",
              "  </style>\n",
              "\n",
              "      <script>\n",
              "        const buttonEl =\n",
              "          document.querySelector('#df-5ca14bde-234f-49b7-9789-286481438507 button.colab-df-convert');\n",
              "        buttonEl.style.display =\n",
              "          google.colab.kernel.accessAllowed ? 'block' : 'none';\n",
              "\n",
              "        async function convertToInteractive(key) {\n",
              "          const element = document.querySelector('#df-5ca14bde-234f-49b7-9789-286481438507');\n",
              "          const dataTable =\n",
              "            await google.colab.kernel.invokeFunction('convertToInteractive',\n",
              "                                                     [key], {});\n",
              "          if (!dataTable) return;\n",
              "\n",
              "          const docLinkHtml = 'Like what you see? Visit the ' +\n",
              "            '<a target=\"_blank\" href=https://colab.research.google.com/notebooks/data_table.ipynb>data table notebook</a>'\n",
              "            + ' to learn more about interactive tables.';\n",
              "          element.innerHTML = '';\n",
              "          dataTable['output_type'] = 'display_data';\n",
              "          await google.colab.output.renderOutput(dataTable, element);\n",
              "          const docLink = document.createElement('div');\n",
              "          docLink.innerHTML = docLinkHtml;\n",
              "          element.appendChild(docLink);\n",
              "        }\n",
              "      </script>\n",
              "    </div>\n",
              "  </div>\n",
              "  "
            ]
          },
          "metadata": {},
          "execution_count": 146
        }
      ]
    },
    {
      "cell_type": "markdown",
      "source": [
        "# **5. Modelos de Machine Learning**"
      ],
      "metadata": {
        "id": "0jYAH_INTOFa"
      }
    },
    {
      "cell_type": "markdown",
      "source": [
        "Com a etapa e pré-processamento concluída, o próximo passo é a modelagem.\n",
        "\n",
        "**Objetivos:**\n",
        "\n",
        "* Definir quais os modelos serão utilizados;\n",
        "* Selecionar o melhor modelo;\n",
        "* Avaliar os modelos;"
      ],
      "metadata": {
        "id": "8_CoZtSCTP9R"
      }
    },
    {
      "cell_type": "code",
      "source": [
        "# Importações dos modelos que serão utilizados\n",
        "from sklearn.tree import DecisionTreeClassifier\n",
        "from sklearn.neighbors import KNeighborsClassifier\n",
        "from sklearn.ensemble import RandomForestClassifier\n",
        "from sklearn.ensemble import BaggingClassifier "
      ],
      "metadata": {
        "id": "wVtkj9awTR8B"
      },
      "execution_count": 147,
      "outputs": []
    },
    {
      "cell_type": "markdown",
      "source": [
        "**Fazendo as demais importações**\n",
        "\n"
      ],
      "metadata": {
        "id": "GyPa9JBBTT4Y"
      }
    },
    {
      "cell_type": "code",
      "source": [
        "# Biblioteca algebra linear\n",
        "import numpy as np \n",
        "\n",
        "# Importando metricas de validação\n",
        "from sklearn.metrics import accuracy_score, f1_score, recall_score, precision_score\n",
        "from sklearn.model_selection import cross_validate\n",
        "from sklearn.model_selection import RepeatedStratifiedKFold\n",
        "\n",
        "# Biblioteca para observação de métricas\n",
        "from sklearn.metrics import classification_report,confusion_matrix\n",
        "from sklearn.metrics import roc_curve\n",
        "\n",
        "# Tunagem de hiperparametros\n",
        "from sklearn.model_selection import GridSearchCV\n",
        "from sklearn.model_selection import RandomizedSearchCV\n",
        "\n",
        "# Criando a validação\n",
        "validacao = RepeatedStratifiedKFold(n_splits = 10, n_repeats = 2)"
      ],
      "metadata": {
        "id": "F_tnY1nITWLo"
      },
      "execution_count": 148,
      "outputs": []
    },
    {
      "cell_type": "markdown",
      "source": [
        "**Iniciando a escolha do melhor modelo**\n",
        "\n",
        "Etapas:\n",
        "\n",
        "* Separar os dados em variável preditora e a variável resposta;\n",
        "* Definir uma lista de medidas;\n",
        "* Criar uma lista de modelos;\n",
        "* Renomear a lista de modelos;\n",
        "* Criar um laço de repetição para exibir os modelos que estão sendo executados, aplicar uma validação cruzada para cada modelo presente na lista de modelos, tendo como argumento para o 'cv' a validação criada acima e o 'scoring', vai receber a lista de medidas que foi criado e por último exibir as métricas para seus respectivos modelos;"
      ],
      "metadata": {
        "id": "3QvKpgBYTYGh"
      }
    },
    {
      "cell_type": "code",
      "source": [
        "# Separando os dados em X e Y\n",
        "\n",
        "# Variaveis preditoras\n",
        "X = df_train.drop(['Cliente', 'RDS'], axis = 1)\n",
        "\n",
        "# Variavel resposta\n",
        "y = df_train['Cliente']"
      ],
      "metadata": {
        "id": "ZZnsRZGVTaAa"
      },
      "execution_count": 149,
      "outputs": []
    },
    {
      "cell_type": "code",
      "source": [
        "# Criando uma lista com as medidas que serão analisadas\n",
        "lista_de_medidas = ['accuracy', 'recall', 'precision', 'balanced_accuracy', 'f1']\n",
        "\n",
        "# Lista com o nome das medidas\n",
        "nome_das_medidas = ['acurácia', 'sensibilidade', 'precisão', 'eficiência', 'f1-score']\n",
        "\n",
        "# Criando uma lista com modelos selecionados\n",
        "lista_de_modelos = [\n",
        "                        DecisionTreeClassifier(max_depth = 3),\n",
        "                        DecisionTreeClassifier(max_depth = 5),\n",
        "                        DecisionTreeClassifier(max_depth = 7),\n",
        "                        KNeighborsClassifier(n_neighbors = 5),\n",
        "                        KNeighborsClassifier(n_neighbors = 15),\n",
        "                        KNeighborsClassifier(n_neighbors = 25),\n",
        "                        BaggingClassifier(),\n",
        "                        RandomForestClassifier(n_estimators=50, max_depth = 5),\n",
        "                        RandomForestClassifier(n_estimators=50, max_depth = 7),\n",
        "                        RandomForestClassifier(n_estimators=100, max_depth = 5),\n",
        "                        RandomForestClassifier(n_estimators=100, max_depth = 7),\n",
        "                        RandomForestClassifier(n_estimators=150, max_depth = 5),\n",
        "                        RandomForestClassifier(n_estimators=150, max_depth = 7)]\n",
        "\n",
        "# Criando uma lista com os nomes dos modelos\n",
        "nome_dos_modelos = [\n",
        "                        'Árvore (prof = 3)',\n",
        "                        'Árvore (prof = 5)',\n",
        "                        'Árvore (prof = 7)',\n",
        "                        '5-NN',\n",
        "                        '15-NN',\n",
        "                        '25-NN',\n",
        "                        'Bagging',\n",
        "                        'Random Forest (arvs = 50, prof = 5)',\n",
        "                        'Random Forest (arvs = 50, prof = 7)',\n",
        "                        'Random Forest (arvs = 100, prof = 5)', \n",
        "                        'Random Forest (arvs = 100, prof = 7)',\n",
        "                        'Random Forest (arvs = 150, prof = 5)', \n",
        "                        'Random Forest (arvs = 150, prof = 7)']\n",
        "\n",
        "resultados0 = {}\n",
        "\n",
        "for i in range(len(lista_de_modelos)):\n",
        "\n",
        "    print('Rodando modelo: ' + nome_dos_modelos[i])\n",
        "\n",
        "    accs_vc = cross_validate(lista_de_modelos[i], X, y, cv = validacao, scoring = lista_de_medidas)\n",
        "\n",
        "    acc = accs_vc['test_accuracy'].mean()\n",
        "    sen = accs_vc['test_recall'].mean()\n",
        "    vpp = accs_vc['test_precision'].mean()\n",
        "    bac = accs_vc['test_balanced_accuracy'].mean()\n",
        "    f1s = accs_vc['test_f1'].mean()\n",
        "\n",
        "    resultados0[nome_dos_modelos[i]] = [acc, sen, vpp, bac, f1s]\n",
        "    \n",
        "    \n",
        "resultados = pd.DataFrame(resultados0, index = nome_das_medidas).T"
      ],
      "metadata": {
        "colab": {
          "base_uri": "https://localhost:8080/"
        },
        "id": "8ZAJKA5UXwk7",
        "outputId": "3e19c2c3-e9f3-4f18-b025-c2ca5913f403"
      },
      "execution_count": 150,
      "outputs": [
        {
          "output_type": "stream",
          "name": "stdout",
          "text": [
            "Rodando modelo: Árvore (prof = 3)\n",
            "Rodando modelo: Árvore (prof = 5)\n",
            "Rodando modelo: Árvore (prof = 7)\n",
            "Rodando modelo: 5-NN\n",
            "Rodando modelo: 15-NN\n",
            "Rodando modelo: 25-NN\n",
            "Rodando modelo: Bagging\n",
            "Rodando modelo: Random Forest (arvs = 50, prof = 5)\n",
            "Rodando modelo: Random Forest (arvs = 50, prof = 7)\n",
            "Rodando modelo: Random Forest (arvs = 100, prof = 5)\n",
            "Rodando modelo: Random Forest (arvs = 100, prof = 7)\n",
            "Rodando modelo: Random Forest (arvs = 150, prof = 5)\n",
            "Rodando modelo: Random Forest (arvs = 150, prof = 7)\n"
          ]
        }
      ]
    },
    {
      "cell_type": "markdown",
      "source": [
        "*Agora que todos os modelos da lista foram testados hora de observar o melhor modelo com base no F1-Score*"
      ],
      "metadata": {
        "id": "13Y0tTQ3Zu_a"
      }
    },
    {
      "cell_type": "code",
      "source": [
        "resultados.sort_values(by = 'f1-score', ascending = False)"
      ],
      "metadata": {
        "colab": {
          "base_uri": "https://localhost:8080/",
          "height": 457
        },
        "id": "b3jK-vSiZsG6",
        "outputId": "1acd1016-40ce-43e5-9a36-d307bcc0015a"
      },
      "execution_count": 151,
      "outputs": [
        {
          "output_type": "execute_result",
          "data": {
            "text/plain": [
              "                                      acurácia  sensibilidade  precisão  \\\n",
              "Bagging                               0.906061       0.547118  0.913330   \n",
              "5-NN                                  0.882273       0.391684  0.942786   \n",
              "Árvore (prof = 7)                     0.871970       0.424392  0.793471   \n",
              "Random Forest (arvs = 100, prof = 7)  0.873939       0.328265  0.983659   \n",
              "Random Forest (arvs = 150, prof = 7)  0.874091       0.329865  0.982591   \n",
              "Árvore (prof = 5)                     0.857424       0.368152  0.736205   \n",
              "Random Forest (arvs = 50, prof = 7)   0.872424       0.325661  0.965584   \n",
              "15-NN                                 0.853788       0.254786  0.863284   \n",
              "Árvore (prof = 3)                     0.835758       0.254958  0.674567   \n",
              "Random Forest (arvs = 50, prof = 5)   0.852424       0.214159  0.966376   \n",
              "Random Forest (arvs = 150, prof = 5)  0.851212       0.208408  0.962916   \n",
              "Random Forest (arvs = 100, prof = 5)  0.851212       0.202909  0.989762   \n",
              "25-NN                                 0.845303       0.207681  0.842896   \n",
              "\n",
              "                                      eficiência  f1-score  \n",
              "Bagging                                 0.767601  0.682262  \n",
              "5-NN                                    0.693051  0.551978  \n",
              "Árvore (prof = 7)                       0.699354  0.549243  \n",
              "Random Forest (arvs = 100, prof = 7)    0.663482  0.490285  \n",
              "Random Forest (arvs = 150, prof = 7)    0.664188  0.489920  \n",
              "Árvore (prof = 5)                       0.668717  0.486723  \n",
              "Random Forest (arvs = 50, prof = 7)     0.661527  0.484498  \n",
              "15-NN                                   0.622737  0.389717  \n",
              "Árvore (prof = 3)                       0.611749  0.359300  \n",
              "Random Forest (arvs = 50, prof = 5)     0.606242  0.348083  \n",
              "Random Forest (arvs = 150, prof = 5)    0.603273  0.339029  \n",
              "Random Forest (arvs = 100, prof = 5)    0.601175  0.333668  \n",
              "25-NN                                   0.599372  0.331734  "
            ],
            "text/html": [
              "\n",
              "  <div id=\"df-d5e6fa24-c8a7-4100-8b44-6bfc5c1930b8\">\n",
              "    <div class=\"colab-df-container\">\n",
              "      <div>\n",
              "<style scoped>\n",
              "    .dataframe tbody tr th:only-of-type {\n",
              "        vertical-align: middle;\n",
              "    }\n",
              "\n",
              "    .dataframe tbody tr th {\n",
              "        vertical-align: top;\n",
              "    }\n",
              "\n",
              "    .dataframe thead th {\n",
              "        text-align: right;\n",
              "    }\n",
              "</style>\n",
              "<table border=\"1\" class=\"dataframe\">\n",
              "  <thead>\n",
              "    <tr style=\"text-align: right;\">\n",
              "      <th></th>\n",
              "      <th>acurácia</th>\n",
              "      <th>sensibilidade</th>\n",
              "      <th>precisão</th>\n",
              "      <th>eficiência</th>\n",
              "      <th>f1-score</th>\n",
              "    </tr>\n",
              "  </thead>\n",
              "  <tbody>\n",
              "    <tr>\n",
              "      <th>Bagging</th>\n",
              "      <td>0.906061</td>\n",
              "      <td>0.547118</td>\n",
              "      <td>0.913330</td>\n",
              "      <td>0.767601</td>\n",
              "      <td>0.682262</td>\n",
              "    </tr>\n",
              "    <tr>\n",
              "      <th>5-NN</th>\n",
              "      <td>0.882273</td>\n",
              "      <td>0.391684</td>\n",
              "      <td>0.942786</td>\n",
              "      <td>0.693051</td>\n",
              "      <td>0.551978</td>\n",
              "    </tr>\n",
              "    <tr>\n",
              "      <th>Árvore (prof = 7)</th>\n",
              "      <td>0.871970</td>\n",
              "      <td>0.424392</td>\n",
              "      <td>0.793471</td>\n",
              "      <td>0.699354</td>\n",
              "      <td>0.549243</td>\n",
              "    </tr>\n",
              "    <tr>\n",
              "      <th>Random Forest (arvs = 100, prof = 7)</th>\n",
              "      <td>0.873939</td>\n",
              "      <td>0.328265</td>\n",
              "      <td>0.983659</td>\n",
              "      <td>0.663482</td>\n",
              "      <td>0.490285</td>\n",
              "    </tr>\n",
              "    <tr>\n",
              "      <th>Random Forest (arvs = 150, prof = 7)</th>\n",
              "      <td>0.874091</td>\n",
              "      <td>0.329865</td>\n",
              "      <td>0.982591</td>\n",
              "      <td>0.664188</td>\n",
              "      <td>0.489920</td>\n",
              "    </tr>\n",
              "    <tr>\n",
              "      <th>Árvore (prof = 5)</th>\n",
              "      <td>0.857424</td>\n",
              "      <td>0.368152</td>\n",
              "      <td>0.736205</td>\n",
              "      <td>0.668717</td>\n",
              "      <td>0.486723</td>\n",
              "    </tr>\n",
              "    <tr>\n",
              "      <th>Random Forest (arvs = 50, prof = 7)</th>\n",
              "      <td>0.872424</td>\n",
              "      <td>0.325661</td>\n",
              "      <td>0.965584</td>\n",
              "      <td>0.661527</td>\n",
              "      <td>0.484498</td>\n",
              "    </tr>\n",
              "    <tr>\n",
              "      <th>15-NN</th>\n",
              "      <td>0.853788</td>\n",
              "      <td>0.254786</td>\n",
              "      <td>0.863284</td>\n",
              "      <td>0.622737</td>\n",
              "      <td>0.389717</td>\n",
              "    </tr>\n",
              "    <tr>\n",
              "      <th>Árvore (prof = 3)</th>\n",
              "      <td>0.835758</td>\n",
              "      <td>0.254958</td>\n",
              "      <td>0.674567</td>\n",
              "      <td>0.611749</td>\n",
              "      <td>0.359300</td>\n",
              "    </tr>\n",
              "    <tr>\n",
              "      <th>Random Forest (arvs = 50, prof = 5)</th>\n",
              "      <td>0.852424</td>\n",
              "      <td>0.214159</td>\n",
              "      <td>0.966376</td>\n",
              "      <td>0.606242</td>\n",
              "      <td>0.348083</td>\n",
              "    </tr>\n",
              "    <tr>\n",
              "      <th>Random Forest (arvs = 150, prof = 5)</th>\n",
              "      <td>0.851212</td>\n",
              "      <td>0.208408</td>\n",
              "      <td>0.962916</td>\n",
              "      <td>0.603273</td>\n",
              "      <td>0.339029</td>\n",
              "    </tr>\n",
              "    <tr>\n",
              "      <th>Random Forest (arvs = 100, prof = 5)</th>\n",
              "      <td>0.851212</td>\n",
              "      <td>0.202909</td>\n",
              "      <td>0.989762</td>\n",
              "      <td>0.601175</td>\n",
              "      <td>0.333668</td>\n",
              "    </tr>\n",
              "    <tr>\n",
              "      <th>25-NN</th>\n",
              "      <td>0.845303</td>\n",
              "      <td>0.207681</td>\n",
              "      <td>0.842896</td>\n",
              "      <td>0.599372</td>\n",
              "      <td>0.331734</td>\n",
              "    </tr>\n",
              "  </tbody>\n",
              "</table>\n",
              "</div>\n",
              "      <button class=\"colab-df-convert\" onclick=\"convertToInteractive('df-d5e6fa24-c8a7-4100-8b44-6bfc5c1930b8')\"\n",
              "              title=\"Convert this dataframe to an interactive table.\"\n",
              "              style=\"display:none;\">\n",
              "        \n",
              "  <svg xmlns=\"http://www.w3.org/2000/svg\" height=\"24px\"viewBox=\"0 0 24 24\"\n",
              "       width=\"24px\">\n",
              "    <path d=\"M0 0h24v24H0V0z\" fill=\"none\"/>\n",
              "    <path d=\"M18.56 5.44l.94 2.06.94-2.06 2.06-.94-2.06-.94-.94-2.06-.94 2.06-2.06.94zm-11 1L8.5 8.5l.94-2.06 2.06-.94-2.06-.94L8.5 2.5l-.94 2.06-2.06.94zm10 10l.94 2.06.94-2.06 2.06-.94-2.06-.94-.94-2.06-.94 2.06-2.06.94z\"/><path d=\"M17.41 7.96l-1.37-1.37c-.4-.4-.92-.59-1.43-.59-.52 0-1.04.2-1.43.59L10.3 9.45l-7.72 7.72c-.78.78-.78 2.05 0 2.83L4 21.41c.39.39.9.59 1.41.59.51 0 1.02-.2 1.41-.59l7.78-7.78 2.81-2.81c.8-.78.8-2.07 0-2.86zM5.41 20L4 18.59l7.72-7.72 1.47 1.35L5.41 20z\"/>\n",
              "  </svg>\n",
              "      </button>\n",
              "      \n",
              "  <style>\n",
              "    .colab-df-container {\n",
              "      display:flex;\n",
              "      flex-wrap:wrap;\n",
              "      gap: 12px;\n",
              "    }\n",
              "\n",
              "    .colab-df-convert {\n",
              "      background-color: #E8F0FE;\n",
              "      border: none;\n",
              "      border-radius: 50%;\n",
              "      cursor: pointer;\n",
              "      display: none;\n",
              "      fill: #1967D2;\n",
              "      height: 32px;\n",
              "      padding: 0 0 0 0;\n",
              "      width: 32px;\n",
              "    }\n",
              "\n",
              "    .colab-df-convert:hover {\n",
              "      background-color: #E2EBFA;\n",
              "      box-shadow: 0px 1px 2px rgba(60, 64, 67, 0.3), 0px 1px 3px 1px rgba(60, 64, 67, 0.15);\n",
              "      fill: #174EA6;\n",
              "    }\n",
              "\n",
              "    [theme=dark] .colab-df-convert {\n",
              "      background-color: #3B4455;\n",
              "      fill: #D2E3FC;\n",
              "    }\n",
              "\n",
              "    [theme=dark] .colab-df-convert:hover {\n",
              "      background-color: #434B5C;\n",
              "      box-shadow: 0px 1px 3px 1px rgba(0, 0, 0, 0.15);\n",
              "      filter: drop-shadow(0px 1px 2px rgba(0, 0, 0, 0.3));\n",
              "      fill: #FFFFFF;\n",
              "    }\n",
              "  </style>\n",
              "\n",
              "      <script>\n",
              "        const buttonEl =\n",
              "          document.querySelector('#df-d5e6fa24-c8a7-4100-8b44-6bfc5c1930b8 button.colab-df-convert');\n",
              "        buttonEl.style.display =\n",
              "          google.colab.kernel.accessAllowed ? 'block' : 'none';\n",
              "\n",
              "        async function convertToInteractive(key) {\n",
              "          const element = document.querySelector('#df-d5e6fa24-c8a7-4100-8b44-6bfc5c1930b8');\n",
              "          const dataTable =\n",
              "            await google.colab.kernel.invokeFunction('convertToInteractive',\n",
              "                                                     [key], {});\n",
              "          if (!dataTable) return;\n",
              "\n",
              "          const docLinkHtml = 'Like what you see? Visit the ' +\n",
              "            '<a target=\"_blank\" href=https://colab.research.google.com/notebooks/data_table.ipynb>data table notebook</a>'\n",
              "            + ' to learn more about interactive tables.';\n",
              "          element.innerHTML = '';\n",
              "          dataTable['output_type'] = 'display_data';\n",
              "          await google.colab.output.renderOutput(dataTable, element);\n",
              "          const docLink = document.createElement('div');\n",
              "          docLink.innerHTML = docLinkHtml;\n",
              "          element.appendChild(docLink);\n",
              "        }\n",
              "      </script>\n",
              "    </div>\n",
              "  </div>\n",
              "  "
            ]
          },
          "metadata": {},
          "execution_count": 151
        }
      ]
    },
    {
      "cell_type": "markdown",
      "source": [
        "**Considerando a vital importância das métricas para avaliação dos modelos, vou utilizar uma função para exibir as métricas dos modelos criados em comparação com dados ainda não visto pelos modelos.**"
      ],
      "metadata": {
        "id": "_LT4owOEdirR"
      }
    },
    {
      "cell_type": "code",
      "source": [
        "# Criando função para visualizar as métricas dos modelos\n",
        "def metricas(real, preditos):\n",
        "    print(\"acurácia: {:.5f}\".format(accuracy_score(real, preditos)))\n",
        "    print(\"precisão: {:.5f}\".format(precision_score(real, preditos)))\n",
        "    print(\"sensibilidade: {:.5f}\".format(recall_score(real, preditos)))\n",
        "    print(\"f1-score: {:.5f}\".format(f1_score(real, preditos)))"
      ],
      "metadata": {
        "id": "goOXsxUadkBA"
      },
      "execution_count": 152,
      "outputs": []
    },
    {
      "cell_type": "markdown",
      "source": [
        "**A curva ROC vai ser uma das métricas que será utilizada para avaliação do modelo, sendo assim uma função para a exibição da curva também vai ser criada.**"
      ],
      "metadata": {
        "id": "upiXJKvGdlMh"
      }
    },
    {
      "cell_type": "code",
      "source": [
        "# Criando função para exibir a curva ROC\n",
        "def plot_curva_roc(x, y):\n",
        "    plt.plot(x, y, color='red', label='ROC')\n",
        "    plt.plot([0, 1], [0, 1], color='blue', linestyle='--')\n",
        "    plt.xlabel('Taxa de Falso Positivo')\n",
        "    plt.ylabel('Taxa de Verdadeiro Positivo')\n",
        "    plt.title('Curva ROC')\n",
        "    plt.legend()\n",
        "    plt.show()"
      ],
      "metadata": {
        "id": "LCz5DKSAdmh5"
      },
      "execution_count": 153,
      "outputs": []
    },
    {
      "cell_type": "markdown",
      "source": [
        "*Importando biblioteca para separação de dados*"
      ],
      "metadata": {
        "id": "0bJb5kDSdoWZ"
      }
    },
    {
      "cell_type": "code",
      "source": [
        "# Bilioteca para separação de dados em treino e teste\n",
        "from sklearn.model_selection import train_test_split\n",
        "\n",
        "# Separando os dados\n",
        "X_treino, X_teste, y_treino, y_teste = train_test_split(X, y, test_size = 0.2)"
      ],
      "metadata": {
        "id": "NUybpLV7dpfx"
      },
      "execution_count": 154,
      "outputs": []
    },
    {
      "cell_type": "markdown",
      "source": [
        "**Com os dados já separados entre treino e teste, agora sera feita a criação, treinamento e avaliação dos modelos**"
      ],
      "metadata": {
        "id": "JYKNq0OxdrHZ"
      }
    },
    {
      "cell_type": "markdown",
      "source": [
        " Criando o modelo que apresentou a melhor desempenho."
      ],
      "metadata": {
        "id": "1FKJKJWHdtSY"
      }
    },
    {
      "cell_type": "markdown",
      "source": [
        "## *Utilizando o Oversampling*"
      ],
      "metadata": {
        "id": "9ZdTk748e08J"
      }
    },
    {
      "cell_type": "markdown",
      "source": [
        "**Pelo fato da variável alvo ser desbalanceada ela acaba comprometendo o desempenho do modelo, sendo assim utilizarei a técnica do oversampling SMOTE que consiste em balancear a classe positiva da variável que nesse caso se chama 'Cliente'.**"
      ],
      "metadata": {
        "id": "_MSuuuy4gGM6"
      }
    },
    {
      "cell_type": "code",
      "source": [
        "# Fazendo a importação do oversample\n",
        "from imblearn.over_sampling import SMOTE\n",
        "\n",
        "# Balanceamento da classe (Class)\n",
        "oversample = SMOTE()\n",
        "\n",
        "# Aplicando os registros da classe balanceada\n",
        "X_over, y_over = oversample.fit_resample(X_treino, y_treino)"
      ],
      "metadata": {
        "id": "A_d7LiLce5J5"
      },
      "execution_count": 155,
      "outputs": []
    },
    {
      "cell_type": "markdown",
      "source": [
        "**Criando e treinando o modelo com a classe balanceada**"
      ],
      "metadata": {
        "id": "8xu69V7qe7XJ"
      }
    },
    {
      "cell_type": "code",
      "source": [
        "# Criando o modelo\n",
        "modelo = BaggingClassifier()\n",
        "\n",
        "# Treinando o modelo\n",
        "modelo.fit(X_over, y_over)"
      ],
      "metadata": {
        "colab": {
          "base_uri": "https://localhost:8080/",
          "height": 0
        },
        "id": "Ox7SXSibe8ZB",
        "outputId": "4b854cf6-9349-4ded-b77c-a174a4fe6c2b"
      },
      "execution_count": 156,
      "outputs": [
        {
          "output_type": "execute_result",
          "data": {
            "text/plain": [
              "BaggingClassifier()"
            ],
            "text/html": [
              "<style>#sk-container-id-5 {color: black;background-color: white;}#sk-container-id-5 pre{padding: 0;}#sk-container-id-5 div.sk-toggleable {background-color: white;}#sk-container-id-5 label.sk-toggleable__label {cursor: pointer;display: block;width: 100%;margin-bottom: 0;padding: 0.3em;box-sizing: border-box;text-align: center;}#sk-container-id-5 label.sk-toggleable__label-arrow:before {content: \"▸\";float: left;margin-right: 0.25em;color: #696969;}#sk-container-id-5 label.sk-toggleable__label-arrow:hover:before {color: black;}#sk-container-id-5 div.sk-estimator:hover label.sk-toggleable__label-arrow:before {color: black;}#sk-container-id-5 div.sk-toggleable__content {max-height: 0;max-width: 0;overflow: hidden;text-align: left;background-color: #f0f8ff;}#sk-container-id-5 div.sk-toggleable__content pre {margin: 0.2em;color: black;border-radius: 0.25em;background-color: #f0f8ff;}#sk-container-id-5 input.sk-toggleable__control:checked~div.sk-toggleable__content {max-height: 200px;max-width: 100%;overflow: auto;}#sk-container-id-5 input.sk-toggleable__control:checked~label.sk-toggleable__label-arrow:before {content: \"▾\";}#sk-container-id-5 div.sk-estimator input.sk-toggleable__control:checked~label.sk-toggleable__label {background-color: #d4ebff;}#sk-container-id-5 div.sk-label input.sk-toggleable__control:checked~label.sk-toggleable__label {background-color: #d4ebff;}#sk-container-id-5 input.sk-hidden--visually {border: 0;clip: rect(1px 1px 1px 1px);clip: rect(1px, 1px, 1px, 1px);height: 1px;margin: -1px;overflow: hidden;padding: 0;position: absolute;width: 1px;}#sk-container-id-5 div.sk-estimator {font-family: monospace;background-color: #f0f8ff;border: 1px dotted black;border-radius: 0.25em;box-sizing: border-box;margin-bottom: 0.5em;}#sk-container-id-5 div.sk-estimator:hover {background-color: #d4ebff;}#sk-container-id-5 div.sk-parallel-item::after {content: \"\";width: 100%;border-bottom: 1px solid gray;flex-grow: 1;}#sk-container-id-5 div.sk-label:hover label.sk-toggleable__label {background-color: #d4ebff;}#sk-container-id-5 div.sk-serial::before {content: \"\";position: absolute;border-left: 1px solid gray;box-sizing: border-box;top: 0;bottom: 0;left: 50%;z-index: 0;}#sk-container-id-5 div.sk-serial {display: flex;flex-direction: column;align-items: center;background-color: white;padding-right: 0.2em;padding-left: 0.2em;position: relative;}#sk-container-id-5 div.sk-item {position: relative;z-index: 1;}#sk-container-id-5 div.sk-parallel {display: flex;align-items: stretch;justify-content: center;background-color: white;position: relative;}#sk-container-id-5 div.sk-item::before, #sk-container-id-5 div.sk-parallel-item::before {content: \"\";position: absolute;border-left: 1px solid gray;box-sizing: border-box;top: 0;bottom: 0;left: 50%;z-index: -1;}#sk-container-id-5 div.sk-parallel-item {display: flex;flex-direction: column;z-index: 1;position: relative;background-color: white;}#sk-container-id-5 div.sk-parallel-item:first-child::after {align-self: flex-end;width: 50%;}#sk-container-id-5 div.sk-parallel-item:last-child::after {align-self: flex-start;width: 50%;}#sk-container-id-5 div.sk-parallel-item:only-child::after {width: 0;}#sk-container-id-5 div.sk-dashed-wrapped {border: 1px dashed gray;margin: 0 0.4em 0.5em 0.4em;box-sizing: border-box;padding-bottom: 0.4em;background-color: white;}#sk-container-id-5 div.sk-label label {font-family: monospace;font-weight: bold;display: inline-block;line-height: 1.2em;}#sk-container-id-5 div.sk-label-container {text-align: center;}#sk-container-id-5 div.sk-container {/* jupyter's `normalize.less` sets `[hidden] { display: none; }` but bootstrap.min.css set `[hidden] { display: none !important; }` so we also need the `!important` here to be able to override the default hidden behavior on the sphinx rendered scikit-learn.org. See: https://github.com/scikit-learn/scikit-learn/issues/21755 */display: inline-block !important;position: relative;}#sk-container-id-5 div.sk-text-repr-fallback {display: none;}</style><div id=\"sk-container-id-5\" class=\"sk-top-container\"><div class=\"sk-text-repr-fallback\"><pre>BaggingClassifier()</pre><b>In a Jupyter environment, please rerun this cell to show the HTML representation or trust the notebook. <br />On GitHub, the HTML representation is unable to render, please try loading this page with nbviewer.org.</b></div><div class=\"sk-container\" hidden><div class=\"sk-item\"><div class=\"sk-estimator sk-toggleable\"><input class=\"sk-toggleable__control sk-hidden--visually\" id=\"sk-estimator-id-5\" type=\"checkbox\" checked><label for=\"sk-estimator-id-5\" class=\"sk-toggleable__label sk-toggleable__label-arrow\">BaggingClassifier</label><div class=\"sk-toggleable__content\"><pre>BaggingClassifier()</pre></div></div></div></div></div>"
            ]
          },
          "metadata": {},
          "execution_count": 156
        }
      ]
    },
    {
      "cell_type": "code",
      "source": [
        "# Fazendo as predições\n",
        "y_predito = modelo.predict(X_teste)\n",
        "\n",
        "# Observando a matriz de confusão\n",
        "print(pd.crosstab(y_teste,y_predito, rownames=['Real'], colnames=['Predito'], margins=True))"
      ],
      "metadata": {
        "colab": {
          "base_uri": "https://localhost:8080/"
        },
        "id": "_bOee9IXfEAp",
        "outputId": "15abb625-18cd-44af-8aa4-56f6f694ab0d"
      },
      "execution_count": 157,
      "outputs": [
        {
          "output_type": "stream",
          "name": "stdout",
          "text": [
            "Predito    0    1  All\n",
            "Real                  \n",
            "0        510   16  526\n",
            "1         46   88  134\n",
            "All      556  104  660\n"
          ]
        }
      ]
    },
    {
      "cell_type": "code",
      "source": [
        "# Observando as métricas do modelo, em comparação com novos dados\n",
        "metricas(y_teste, y_predito)"
      ],
      "metadata": {
        "colab": {
          "base_uri": "https://localhost:8080/"
        },
        "id": "ewe_eMn0fFsZ",
        "outputId": "76f3cd9e-64c9-485a-88f8-8dc21d17a3de"
      },
      "execution_count": 158,
      "outputs": [
        {
          "output_type": "stream",
          "name": "stdout",
          "text": [
            "acurácia: 0.90606\n",
            "precisão: 0.84615\n",
            "sensibilidade: 0.65672\n",
            "f1-score: 0.73950\n"
          ]
        }
      ]
    },
    {
      "cell_type": "markdown",
      "source": [
        "## *Submissão*"
      ],
      "metadata": {
        "id": "TJ4QdllSw1y2"
      }
    },
    {
      "cell_type": "code",
      "source": [
        "# Fazendo as predições nos dados de teste\n",
        "predicoes = modelo.predict(teste[['Empréstimo']])\n",
        "predicoes"
      ],
      "metadata": {
        "id": "q00Zlm6nx3Ou"
      },
      "execution_count": null,
      "outputs": []
    },
    {
      "cell_type": "code",
      "source": [
        "# Criando um DF, para armazenar os valores preditos\n",
        "submissao = pd.DataFrame()\n",
        "\n",
        "# Criando a coluna e armazenando as predições\n",
        "submissao['Cliente'] = predicoes\n",
        "\n",
        "# Alterando os valores preditos\n",
        "submissao['Cliente'] = submissao['Cliente'].map({1: 'mau pagador', 0: 'bom pagador'}) \n",
        "\n",
        "# Observando os valores\n",
        "submissao"
      ],
      "metadata": {
        "id": "0sPBhjQtyAtN"
      },
      "execution_count": null,
      "outputs": []
    },
    {
      "cell_type": "code",
      "source": [
        "# Baixando o arquivo\n",
        "#submissao.to_csv('submissão-bagging-01.csv', index = False)"
      ],
      "metadata": {
        "id": "104o61WzyKdV"
      },
      "execution_count": null,
      "outputs": []
    }
  ]
}